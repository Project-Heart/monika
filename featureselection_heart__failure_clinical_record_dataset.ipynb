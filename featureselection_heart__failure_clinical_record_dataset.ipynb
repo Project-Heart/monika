{
  "nbformat": 4,
  "nbformat_minor": 0,
  "metadata": {
    "colab": {
      "name": "featureselection-heart _failure_clinical_record_dataset.ipynb",
      "provenance": [],
      "collapsed_sections": []
    },
    "kernelspec": {
      "name": "python3",
      "display_name": "Python 3"
    },
    "language_info": {
      "name": "python"
    }
  },
  "cells": [
    {
      "cell_type": "code",
      "metadata": {
        "colab": {
          "base_uri": "https://localhost:8080/"
        },
        "id": "i0djG0Pdgq0e",
        "outputId": "de9da707-a6e2-4425-9018-a307e9f92430"
      },
      "source": [
        "print(\"Team - 5\")\n",
        "print(\"Project Name - Heart Disease Prediction System.\")\n",
        "print(\"Module - Preprocessing, Data Cleaning and Exploratory Data Analysis.\")\n",
        "print(\"Dataset used - \\'heart_failure_clinical_records_dataset.csv'\")"
      ],
      "execution_count": null,
      "outputs": [
        {
          "output_type": "stream",
          "name": "stdout",
          "text": [
            "Team - 5\n",
            "Project Name - Heart Disease Prediction System.\n",
            "Module - Preprocessing, Data Cleaning and Exploratory Data Analysis.\n",
            "Dataset used - 'heart_failure_clinical_records_dataset.csv'\n"
          ]
        }
      ]
    },
    {
      "cell_type": "code",
      "metadata": {
        "id": "x2Z66EAGpSAY"
      },
      "source": [
        "import pandas as pd\n",
        "import numpy as np\n",
        "import matplotlib.pyplot as plt\n",
        "import seaborn as sns\n",
        "from sklearn.preprocessing import StandardScaler\n",
        "from sklearn.metrics import accuracy_score\n",
        "from sklearn.metrics import confusion_matrix\n",
        "from sklearn.metrics import f1_score\n",
        "from sklearn.model_selection import train_test_split\n",
        "import warnings\n",
        "warnings.filterwarnings('ignore')\n",
        "import sklearn.neighbors\n",
        "from sklearn.neighbors import KNeighborsClassifier"
      ],
      "execution_count": null,
      "outputs": []
    },
    {
      "cell_type": "code",
      "metadata": {
        "colab": {
          "resources": {
            "http://localhost:8080/nbextensions/google.colab/files.js": {
              "data": "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",
              "ok": true,
              "headers": [
                [
                  "content-type",
                  "application/javascript"
                ]
              ],
              "status": 200,
              "status_text": ""
            }
          },
          "base_uri": "https://localhost:8080/",
          "height": 73
        },
        "id": "1OUQwrshpv7_",
        "outputId": "9a682036-a423-40f6-8976-8c37b6da9f74"
      },
      "source": [
        "from google.colab import files\n",
        "uploaded=files.upload()"
      ],
      "execution_count": null,
      "outputs": [
        {
          "output_type": "display_data",
          "data": {
            "text/html": [
              "\n",
              "     <input type=\"file\" id=\"files-7ccd124a-948b-4a33-90a3-2dae623f01fb\" name=\"files[]\" multiple disabled\n",
              "        style=\"border:none\" />\n",
              "     <output id=\"result-7ccd124a-948b-4a33-90a3-2dae623f01fb\">\n",
              "      Upload widget is only available when the cell has been executed in the\n",
              "      current browser session. Please rerun this cell to enable.\n",
              "      </output>\n",
              "      <script src=\"/nbextensions/google.colab/files.js\"></script> "
            ],
            "text/plain": [
              "<IPython.core.display.HTML object>"
            ]
          },
          "metadata": {}
        },
        {
          "output_type": "stream",
          "name": "stdout",
          "text": [
            "Saving heart_failure_clinical_records_dataset.csv to heart_failure_clinical_records_dataset.csv\n"
          ]
        }
      ]
    },
    {
      "cell_type": "code",
      "metadata": {
        "id": "7YPbQFbdqTiJ"
      },
      "source": [
        "data=pd.read_csv(r\"heart_failure_clinical_records_dataset.csv\")"
      ],
      "execution_count": null,
      "outputs": []
    },
    {
      "cell_type": "code",
      "metadata": {
        "colab": {
          "base_uri": "https://localhost:8080/"
        },
        "id": "j40OUL36qXvv",
        "outputId": "76b5fef4-00e2-4944-fa14-21814fb7463a"
      },
      "source": [
        "print(data.head())"
      ],
      "execution_count": null,
      "outputs": [
        {
          "output_type": "stream",
          "name": "stdout",
          "text": [
            "    age  anaemia  creatinine_phosphokinase  ...  smoking  time  DEATH_EVENT\n",
            "0  75.0        0                       582  ...        0     4            1\n",
            "1  55.0        0                      7861  ...        0     6            1\n",
            "2  65.0        0                       146  ...        1     7            1\n",
            "3  50.0        1                       111  ...        0     7            1\n",
            "4  65.0        1                       160  ...        0     8            1\n",
            "\n",
            "[5 rows x 13 columns]\n"
          ]
        }
      ]
    },
    {
      "cell_type": "code",
      "metadata": {
        "colab": {
          "base_uri": "https://localhost:8080/"
        },
        "id": "PiNbedziqfY2",
        "outputId": "0a3c6adb-91a2-4874-9d24-2a470a1d9f99"
      },
      "source": [
        "x=data.iloc[:,0:16].values\n",
        "print(x)"
      ],
      "execution_count": null,
      "outputs": [
        {
          "output_type": "stream",
          "name": "stdout",
          "text": [
            "[[7.500e+01 0.000e+00 5.820e+02 ... 0.000e+00 4.000e+00 1.000e+00]\n",
            " [5.500e+01 0.000e+00 7.861e+03 ... 0.000e+00 6.000e+00 1.000e+00]\n",
            " [6.500e+01 0.000e+00 1.460e+02 ... 1.000e+00 7.000e+00 1.000e+00]\n",
            " ...\n",
            " [4.500e+01 0.000e+00 2.060e+03 ... 0.000e+00 2.780e+02 0.000e+00]\n",
            " [4.500e+01 0.000e+00 2.413e+03 ... 1.000e+00 2.800e+02 0.000e+00]\n",
            " [5.000e+01 0.000e+00 1.960e+02 ... 1.000e+00 2.850e+02 0.000e+00]]\n"
          ]
        }
      ]
    },
    {
      "cell_type": "code",
      "metadata": {
        "colab": {
          "base_uri": "https://localhost:8080/"
        },
        "id": "aDgxLIoYqt6e",
        "outputId": "710de2d1-ce68-477b-f2b3-be775b709fb0"
      },
      "source": [
        "y=data.iloc[:,1].values\n",
        "print(y)"
      ],
      "execution_count": null,
      "outputs": [
        {
          "output_type": "stream",
          "name": "stdout",
          "text": [
            "[0 0 0 1 1 1 1 1 0 1 1 0 1 1 1 1 1 0 1 1 1 1 1 0 0 0 1 0 1 0 0 0 1 1 0 0 1\n",
            " 1 0 0 0 0 0 0 1 0 0 0 1 1 1 1 0 1 1 1 1 1 0 0 0 0 0 0 0 0 1 1 0 0 0 0 0 0\n",
            " 0 1 0 0 1 0 0 0 1 1 1 0 0 1 0 1 0 0 0 1 0 1 1 1 1 1 1 0 0 0 0 1 0 1 0 0 0\n",
            " 0 0 1 1 1 1 1 1 0 1 1 0 1 0 1 0 1 0 1 1 1 0 0 0 0 1 1 0 0 0 1 0 1 1 0 0 0\n",
            " 1 0 0 0 0 0 1 1 1 0 1 1 1 1 1 1 0 0 0 0 0 0 1 0 1 1 0 1 0 1 1 0 0 1 0 0 1\n",
            " 1 0 0 1 0 0 1 1 1 0 1 0 0 1 0 1 0 0 0 1 1 1 0 1 0 0 0 0 1 1 0 0 1 1 0 0 0\n",
            " 1 0 0 0 1 1 0 0 0 0 1 1 1 1 0 0 1 1 0 0 0 1 0 1 0 0 0 0 0 0 0 0 1 1 0 0 1\n",
            " 0 0 1 1 1 0 1 0 1 0 0 0 0 0 0 1 0 0 0 1 0 0 0 0 0 1 1 0 0 0 1 0 0 0 1 0 0\n",
            " 0 0 0]\n"
          ]
        }
      ]
    },
    {
      "cell_type": "code",
      "metadata": {
        "colab": {
          "base_uri": "https://localhost:8080/"
        },
        "id": "CIZtcuCpq13n",
        "outputId": "862d7765-6ca3-43f5-d601-a4f8503acbeb"
      },
      "source": [
        "print(data.describe())"
      ],
      "execution_count": null,
      "outputs": [
        {
          "output_type": "stream",
          "name": "stdout",
          "text": [
            "              age     anaemia  ...        time  DEATH_EVENT\n",
            "count  299.000000  299.000000  ...  299.000000    299.00000\n",
            "mean    60.833893    0.431438  ...  130.260870      0.32107\n",
            "std     11.894809    0.496107  ...   77.614208      0.46767\n",
            "min     40.000000    0.000000  ...    4.000000      0.00000\n",
            "25%     51.000000    0.000000  ...   73.000000      0.00000\n",
            "50%     60.000000    0.000000  ...  115.000000      0.00000\n",
            "75%     70.000000    1.000000  ...  203.000000      1.00000\n",
            "max     95.000000    1.000000  ...  285.000000      1.00000\n",
            "\n",
            "[8 rows x 13 columns]\n"
          ]
        }
      ]
    },
    {
      "cell_type": "code",
      "metadata": {
        "colab": {
          "base_uri": "https://localhost:8080/"
        },
        "id": "Qfn6qq1Nq5Qu",
        "outputId": "ef35a7f8-0115-45fa-d9ba-ab35085d2c4a"
      },
      "source": [
        "print(data.shape)"
      ],
      "execution_count": null,
      "outputs": [
        {
          "output_type": "stream",
          "name": "stdout",
          "text": [
            "(299, 13)\n"
          ]
        }
      ]
    },
    {
      "cell_type": "code",
      "metadata": {
        "colab": {
          "base_uri": "https://localhost:8080/"
        },
        "id": "MRJpiwJrrAlT",
        "outputId": "4c3d15f1-7e79-4ea9-d792-5a775c7c319b"
      },
      "source": [
        "#checking for the missing values\n",
        "data.isnull().values.any()"
      ],
      "execution_count": null,
      "outputs": [
        {
          "output_type": "execute_result",
          "data": {
            "text/plain": [
              "False"
            ]
          },
          "metadata": {},
          "execution_count": 11
        }
      ]
    },
    {
      "cell_type": "code",
      "metadata": {
        "colab": {
          "base_uri": "https://localhost:8080/"
        },
        "id": "y0f6YzlPrL8u",
        "outputId": "d7e4d4ce-3460-4703-e36e-d60307406db7"
      },
      "source": [
        "missing_value_count_by_column=(data.isnull().sum())\n",
        "print(missing_value_count_by_column[missing_value_count_by_column>0])"
      ],
      "execution_count": null,
      "outputs": [
        {
          "output_type": "stream",
          "name": "stdout",
          "text": [
            "Series([], dtype: int64)\n"
          ]
        }
      ]
    },
    {
      "cell_type": "code",
      "metadata": {
        "id": "lRqPpJy7rfTt"
      },
      "source": [
        "#Dropping columns with missing values\n",
        "#data_without_missing_values=data.dropna(axis=1)\n",
        "cols_with_missing=[col for col in data.columns if data[col].isnull().any()]\n",
        "reduced_original_data=data.drop(cols_with_missing,axis=1)\n",
        "reduced_test_data=data.drop(cols_with_missing,axis=1)"
      ],
      "execution_count": null,
      "outputs": []
    },
    {
      "cell_type": "code",
      "metadata": {
        "id": "LFhaB0T5rno5"
      },
      "source": [
        "from sklearn.impute import SimpleImputer\n",
        "my_imputer=SimpleImputer()\n",
        "data_with_imputed_values=my_imputer.fit_transform(data)"
      ],
      "execution_count": null,
      "outputs": []
    },
    {
      "cell_type": "code",
      "metadata": {
        "colab": {
          "base_uri": "https://localhost:8080/"
        },
        "id": "ZFqcA4C0rp0E",
        "outputId": "308911ec-0e45-46ba-f818-d4a6c672705c"
      },
      "source": [
        "#Catgorical data  \n",
        "#for Country Variable  \n",
        "from sklearn.preprocessing import LabelEncoder  \n",
        "label_encoder_x= LabelEncoder()  \n",
        "x[:, 0]= label_encoder_x.fit_transform(x[:, 0]) \n",
        "print(x)"
      ],
      "execution_count": null,
      "outputs": [
        {
          "output_type": "stream",
          "name": "stdout",
          "text": [
            "[[3.400e+01 0.000e+00 5.820e+02 ... 0.000e+00 4.000e+00 1.000e+00]\n",
            " [1.500e+01 0.000e+00 7.861e+03 ... 0.000e+00 6.000e+00 1.000e+00]\n",
            " [2.600e+01 0.000e+00 1.460e+02 ... 1.000e+00 7.000e+00 1.000e+00]\n",
            " ...\n",
            " [5.000e+00 0.000e+00 2.060e+03 ... 0.000e+00 2.780e+02 0.000e+00]\n",
            " [5.000e+00 0.000e+00 2.413e+03 ... 1.000e+00 2.800e+02 0.000e+00]\n",
            " [1.000e+01 0.000e+00 1.960e+02 ... 1.000e+00 2.850e+02 0.000e+00]]\n"
          ]
        }
      ]
    },
    {
      "cell_type": "code",
      "metadata": {
        "colab": {
          "base_uri": "https://localhost:8080/"
        },
        "id": "H2oYeq19rySB",
        "outputId": "27a21b38-ec39-4a4e-c999-f40310884bff"
      },
      "source": [
        "labelencoder_y= LabelEncoder()  \n",
        "y= labelencoder_y.fit_transform(y)  \n",
        "print(y)"
      ],
      "execution_count": null,
      "outputs": [
        {
          "output_type": "stream",
          "name": "stdout",
          "text": [
            "[0 0 0 1 1 1 1 1 0 1 1 0 1 1 1 1 1 0 1 1 1 1 1 0 0 0 1 0 1 0 0 0 1 1 0 0 1\n",
            " 1 0 0 0 0 0 0 1 0 0 0 1 1 1 1 0 1 1 1 1 1 0 0 0 0 0 0 0 0 1 1 0 0 0 0 0 0\n",
            " 0 1 0 0 1 0 0 0 1 1 1 0 0 1 0 1 0 0 0 1 0 1 1 1 1 1 1 0 0 0 0 1 0 1 0 0 0\n",
            " 0 0 1 1 1 1 1 1 0 1 1 0 1 0 1 0 1 0 1 1 1 0 0 0 0 1 1 0 0 0 1 0 1 1 0 0 0\n",
            " 1 0 0 0 0 0 1 1 1 0 1 1 1 1 1 1 0 0 0 0 0 0 1 0 1 1 0 1 0 1 1 0 0 1 0 0 1\n",
            " 1 0 0 1 0 0 1 1 1 0 1 0 0 1 0 1 0 0 0 1 1 1 0 1 0 0 0 0 1 1 0 0 1 1 0 0 0\n",
            " 1 0 0 0 1 1 0 0 0 0 1 1 1 1 0 0 1 1 0 0 0 1 0 1 0 0 0 0 0 0 0 0 1 1 0 0 1\n",
            " 0 0 1 1 1 0 1 0 1 0 0 0 0 0 0 1 0 0 0 1 0 0 0 0 0 1 1 0 0 0 1 0 0 0 1 0 0\n",
            " 0 0 0]\n"
          ]
        }
      ]
    },
    {
      "cell_type": "code",
      "metadata": {
        "id": "achwWJL_rzaV"
      },
      "source": [
        "from sklearn.model_selection import train_test_split  \n",
        "x_train, x_test, y_train, y_test= train_test_split(x, y, test_size= 0.2, random_state=0)"
      ],
      "execution_count": null,
      "outputs": []
    },
    {
      "cell_type": "code",
      "metadata": {
        "colab": {
          "base_uri": "https://localhost:8080/"
        },
        "id": "qUSsR69VsBNh",
        "outputId": "8e8f4369-9f5f-4503-c59a-7e04ea81773e"
      },
      "source": [
        "print(x_train)"
      ],
      "execution_count": null,
      "outputs": [
        {
          "output_type": "stream",
          "name": "stdout",
          "text": [
            "[[3.90e+01 0.00e+00 4.54e+03 ... 1.00e+00 1.07e+02 0.00e+00]\n",
            " [1.00e+01 0.00e+00 1.85e+02 ... 1.00e+00 1.12e+02 0.00e+00]\n",
            " [5.00e+00 0.00e+00 5.82e+02 ... 0.00e+00 6.10e+01 1.00e+00]\n",
            " ...\n",
            " [4.10e+01 1.00e+00 1.02e+02 ... 0.00e+00 9.40e+01 0.00e+00]\n",
            " [2.00e+01 0.00e+00 5.82e+02 ... 1.00e+00 4.00e+01 1.00e+00]\n",
            " [3.10e+01 1.00e+00 1.71e+02 ... 1.00e+00 1.46e+02 0.00e+00]]\n"
          ]
        }
      ]
    },
    {
      "cell_type": "code",
      "metadata": {
        "colab": {
          "base_uri": "https://localhost:8080/"
        },
        "id": "dmexjQp2sGo6",
        "outputId": "46a26d3a-ad31-44c5-e2f6-8b3314fdf66f"
      },
      "source": [
        "print(x_test)"
      ],
      "execution_count": null,
      "outputs": [
        {
          "output_type": "stream",
          "name": "stdout",
          "text": [
            "[[0.0000000e+00 1.0000000e+00 1.0100000e+02 0.0000000e+00 4.0000000e+01\n",
            "  0.0000000e+00 2.2600000e+05 8.0000000e-01 1.4100000e+02 0.0000000e+00\n",
            "  0.0000000e+00 1.8700000e+02 0.0000000e+00]\n",
            " [2.1000000e+01 1.0000000e+00 1.5100000e+02 1.0000000e+00 4.0000000e+01\n",
            "  1.0000000e+00 2.0100000e+05 1.0000000e+00 1.3600000e+02 0.0000000e+00\n",
            "  0.0000000e+00 1.7200000e+02 0.0000000e+00]\n",
            " [5.0000000e+00 1.0000000e+00 9.8100000e+02 0.0000000e+00 3.0000000e+01\n",
            "  0.0000000e+00 1.3600000e+05 1.1000000e+00 1.3700000e+02 1.0000000e+00\n",
            "  0.0000000e+00 1.1000000e+01 1.0000000e+00]\n",
            " [1.5000000e+01 0.0000000e+00 5.8200000e+02 1.0000000e+00 3.5000000e+01\n",
            "  1.0000000e+00 3.7100000e+05 7.0000000e-01 1.4000000e+02 0.0000000e+00\n",
            "  0.0000000e+00 1.9700000e+02 0.0000000e+00]\n",
            " [3.1000000e+01 0.0000000e+00 2.3200000e+02 0.0000000e+00 3.0000000e+01\n",
            "  0.0000000e+00 1.7300000e+05 1.2000000e+00 1.3200000e+02 1.0000000e+00\n",
            "  0.0000000e+00 2.1000000e+02 0.0000000e+00]\n",
            " [2.6000000e+01 1.0000000e+00 5.9000000e+01 1.0000000e+00 6.0000000e+01\n",
            "  0.0000000e+00 1.7200000e+05 9.0000000e-01 1.3700000e+02 0.0000000e+00\n",
            "  0.0000000e+00 1.0700000e+02 0.0000000e+00]\n",
            " [2.6000000e+01 0.0000000e+00 5.6000000e+01 0.0000000e+00 2.5000000e+01\n",
            "  0.0000000e+00 2.3700000e+05 5.0000000e+00 1.3000000e+02 0.0000000e+00\n",
            "  0.0000000e+00 2.0700000e+02 0.0000000e+00]\n",
            " [1.0000000e+01 1.0000000e+00 1.6700000e+02 1.0000000e+00 4.5000000e+01\n",
            "  0.0000000e+00 3.6200000e+05 1.0000000e+00 1.3600000e+02 0.0000000e+00\n",
            "  0.0000000e+00 1.8700000e+02 0.0000000e+00]\n",
            " [2.0000000e+01 0.0000000e+00 3.9640000e+03 1.0000000e+00 6.2000000e+01\n",
            "  0.0000000e+00 2.6335803e+05 6.8000000e+00 1.4600000e+02 0.0000000e+00\n",
            "  0.0000000e+00 4.3000000e+01 1.0000000e+00]\n",
            " [2.4000000e+01 0.0000000e+00 9.3600000e+02 0.0000000e+00 3.8000000e+01\n",
            "  0.0000000e+00 3.0400000e+05 1.1000000e+00 1.3300000e+02 1.0000000e+00\n",
            "  1.0000000e+00 8.8000000e+01 0.0000000e+00]\n",
            " [3.1000000e+01 0.0000000e+00 8.1000000e+01 1.0000000e+00 3.5000000e+01\n",
            "  1.0000000e+00 5.3300000e+05 1.3000000e+00 1.3900000e+02 0.0000000e+00\n",
            "  0.0000000e+00 2.1200000e+02 0.0000000e+00]\n",
            " [4.0000000e+01 1.0000000e+00 3.7900000e+02 0.0000000e+00 5.0000000e+01\n",
            "  0.0000000e+00 4.7000000e+04 1.3000000e+00 1.3600000e+02 1.0000000e+00\n",
            "  0.0000000e+00 1.3000000e+01 1.0000000e+00]\n",
            " [1.8000000e+01 1.0000000e+00 1.4500000e+02 0.0000000e+00 2.5000000e+01\n",
            "  0.0000000e+00 2.1900000e+05 1.2000000e+00 1.3700000e+02 1.0000000e+00\n",
            "  1.0000000e+00 1.7000000e+02 1.0000000e+00]\n",
            " [1.5000000e+01 0.0000000e+00 2.0170000e+03 0.0000000e+00 2.5000000e+01\n",
            "  0.0000000e+00 3.1400000e+05 1.1000000e+00 1.3800000e+02 1.0000000e+00\n",
            "  0.0000000e+00 2.1400000e+02 1.0000000e+00]\n",
            " [2.9000000e+01 1.0000000e+00 2.2000000e+02 0.0000000e+00 3.5000000e+01\n",
            "  1.0000000e+00 2.8900000e+05 9.0000000e-01 1.4000000e+02 1.0000000e+00\n",
            "  1.0000000e+00 2.0000000e+01 1.0000000e+00]\n",
            " [3.0000000e+01 0.0000000e+00 5.8200000e+02 0.0000000e+00 2.0000000e+01\n",
            "  0.0000000e+00 2.6600000e+05 1.2000000e+00 1.3400000e+02 1.0000000e+00\n",
            "  1.0000000e+00 7.3000000e+01 1.0000000e+00]\n",
            " [0.0000000e+00 0.0000000e+00 5.8200000e+02 1.0000000e+00 3.5000000e+01\n",
            "  0.0000000e+00 2.2200000e+05 1.0000000e+00 1.3200000e+02 1.0000000e+00\n",
            "  0.0000000e+00 2.4400000e+02 0.0000000e+00]\n",
            " [3.1000000e+01 0.0000000e+00 6.6000000e+01 1.0000000e+00 4.5000000e+01\n",
            "  0.0000000e+00 2.4900000e+05 8.0000000e-01 1.3600000e+02 1.0000000e+00\n",
            "  1.0000000e+00 8.0000000e+01 0.0000000e+00]\n",
            " [1.5000000e+01 1.0000000e+00 2.7940000e+03 0.0000000e+00 3.5000000e+01\n",
            "  1.0000000e+00 1.4100000e+05 1.0000000e+00 1.4000000e+02 1.0000000e+00\n",
            "  0.0000000e+00 2.0600000e+02 0.0000000e+00]\n",
            " [1.2000000e+01 1.0000000e+00 1.9100000e+02 1.0000000e+00 3.0000000e+01\n",
            "  1.0000000e+00 3.3400000e+05 1.0000000e+00 1.4200000e+02 1.0000000e+00\n",
            "  1.0000000e+00 2.1600000e+02 0.0000000e+00]\n",
            " [3.8000000e+01 0.0000000e+00 5.8200000e+02 1.0000000e+00 3.5000000e+01\n",
            "  0.0000000e+00 3.5000000e+05 2.1000000e+00 1.3400000e+02 1.0000000e+00\n",
            "  0.0000000e+00 1.7400000e+02 0.0000000e+00]\n",
            " [2.0000000e+00 0.0000000e+00 5.2090000e+03 0.0000000e+00 3.0000000e+01\n",
            "  0.0000000e+00 2.2600000e+05 1.0000000e+00 1.4000000e+02 1.0000000e+00\n",
            "  1.0000000e+00 8.7000000e+01 0.0000000e+00]\n",
            " [2.0000000e+01 0.0000000e+00 5.8200000e+02 0.0000000e+00 4.0000000e+01\n",
            "  0.0000000e+00 2.1700000e+05 3.7000000e+00 1.3400000e+02 1.0000000e+00\n",
            "  0.0000000e+00 9.6000000e+01 1.0000000e+00]\n",
            " [1.3000000e+01 1.0000000e+00 2.7000000e+02 1.0000000e+00 3.5000000e+01\n",
            "  0.0000000e+00 2.2700000e+05 3.4000000e+00 1.4500000e+02 1.0000000e+00\n",
            "  0.0000000e+00 1.0500000e+02 0.0000000e+00]\n",
            " [3.3000000e+01 0.0000000e+00 5.8200000e+02 0.0000000e+00 2.0000000e+01\n",
            "  0.0000000e+00 2.6335803e+05 1.8300000e+00 1.3400000e+02 1.0000000e+00\n",
            "  0.0000000e+00 1.9800000e+02 1.0000000e+00]\n",
            " [2.0000000e+01 1.0000000e+00 9.6000000e+01 1.0000000e+00 6.0000000e+01\n",
            "  1.0000000e+00 2.7100000e+05 7.0000000e-01 1.3600000e+02 0.0000000e+00\n",
            "  0.0000000e+00 9.4000000e+01 0.0000000e+00]\n",
            " [5.0000000e+00 0.0000000e+00 5.8200000e+02 0.0000000e+00 2.0000000e+01\n",
            "  1.0000000e+00 1.2600000e+05 1.6000000e+00 1.3500000e+02 1.0000000e+00\n",
            "  0.0000000e+00 1.8000000e+02 1.0000000e+00]\n",
            " [1.5000000e+01 1.0000000e+00 1.7000000e+02 1.0000000e+00 4.0000000e+01\n",
            "  0.0000000e+00 3.3600000e+05 1.2000000e+00 1.3500000e+02 1.0000000e+00\n",
            "  0.0000000e+00 2.5000000e+02 0.0000000e+00]\n",
            " [2.3000000e+01 0.0000000e+00 6.1000000e+01 1.0000000e+00 3.8000000e+01\n",
            "  1.0000000e+00 1.5500000e+05 1.1000000e+00 1.4300000e+02 1.0000000e+00\n",
            "  1.0000000e+00 2.7000000e+02 0.0000000e+00]\n",
            " [1.3000000e+01 0.0000000e+00 2.0700000e+02 1.0000000e+00 4.0000000e+01\n",
            "  0.0000000e+00 2.2300000e+05 1.2000000e+00 1.3000000e+02 0.0000000e+00\n",
            "  0.0000000e+00 2.1400000e+02 0.0000000e+00]\n",
            " [2.0000000e+00 0.0000000e+00 5.8200000e+02 0.0000000e+00 6.0000000e+01\n",
            "  0.0000000e+00 2.6335803e+05 1.1800000e+00 1.3700000e+02 0.0000000e+00\n",
            "  0.0000000e+00 8.2000000e+01 0.0000000e+00]\n",
            " [2.0000000e+00 1.0000000e+00 2.5000000e+02 1.0000000e+00 1.5000000e+01\n",
            "  0.0000000e+00 2.1300000e+05 1.3000000e+00 1.3600000e+02 0.0000000e+00\n",
            "  0.0000000e+00 6.5000000e+01 1.0000000e+00]\n",
            " [2.6000000e+01 0.0000000e+00 1.5700000e+02 0.0000000e+00 6.5000000e+01\n",
            "  0.0000000e+00 2.6335803e+05 1.5000000e+00 1.3800000e+02 0.0000000e+00\n",
            "  0.0000000e+00 1.0000000e+01 1.0000000e+00]\n",
            " [2.0000000e+01 0.0000000e+00 9.6000000e+01 1.0000000e+00 3.8000000e+01\n",
            "  0.0000000e+00 2.2800000e+05 7.5000000e-01 1.4000000e+02 0.0000000e+00\n",
            "  0.0000000e+00 9.5000000e+01 0.0000000e+00]\n",
            " [1.4000000e+01 1.0000000e+00 4.2700000e+02 0.0000000e+00 7.0000000e+01\n",
            "  1.0000000e+00 1.5100000e+05 9.0000000e+00 1.3700000e+02 0.0000000e+00\n",
            "  0.0000000e+00 1.9600000e+02 1.0000000e+00]\n",
            " [3.2000000e+01 0.0000000e+00 2.3300000e+02 0.0000000e+00 4.5000000e+01\n",
            "  1.0000000e+00 2.3500000e+05 2.5000000e+00 1.3500000e+02 0.0000000e+00\n",
            "  0.0000000e+00 1.1500000e+02 1.0000000e+00]\n",
            " [3.0000000e+01 0.0000000e+00 1.4190000e+03 0.0000000e+00 4.0000000e+01\n",
            "  0.0000000e+00 1.0500000e+05 1.0000000e+00 1.3500000e+02 1.0000000e+00\n",
            "  1.0000000e+00 1.4700000e+02 0.0000000e+00]\n",
            " [2.6000000e+01 0.0000000e+00 3.9500000e+02 1.0000000e+00 2.5000000e+01\n",
            "  0.0000000e+00 2.6500000e+05 1.2000000e+00 1.3600000e+02 1.0000000e+00\n",
            "  1.0000000e+00 1.5400000e+02 1.0000000e+00]\n",
            " [1.0000000e+01 0.0000000e+00 1.9600000e+02 0.0000000e+00 4.5000000e+01\n",
            "  0.0000000e+00 3.9500000e+05 1.6000000e+00 1.3600000e+02 1.0000000e+00\n",
            "  1.0000000e+00 2.8500000e+02 0.0000000e+00]\n",
            " [4.4000000e+01 1.0000000e+00 4.7000000e+01 0.0000000e+00 4.0000000e+01\n",
            "  1.0000000e+00 2.0400000e+05 2.1000000e+00 1.3200000e+02 1.0000000e+00\n",
            "  1.0000000e+00 8.0000000e+00 1.0000000e+00]\n",
            " [2.9000000e+01 1.0000000e+00 1.5700000e+02 1.0000000e+00 6.0000000e+01\n",
            "  0.0000000e+00 2.0800000e+05 1.0000000e+00 1.4000000e+02 0.0000000e+00\n",
            "  0.0000000e+00 2.3700000e+02 0.0000000e+00]\n",
            " [1.7000000e+01 1.0000000e+00 1.1500000e+02 0.0000000e+00 2.5000000e+01\n",
            "  1.0000000e+00 1.8100000e+05 1.1000000e+00 1.4400000e+02 1.0000000e+00\n",
            "  0.0000000e+00 7.9000000e+01 0.0000000e+00]\n",
            " [2.8000000e+01 0.0000000e+00 5.8200000e+02 0.0000000e+00 5.0000000e+01\n",
            "  0.0000000e+00 2.6335803e+05 1.1800000e+00 1.3700000e+02 1.0000000e+00\n",
            "  1.0000000e+00 7.6000000e+01 0.0000000e+00]\n",
            " [2.6000000e+01 0.0000000e+00 9.4000000e+01 1.0000000e+00 5.0000000e+01\n",
            "  1.0000000e+00 1.8800000e+05 1.0000000e+00 1.4000000e+02 1.0000000e+00\n",
            "  0.0000000e+00 2.9000000e+01 1.0000000e+00]\n",
            " [4.6000000e+01 1.0000000e+00 3.7100000e+02 0.0000000e+00 3.0000000e+01\n",
            "  0.0000000e+00 4.6100000e+05 2.0000000e+00 1.3200000e+02 1.0000000e+00\n",
            "  0.0000000e+00 5.0000000e+01 1.0000000e+00]\n",
            " [1.0000000e+01 0.0000000e+00 1.5480000e+03 0.0000000e+00 3.0000000e+01\n",
            "  1.0000000e+00 2.1100000e+05 8.0000000e-01 1.3800000e+02 1.0000000e+00\n",
            "  0.0000000e+00 1.0800000e+02 0.0000000e+00]\n",
            " [1.3000000e+01 1.0000000e+00 5.8200000e+02 0.0000000e+00 4.5000000e+01\n",
            "  0.0000000e+00 3.0500000e+05 1.1000000e+00 1.3700000e+02 1.0000000e+00\n",
            "  1.0000000e+00 2.0900000e+02 0.0000000e+00]\n",
            " [5.0000000e+00 0.0000000e+00 5.8200000e+02 0.0000000e+00 8.0000000e+01\n",
            "  0.0000000e+00 2.6335803e+05 1.1800000e+00 1.3700000e+02 0.0000000e+00\n",
            "  0.0000000e+00 6.3000000e+01 0.0000000e+00]\n",
            " [2.0000000e+01 1.0000000e+00 3.1500000e+02 1.0000000e+00 6.0000000e+01\n",
            "  0.0000000e+00 4.5400000e+05 1.1000000e+00 1.3100000e+02 1.0000000e+00\n",
            "  1.0000000e+00 1.0000000e+01 1.0000000e+00]\n",
            " [1.0000000e+01 0.0000000e+00 5.8200000e+02 1.0000000e+00 3.8000000e+01\n",
            "  0.0000000e+00 3.1000000e+05 1.9000000e+00 1.3500000e+02 1.0000000e+00\n",
            "  1.0000000e+00 3.5000000e+01 1.0000000e+00]\n",
            " [2.6000000e+01 0.0000000e+00 2.2400000e+02 1.0000000e+00 5.0000000e+01\n",
            "  0.0000000e+00 1.4900000e+05 1.3000000e+00 1.3700000e+02 1.0000000e+00\n",
            "  1.0000000e+00 7.2000000e+01 0.0000000e+00]\n",
            " [2.0000000e+01 0.0000000e+00 3.2000000e+02 0.0000000e+00 3.5000000e+01\n",
            "  0.0000000e+00 1.3300000e+05 1.4000000e+00 1.3900000e+02 1.0000000e+00\n",
            "  0.0000000e+00 2.5800000e+02 0.0000000e+00]\n",
            " [1.0000000e+01 1.0000000e+00 1.1500000e+02 0.0000000e+00 2.0000000e+01\n",
            "  0.0000000e+00 1.8900000e+05 8.0000000e-01 1.3900000e+02 1.0000000e+00\n",
            "  0.0000000e+00 1.4600000e+02 0.0000000e+00]\n",
            " [1.5000000e+01 0.0000000e+00 7.4800000e+02 0.0000000e+00 4.5000000e+01\n",
            "  0.0000000e+00 2.6300000e+05 1.3000000e+00 1.3700000e+02 1.0000000e+00\n",
            "  0.0000000e+00 8.8000000e+01 0.0000000e+00]\n",
            " [3.2000000e+01 0.0000000e+00 3.6400000e+02 1.0000000e+00 2.0000000e+01\n",
            "  1.0000000e+00 2.5400000e+05 1.3000000e+00 1.3600000e+02 1.0000000e+00\n",
            "  1.0000000e+00 5.9000000e+01 1.0000000e+00]\n",
            " [2.0000000e+01 0.0000000e+00 1.6600000e+02 0.0000000e+00 3.0000000e+01\n",
            "  0.0000000e+00 6.2000000e+04 1.7000000e+00 1.2700000e+02 0.0000000e+00\n",
            "  0.0000000e+00 2.0700000e+02 1.0000000e+00]\n",
            " [2.6000000e+01 0.0000000e+00 5.8200000e+02 1.0000000e+00 4.0000000e+01\n",
            "  0.0000000e+00 2.7000000e+05 1.0000000e+00 1.3800000e+02 0.0000000e+00\n",
            "  0.0000000e+00 1.4000000e+02 0.0000000e+00]\n",
            " [4.6000000e+01 1.0000000e+00 1.1200000e+02 0.0000000e+00 4.0000000e+01\n",
            "  1.0000000e+00 1.9600000e+05 1.0000000e+00 1.3800000e+02 0.0000000e+00\n",
            "  0.0000000e+00 2.4000000e+01 1.0000000e+00]\n",
            " [2.6000000e+01 0.0000000e+00 1.6880000e+03 0.0000000e+00 3.8000000e+01\n",
            "  0.0000000e+00 2.6335803e+05 1.1000000e+00 1.3800000e+02 1.0000000e+00\n",
            "  1.0000000e+00 2.5000000e+02 0.0000000e+00]\n",
            " [1.0000000e+01 0.0000000e+00 1.8460000e+03 1.0000000e+00 3.5000000e+01\n",
            "  0.0000000e+00 2.6335803e+05 1.1800000e+00 1.3700000e+02 1.0000000e+00\n",
            "  1.0000000e+00 1.1900000e+02 0.0000000e+00]]\n"
          ]
        }
      ]
    },
    {
      "cell_type": "code",
      "metadata": {
        "colab": {
          "base_uri": "https://localhost:8080/"
        },
        "id": "d3ZaEqHvsJTc",
        "outputId": "cb3e36d8-4985-4f20-ba96-29ce975b73ac"
      },
      "source": [
        "print(y_train)"
      ],
      "execution_count": null,
      "outputs": [
        {
          "output_type": "stream",
          "name": "stdout",
          "text": [
            "[0 0 0 0 1 1 1 0 1 0 1 1 0 0 1 1 1 1 1 0 1 1 0 0 0 0 0 0 0 1 0 1 0 0 0 1 0\n",
            " 1 1 1 0 0 0 0 0 0 0 1 0 1 1 1 1 1 0 0 0 0 0 1 0 0 1 1 1 0 1 1 1 1 1 0 0 1\n",
            " 1 1 1 1 0 1 1 1 1 1 0 1 0 0 0 0 1 1 0 0 0 0 1 0 1 0 0 0 1 1 0 0 1 1 1 0 1\n",
            " 1 0 0 0 0 1 0 0 0 1 0 1 0 0 0 1 1 0 1 0 1 1 1 1 0 0 1 0 0 1 0 1 1 0 0 1 0\n",
            " 0 1 1 1 0 1 1 1 0 0 0 1 0 0 1 1 1 0 1 0 0 0 0 1 0 0 0 0 0 1 0 0 0 0 1 0 0\n",
            " 0 1 0 0 0 1 1 0 0 1 0 0 0 1 0 1 0 0 0 0 1 1 1 0 0 0 0 1 1 0 1 1 1 0 0 0 0\n",
            " 0 0 0 1 0 0 1 0 0 0 1 1 0 1 1 0 1]\n"
          ]
        }
      ]
    },
    {
      "cell_type": "code",
      "metadata": {
        "colab": {
          "base_uri": "https://localhost:8080/"
        },
        "id": "YORuVvMVsQyV",
        "outputId": "6122bca0-85d9-4cfb-8336-a66a4c61d677"
      },
      "source": [
        "print(y_test)"
      ],
      "execution_count": null,
      "outputs": [
        {
          "output_type": "stream",
          "name": "stdout",
          "text": [
            "[1 1 1 0 0 1 0 1 0 0 0 1 1 0 1 0 0 0 1 1 0 0 0 1 0 1 0 1 0 0 0 1 0 0 1 0 0\n",
            " 0 0 1 1 1 0 0 1 0 1 0 1 0 0 0 1 0 0 0 0 1 0 0]\n"
          ]
        }
      ]
    },
    {
      "cell_type": "code",
      "metadata": {
        "id": "V42mFGHSsTIr"
      },
      "source": [
        "#To fill in missing values by their mean values\n",
        "data.fillna(data.mean(),inplace=True)"
      ],
      "execution_count": null,
      "outputs": []
    },
    {
      "cell_type": "code",
      "metadata": {
        "colab": {
          "base_uri": "https://localhost:8080/"
        },
        "id": "NtsBTZF_sZpd",
        "outputId": "7106649d-e990-4ac6-82c2-f1c761d958ba"
      },
      "source": [
        "print(data)"
      ],
      "execution_count": null,
      "outputs": [
        {
          "output_type": "stream",
          "name": "stdout",
          "text": [
            "      age  anaemia  creatinine_phosphokinase  ...  smoking  time  DEATH_EVENT\n",
            "0    75.0        0                       582  ...        0     4            1\n",
            "1    55.0        0                      7861  ...        0     6            1\n",
            "2    65.0        0                       146  ...        1     7            1\n",
            "3    50.0        1                       111  ...        0     7            1\n",
            "4    65.0        1                       160  ...        0     8            1\n",
            "..    ...      ...                       ...  ...      ...   ...          ...\n",
            "294  62.0        0                        61  ...        1   270            0\n",
            "295  55.0        0                      1820  ...        0   271            0\n",
            "296  45.0        0                      2060  ...        0   278            0\n",
            "297  45.0        0                      2413  ...        1   280            0\n",
            "298  50.0        0                       196  ...        1   285            0\n",
            "\n",
            "[299 rows x 13 columns]\n"
          ]
        }
      ]
    },
    {
      "cell_type": "code",
      "metadata": {
        "colab": {
          "base_uri": "https://localhost:8080/"
        },
        "id": "AmJ4Oem1sa7F",
        "outputId": "4f888357-1c46-4e6f-cada-9177d91a45c1"
      },
      "source": [
        "# Checking for the imbalanced data based on high_blood_pressure.\n",
        "data['high_blood_pressure'].value_counts()"
      ],
      "execution_count": null,
      "outputs": [
        {
          "output_type": "execute_result",
          "data": {
            "text/plain": [
              "0    194\n",
              "1    105\n",
              "Name: high_blood_pressure, dtype: int64"
            ]
          },
          "metadata": {},
          "execution_count": 24
        }
      ]
    },
    {
      "cell_type": "code",
      "metadata": {
        "colab": {
          "base_uri": "https://localhost:8080/"
        },
        "id": "6Rdf7R12s2GW",
        "outputId": "81d4bf9e-977f-4146-fb22-0047cc79f6a7"
      },
      "source": [
        "# Checking for the imbalanced data based on age.\n",
        "data['age'].value_counts()"
      ],
      "execution_count": null,
      "outputs": [
        {
          "output_type": "execute_result",
          "data": {
            "text/plain": [
              "60.000    33\n",
              "50.000    27\n",
              "65.000    26\n",
              "70.000    25\n",
              "45.000    19\n",
              "55.000    17\n",
              "75.000    11\n",
              "58.000    10\n",
              "53.000    10\n",
              "63.000     8\n",
              "80.000     7\n",
              "72.000     7\n",
              "42.000     7\n",
              "40.000     7\n",
              "85.000     6\n",
              "62.000     5\n",
              "68.000     5\n",
              "52.000     5\n",
              "49.000     4\n",
              "61.000     4\n",
              "51.000     4\n",
              "73.000     4\n",
              "59.000     4\n",
              "46.000     3\n",
              "64.000     3\n",
              "82.000     3\n",
              "90.000     3\n",
              "69.000     3\n",
              "95.000     2\n",
              "48.000     2\n",
              "60.667     2\n",
              "67.000     2\n",
              "44.000     2\n",
              "66.000     2\n",
              "77.000     2\n",
              "78.000     2\n",
              "54.000     2\n",
              "57.000     2\n",
              "94.000     1\n",
              "56.000     1\n",
              "41.000     1\n",
              "87.000     1\n",
              "79.000     1\n",
              "86.000     1\n",
              "43.000     1\n",
              "81.000     1\n",
              "47.000     1\n",
              "Name: age, dtype: int64"
            ]
          },
          "metadata": {},
          "execution_count": 25
        }
      ]
    },
    {
      "cell_type": "code",
      "metadata": {
        "colab": {
          "base_uri": "https://localhost:8080/",
          "height": 470
        },
        "id": "glErWYPxs7ge",
        "outputId": "1a99b71b-8d1f-4a75-f65e-4874b34c68b7"
      },
      "source": [
        "#checking for any correlations\n",
        "data.corr()"
      ],
      "execution_count": null,
      "outputs": [
        {
          "output_type": "execute_result",
          "data": {
            "text/html": [
              "<div>\n",
              "<style scoped>\n",
              "    .dataframe tbody tr th:only-of-type {\n",
              "        vertical-align: middle;\n",
              "    }\n",
              "\n",
              "    .dataframe tbody tr th {\n",
              "        vertical-align: top;\n",
              "    }\n",
              "\n",
              "    .dataframe thead th {\n",
              "        text-align: right;\n",
              "    }\n",
              "</style>\n",
              "<table border=\"1\" class=\"dataframe\">\n",
              "  <thead>\n",
              "    <tr style=\"text-align: right;\">\n",
              "      <th></th>\n",
              "      <th>age</th>\n",
              "      <th>anaemia</th>\n",
              "      <th>creatinine_phosphokinase</th>\n",
              "      <th>diabetes</th>\n",
              "      <th>ejection_fraction</th>\n",
              "      <th>high_blood_pressure</th>\n",
              "      <th>platelets</th>\n",
              "      <th>serum_creatinine</th>\n",
              "      <th>serum_sodium</th>\n",
              "      <th>sex</th>\n",
              "      <th>smoking</th>\n",
              "      <th>time</th>\n",
              "      <th>DEATH_EVENT</th>\n",
              "    </tr>\n",
              "  </thead>\n",
              "  <tbody>\n",
              "    <tr>\n",
              "      <th>age</th>\n",
              "      <td>1.000000</td>\n",
              "      <td>0.088006</td>\n",
              "      <td>-0.081584</td>\n",
              "      <td>-0.101012</td>\n",
              "      <td>0.060098</td>\n",
              "      <td>0.093289</td>\n",
              "      <td>-0.052354</td>\n",
              "      <td>0.159187</td>\n",
              "      <td>-0.045966</td>\n",
              "      <td>0.065430</td>\n",
              "      <td>0.018668</td>\n",
              "      <td>-0.224068</td>\n",
              "      <td>0.253729</td>\n",
              "    </tr>\n",
              "    <tr>\n",
              "      <th>anaemia</th>\n",
              "      <td>0.088006</td>\n",
              "      <td>1.000000</td>\n",
              "      <td>-0.190741</td>\n",
              "      <td>-0.012729</td>\n",
              "      <td>0.031557</td>\n",
              "      <td>0.038182</td>\n",
              "      <td>-0.043786</td>\n",
              "      <td>0.052174</td>\n",
              "      <td>0.041882</td>\n",
              "      <td>-0.094769</td>\n",
              "      <td>-0.107290</td>\n",
              "      <td>-0.141414</td>\n",
              "      <td>0.066270</td>\n",
              "    </tr>\n",
              "    <tr>\n",
              "      <th>creatinine_phosphokinase</th>\n",
              "      <td>-0.081584</td>\n",
              "      <td>-0.190741</td>\n",
              "      <td>1.000000</td>\n",
              "      <td>-0.009639</td>\n",
              "      <td>-0.044080</td>\n",
              "      <td>-0.070590</td>\n",
              "      <td>0.024463</td>\n",
              "      <td>-0.016408</td>\n",
              "      <td>0.059550</td>\n",
              "      <td>0.079791</td>\n",
              "      <td>0.002421</td>\n",
              "      <td>-0.009346</td>\n",
              "      <td>0.062728</td>\n",
              "    </tr>\n",
              "    <tr>\n",
              "      <th>diabetes</th>\n",
              "      <td>-0.101012</td>\n",
              "      <td>-0.012729</td>\n",
              "      <td>-0.009639</td>\n",
              "      <td>1.000000</td>\n",
              "      <td>-0.004850</td>\n",
              "      <td>-0.012732</td>\n",
              "      <td>0.092193</td>\n",
              "      <td>-0.046975</td>\n",
              "      <td>-0.089551</td>\n",
              "      <td>-0.157730</td>\n",
              "      <td>-0.147173</td>\n",
              "      <td>0.033726</td>\n",
              "      <td>-0.001943</td>\n",
              "    </tr>\n",
              "    <tr>\n",
              "      <th>ejection_fraction</th>\n",
              "      <td>0.060098</td>\n",
              "      <td>0.031557</td>\n",
              "      <td>-0.044080</td>\n",
              "      <td>-0.004850</td>\n",
              "      <td>1.000000</td>\n",
              "      <td>0.024445</td>\n",
              "      <td>0.072177</td>\n",
              "      <td>-0.011302</td>\n",
              "      <td>0.175902</td>\n",
              "      <td>-0.148386</td>\n",
              "      <td>-0.067315</td>\n",
              "      <td>0.041729</td>\n",
              "      <td>-0.268603</td>\n",
              "    </tr>\n",
              "    <tr>\n",
              "      <th>high_blood_pressure</th>\n",
              "      <td>0.093289</td>\n",
              "      <td>0.038182</td>\n",
              "      <td>-0.070590</td>\n",
              "      <td>-0.012732</td>\n",
              "      <td>0.024445</td>\n",
              "      <td>1.000000</td>\n",
              "      <td>0.049963</td>\n",
              "      <td>-0.004935</td>\n",
              "      <td>0.037109</td>\n",
              "      <td>-0.104615</td>\n",
              "      <td>-0.055711</td>\n",
              "      <td>-0.196439</td>\n",
              "      <td>0.079351</td>\n",
              "    </tr>\n",
              "    <tr>\n",
              "      <th>platelets</th>\n",
              "      <td>-0.052354</td>\n",
              "      <td>-0.043786</td>\n",
              "      <td>0.024463</td>\n",
              "      <td>0.092193</td>\n",
              "      <td>0.072177</td>\n",
              "      <td>0.049963</td>\n",
              "      <td>1.000000</td>\n",
              "      <td>-0.041198</td>\n",
              "      <td>0.062125</td>\n",
              "      <td>-0.125120</td>\n",
              "      <td>0.028234</td>\n",
              "      <td>0.010514</td>\n",
              "      <td>-0.049139</td>\n",
              "    </tr>\n",
              "    <tr>\n",
              "      <th>serum_creatinine</th>\n",
              "      <td>0.159187</td>\n",
              "      <td>0.052174</td>\n",
              "      <td>-0.016408</td>\n",
              "      <td>-0.046975</td>\n",
              "      <td>-0.011302</td>\n",
              "      <td>-0.004935</td>\n",
              "      <td>-0.041198</td>\n",
              "      <td>1.000000</td>\n",
              "      <td>-0.189095</td>\n",
              "      <td>0.006970</td>\n",
              "      <td>-0.027414</td>\n",
              "      <td>-0.149315</td>\n",
              "      <td>0.294278</td>\n",
              "    </tr>\n",
              "    <tr>\n",
              "      <th>serum_sodium</th>\n",
              "      <td>-0.045966</td>\n",
              "      <td>0.041882</td>\n",
              "      <td>0.059550</td>\n",
              "      <td>-0.089551</td>\n",
              "      <td>0.175902</td>\n",
              "      <td>0.037109</td>\n",
              "      <td>0.062125</td>\n",
              "      <td>-0.189095</td>\n",
              "      <td>1.000000</td>\n",
              "      <td>-0.027566</td>\n",
              "      <td>0.004813</td>\n",
              "      <td>0.087640</td>\n",
              "      <td>-0.195204</td>\n",
              "    </tr>\n",
              "    <tr>\n",
              "      <th>sex</th>\n",
              "      <td>0.065430</td>\n",
              "      <td>-0.094769</td>\n",
              "      <td>0.079791</td>\n",
              "      <td>-0.157730</td>\n",
              "      <td>-0.148386</td>\n",
              "      <td>-0.104615</td>\n",
              "      <td>-0.125120</td>\n",
              "      <td>0.006970</td>\n",
              "      <td>-0.027566</td>\n",
              "      <td>1.000000</td>\n",
              "      <td>0.445892</td>\n",
              "      <td>-0.015608</td>\n",
              "      <td>-0.004316</td>\n",
              "    </tr>\n",
              "    <tr>\n",
              "      <th>smoking</th>\n",
              "      <td>0.018668</td>\n",
              "      <td>-0.107290</td>\n",
              "      <td>0.002421</td>\n",
              "      <td>-0.147173</td>\n",
              "      <td>-0.067315</td>\n",
              "      <td>-0.055711</td>\n",
              "      <td>0.028234</td>\n",
              "      <td>-0.027414</td>\n",
              "      <td>0.004813</td>\n",
              "      <td>0.445892</td>\n",
              "      <td>1.000000</td>\n",
              "      <td>-0.022839</td>\n",
              "      <td>-0.012623</td>\n",
              "    </tr>\n",
              "    <tr>\n",
              "      <th>time</th>\n",
              "      <td>-0.224068</td>\n",
              "      <td>-0.141414</td>\n",
              "      <td>-0.009346</td>\n",
              "      <td>0.033726</td>\n",
              "      <td>0.041729</td>\n",
              "      <td>-0.196439</td>\n",
              "      <td>0.010514</td>\n",
              "      <td>-0.149315</td>\n",
              "      <td>0.087640</td>\n",
              "      <td>-0.015608</td>\n",
              "      <td>-0.022839</td>\n",
              "      <td>1.000000</td>\n",
              "      <td>-0.526964</td>\n",
              "    </tr>\n",
              "    <tr>\n",
              "      <th>DEATH_EVENT</th>\n",
              "      <td>0.253729</td>\n",
              "      <td>0.066270</td>\n",
              "      <td>0.062728</td>\n",
              "      <td>-0.001943</td>\n",
              "      <td>-0.268603</td>\n",
              "      <td>0.079351</td>\n",
              "      <td>-0.049139</td>\n",
              "      <td>0.294278</td>\n",
              "      <td>-0.195204</td>\n",
              "      <td>-0.004316</td>\n",
              "      <td>-0.012623</td>\n",
              "      <td>-0.526964</td>\n",
              "      <td>1.000000</td>\n",
              "    </tr>\n",
              "  </tbody>\n",
              "</table>\n",
              "</div>"
            ],
            "text/plain": [
              "                               age   anaemia  ...      time  DEATH_EVENT\n",
              "age                       1.000000  0.088006  ... -0.224068     0.253729\n",
              "anaemia                   0.088006  1.000000  ... -0.141414     0.066270\n",
              "creatinine_phosphokinase -0.081584 -0.190741  ... -0.009346     0.062728\n",
              "diabetes                 -0.101012 -0.012729  ...  0.033726    -0.001943\n",
              "ejection_fraction         0.060098  0.031557  ...  0.041729    -0.268603\n",
              "high_blood_pressure       0.093289  0.038182  ... -0.196439     0.079351\n",
              "platelets                -0.052354 -0.043786  ...  0.010514    -0.049139\n",
              "serum_creatinine          0.159187  0.052174  ... -0.149315     0.294278\n",
              "serum_sodium             -0.045966  0.041882  ...  0.087640    -0.195204\n",
              "sex                       0.065430 -0.094769  ... -0.015608    -0.004316\n",
              "smoking                   0.018668 -0.107290  ... -0.022839    -0.012623\n",
              "time                     -0.224068 -0.141414  ...  1.000000    -0.526964\n",
              "DEATH_EVENT               0.253729  0.066270  ... -0.526964     1.000000\n",
              "\n",
              "[13 rows x 13 columns]"
            ]
          },
          "metadata": {},
          "execution_count": 26
        }
      ]
    },
    {
      "cell_type": "code",
      "metadata": {
        "colab": {
          "base_uri": "https://localhost:8080/",
          "height": 279
        },
        "id": "1fHcM2fWtCFp",
        "outputId": "b06a1ca8-4a72-44e7-c0c3-09142e466800"
      },
      "source": [
        "#bar chart -distribution of categorical variable\n",
        "data['diabetes'].value_counts().plot.bar()"
      ],
      "execution_count": null,
      "outputs": [
        {
          "output_type": "execute_result",
          "data": {
            "text/plain": [
              "<matplotlib.axes._subplots.AxesSubplot at 0x7f59d772bdd0>"
            ]
          },
          "metadata": {},
          "execution_count": 27
        },
        {
          "output_type": "display_data",
          "data": {
            "image/png": "[encoded data removed]",
            "text/plain": [
              "<Figure size 432x288 with 1 Axes>"
            ]
          },
          "metadata": {
            "needs_background": "light"
          }
        }
      ]
    },
    {
      "cell_type": "code",
      "metadata": {
        "colab": {
          "base_uri": "https://localhost:8080/",
          "height": 282
        },
        "id": "l9LThJ34tdD8",
        "outputId": "7635eca7-489d-4bb4-ea81-83096e839890"
      },
      "source": [
        "#histogram of Anaemia\n",
        "data['anaemia'].hist(bins=50)"
      ],
      "execution_count": null,
      "outputs": [
        {
          "output_type": "execute_result",
          "data": {
            "text/plain": [
              "<matplotlib.axes._subplots.AxesSubplot at 0x7f59d7686490>"
            ]
          },
          "metadata": {},
          "execution_count": 28
        },
        {
          "output_type": "display_data",
          "data": {
            "image/png": "[encoded data removed]",
            "text/plain": [
              "<Figure size 432x288 with 1 Axes>"
            ]
          },
          "metadata": {
            "needs_background": "light"
          }
        }
      ]
    },
    {
      "cell_type": "code",
      "metadata": {
        "colab": {
          "base_uri": "https://localhost:8080/",
          "height": 307
        },
        "id": "oMlH86JHttaK",
        "outputId": "69b3831f-f6c8-4107-f320-71ed559533ed"
      },
      "source": [
        "#bar chart -distribution of categorical variable\n",
        "data['age'].value_counts().plot.bar()"
      ],
      "execution_count": null,
      "outputs": [
        {
          "output_type": "execute_result",
          "data": {
            "text/plain": [
              "<matplotlib.axes._subplots.AxesSubplot at 0x7f59d71314d0>"
            ]
          },
          "metadata": {},
          "execution_count": 29
        },
        {
          "output_type": "display_data",
          "data": {
            "image/png": "[encoded data removed]",
            "text/plain": [
              "<Figure size 432x288 with 1 Axes>"
            ]
          },
          "metadata": {
            "needs_background": "light"
          }
        }
      ]
    },
    {
      "cell_type": "code",
      "metadata": {
        "colab": {
          "base_uri": "https://localhost:8080/",
          "height": 279
        },
        "id": "pC22TWEQt0Tn",
        "outputId": "5cddc705-746a-4d9e-cc72-cda143f99835"
      },
      "source": [
        "#bar chart -distribution of categorical variable\n",
        "data['smoking'].value_counts().plot.bar()"
      ],
      "execution_count": null,
      "outputs": [
        {
          "output_type": "execute_result",
          "data": {
            "text/plain": [
              "<matplotlib.axes._subplots.AxesSubplot at 0x7f59d6fc2c90>"
            ]
          },
          "metadata": {},
          "execution_count": 30
        },
        {
          "output_type": "display_data",
          "data": {
            "image/png": "[encoded data removed]",
            "text/plain": [
              "<Figure size 432x288 with 1 Axes>"
            ]
          },
          "metadata": {
            "needs_background": "light"
          }
        }
      ]
    },
    {
      "cell_type": "code",
      "metadata": {
        "colab": {
          "base_uri": "https://localhost:8080/"
        },
        "id": "pkKZ4b3at3Cm",
        "outputId": "0736e65a-478b-4c6c-f671-60a49ec1db55"
      },
      "source": [
        "#checking for the imbalanced data based on prevelantStroke\n",
        "data['platelets'].value_counts()"
      ],
      "execution_count": null,
      "outputs": [
        {
          "output_type": "execute_result",
          "data": {
            "text/plain": [
              "263358.03    25\n",
              "271000.00     4\n",
              "221000.00     4\n",
              "255000.00     4\n",
              "228000.00     4\n",
              "             ..\n",
              "330000.00     1\n",
              "217000.00     1\n",
              "268000.00     1\n",
              "358000.00     1\n",
              "448000.00     1\n",
              "Name: platelets, Length: 176, dtype: int64"
            ]
          },
          "metadata": {},
          "execution_count": 31
        }
      ]
    },
    {
      "cell_type": "code",
      "metadata": {
        "colab": {
          "base_uri": "https://localhost:8080/"
        },
        "id": "DDHLvZt5uFO9",
        "outputId": "285c05c9-cea9-4da4-de59-93a170131adf"
      },
      "source": [
        "#checking for the missing values\n",
        "data.isnull().values.any()"
      ],
      "execution_count": null,
      "outputs": [
        {
          "output_type": "execute_result",
          "data": {
            "text/plain": [
              "False"
            ]
          },
          "metadata": {},
          "execution_count": 32
        }
      ]
    },
    {
      "cell_type": "code",
      "metadata": {
        "colab": {
          "base_uri": "https://localhost:8080/"
        },
        "id": "k9QsdBatuOo-",
        "outputId": "7ab1a259-b33e-49e0-8ab0-11d730cb38f1"
      },
      "source": [
        "print(\"The dataset \\'heart_failure_clinical_records_dataset.csv'is now cleaned\")"
      ],
      "execution_count": null,
      "outputs": [
        {
          "output_type": "stream",
          "name": "stdout",
          "text": [
            "The dataset 'heart_failure_clinical_records_dataset.csv'is now cleaned\n"
          ]
        }
      ]
    },
    {
      "cell_type": "code",
      "metadata": {
        "colab": {
          "base_uri": "https://localhost:8080/"
        },
        "id": "SN4FdREpucR9",
        "outputId": "cf40566b-6b73-4302-848c-f44df05b5f84"
      },
      "source": [
        "print(\"The Dataset \\'heart_failure_clinical_records_dataset.csv' is used for feature selection process\")"
      ],
      "execution_count": null,
      "outputs": [
        {
          "output_type": "stream",
          "name": "stdout",
          "text": [
            "The Dataset 'heart_failure_clinical_records_dataset.csv' is used for feature selection process\n"
          ]
        }
      ]
    },
    {
      "cell_type": "code",
      "metadata": {
        "id": "kc2gmXRVukyD"
      },
      "source": [
        "#apply SelectKBest class to extract top 10 features\n",
        "from sklearn.feature_selection import SelectKBest\n",
        "from sklearn.feature_selection import chi2\n",
        "x=data.iloc[:,0:20] #independent columns\n",
        "y=data.iloc[:,-1] #target columns\n",
        "bestfeatures=SelectKBest(score_func=chi2,k=6)\n",
        "fit=bestfeatures.fit(x,y)"
      ],
      "execution_count": null,
      "outputs": []
    },
    {
      "cell_type": "code",
      "metadata": {
        "id": "PZsOFyvOurBN"
      },
      "source": [
        "dfscores=pd.DataFrame(fit.scores_)\n",
        "dfcolumns=pd.DataFrame(x.columns)"
      ],
      "execution_count": null,
      "outputs": []
    },
    {
      "cell_type": "code",
      "metadata": {
        "id": "XhJ2okwQuuI7"
      },
      "source": [
        "#concat two dataframes for better visualization\n",
        "featureScores=pd.concat([dfcolumns,dfscores],axis=1)\n",
        "featureScores.columns=['values','Scores'] #naming the dataframe columns"
      ],
      "execution_count": null,
      "outputs": []
    },
    {
      "cell_type": "code",
      "metadata": {
        "colab": {
          "base_uri": "https://localhost:8080/",
          "height": 450
        },
        "id": "qyiynuruuyOT",
        "outputId": "aea6e864-a948-47ef-8eb7-966c7ca98e4f"
      },
      "source": [
        "featureScores"
      ],
      "execution_count": null,
      "outputs": [
        {
          "output_type": "execute_result",
          "data": {
            "text/html": [
              "<div>\n",
              "<style scoped>\n",
              "    .dataframe tbody tr th:only-of-type {\n",
              "        vertical-align: middle;\n",
              "    }\n",
              "\n",
              "    .dataframe tbody tr th {\n",
              "        vertical-align: top;\n",
              "    }\n",
              "\n",
              "    .dataframe thead th {\n",
              "        text-align: right;\n",
              "    }\n",
              "</style>\n",
              "<table border=\"1\" class=\"dataframe\">\n",
              "  <thead>\n",
              "    <tr style=\"text-align: right;\">\n",
              "      <th></th>\n",
              "      <th>values</th>\n",
              "      <th>Scores</th>\n",
              "    </tr>\n",
              "  </thead>\n",
              "  <tbody>\n",
              "    <tr>\n",
              "      <th>0</th>\n",
              "      <td>age</td>\n",
              "      <td>44.619455</td>\n",
              "    </tr>\n",
              "    <tr>\n",
              "      <th>1</th>\n",
              "      <td>anaemia</td>\n",
              "      <td>0.746593</td>\n",
              "    </tr>\n",
              "    <tr>\n",
              "      <th>2</th>\n",
              "      <td>creatinine_phosphokinase</td>\n",
              "      <td>1897.314839</td>\n",
              "    </tr>\n",
              "    <tr>\n",
              "      <th>3</th>\n",
              "      <td>diabetes</td>\n",
              "      <td>0.000657</td>\n",
              "    </tr>\n",
              "    <tr>\n",
              "      <th>4</th>\n",
              "      <td>ejection_fraction</td>\n",
              "      <td>79.072541</td>\n",
              "    </tr>\n",
              "    <tr>\n",
              "      <th>5</th>\n",
              "      <td>high_blood_pressure</td>\n",
              "      <td>1.221539</td>\n",
              "    </tr>\n",
              "    <tr>\n",
              "      <th>6</th>\n",
              "      <td>platelets</td>\n",
              "      <td>26135.771990</td>\n",
              "    </tr>\n",
              "    <tr>\n",
              "      <th>7</th>\n",
              "      <td>serum_creatinine</td>\n",
              "      <td>19.814118</td>\n",
              "    </tr>\n",
              "    <tr>\n",
              "      <th>8</th>\n",
              "      <td>serum_sodium</td>\n",
              "      <td>1.618175</td>\n",
              "    </tr>\n",
              "    <tr>\n",
              "      <th>9</th>\n",
              "      <td>sex</td>\n",
              "      <td>0.001956</td>\n",
              "    </tr>\n",
              "    <tr>\n",
              "      <th>10</th>\n",
              "      <td>smoking</td>\n",
              "      <td>0.032347</td>\n",
              "    </tr>\n",
              "    <tr>\n",
              "      <th>11</th>\n",
              "      <td>time</td>\n",
              "      <td>3826.892661</td>\n",
              "    </tr>\n",
              "    <tr>\n",
              "      <th>12</th>\n",
              "      <td>DEATH_EVENT</td>\n",
              "      <td>203.000000</td>\n",
              "    </tr>\n",
              "  </tbody>\n",
              "</table>\n",
              "</div>"
            ],
            "text/plain": [
              "                      values        Scores\n",
              "0                        age     44.619455\n",
              "1                    anaemia      0.746593\n",
              "2   creatinine_phosphokinase   1897.314839\n",
              "3                   diabetes      0.000657\n",
              "4          ejection_fraction     79.072541\n",
              "5        high_blood_pressure      1.221539\n",
              "6                  platelets  26135.771990\n",
              "7           serum_creatinine     19.814118\n",
              "8               serum_sodium      1.618175\n",
              "9                        sex      0.001956\n",
              "10                   smoking      0.032347\n",
              "11                      time   3826.892661\n",
              "12               DEATH_EVENT    203.000000"
            ]
          },
          "metadata": {},
          "execution_count": 38
        }
      ]
    },
    {
      "cell_type": "code",
      "metadata": {
        "colab": {
          "base_uri": "https://localhost:8080/"
        },
        "id": "Av4RwCRhu3B_",
        "outputId": "0bce769a-664c-4802-907f-04243154db78"
      },
      "source": [
        "print(featureScores.nlargest(10,'Scores'))"
      ],
      "execution_count": null,
      "outputs": [
        {
          "output_type": "stream",
          "name": "stdout",
          "text": [
            "                      values        Scores\n",
            "6                  platelets  26135.771990\n",
            "11                      time   3826.892661\n",
            "2   creatinine_phosphokinase   1897.314839\n",
            "12               DEATH_EVENT    203.000000\n",
            "4          ejection_fraction     79.072541\n",
            "0                        age     44.619455\n",
            "7           serum_creatinine     19.814118\n",
            "8               serum_sodium      1.618175\n",
            "5        high_blood_pressure      1.221539\n",
            "1                    anaemia      0.746593\n"
          ]
        }
      ]
    },
    {
      "cell_type": "code",
      "metadata": {
        "colab": {
          "base_uri": "https://localhost:8080/"
        },
        "id": "RmZdV0tau61L",
        "outputId": "62185eac-8d4a-431d-84ee-423cadcbb708"
      },
      "source": [
        "from sklearn.ensemble import ExtraTreesClassifier\n",
        "import matplotlib.pyplot as plt\n",
        "model=ExtraTreesClassifier()\n",
        "model.fit(x,y)"
      ],
      "execution_count": null,
      "outputs": [
        {
          "output_type": "execute_result",
          "data": {
            "text/plain": [
              "ExtraTreesClassifier(bootstrap=False, ccp_alpha=0.0, class_weight=None,\n",
              "                     criterion='gini', max_depth=None, max_features='auto',\n",
              "                     max_leaf_nodes=None, max_samples=None,\n",
              "                     min_impurity_decrease=0.0, min_impurity_split=None,\n",
              "                     min_samples_leaf=1, min_samples_split=2,\n",
              "                     min_weight_fraction_leaf=0.0, n_estimators=100,\n",
              "                     n_jobs=None, oob_score=False, random_state=None, verbose=0,\n",
              "                     warm_start=False)"
            ]
          },
          "metadata": {},
          "execution_count": 40
        }
      ]
    },
    {
      "cell_type": "code",
      "metadata": {
        "colab": {
          "base_uri": "https://localhost:8080/"
        },
        "id": "IPrPUgh0vBYW",
        "outputId": "fe806069-1c40-45cf-a8c1-e487a86bf818"
      },
      "source": [
        "print(model.feature_importances_)"
      ],
      "execution_count": null,
      "outputs": [
        {
          "output_type": "stream",
          "name": "stdout",
          "text": [
            "[0.01661336 0.00275845 0.00908668 0.00426209 0.02861714 0.00283798\n",
            " 0.00737013 0.02462259 0.00961981 0.00295507 0.00318498 0.0924502\n",
            " 0.79562152]\n"
          ]
        }
      ]
    },
    {
      "cell_type": "code",
      "metadata": {
        "colab": {
          "base_uri": "https://localhost:8080/",
          "height": 265
        },
        "id": "BLyuExJhvEWJ",
        "outputId": "5e74254b-4214-423c-abf5-12531c2313f9"
      },
      "source": [
        "feat_importances=pd.Series(model.feature_importances_,index=x.columns)\n",
        "feat_importances.nlargest(10).plot(kind='barh')\n",
        "plt.show()"
      ],
      "execution_count": null,
      "outputs": [
        {
          "output_type": "display_data",
          "data": {
            "image/png": "[encoded data removed]",
            "text/plain": [
              "<Figure size 432x288 with 1 Axes>"
            ]
          },
          "metadata": {
            "needs_background": "light"
          }
        }
      ]
    },
    {
      "cell_type": "code",
      "metadata": {
        "colab": {
          "base_uri": "https://localhost:8080/"
        },
        "id": "MdxZk9iJvI70",
        "outputId": "3d94634f-867b-45f8-df7d-b70df3665b52"
      },
      "source": [
        "from sklearn.model_selection import train_test_split\n",
        "x_train,x_test,y_train,y_test=train_test_split(\n",
        "    x,\n",
        "    y,\n",
        "    test_size=0.3,\n",
        "    random_state=0\n",
        ")\n",
        "x_train.shape,x_test.shape\n"
      ],
      "execution_count": null,
      "outputs": [
        {
          "output_type": "execute_result",
          "data": {
            "text/plain": [
              "((209, 13), (90, 13))"
            ]
          },
          "metadata": {},
          "execution_count": 43
        }
      ]
    },
    {
      "cell_type": "code",
      "metadata": {
        "colab": {
          "base_uri": "https://localhost:8080/",
          "height": 470
        },
        "id": "7BxLqrrFvNJk",
        "outputId": "8fa495d4-5125-4668-9781-4b0567aea571"
      },
      "source": [
        "x_train.corr()"
      ],
      "execution_count": null,
      "outputs": [
        {
          "output_type": "execute_result",
          "data": {
            "text/html": [
              "<div>\n",
              "<style scoped>\n",
              "    .dataframe tbody tr th:only-of-type {\n",
              "        vertical-align: middle;\n",
              "    }\n",
              "\n",
              "    .dataframe tbody tr th {\n",
              "        vertical-align: top;\n",
              "    }\n",
              "\n",
              "    .dataframe thead th {\n",
              "        text-align: right;\n",
              "    }\n",
              "</style>\n",
              "<table border=\"1\" class=\"dataframe\">\n",
              "  <thead>\n",
              "    <tr style=\"text-align: right;\">\n",
              "      <th></th>\n",
              "      <th>age</th>\n",
              "      <th>anaemia</th>\n",
              "      <th>creatinine_phosphokinase</th>\n",
              "      <th>diabetes</th>\n",
              "      <th>ejection_fraction</th>\n",
              "      <th>high_blood_pressure</th>\n",
              "      <th>platelets</th>\n",
              "      <th>serum_creatinine</th>\n",
              "      <th>serum_sodium</th>\n",
              "      <th>sex</th>\n",
              "      <th>smoking</th>\n",
              "      <th>time</th>\n",
              "      <th>DEATH_EVENT</th>\n",
              "    </tr>\n",
              "  </thead>\n",
              "  <tbody>\n",
              "    <tr>\n",
              "      <th>age</th>\n",
              "      <td>1.000000</td>\n",
              "      <td>0.103546</td>\n",
              "      <td>-0.076251</td>\n",
              "      <td>-0.109145</td>\n",
              "      <td>0.041097</td>\n",
              "      <td>0.036529</td>\n",
              "      <td>-0.122608</td>\n",
              "      <td>0.230260</td>\n",
              "      <td>-0.053552</td>\n",
              "      <td>0.126991</td>\n",
              "      <td>-0.003486</td>\n",
              "      <td>-0.243113</td>\n",
              "      <td>0.283962</td>\n",
              "    </tr>\n",
              "    <tr>\n",
              "      <th>anaemia</th>\n",
              "      <td>0.103546</td>\n",
              "      <td>1.000000</td>\n",
              "      <td>-0.174108</td>\n",
              "      <td>-0.001116</td>\n",
              "      <td>0.016675</td>\n",
              "      <td>-0.000288</td>\n",
              "      <td>-0.057571</td>\n",
              "      <td>0.084746</td>\n",
              "      <td>0.011435</td>\n",
              "      <td>-0.069047</td>\n",
              "      <td>-0.075218</td>\n",
              "      <td>-0.173388</td>\n",
              "      <td>0.083670</td>\n",
              "    </tr>\n",
              "    <tr>\n",
              "      <th>creatinine_phosphokinase</th>\n",
              "      <td>-0.076251</td>\n",
              "      <td>-0.174108</td>\n",
              "      <td>1.000000</td>\n",
              "      <td>0.031438</td>\n",
              "      <td>-0.030969</td>\n",
              "      <td>-0.053350</td>\n",
              "      <td>0.062173</td>\n",
              "      <td>-0.094213</td>\n",
              "      <td>0.031349</td>\n",
              "      <td>0.046024</td>\n",
              "      <td>-0.049206</td>\n",
              "      <td>0.033236</td>\n",
              "      <td>0.066964</td>\n",
              "    </tr>\n",
              "    <tr>\n",
              "      <th>diabetes</th>\n",
              "      <td>-0.109145</td>\n",
              "      <td>-0.001116</td>\n",
              "      <td>0.031438</td>\n",
              "      <td>1.000000</td>\n",
              "      <td>-0.049338</td>\n",
              "      <td>-0.073544</td>\n",
              "      <td>0.064254</td>\n",
              "      <td>-0.041290</td>\n",
              "      <td>-0.143692</td>\n",
              "      <td>-0.156991</td>\n",
              "      <td>-0.214756</td>\n",
              "      <td>0.035076</td>\n",
              "      <td>0.028679</td>\n",
              "    </tr>\n",
              "    <tr>\n",
              "      <th>ejection_fraction</th>\n",
              "      <td>0.041097</td>\n",
              "      <td>0.016675</td>\n",
              "      <td>-0.030969</td>\n",
              "      <td>-0.049338</td>\n",
              "      <td>1.000000</td>\n",
              "      <td>0.032981</td>\n",
              "      <td>0.070804</td>\n",
              "      <td>-0.141404</td>\n",
              "      <td>0.175284</td>\n",
              "      <td>-0.024584</td>\n",
              "      <td>-0.032331</td>\n",
              "      <td>0.141045</td>\n",
              "      <td>-0.340290</td>\n",
              "    </tr>\n",
              "    <tr>\n",
              "      <th>high_blood_pressure</th>\n",
              "      <td>0.036529</td>\n",
              "      <td>-0.000288</td>\n",
              "      <td>-0.053350</td>\n",
              "      <td>-0.073544</td>\n",
              "      <td>0.032981</td>\n",
              "      <td>1.000000</td>\n",
              "      <td>0.054839</td>\n",
              "      <td>-0.006653</td>\n",
              "      <td>-0.010785</td>\n",
              "      <td>-0.113573</td>\n",
              "      <td>-0.050109</td>\n",
              "      <td>-0.224703</td>\n",
              "      <td>0.055316</td>\n",
              "    </tr>\n",
              "    <tr>\n",
              "      <th>platelets</th>\n",
              "      <td>-0.122608</td>\n",
              "      <td>-0.057571</td>\n",
              "      <td>0.062173</td>\n",
              "      <td>0.064254</td>\n",
              "      <td>0.070804</td>\n",
              "      <td>0.054839</td>\n",
              "      <td>1.000000</td>\n",
              "      <td>-0.013113</td>\n",
              "      <td>0.044762</td>\n",
              "      <td>-0.178262</td>\n",
              "      <td>-0.027771</td>\n",
              "      <td>-0.016308</td>\n",
              "      <td>-0.037642</td>\n",
              "    </tr>\n",
              "    <tr>\n",
              "      <th>serum_creatinine</th>\n",
              "      <td>0.230260</td>\n",
              "      <td>0.084746</td>\n",
              "      <td>-0.094213</td>\n",
              "      <td>-0.041290</td>\n",
              "      <td>-0.141404</td>\n",
              "      <td>-0.006653</td>\n",
              "      <td>-0.013113</td>\n",
              "      <td>1.000000</td>\n",
              "      <td>-0.268645</td>\n",
              "      <td>0.100977</td>\n",
              "      <td>0.031675</td>\n",
              "      <td>-0.217647</td>\n",
              "      <td>0.295402</td>\n",
              "    </tr>\n",
              "    <tr>\n",
              "      <th>serum_sodium</th>\n",
              "      <td>-0.053552</td>\n",
              "      <td>0.011435</td>\n",
              "      <td>0.031349</td>\n",
              "      <td>-0.143692</td>\n",
              "      <td>0.175284</td>\n",
              "      <td>-0.010785</td>\n",
              "      <td>0.044762</td>\n",
              "      <td>-0.268645</td>\n",
              "      <td>1.000000</td>\n",
              "      <td>-0.031120</td>\n",
              "      <td>0.012007</td>\n",
              "      <td>0.122052</td>\n",
              "      <td>-0.222256</td>\n",
              "    </tr>\n",
              "    <tr>\n",
              "      <th>sex</th>\n",
              "      <td>0.126991</td>\n",
              "      <td>-0.069047</td>\n",
              "      <td>0.046024</td>\n",
              "      <td>-0.156991</td>\n",
              "      <td>-0.024584</td>\n",
              "      <td>-0.113573</td>\n",
              "      <td>-0.178262</td>\n",
              "      <td>0.100977</td>\n",
              "      <td>-0.031120</td>\n",
              "      <td>1.000000</td>\n",
              "      <td>0.432581</td>\n",
              "      <td>-0.034982</td>\n",
              "      <td>-0.041075</td>\n",
              "    </tr>\n",
              "    <tr>\n",
              "      <th>smoking</th>\n",
              "      <td>-0.003486</td>\n",
              "      <td>-0.075218</td>\n",
              "      <td>-0.049206</td>\n",
              "      <td>-0.214756</td>\n",
              "      <td>-0.032331</td>\n",
              "      <td>-0.050109</td>\n",
              "      <td>-0.027771</td>\n",
              "      <td>0.031675</td>\n",
              "      <td>0.012007</td>\n",
              "      <td>0.432581</td>\n",
              "      <td>1.000000</td>\n",
              "      <td>-0.000733</td>\n",
              "      <td>-0.025334</td>\n",
              "    </tr>\n",
              "    <tr>\n",
              "      <th>time</th>\n",
              "      <td>-0.243113</td>\n",
              "      <td>-0.173388</td>\n",
              "      <td>0.033236</td>\n",
              "      <td>0.035076</td>\n",
              "      <td>0.141045</td>\n",
              "      <td>-0.224703</td>\n",
              "      <td>-0.016308</td>\n",
              "      <td>-0.217647</td>\n",
              "      <td>0.122052</td>\n",
              "      <td>-0.034982</td>\n",
              "      <td>-0.000733</td>\n",
              "      <td>1.000000</td>\n",
              "      <td>-0.541001</td>\n",
              "    </tr>\n",
              "    <tr>\n",
              "      <th>DEATH_EVENT</th>\n",
              "      <td>0.283962</td>\n",
              "      <td>0.083670</td>\n",
              "      <td>0.066964</td>\n",
              "      <td>0.028679</td>\n",
              "      <td>-0.340290</td>\n",
              "      <td>0.055316</td>\n",
              "      <td>-0.037642</td>\n",
              "      <td>0.295402</td>\n",
              "      <td>-0.222256</td>\n",
              "      <td>-0.041075</td>\n",
              "      <td>-0.025334</td>\n",
              "      <td>-0.541001</td>\n",
              "      <td>1.000000</td>\n",
              "    </tr>\n",
              "  </tbody>\n",
              "</table>\n",
              "</div>"
            ],
            "text/plain": [
              "                               age   anaemia  ...      time  DEATH_EVENT\n",
              "age                       1.000000  0.103546  ... -0.243113     0.283962\n",
              "anaemia                   0.103546  1.000000  ... -0.173388     0.083670\n",
              "creatinine_phosphokinase -0.076251 -0.174108  ...  0.033236     0.066964\n",
              "diabetes                 -0.109145 -0.001116  ...  0.035076     0.028679\n",
              "ejection_fraction         0.041097  0.016675  ...  0.141045    -0.340290\n",
              "high_blood_pressure       0.036529 -0.000288  ... -0.224703     0.055316\n",
              "platelets                -0.122608 -0.057571  ... -0.016308    -0.037642\n",
              "serum_creatinine          0.230260  0.084746  ... -0.217647     0.295402\n",
              "serum_sodium             -0.053552  0.011435  ...  0.122052    -0.222256\n",
              "sex                       0.126991 -0.069047  ... -0.034982    -0.041075\n",
              "smoking                  -0.003486 -0.075218  ... -0.000733    -0.025334\n",
              "time                     -0.243113 -0.173388  ...  1.000000    -0.541001\n",
              "DEATH_EVENT               0.283962  0.083670  ... -0.541001     1.000000\n",
              "\n",
              "[13 rows x 13 columns]"
            ]
          },
          "metadata": {},
          "execution_count": 44
        }
      ]
    },
    {
      "cell_type": "code",
      "metadata": {
        "colab": {
          "base_uri": "https://localhost:8080/",
          "height": 733
        },
        "id": "52XDlI6xvSWy",
        "outputId": "316ac93b-2ffa-48dc-da65-731fd02a8b51"
      },
      "source": [
        "import seaborn as sns\n",
        "#using pearson Correlation\n",
        "print(\"Pearson correlation\")\n",
        "plt.figure(figsize=(12,10))\n",
        "cor=x_train.corr()\n",
        "sns.heatmap(cor,annot=True,cmap=plt.cm.CMRmap_r)\n",
        "plt.show()"
      ],
      "execution_count": null,
      "outputs": [
        {
          "output_type": "stream",
          "name": "stdout",
          "text": [
            "Pearson correlation\n"
          ]
        },
        {
          "output_type": "display_data",
          "data": {
            "image/png": "[encoded data removed]",
            "text/plain": [
              "<Figure size 864x720 with 2 Axes>"
            ]
          },
          "metadata": {
            "needs_background": "light"
          }
        }
      ]
    },
    {
      "cell_type": "code",
      "metadata": {
        "id": "DbaurkdjvZMa"
      },
      "source": [
        "def correlation(dataset,threshold):\n",
        "  col_corr=set() #set of all names of correlated columns\n",
        "  corr_matrix=dataset.corr()\n",
        "  for i in range(len(corr_matrix.columns)):\n",
        "      for j in range(i):\n",
        "        if abs(corr_matrix.iloc[i,j])>threshold:\n",
        "          colname=corr_matrix.columns[i]\n",
        "          col_corr.add(colname)\n",
        "  return col_corr"
      ],
      "execution_count": null,
      "outputs": []
    },
    {
      "cell_type": "code",
      "metadata": {
        "colab": {
          "base_uri": "https://localhost:8080/"
        },
        "id": "snE2vno9vc-n",
        "outputId": "86426293-1241-4d7e-a775-611dcc91f466"
      },
      "source": [
        "corr_features=correlation(x_train,0.5)\n",
        "len(set(corr_features))"
      ],
      "execution_count": null,
      "outputs": [
        {
          "output_type": "execute_result",
          "data": {
            "text/plain": [
              "1"
            ]
          },
          "metadata": {},
          "execution_count": 51
        }
      ]
    },
    {
      "cell_type": "code",
      "metadata": {
        "colab": {
          "base_uri": "https://localhost:8080/"
        },
        "id": "qN-ponZAvyC6",
        "outputId": "74a80176-7729-414d-9aee-0b77e19dcf34"
      },
      "source": [
        "corr_features"
      ],
      "execution_count": null,
      "outputs": [
        {
          "output_type": "execute_result",
          "data": {
            "text/plain": [
              "{'DEATH_EVENT'}"
            ]
          },
          "metadata": {},
          "execution_count": 52
        }
      ]
    },
    {
      "cell_type": "code",
      "metadata": {
        "colab": {
          "base_uri": "https://localhost:8080/",
          "height": 417
        },
        "id": "FiX__i7jv73A",
        "outputId": "4478ca4e-7948-4012-d477-b8e64cb4845e"
      },
      "source": [
        "x_train.drop(corr_features,axis=1)\n",
        "x_test.drop(corr_features,axis=1)"
      ],
      "execution_count": null,
      "outputs": [
        {
          "output_type": "execute_result",
          "data": {
            "text/html": [
              "<div>\n",
              "<style scoped>\n",
              "    .dataframe tbody tr th:only-of-type {\n",
              "        vertical-align: middle;\n",
              "    }\n",
              "\n",
              "    .dataframe tbody tr th {\n",
              "        vertical-align: top;\n",
              "    }\n",
              "\n",
              "    .dataframe thead th {\n",
              "        text-align: right;\n",
              "    }\n",
              "</style>\n",
              "<table border=\"1\" class=\"dataframe\">\n",
              "  <thead>\n",
              "    <tr style=\"text-align: right;\">\n",
              "      <th></th>\n",
              "      <th>age</th>\n",
              "      <th>anaemia</th>\n",
              "      <th>creatinine_phosphokinase</th>\n",
              "      <th>diabetes</th>\n",
              "      <th>ejection_fraction</th>\n",
              "      <th>high_blood_pressure</th>\n",
              "      <th>platelets</th>\n",
              "      <th>serum_creatinine</th>\n",
              "      <th>serum_sodium</th>\n",
              "      <th>sex</th>\n",
              "      <th>smoking</th>\n",
              "      <th>time</th>\n",
              "    </tr>\n",
              "  </thead>\n",
              "  <tbody>\n",
              "    <tr>\n",
              "      <th>206</th>\n",
              "      <td>40.000</td>\n",
              "      <td>1</td>\n",
              "      <td>101</td>\n",
              "      <td>0</td>\n",
              "      <td>40</td>\n",
              "      <td>0</td>\n",
              "      <td>226000.0</td>\n",
              "      <td>0.8</td>\n",
              "      <td>141</td>\n",
              "      <td>0</td>\n",
              "      <td>0</td>\n",
              "      <td>187</td>\n",
              "    </tr>\n",
              "    <tr>\n",
              "      <th>188</th>\n",
              "      <td>60.667</td>\n",
              "      <td>1</td>\n",
              "      <td>151</td>\n",
              "      <td>1</td>\n",
              "      <td>40</td>\n",
              "      <td>1</td>\n",
              "      <td>201000.0</td>\n",
              "      <td>1.0</td>\n",
              "      <td>136</td>\n",
              "      <td>0</td>\n",
              "      <td>0</td>\n",
              "      <td>172</td>\n",
              "    </tr>\n",
              "    <tr>\n",
              "      <th>12</th>\n",
              "      <td>45.000</td>\n",
              "      <td>1</td>\n",
              "      <td>981</td>\n",
              "      <td>0</td>\n",
              "      <td>30</td>\n",
              "      <td>0</td>\n",
              "      <td>136000.0</td>\n",
              "      <td>1.1</td>\n",
              "      <td>137</td>\n",
              "      <td>1</td>\n",
              "      <td>0</td>\n",
              "      <td>11</td>\n",
              "    </tr>\n",
              "    <tr>\n",
              "      <th>219</th>\n",
              "      <td>55.000</td>\n",
              "      <td>0</td>\n",
              "      <td>582</td>\n",
              "      <td>1</td>\n",
              "      <td>35</td>\n",
              "      <td>1</td>\n",
              "      <td>371000.0</td>\n",
              "      <td>0.7</td>\n",
              "      <td>140</td>\n",
              "      <td>0</td>\n",
              "      <td>0</td>\n",
              "      <td>197</td>\n",
              "    </tr>\n",
              "    <tr>\n",
              "      <th>237</th>\n",
              "      <td>70.000</td>\n",
              "      <td>0</td>\n",
              "      <td>232</td>\n",
              "      <td>0</td>\n",
              "      <td>30</td>\n",
              "      <td>0</td>\n",
              "      <td>173000.0</td>\n",
              "      <td>1.2</td>\n",
              "      <td>132</td>\n",
              "      <td>1</td>\n",
              "      <td>0</td>\n",
              "      <td>210</td>\n",
              "    </tr>\n",
              "    <tr>\n",
              "      <th>...</th>\n",
              "      <td>...</td>\n",
              "      <td>...</td>\n",
              "      <td>...</td>\n",
              "      <td>...</td>\n",
              "      <td>...</td>\n",
              "      <td>...</td>\n",
              "      <td>...</td>\n",
              "      <td>...</td>\n",
              "      <td>...</td>\n",
              "      <td>...</td>\n",
              "      <td>...</td>\n",
              "      <td>...</td>\n",
              "    </tr>\n",
              "    <tr>\n",
              "      <th>76</th>\n",
              "      <td>70.000</td>\n",
              "      <td>0</td>\n",
              "      <td>92</td>\n",
              "      <td>0</td>\n",
              "      <td>60</td>\n",
              "      <td>1</td>\n",
              "      <td>317000.0</td>\n",
              "      <td>0.8</td>\n",
              "      <td>140</td>\n",
              "      <td>0</td>\n",
              "      <td>1</td>\n",
              "      <td>74</td>\n",
              "    </tr>\n",
              "    <tr>\n",
              "      <th>210</th>\n",
              "      <td>70.000</td>\n",
              "      <td>0</td>\n",
              "      <td>212</td>\n",
              "      <td>1</td>\n",
              "      <td>17</td>\n",
              "      <td>1</td>\n",
              "      <td>389000.0</td>\n",
              "      <td>1.0</td>\n",
              "      <td>136</td>\n",
              "      <td>1</td>\n",
              "      <td>1</td>\n",
              "      <td>188</td>\n",
              "    </tr>\n",
              "    <tr>\n",
              "      <th>223</th>\n",
              "      <td>47.000</td>\n",
              "      <td>0</td>\n",
              "      <td>582</td>\n",
              "      <td>0</td>\n",
              "      <td>25</td>\n",
              "      <td>0</td>\n",
              "      <td>130000.0</td>\n",
              "      <td>0.8</td>\n",
              "      <td>134</td>\n",
              "      <td>1</td>\n",
              "      <td>0</td>\n",
              "      <td>201</td>\n",
              "    </tr>\n",
              "    <tr>\n",
              "      <th>253</th>\n",
              "      <td>70.000</td>\n",
              "      <td>0</td>\n",
              "      <td>88</td>\n",
              "      <td>1</td>\n",
              "      <td>35</td>\n",
              "      <td>1</td>\n",
              "      <td>236000.0</td>\n",
              "      <td>1.2</td>\n",
              "      <td>132</td>\n",
              "      <td>0</td>\n",
              "      <td>0</td>\n",
              "      <td>215</td>\n",
              "    </tr>\n",
              "    <tr>\n",
              "      <th>235</th>\n",
              "      <td>77.000</td>\n",
              "      <td>1</td>\n",
              "      <td>109</td>\n",
              "      <td>0</td>\n",
              "      <td>50</td>\n",
              "      <td>1</td>\n",
              "      <td>406000.0</td>\n",
              "      <td>1.1</td>\n",
              "      <td>137</td>\n",
              "      <td>1</td>\n",
              "      <td>0</td>\n",
              "      <td>209</td>\n",
              "    </tr>\n",
              "  </tbody>\n",
              "</table>\n",
              "<p>90 rows × 12 columns</p>\n",
              "</div>"
            ],
            "text/plain": [
              "        age  anaemia  creatinine_phosphokinase  ...  sex  smoking  time\n",
              "206  40.000        1                       101  ...    0        0   187\n",
              "188  60.667        1                       151  ...    0        0   172\n",
              "12   45.000        1                       981  ...    1        0    11\n",
              "219  55.000        0                       582  ...    0        0   197\n",
              "237  70.000        0                       232  ...    1        0   210\n",
              "..      ...      ...                       ...  ...  ...      ...   ...\n",
              "76   70.000        0                        92  ...    0        1    74\n",
              "210  70.000        0                       212  ...    1        1   188\n",
              "223  47.000        0                       582  ...    1        0   201\n",
              "253  70.000        0                        88  ...    0        0   215\n",
              "235  77.000        1                       109  ...    1        0   209\n",
              "\n",
              "[90 rows x 12 columns]"
            ]
          },
          "metadata": {},
          "execution_count": 53
        }
      ]
    },
    {
      "cell_type": "code",
      "metadata": {
        "colab": {
          "base_uri": "https://localhost:8080/",
          "height": 110
        },
        "id": "6TiVbA9-wBha",
        "outputId": "bfafd4af-5bf3-4241-9ed3-fddd020fea6b"
      },
      "source": [
        "train = data.copy()\n",
        "target = train.pop('smoking')\n",
        "train.head(2)"
      ],
      "execution_count": null,
      "outputs": [
        {
          "output_type": "execute_result",
          "data": {
            "text/html": [
              "<div>\n",
              "<style scoped>\n",
              "    .dataframe tbody tr th:only-of-type {\n",
              "        vertical-align: middle;\n",
              "    }\n",
              "\n",
              "    .dataframe tbody tr th {\n",
              "        vertical-align: top;\n",
              "    }\n",
              "\n",
              "    .dataframe thead th {\n",
              "        text-align: right;\n",
              "    }\n",
              "</style>\n",
              "<table border=\"1\" class=\"dataframe\">\n",
              "  <thead>\n",
              "    <tr style=\"text-align: right;\">\n",
              "      <th></th>\n",
              "      <th>age</th>\n",
              "      <th>anaemia</th>\n",
              "      <th>creatinine_phosphokinase</th>\n",
              "      <th>diabetes</th>\n",
              "      <th>ejection_fraction</th>\n",
              "      <th>high_blood_pressure</th>\n",
              "      <th>platelets</th>\n",
              "      <th>serum_creatinine</th>\n",
              "      <th>serum_sodium</th>\n",
              "      <th>sex</th>\n",
              "      <th>time</th>\n",
              "      <th>DEATH_EVENT</th>\n",
              "    </tr>\n",
              "  </thead>\n",
              "  <tbody>\n",
              "    <tr>\n",
              "      <th>0</th>\n",
              "      <td>75.0</td>\n",
              "      <td>0</td>\n",
              "      <td>582</td>\n",
              "      <td>0</td>\n",
              "      <td>20</td>\n",
              "      <td>1</td>\n",
              "      <td>265000.00</td>\n",
              "      <td>1.9</td>\n",
              "      <td>130</td>\n",
              "      <td>1</td>\n",
              "      <td>4</td>\n",
              "      <td>1</td>\n",
              "    </tr>\n",
              "    <tr>\n",
              "      <th>1</th>\n",
              "      <td>55.0</td>\n",
              "      <td>0</td>\n",
              "      <td>7861</td>\n",
              "      <td>0</td>\n",
              "      <td>38</td>\n",
              "      <td>0</td>\n",
              "      <td>263358.03</td>\n",
              "      <td>1.1</td>\n",
              "      <td>136</td>\n",
              "      <td>1</td>\n",
              "      <td>6</td>\n",
              "      <td>1</td>\n",
              "    </tr>\n",
              "  </tbody>\n",
              "</table>\n",
              "</div>"
            ],
            "text/plain": [
              "    age  anaemia  creatinine_phosphokinase  ...  sex  time  DEATH_EVENT\n",
              "0  75.0        0                       582  ...    1     4            1\n",
              "1  55.0        0                      7861  ...    1     6            1\n",
              "\n",
              "[2 rows x 12 columns]"
            ]
          },
          "metadata": {},
          "execution_count": 55
        }
      ]
    },
    {
      "cell_type": "code",
      "metadata": {
        "id": "hHwwRzjSwYgG"
      },
      "source": [
        "num_features_opt = 25   # the number of features that we need to choose as a result\n",
        "num_features_max = 40   # the somewhat excessive number of features, which we will choose at each stage\n",
        "features_best = []"
      ],
      "execution_count": null,
      "outputs": []
    },
    {
      "cell_type": "code",
      "metadata": {
        "id": "dM_Enrh7wjrp"
      },
      "source": [
        "#selectFromModel with linearSVC\n",
        "from sklearn.svm import SVC, LinearSVC, SVR\n",
        "from sklearn.feature_selection import SelectFromModel, SelectKBest, RFE, chi2\n",
        "from sklearn.model_selection import train_test_split\n",
        "lsvc = LinearSVC(C=0.1, penalty=\"l1\", dual=False).fit(train, target)\n",
        "model = SelectFromModel(lsvc, prefit=True)\n",
        "X_new = model.transform(train)\n",
        "X_selected_df = pd.DataFrame(X_new, columns=[train.columns[i] for i in range(len(train.columns)) if model.get_support()[i]])\n",
        "features_best.append(X_selected_df.columns.tolist())"
      ],
      "execution_count": null,
      "outputs": []
    },
    {
      "cell_type": "code",
      "metadata": {
        "colab": {
          "base_uri": "https://localhost:8080/"
        },
        "id": "7OB0B9FswnaT",
        "outputId": "c78f7e9c-d4ab-4c90-97c2-03da4c931171"
      },
      "source": [
        "print(features_best)"
      ],
      "execution_count": null,
      "outputs": [
        {
          "output_type": "stream",
          "name": "stdout",
          "text": [
            "[['age', 'anaemia', 'creatinine_phosphokinase', 'diabetes', 'ejection_fraction', 'serum_creatinine', 'serum_sodium', 'sex', 'time']]\n"
          ]
        }
      ]
    },
    {
      "cell_type": "code",
      "metadata": {
        "id": "7dwZ1dILwsQu"
      },
      "source": [
        "#using lasso\n",
        "from sklearn.linear_model import LinearRegression, LogisticRegression, Perceptron, RidgeClassifier, SGDClassifier, LassoCV\n",
        "lasso = LassoCV(cv=3).fit(train, target)\n",
        "model = SelectFromModel(lasso, prefit=True)\n",
        "X_new = model.transform(train)\n",
        "X_selected_df = pd.DataFrame(X_new, columns=[train.columns[i] for i in range(len(train.columns)) if model.get_support()[i]])\n",
        "features_best.append(X_selected_df.columns.tolist())"
      ],
      "execution_count": null,
      "outputs": []
    },
    {
      "cell_type": "code",
      "metadata": {
        "colab": {
          "base_uri": "https://localhost:8080/"
        },
        "id": "x2lk4gh0wtjo",
        "outputId": "f7c76420-9995-428e-f019-5683d69865f3"
      },
      "source": [
        "# Visualization from https://towardsdatascience.com/feature-selection-techniques-in-machine-learning-with-python-f24e7da3f36e\n",
        "# but to k='all'\n",
        "bestfeatures = SelectKBest(score_func=chi2, k='all')\n",
        "fit = bestfeatures.fit(train, target)\n",
        "dfscores = pd.DataFrame(fit.scores_)\n",
        "dfcolumns = pd.DataFrame(train.columns)\n",
        "\n",
        "#concat two dataframes for better visualization \n",
        "featureScores = pd.concat([dfcolumns,dfscores],axis=1)\n",
        "featureScores.columns = ['Feature','Score']  #naming the dataframe columns\n",
        "features_best.append(featureScores.nlargest(num_features_max,'Score')['Feature'].tolist())\n",
        "print(featureScores.nlargest(len(dfcolumns),'Score')) "
      ],
      "execution_count": null,
      "outputs": [
        {
          "output_type": "stream",
          "name": "stdout",
          "text": [
            "                     Feature        Score\n",
            "6                  platelets  8628.665474\n",
            "9                        sex    20.876039\n",
            "10                      time     7.188474\n",
            "4          ejection_fraction     4.966164\n",
            "3                   diabetes     3.768842\n",
            "2   creatinine_phosphokinase     2.826756\n",
            "1                    anaemia     1.956889\n",
            "5        high_blood_pressure     0.602129\n",
            "0                        age     0.241532\n",
            "7           serum_creatinine     0.171953\n",
            "11               DEATH_EVENT     0.032347\n",
            "8               serum_sodium     0.000984\n"
          ]
        }
      ]
    },
    {
      "cell_type": "code",
      "metadata": {
        "id": "ScMluG1gwxP3"
      },
      "source": [
        "#by the SelectKBest with Chi-2\n",
        "from sklearn import datasets\n",
        "from sklearn.feature_selection import chi2\n",
        "from sklearn.feature_selection import SelectKBest"
      ],
      "execution_count": null,
      "outputs": []
    },
    {
      "cell_type": "code",
      "metadata": {
        "colab": {
          "base_uri": "https://localhost:8080/"
        },
        "id": "ecDHHas-w3Dk",
        "outputId": "d4572190-d8b2-4e9c-ee2b-9db924764a45"
      },
      "source": [
        "#Loading data\n",
        "X,y=datasets.load_wine(return_X_y=True)\n",
        "# k = 4 tells four top features to be selected\n",
        "# Score function Chi2 tells the feature to be selected using Chi Square\n",
        "test = SelectKBest(score_func=chi2, k=4)\n",
        "fit = test.fit(X, y)\n",
        "fit.scores_"
      ],
      "execution_count": null,
      "outputs": [
        {
          "output_type": "execute_result",
          "data": {
            "text/plain": [
              "array([5.44549882e+00, 2.80686046e+01, 7.43380598e-01, 2.93836955e+01,\n",
              "       4.50263809e+01, 1.56230759e+01, 6.33343081e+01, 1.81548480e+00,\n",
              "       9.36828307e+00, 1.09016647e+02, 5.18253981e+00, 2.33898834e+01,\n",
              "       1.65400671e+04])"
            ]
          },
          "metadata": {},
          "execution_count": 62
        }
      ]
    },
    {
      "cell_type": "code",
      "metadata": {
        "id": "SE18DGGaw-lJ"
      },
      "source": [
        "X_new=test.fit_transform(X, y)"
      ],
      "execution_count": null,
      "outputs": []
    },
    {
      "cell_type": "code",
      "metadata": {
        "colab": {
          "base_uri": "https://localhost:8080/"
        },
        "id": "HesjnrPfw_nT",
        "outputId": "68c21608-895b-4775-a409-8bf3c3988d5f"
      },
      "source": [
        "print(X_new)"
      ],
      "execution_count": null,
      "outputs": [
        {
          "output_type": "stream",
          "name": "stdout",
          "text": [
            "[[1.270000e+02 3.060000e+00 5.640000e+00 1.065000e+03]\n",
            " [1.000000e+02 2.760000e+00 4.380000e+00 1.050000e+03]\n",
            " [1.010000e+02 3.240000e+00 5.680000e+00 1.185000e+03]\n",
            " [1.130000e+02 3.490000e+00 7.800000e+00 1.480000e+03]\n",
            " [1.180000e+02 2.690000e+00 4.320000e+00 7.350000e+02]\n",
            " [1.120000e+02 3.390000e+00 6.750000e+00 1.450000e+03]\n",
            " [9.600000e+01 2.520000e+00 5.250000e+00 1.290000e+03]\n",
            " [1.210000e+02 2.510000e+00 5.050000e+00 1.295000e+03]\n",
            " [9.700000e+01 2.980000e+00 5.200000e+00 1.045000e+03]\n",
            " [9.800000e+01 3.150000e+00 7.220000e+00 1.045000e+03]\n",
            " [1.050000e+02 3.320000e+00 5.750000e+00 1.510000e+03]\n",
            " [9.500000e+01 2.430000e+00 5.000000e+00 1.280000e+03]\n",
            " [8.900000e+01 2.760000e+00 5.600000e+00 1.320000e+03]\n",
            " [9.100000e+01 3.690000e+00 5.400000e+00 1.150000e+03]\n",
            " [1.020000e+02 3.640000e+00 7.500000e+00 1.547000e+03]\n",
            " [1.120000e+02 2.910000e+00 7.300000e+00 1.310000e+03]\n",
            " [1.200000e+02 3.140000e+00 6.200000e+00 1.280000e+03]\n",
            " [1.150000e+02 3.400000e+00 6.600000e+00 1.130000e+03]\n",
            " [1.080000e+02 3.930000e+00 8.700000e+00 1.680000e+03]\n",
            " [1.160000e+02 3.030000e+00 5.100000e+00 8.450000e+02]\n",
            " [1.260000e+02 3.170000e+00 5.650000e+00 7.800000e+02]\n",
            " [1.020000e+02 2.410000e+00 4.500000e+00 7.700000e+02]\n",
            " [1.010000e+02 2.880000e+00 3.800000e+00 1.035000e+03]\n",
            " [9.500000e+01 2.370000e+00 3.930000e+00 1.015000e+03]\n",
            " [9.600000e+01 2.610000e+00 3.520000e+00 8.450000e+02]\n",
            " [1.240000e+02 2.680000e+00 3.580000e+00 8.300000e+02]\n",
            " [9.300000e+01 2.940000e+00 4.800000e+00 1.195000e+03]\n",
            " [9.400000e+01 2.190000e+00 3.950000e+00 1.285000e+03]\n",
            " [1.070000e+02 2.970000e+00 4.500000e+00 9.150000e+02]\n",
            " [9.600000e+01 2.330000e+00 4.700000e+00 1.035000e+03]\n",
            " [1.010000e+02 3.250000e+00 5.700000e+00 1.285000e+03]\n",
            " [1.060000e+02 3.190000e+00 6.900000e+00 1.515000e+03]\n",
            " [1.040000e+02 2.690000e+00 3.840000e+00 9.900000e+02]\n",
            " [1.320000e+02 2.740000e+00 5.400000e+00 1.235000e+03]\n",
            " [1.100000e+02 2.530000e+00 4.200000e+00 1.095000e+03]\n",
            " [1.000000e+02 2.980000e+00 5.100000e+00 9.200000e+02]\n",
            " [1.100000e+02 2.680000e+00 4.600000e+00 8.800000e+02]\n",
            " [9.800000e+01 2.430000e+00 4.250000e+00 1.105000e+03]\n",
            " [9.800000e+01 2.640000e+00 3.700000e+00 1.020000e+03]\n",
            " [1.280000e+02 3.040000e+00 5.100000e+00 7.600000e+02]\n",
            " [1.170000e+02 3.290000e+00 6.130000e+00 7.950000e+02]\n",
            " [9.000000e+01 2.680000e+00 4.280000e+00 1.035000e+03]\n",
            " [1.010000e+02 3.560000e+00 5.430000e+00 1.095000e+03]\n",
            " [1.030000e+02 2.630000e+00 4.360000e+00 6.800000e+02]\n",
            " [1.070000e+02 3.000000e+00 5.040000e+00 8.850000e+02]\n",
            " [1.110000e+02 2.650000e+00 5.240000e+00 1.080000e+03]\n",
            " [1.020000e+02 3.170000e+00 4.900000e+00 1.065000e+03]\n",
            " [1.010000e+02 3.390000e+00 6.100000e+00 9.850000e+02]\n",
            " [1.030000e+02 2.920000e+00 6.200000e+00 1.060000e+03]\n",
            " [1.080000e+02 3.540000e+00 8.900000e+00 1.260000e+03]\n",
            " [9.200000e+01 3.270000e+00 7.200000e+00 1.150000e+03]\n",
            " [9.400000e+01 2.990000e+00 5.600000e+00 1.265000e+03]\n",
            " [1.110000e+02 3.740000e+00 7.050000e+00 1.190000e+03]\n",
            " [1.150000e+02 2.790000e+00 6.300000e+00 1.375000e+03]\n",
            " [1.180000e+02 2.900000e+00 5.850000e+00 1.060000e+03]\n",
            " [1.160000e+02 2.780000e+00 6.250000e+00 1.120000e+03]\n",
            " [1.180000e+02 3.000000e+00 6.380000e+00 9.700000e+02]\n",
            " [1.020000e+02 3.230000e+00 6.000000e+00 1.270000e+03]\n",
            " [1.080000e+02 3.670000e+00 6.800000e+00 1.285000e+03]\n",
            " [8.800000e+01 5.700000e-01 1.950000e+00 5.200000e+02]\n",
            " [1.010000e+02 1.090000e+00 3.270000e+00 6.800000e+02]\n",
            " [1.000000e+02 1.410000e+00 5.750000e+00 4.500000e+02]\n",
            " [9.400000e+01 1.790000e+00 3.800000e+00 6.300000e+02]\n",
            " [8.700000e+01 3.100000e+00 4.450000e+00 4.200000e+02]\n",
            " [1.040000e+02 1.750000e+00 2.950000e+00 3.550000e+02]\n",
            " [9.800000e+01 2.650000e+00 4.600000e+00 6.780000e+02]\n",
            " [7.800000e+01 3.180000e+00 5.300000e+00 5.020000e+02]\n",
            " [7.800000e+01 2.000000e+00 4.680000e+00 5.100000e+02]\n",
            " [1.100000e+02 1.300000e+00 3.170000e+00 7.500000e+02]\n",
            " [1.510000e+02 1.280000e+00 2.850000e+00 7.180000e+02]\n",
            " [1.030000e+02 1.020000e+00 3.050000e+00 8.700000e+02]\n",
            " [8.600000e+01 2.860000e+00 3.380000e+00 4.100000e+02]\n",
            " [8.700000e+01 1.840000e+00 3.740000e+00 4.720000e+02]\n",
            " [1.390000e+02 2.890000e+00 3.350000e+00 9.850000e+02]\n",
            " [1.010000e+02 2.140000e+00 3.210000e+00 8.860000e+02]\n",
            " [9.700000e+01 1.570000e+00 3.800000e+00 4.280000e+02]\n",
            " [8.600000e+01 2.030000e+00 4.600000e+00 3.920000e+02]\n",
            " [1.120000e+02 1.320000e+00 2.650000e+00 5.000000e+02]\n",
            " [1.360000e+02 1.850000e+00 3.400000e+00 7.500000e+02]\n",
            " [1.010000e+02 2.550000e+00 2.570000e+00 4.630000e+02]\n",
            " [8.600000e+01 2.260000e+00 2.500000e+00 2.780000e+02]\n",
            " [8.600000e+01 2.530000e+00 3.900000e+00 7.140000e+02]\n",
            " [7.800000e+01 1.580000e+00 2.200000e+00 6.300000e+02]\n",
            " [8.500000e+01 1.590000e+00 4.800000e+00 5.150000e+02]\n",
            " [9.400000e+01 2.210000e+00 3.050000e+00 5.200000e+02]\n",
            " [9.900000e+01 1.940000e+00 2.620000e+00 4.500000e+02]\n",
            " [9.000000e+01 1.690000e+00 2.450000e+00 4.950000e+02]\n",
            " [8.800000e+01 1.610000e+00 2.600000e+00 5.620000e+02]\n",
            " [8.400000e+01 1.690000e+00 2.800000e+00 6.800000e+02]\n",
            " [7.000000e+01 1.590000e+00 1.740000e+00 6.250000e+02]\n",
            " [8.100000e+01 1.500000e+00 2.400000e+00 4.800000e+02]\n",
            " [8.600000e+01 1.250000e+00 3.600000e+00 4.500000e+02]\n",
            " [8.000000e+01 1.460000e+00 3.050000e+00 4.950000e+02]\n",
            " [8.800000e+01 2.250000e+00 2.150000e+00 2.900000e+02]\n",
            " [9.800000e+01 2.260000e+00 3.250000e+00 3.450000e+02]\n",
            " [1.620000e+02 2.270000e+00 2.600000e+00 9.370000e+02]\n",
            " [1.340000e+02 9.900000e-01 2.500000e+00 6.250000e+02]\n",
            " [8.500000e+01 2.500000e+00 2.900000e+00 4.280000e+02]\n",
            " [8.800000e+01 3.750000e+00 4.500000e+00 6.600000e+02]\n",
            " [8.800000e+01 2.990000e+00 2.300000e+00 4.060000e+02]\n",
            " [9.700000e+01 2.170000e+00 3.300000e+00 7.100000e+02]\n",
            " [8.800000e+01 1.360000e+00 2.450000e+00 5.620000e+02]\n",
            " [9.800000e+01 2.110000e+00 2.800000e+00 4.380000e+02]\n",
            " [8.600000e+01 1.640000e+00 2.060000e+00 4.150000e+02]\n",
            " [8.500000e+01 1.920000e+00 2.940000e+00 6.720000e+02]\n",
            " [9.000000e+01 1.840000e+00 2.700000e+00 3.150000e+02]\n",
            " [8.000000e+01 2.030000e+00 3.400000e+00 5.100000e+02]\n",
            " [8.400000e+01 1.760000e+00 3.300000e+00 4.880000e+02]\n",
            " [9.200000e+01 2.040000e+00 2.700000e+00 3.120000e+02]\n",
            " [9.400000e+01 2.920000e+00 2.650000e+00 6.800000e+02]\n",
            " [1.070000e+02 2.580000e+00 2.900000e+00 5.620000e+02]\n",
            " [8.800000e+01 2.270000e+00 2.000000e+00 3.250000e+02]\n",
            " [1.030000e+02 2.030000e+00 3.800000e+00 6.070000e+02]\n",
            " [8.800000e+01 2.010000e+00 3.080000e+00 4.340000e+02]\n",
            " [8.400000e+01 2.290000e+00 2.900000e+00 3.850000e+02]\n",
            " [8.500000e+01 2.170000e+00 1.900000e+00 4.070000e+02]\n",
            " [8.600000e+01 1.600000e+00 1.950000e+00 4.950000e+02]\n",
            " [1.080000e+02 2.090000e+00 2.060000e+00 3.450000e+02]\n",
            " [8.000000e+01 1.250000e+00 3.400000e+00 3.720000e+02]\n",
            " [8.700000e+01 1.640000e+00 1.280000e+00 5.640000e+02]\n",
            " [9.600000e+01 2.790000e+00 3.250000e+00 6.250000e+02]\n",
            " [1.190000e+02 5.080000e+00 6.000000e+00 4.650000e+02]\n",
            " [1.020000e+02 2.130000e+00 2.080000e+00 3.650000e+02]\n",
            " [8.600000e+01 2.650000e+00 2.600000e+00 3.800000e+02]\n",
            " [8.200000e+01 3.030000e+00 2.800000e+00 3.800000e+02]\n",
            " [8.500000e+01 2.650000e+00 2.760000e+00 3.780000e+02]\n",
            " [8.600000e+01 3.150000e+00 3.940000e+00 3.520000e+02]\n",
            " [9.200000e+01 2.240000e+00 3.000000e+00 4.660000e+02]\n",
            " [8.800000e+01 2.450000e+00 2.120000e+00 3.420000e+02]\n",
            " [8.000000e+01 1.750000e+00 2.600000e+00 5.800000e+02]\n",
            " [1.220000e+02 1.250000e+00 4.100000e+00 6.300000e+02]\n",
            " [1.040000e+02 1.220000e+00 5.400000e+00 5.300000e+02]\n",
            " [9.800000e+01 1.090000e+00 5.700000e+00 5.600000e+02]\n",
            " [1.060000e+02 1.200000e+00 5.000000e+00 6.000000e+02]\n",
            " [8.500000e+01 5.800000e-01 5.450000e+00 6.500000e+02]\n",
            " [9.400000e+01 6.600000e-01 7.100000e+00 6.950000e+02]\n",
            " [8.900000e+01 4.700000e-01 3.850000e+00 7.200000e+02]\n",
            " [9.600000e+01 6.000000e-01 5.000000e+00 5.150000e+02]\n",
            " [8.800000e+01 4.800000e-01 5.700000e+00 5.800000e+02]\n",
            " [1.010000e+02 6.000000e-01 4.920000e+00 5.900000e+02]\n",
            " [9.600000e+01 5.000000e-01 4.600000e+00 6.000000e+02]\n",
            " [8.900000e+01 5.000000e-01 5.600000e+00 7.800000e+02]\n",
            " [9.700000e+01 5.200000e-01 4.350000e+00 5.200000e+02]\n",
            " [9.200000e+01 8.000000e-01 4.400000e+00 5.500000e+02]\n",
            " [1.120000e+02 7.800000e-01 8.210000e+00 8.550000e+02]\n",
            " [1.020000e+02 5.500000e-01 4.000000e+00 8.300000e+02]\n",
            " [8.000000e+01 3.400000e-01 4.900000e+00 4.150000e+02]\n",
            " [8.600000e+01 6.500000e-01 7.650000e+00 6.250000e+02]\n",
            " [9.200000e+01 7.600000e-01 8.420000e+00 6.500000e+02]\n",
            " [1.130000e+02 1.390000e+00 9.400000e+00 5.500000e+02]\n",
            " [1.230000e+02 1.570000e+00 8.600000e+00 5.000000e+02]\n",
            " [1.120000e+02 1.360000e+00 1.080000e+01 4.800000e+02]\n",
            " [1.160000e+02 1.280000e+00 7.100000e+00 4.250000e+02]\n",
            " [9.800000e+01 8.300000e-01 1.052000e+01 6.750000e+02]\n",
            " [1.030000e+02 5.800000e-01 7.600000e+00 6.400000e+02]\n",
            " [9.300000e+01 6.300000e-01 7.900000e+00 7.250000e+02]\n",
            " [8.900000e+01 8.300000e-01 9.010000e+00 4.800000e+02]\n",
            " [9.700000e+01 5.800000e-01 7.500000e+00 8.800000e+02]\n",
            " [9.800000e+01 1.310000e+00 1.300000e+01 6.600000e+02]\n",
            " [8.900000e+01 1.100000e+00 1.175000e+01 6.200000e+02]\n",
            " [8.800000e+01 9.200000e-01 7.650000e+00 5.200000e+02]\n",
            " [1.070000e+02 5.600000e-01 5.880000e+00 6.800000e+02]\n",
            " [1.060000e+02 6.000000e-01 5.580000e+00 5.700000e+02]\n",
            " [1.060000e+02 7.000000e-01 5.280000e+00 6.750000e+02]\n",
            " [9.000000e+01 6.800000e-01 9.580000e+00 6.150000e+02]\n",
            " [8.800000e+01 4.700000e-01 6.620000e+00 5.200000e+02]\n",
            " [1.110000e+02 9.200000e-01 1.068000e+01 6.950000e+02]\n",
            " [8.800000e+01 6.600000e-01 1.026000e+01 6.850000e+02]\n",
            " [1.050000e+02 8.400000e-01 8.660000e+00 7.500000e+02]\n",
            " [1.120000e+02 9.600000e-01 8.500000e+00 6.300000e+02]\n",
            " [9.600000e+01 4.900000e-01 5.500000e+00 5.100000e+02]\n",
            " [8.600000e+01 5.100000e-01 9.899999e+00 4.700000e+02]\n",
            " [9.100000e+01 7.000000e-01 9.700000e+00 6.600000e+02]\n",
            " [9.500000e+01 6.100000e-01 7.700000e+00 7.400000e+02]\n",
            " [1.020000e+02 7.500000e-01 7.300000e+00 7.500000e+02]\n",
            " [1.200000e+02 6.900000e-01 1.020000e+01 8.350000e+02]\n",
            " [1.200000e+02 6.800000e-01 9.300000e+00 8.400000e+02]\n",
            " [9.600000e+01 7.600000e-01 9.200000e+00 5.600000e+02]]\n"
          ]
        }
      ]
    },
    {
      "cell_type": "code",
      "metadata": {
        "id": "Jo9okAIAxC3v"
      },
      "source": [
        "#by the recursive feature Elimination (RFE)with logistic Regression\n",
        "from sklearn.linear_model import LinearRegression, LogisticRegression, Perceptron, RidgeClassifier, SGDClassifier, LassoCV\n",
        "from sklearn.svm import SVC, LinearSVC, SVR\n",
        "from sklearn.ensemble import RandomForestClassifier, GradientBoostingClassifier, ExtraTreesClassifier \n",
        "from sklearn.ensemble import BaggingClassifier, AdaBoostClassifier, VotingClassifier"
      ],
      "execution_count": null,
      "outputs": []
    },
    {
      "cell_type": "code",
      "metadata": {
        "colab": {
          "base_uri": "https://localhost:8080/"
        },
        "id": "Bj80Tuw8xIU6",
        "outputId": "c2c27647-303b-421d-a2ca-2f43d0d2d5ae"
      },
      "source": [
        "rfe_selector = RFE(estimator=LogisticRegression(), n_features_to_select=num_features_max, step=10, verbose=5)\n",
        "rfe_selector.fit(train, target)\n",
        "rfe_support = rfe_selector.get_support()\n",
        "rfe_feature = train.loc[:,rfe_support].columns.tolist()\n",
        "print(str(len(rfe_feature)), 'selected features')"
      ],
      "execution_count": null,
      "outputs": [
        {
          "output_type": "stream",
          "name": "stdout",
          "text": [
            "12 selected features\n"
          ]
        }
      ]
    },
    {
      "cell_type": "code",
      "metadata": {
        "id": "hkHftGZhxL4S"
      },
      "source": [
        "features_best.append(rfe_feature)\n"
      ],
      "execution_count": null,
      "outputs": []
    },
    {
      "cell_type": "code",
      "metadata": {
        "id": "nNGY0XPkxPR-"
      },
      "source": [
        "#by the recursive feature elimination with random forest\n",
        "from sklearn.ensemble import RandomForestClassifier\n",
        "from sklearn.naive_bayes import GaussianNB\n",
        "from sklearn.neighbors import KNeighborsClassifier\n",
        "from sklearn.gaussian_process import GaussianProcessClassifier\n",
        "from sklearn.neural_network import MLPClassifier\n",
        "from sklearn.tree import DecisionTreeClassifier, plot_tree"
      ],
      "execution_count": null,
      "outputs": []
    },
    {
      "cell_type": "code",
      "metadata": {
        "colab": {
          "base_uri": "https://localhost:8080/"
        },
        "id": "XDdvOvcAxTUV",
        "outputId": "82f4fa5b-636a-4040-af5a-15c2251e7d84"
      },
      "source": [
        "embeded_rf_selector = SelectFromModel(RandomForestClassifier(n_estimators=200), threshold='1.25*median')\n",
        "embeded_rf_selector.fit(train, target)"
      ],
      "execution_count": null,
      "outputs": [
        {
          "output_type": "execute_result",
          "data": {
            "text/plain": [
              "SelectFromModel(estimator=RandomForestClassifier(bootstrap=True, ccp_alpha=0.0,\n",
              "                                                 class_weight=None,\n",
              "                                                 criterion='gini',\n",
              "                                                 max_depth=None,\n",
              "                                                 max_features='auto',\n",
              "                                                 max_leaf_nodes=None,\n",
              "                                                 max_samples=None,\n",
              "                                                 min_impurity_decrease=0.0,\n",
              "                                                 min_impurity_split=None,\n",
              "                                                 min_samples_leaf=1,\n",
              "                                                 min_samples_split=2,\n",
              "                                                 min_weight_fraction_leaf=0.0,\n",
              "                                                 n_estimators=200, n_jobs=None,\n",
              "                                                 oob_score=False,\n",
              "                                                 random_state=None, verbose=0,\n",
              "                                                 warm_start=False),\n",
              "                max_features=None, norm_order=1, prefit=False,\n",
              "                threshold='1.25*median')"
            ]
          },
          "metadata": {},
          "execution_count": 69
        }
      ]
    },
    {
      "cell_type": "code",
      "metadata": {
        "colab": {
          "base_uri": "https://localhost:8080/"
        },
        "id": "HVUfFNcuxXB-",
        "outputId": "9ceeefb9-98d4-4153-fb1a-ac89c2882536"
      },
      "source": [
        "embeded_rf_support = embeded_rf_selector.get_support()\n",
        "embeded_rf_feature = train.loc[:,embeded_rf_support].columns.tolist()\n",
        "print(str(len(embeded_rf_feature)), 'selected features')"
      ],
      "execution_count": null,
      "outputs": [
        {
          "output_type": "stream",
          "name": "stdout",
          "text": [
            "4 selected features\n"
          ]
        }
      ]
    },
    {
      "cell_type": "code",
      "metadata": {
        "id": "YTVZGi7-xbX1"
      },
      "source": [
        "features_best.append(embeded_rf_feature)"
      ],
      "execution_count": null,
      "outputs": []
    },
    {
      "cell_type": "code",
      "metadata": {
        "id": "7911v0VTxhr-"
      },
      "source": [
        "#variance threshold\n",
        "import xgboost as xgb\n",
        "from xgboost import XGBClassifier\n",
        "import lightgbm as lgb\n",
        "from lightgbm import LGBMClassifier\n",
        "from sklearn import metrics\n",
        "import keras\n",
        "from keras.models import Sequential\n",
        "from keras.layers import Dense\n",
        "from keras import optimizers\n",
        "from keras.wrappers.scikit_learn import KerasClassifier"
      ],
      "execution_count": null,
      "outputs": []
    },
    {
      "cell_type": "code",
      "metadata": {
        "id": "GTgb7eShxjAR"
      },
      "source": [
        "#Check whether all features have a sufficiently different meaning\n",
        "from sklearn import datasets\n",
        "from sklearn.feature_selection import VarianceThreshold\n",
        "selector = VarianceThreshold(threshold=10)\n",
        "np.shape(selector.fit_transform(data))\n",
        "features_best.append(list(np.array(data.columns)[selector.get_support(indices=False)]))"
      ],
      "execution_count": null,
      "outputs": []
    },
    {
      "cell_type": "code",
      "metadata": {
        "colab": {
          "base_uri": "https://localhost:8080/"
        },
        "id": "obSLdd7mxqir",
        "outputId": "0d5d1e4f-b0b0-48b3-bf84-3747de2e2716"
      },
      "source": [
        "#selection of best features\n",
        "features_best"
      ],
      "execution_count": null,
      "outputs": [
        {
          "output_type": "execute_result",
          "data": {
            "text/plain": [
              "[['age',\n",
              "  'anaemia',\n",
              "  'creatinine_phosphokinase',\n",
              "  'diabetes',\n",
              "  'ejection_fraction',\n",
              "  'serum_creatinine',\n",
              "  'serum_sodium',\n",
              "  'sex',\n",
              "  'time'],\n",
              " [],\n",
              " ['platelets',\n",
              "  'sex',\n",
              "  'time',\n",
              "  'ejection_fraction',\n",
              "  'diabetes',\n",
              "  'creatinine_phosphokinase',\n",
              "  'anaemia',\n",
              "  'high_blood_pressure',\n",
              "  'age',\n",
              "  'serum_creatinine',\n",
              "  'DEATH_EVENT',\n",
              "  'serum_sodium'],\n",
              " ['age',\n",
              "  'anaemia',\n",
              "  'creatinine_phosphokinase',\n",
              "  'diabetes',\n",
              "  'ejection_fraction',\n",
              "  'high_blood_pressure',\n",
              "  'platelets',\n",
              "  'serum_creatinine',\n",
              "  'serum_sodium',\n",
              "  'sex',\n",
              "  'time',\n",
              "  'DEATH_EVENT'],\n",
              " ['creatinine_phosphokinase', 'platelets', 'sex', 'time'],\n",
              " ['age',\n",
              "  'creatinine_phosphokinase',\n",
              "  'ejection_fraction',\n",
              "  'platelets',\n",
              "  'serum_sodium',\n",
              "  'time']]"
            ]
          },
          "metadata": {},
          "execution_count": 74
        }
      ]
    },
    {
      "cell_type": "code",
      "metadata": {
        "colab": {
          "base_uri": "https://localhost:8080/"
        },
        "id": "qklbhIRSxvyc",
        "outputId": "c2025d37-b3b5-4f6a-a350-cf209f422a0a"
      },
      "source": [
        "main_cols_max = features_best[0]\n",
        "for i in range(len(features_best)-1):\n",
        "    main_cols_max = list(set(main_cols_max) | set(features_best[i+1]))\n",
        "main_cols_max"
      ],
      "execution_count": null,
      "outputs": [
        {
          "output_type": "execute_result",
          "data": {
            "text/plain": [
              "['serum_sodium',\n",
              " 'serum_creatinine',\n",
              " 'time',\n",
              " 'anaemia',\n",
              " 'ejection_fraction',\n",
              " 'high_blood_pressure',\n",
              " 'diabetes',\n",
              " 'sex',\n",
              " 'age',\n",
              " 'platelets',\n",
              " 'creatinine_phosphokinase',\n",
              " 'DEATH_EVENT']"
            ]
          },
          "metadata": {},
          "execution_count": 75
        }
      ]
    },
    {
      "cell_type": "code",
      "metadata": {
        "colab": {
          "base_uri": "https://localhost:8080/"
        },
        "id": "_25Ehty5x0UJ",
        "outputId": "9977cf75-7143-455f-8f80-fdf00a00cb95"
      },
      "source": [
        "len(main_cols_max)"
      ],
      "execution_count": null,
      "outputs": [
        {
          "output_type": "execute_result",
          "data": {
            "text/plain": [
              "12"
            ]
          },
          "metadata": {},
          "execution_count": 76
        }
      ]
    },
    {
      "cell_type": "code",
      "metadata": {
        "colab": {
          "base_uri": "https://localhost:8080/"
        },
        "id": "7uRwjh93x1uG",
        "outputId": "f1394cd9-9615-4fdf-cc11-e8d56e020932"
      },
      "source": [
        "# The element is in all lists of optimal features\n",
        "main_cols_min = features_best[0]\n",
        "for i in range(len(features_best)-1):\n",
        "    main_cols_min = list(set(main_cols_min).intersection(set(features_best[i+1])))\n",
        "main_cols_min"
      ],
      "execution_count": null,
      "outputs": [
        {
          "output_type": "execute_result",
          "data": {
            "text/plain": [
              "[]"
            ]
          },
          "metadata": {},
          "execution_count": 77
        }
      ]
    },
    {
      "cell_type": "code",
      "metadata": {
        "colab": {
          "base_uri": "https://localhost:8080/",
          "height": 450
        },
        "id": "9Aak0jAKx-FB",
        "outputId": "f402d855-63bb-4563-e4ff-dc536ab143b7"
      },
      "source": [
        "# Most common items in all lists of optimal features\n",
        "main_cols = []\n",
        "main_cols_opt = {feature_name : 0 for feature_name in data.columns.tolist()}\n",
        "for i in range(len(features_best)):\n",
        "    for feature_name in features_best[i]:\n",
        "        main_cols_opt[feature_name] += 1\n",
        "df_main_cols_opt = pd.DataFrame.from_dict(main_cols_opt, orient='index', columns=['Num'])\n",
        "df_main_cols_opt.sort_values(by=['Num'], ascending=False).head(num_features_opt)"
      ],
      "execution_count": null,
      "outputs": [
        {
          "output_type": "execute_result",
          "data": {
            "text/html": [
              "<div>\n",
              "<style scoped>\n",
              "    .dataframe tbody tr th:only-of-type {\n",
              "        vertical-align: middle;\n",
              "    }\n",
              "\n",
              "    .dataframe tbody tr th {\n",
              "        vertical-align: top;\n",
              "    }\n",
              "\n",
              "    .dataframe thead th {\n",
              "        text-align: right;\n",
              "    }\n",
              "</style>\n",
              "<table border=\"1\" class=\"dataframe\">\n",
              "  <thead>\n",
              "    <tr style=\"text-align: right;\">\n",
              "      <th></th>\n",
              "      <th>Num</th>\n",
              "    </tr>\n",
              "  </thead>\n",
              "  <tbody>\n",
              "    <tr>\n",
              "      <th>creatinine_phosphokinase</th>\n",
              "      <td>5</td>\n",
              "    </tr>\n",
              "    <tr>\n",
              "      <th>time</th>\n",
              "      <td>5</td>\n",
              "    </tr>\n",
              "    <tr>\n",
              "      <th>age</th>\n",
              "      <td>4</td>\n",
              "    </tr>\n",
              "    <tr>\n",
              "      <th>ejection_fraction</th>\n",
              "      <td>4</td>\n",
              "    </tr>\n",
              "    <tr>\n",
              "      <th>platelets</th>\n",
              "      <td>4</td>\n",
              "    </tr>\n",
              "    <tr>\n",
              "      <th>serum_sodium</th>\n",
              "      <td>4</td>\n",
              "    </tr>\n",
              "    <tr>\n",
              "      <th>sex</th>\n",
              "      <td>4</td>\n",
              "    </tr>\n",
              "    <tr>\n",
              "      <th>anaemia</th>\n",
              "      <td>3</td>\n",
              "    </tr>\n",
              "    <tr>\n",
              "      <th>diabetes</th>\n",
              "      <td>3</td>\n",
              "    </tr>\n",
              "    <tr>\n",
              "      <th>serum_creatinine</th>\n",
              "      <td>3</td>\n",
              "    </tr>\n",
              "    <tr>\n",
              "      <th>high_blood_pressure</th>\n",
              "      <td>2</td>\n",
              "    </tr>\n",
              "    <tr>\n",
              "      <th>DEATH_EVENT</th>\n",
              "      <td>2</td>\n",
              "    </tr>\n",
              "    <tr>\n",
              "      <th>smoking</th>\n",
              "      <td>0</td>\n",
              "    </tr>\n",
              "  </tbody>\n",
              "</table>\n",
              "</div>"
            ],
            "text/plain": [
              "                          Num\n",
              "creatinine_phosphokinase    5\n",
              "time                        5\n",
              "age                         4\n",
              "ejection_fraction           4\n",
              "platelets                   4\n",
              "serum_sodium                4\n",
              "sex                         4\n",
              "anaemia                     3\n",
              "diabetes                    3\n",
              "serum_creatinine            3\n",
              "high_blood_pressure         2\n",
              "DEATH_EVENT                 2\n",
              "smoking                     0"
            ]
          },
          "metadata": {},
          "execution_count": 78
        }
      ]
    },
    {
      "cell_type": "code",
      "metadata": {
        "colab": {
          "base_uri": "https://localhost:8080/"
        },
        "id": "MKTtK7j7yBYw",
        "outputId": "05660af2-bced-4ecd-ba9a-eabba2131815"
      },
      "source": [
        "main_cols = df_main_cols_opt.nlargest(num_features_opt, 'Num').index.tolist()\n",
        "if not 'target' in main_cols:\n",
        "    main_cols.append('target')\n",
        "main_cols"
      ],
      "execution_count": null,
      "outputs": [
        {
          "output_type": "execute_result",
          "data": {
            "text/plain": [
              "['creatinine_phosphokinase',\n",
              " 'time',\n",
              " 'age',\n",
              " 'ejection_fraction',\n",
              " 'platelets',\n",
              " 'serum_sodium',\n",
              " 'sex',\n",
              " 'anaemia',\n",
              " 'diabetes',\n",
              " 'serum_creatinine',\n",
              " 'high_blood_pressure',\n",
              " 'DEATH_EVENT',\n",
              " 'smoking',\n",
              " 'target']"
            ]
          },
          "metadata": {},
          "execution_count": 79
        }
      ]
    },
    {
      "cell_type": "code",
      "metadata": {
        "colab": {
          "base_uri": "https://localhost:8080/"
        },
        "id": "i_vDefEUyOh-",
        "outputId": "49acf7d0-92b0-4cca-cfc6-89d0f43afcc3"
      },
      "source": [
        "print(\"The creatinine_phosphokinase and time are the most important element in those optimal features \")"
      ],
      "execution_count": null,
      "outputs": [
        {
          "output_type": "stream",
          "name": "stdout",
          "text": [
            "The creatinine_phosphokinase and time are the most important element in those optimal features \n"
          ]
        }
      ]
    },
    {
      "cell_type": "code",
      "metadata": {
        "colab": {
          "base_uri": "https://localhost:8080/"
        },
        "id": "ydIvi-D0yhuZ",
        "outputId": "114b94ad-eea1-4462-da63-f9f2fd3ee8e3"
      },
      "source": [
        "print(\"\\'heart_failure_clinical_record_dataset.csv' is successfully feature selected\")"
      ],
      "execution_count": null,
      "outputs": [
        {
          "output_type": "stream",
          "name": "stdout",
          "text": [
            "'heart_failure_clinical_record_dataset.csv' is successfully feature selected\n"
          ]
        }
      ]
    }
  ]
}