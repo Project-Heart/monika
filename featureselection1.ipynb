{
  "nbformat": 4,
  "nbformat_minor": 0,
  "metadata": {
    "colab": {
      "name": "featureselection1.ipynb",
      "provenance": [],
      "collapsed_sections": []
    },
    "kernelspec": {
      "name": "python3",
      "display_name": "Python 3"
    },
    "language_info": {
      "name": "python"
    }
  },
  "cells": [
    {
      "cell_type": "code",
      "metadata": {
        "id": "CYpgLekMGsfW"
      },
      "source": [
        "import pandas as pd\n",
        "import numpy as np\n",
        "from sklearn.feature_selection import SelectKBest\n",
        "from sklearn.feature_selection import chi2\n",
        "data=pd.read_csv(r\"heart.csv\")\n",
        "x=data.iloc[:,0:20] #independent columns\n",
        "y=data.iloc[:,-1] #target columns"
      ],
      "execution_count": 22,
      "outputs": []
    },
    {
      "cell_type": "code",
      "metadata": {
        "colab": {
          "base_uri": "https://localhost:8080/",
          "height": 203
        },
        "id": "i6LkXNqEPQgq",
        "outputId": "dafc4054-6a45-436e-ed84-2c52c86052a9"
      },
      "source": [
        "data.head()"
      ],
      "execution_count": 23,
      "outputs": [
        {
          "output_type": "execute_result",
          "data": {
            "text/html": [
              "<div>\n",
              "<style scoped>\n",
              "    .dataframe tbody tr th:only-of-type {\n",
              "        vertical-align: middle;\n",
              "    }\n",
              "\n",
              "    .dataframe tbody tr th {\n",
              "        vertical-align: top;\n",
              "    }\n",
              "\n",
              "    .dataframe thead th {\n",
              "        text-align: right;\n",
              "    }\n",
              "</style>\n",
              "<table border=\"1\" class=\"dataframe\">\n",
              "  <thead>\n",
              "    <tr style=\"text-align: right;\">\n",
              "      <th></th>\n",
              "      <th>age</th>\n",
              "      <th>sex</th>\n",
              "      <th>cp</th>\n",
              "      <th>trestbps</th>\n",
              "      <th>chol</th>\n",
              "      <th>fbs</th>\n",
              "      <th>restecg</th>\n",
              "      <th>thalach</th>\n",
              "      <th>exang</th>\n",
              "      <th>oldpeak</th>\n",
              "      <th>slope</th>\n",
              "      <th>ca</th>\n",
              "      <th>thal</th>\n",
              "      <th>target</th>\n",
              "    </tr>\n",
              "  </thead>\n",
              "  <tbody>\n",
              "    <tr>\n",
              "      <th>0</th>\n",
              "      <td>63</td>\n",
              "      <td>1</td>\n",
              "      <td>3</td>\n",
              "      <td>145</td>\n",
              "      <td>233</td>\n",
              "      <td>1</td>\n",
              "      <td>0</td>\n",
              "      <td>150</td>\n",
              "      <td>0</td>\n",
              "      <td>2.3</td>\n",
              "      <td>0</td>\n",
              "      <td>0</td>\n",
              "      <td>1</td>\n",
              "      <td>1</td>\n",
              "    </tr>\n",
              "    <tr>\n",
              "      <th>1</th>\n",
              "      <td>37</td>\n",
              "      <td>1</td>\n",
              "      <td>2</td>\n",
              "      <td>130</td>\n",
              "      <td>250</td>\n",
              "      <td>0</td>\n",
              "      <td>1</td>\n",
              "      <td>187</td>\n",
              "      <td>0</td>\n",
              "      <td>3.5</td>\n",
              "      <td>0</td>\n",
              "      <td>0</td>\n",
              "      <td>2</td>\n",
              "      <td>1</td>\n",
              "    </tr>\n",
              "    <tr>\n",
              "      <th>2</th>\n",
              "      <td>41</td>\n",
              "      <td>0</td>\n",
              "      <td>1</td>\n",
              "      <td>130</td>\n",
              "      <td>204</td>\n",
              "      <td>0</td>\n",
              "      <td>0</td>\n",
              "      <td>172</td>\n",
              "      <td>0</td>\n",
              "      <td>1.4</td>\n",
              "      <td>2</td>\n",
              "      <td>0</td>\n",
              "      <td>2</td>\n",
              "      <td>1</td>\n",
              "    </tr>\n",
              "    <tr>\n",
              "      <th>3</th>\n",
              "      <td>56</td>\n",
              "      <td>1</td>\n",
              "      <td>1</td>\n",
              "      <td>120</td>\n",
              "      <td>236</td>\n",
              "      <td>0</td>\n",
              "      <td>1</td>\n",
              "      <td>178</td>\n",
              "      <td>0</td>\n",
              "      <td>0.8</td>\n",
              "      <td>2</td>\n",
              "      <td>0</td>\n",
              "      <td>2</td>\n",
              "      <td>1</td>\n",
              "    </tr>\n",
              "    <tr>\n",
              "      <th>4</th>\n",
              "      <td>57</td>\n",
              "      <td>0</td>\n",
              "      <td>0</td>\n",
              "      <td>120</td>\n",
              "      <td>354</td>\n",
              "      <td>0</td>\n",
              "      <td>1</td>\n",
              "      <td>163</td>\n",
              "      <td>1</td>\n",
              "      <td>0.6</td>\n",
              "      <td>2</td>\n",
              "      <td>0</td>\n",
              "      <td>2</td>\n",
              "      <td>1</td>\n",
              "    </tr>\n",
              "  </tbody>\n",
              "</table>\n",
              "</div>"
            ],
            "text/plain": [
              "   age  sex  cp  trestbps  chol  fbs  ...  exang  oldpeak  slope  ca  thal  target\n",
              "0   63    1   3       145   233    1  ...      0      2.3      0   0     1       1\n",
              "1   37    1   2       130   250    0  ...      0      3.5      0   0     2       1\n",
              "2   41    0   1       130   204    0  ...      0      1.4      2   0     2       1\n",
              "3   56    1   1       120   236    0  ...      0      0.8      2   0     2       1\n",
              "4   57    0   0       120   354    0  ...      1      0.6      2   0     2       1\n",
              "\n",
              "[5 rows x 14 columns]"
            ]
          },
          "metadata": {},
          "execution_count": 23
        }
      ]
    },
    {
      "cell_type": "code",
      "metadata": {
        "colab": {
          "base_uri": "https://localhost:8080/"
        },
        "id": "JzYrOqLoPd7F",
        "outputId": "8d7f2b53-d413-42f5-9472-29643359153f"
      },
      "source": [
        "print(data.describe())"
      ],
      "execution_count": 24,
      "outputs": [
        {
          "output_type": "stream",
          "name": "stdout",
          "text": [
            "              age         sex          cp  ...          ca        thal      target\n",
            "count  303.000000  303.000000  303.000000  ...  303.000000  303.000000  303.000000\n",
            "mean    54.366337    0.683168    0.966997  ...    0.729373    2.313531    0.544554\n",
            "std      9.082101    0.466011    1.032052  ...    1.022606    0.612277    0.498835\n",
            "min     29.000000    0.000000    0.000000  ...    0.000000    0.000000    0.000000\n",
            "25%     47.500000    0.000000    0.000000  ...    0.000000    2.000000    0.000000\n",
            "50%     55.000000    1.000000    1.000000  ...    0.000000    2.000000    1.000000\n",
            "75%     61.000000    1.000000    2.000000  ...    1.000000    3.000000    1.000000\n",
            "max     77.000000    1.000000    3.000000  ...    4.000000    3.000000    1.000000\n",
            "\n",
            "[8 rows x 14 columns]\n"
          ]
        }
      ]
    },
    {
      "cell_type": "code",
      "metadata": {
        "colab": {
          "base_uri": "https://localhost:8080/"
        },
        "id": "QOfQRTr6PyNU",
        "outputId": "3625c697-f04b-40f5-fd7e-08d9cc45ff99"
      },
      "source": [
        "print(data.shape)"
      ],
      "execution_count": 25,
      "outputs": [
        {
          "output_type": "stream",
          "name": "stdout",
          "text": [
            "(303, 14)\n"
          ]
        }
      ]
    },
    {
      "cell_type": "code",
      "metadata": {
        "id": "R9z6zV6eQLED"
      },
      "source": [
        "#apply SelectKBest class to extract top 10 features\n",
        "bestfeatures=SelectKBest(score_func=chi2,k=8)\n",
        "fit=bestfeatures.fit(x,y)"
      ],
      "execution_count": 27,
      "outputs": []
    },
    {
      "cell_type": "code",
      "metadata": {
        "id": "ANz0L8yzRQg-"
      },
      "source": [
        "dfscores=pd.DataFrame(fit.scores_)\n",
        "dfcolumns=pd.DataFrame(x.columns)"
      ],
      "execution_count": 28,
      "outputs": []
    },
    {
      "cell_type": "code",
      "metadata": {
        "id": "lhv8o4WtR9TU"
      },
      "source": [
        "#concat two dataframes for better visualization\n",
        "featureScores=pd.concat([dfcolumns,dfscores],axis=1)\n",
        "featureScores.columns=['values','Scores'] #naming the dataframe columns"
      ],
      "execution_count": 29,
      "outputs": []
    },
    {
      "cell_type": "code",
      "metadata": {
        "colab": {
          "base_uri": "https://localhost:8080/",
          "height": 480
        },
        "id": "fbOjv-QHSzzX",
        "outputId": "2fe9c7e1-77d1-43d7-80c2-af0f5781cdd6"
      },
      "source": [
        "featureScores"
      ],
      "execution_count": 30,
      "outputs": [
        {
          "output_type": "execute_result",
          "data": {
            "text/html": [
              "<div>\n",
              "<style scoped>\n",
              "    .dataframe tbody tr th:only-of-type {\n",
              "        vertical-align: middle;\n",
              "    }\n",
              "\n",
              "    .dataframe tbody tr th {\n",
              "        vertical-align: top;\n",
              "    }\n",
              "\n",
              "    .dataframe thead th {\n",
              "        text-align: right;\n",
              "    }\n",
              "</style>\n",
              "<table border=\"1\" class=\"dataframe\">\n",
              "  <thead>\n",
              "    <tr style=\"text-align: right;\">\n",
              "      <th></th>\n",
              "      <th>values</th>\n",
              "      <th>Scores</th>\n",
              "    </tr>\n",
              "  </thead>\n",
              "  <tbody>\n",
              "    <tr>\n",
              "      <th>0</th>\n",
              "      <td>age</td>\n",
              "      <td>23.286624</td>\n",
              "    </tr>\n",
              "    <tr>\n",
              "      <th>1</th>\n",
              "      <td>sex</td>\n",
              "      <td>7.576835</td>\n",
              "    </tr>\n",
              "    <tr>\n",
              "      <th>2</th>\n",
              "      <td>cp</td>\n",
              "      <td>62.598098</td>\n",
              "    </tr>\n",
              "    <tr>\n",
              "      <th>3</th>\n",
              "      <td>trestbps</td>\n",
              "      <td>14.823925</td>\n",
              "    </tr>\n",
              "    <tr>\n",
              "      <th>4</th>\n",
              "      <td>chol</td>\n",
              "      <td>23.936394</td>\n",
              "    </tr>\n",
              "    <tr>\n",
              "      <th>5</th>\n",
              "      <td>fbs</td>\n",
              "      <td>0.202934</td>\n",
              "    </tr>\n",
              "    <tr>\n",
              "      <th>6</th>\n",
              "      <td>restecg</td>\n",
              "      <td>2.978271</td>\n",
              "    </tr>\n",
              "    <tr>\n",
              "      <th>7</th>\n",
              "      <td>thalach</td>\n",
              "      <td>188.320472</td>\n",
              "    </tr>\n",
              "    <tr>\n",
              "      <th>8</th>\n",
              "      <td>exang</td>\n",
              "      <td>38.914377</td>\n",
              "    </tr>\n",
              "    <tr>\n",
              "      <th>9</th>\n",
              "      <td>oldpeak</td>\n",
              "      <td>72.644253</td>\n",
              "    </tr>\n",
              "    <tr>\n",
              "      <th>10</th>\n",
              "      <td>slope</td>\n",
              "      <td>9.804095</td>\n",
              "    </tr>\n",
              "    <tr>\n",
              "      <th>11</th>\n",
              "      <td>ca</td>\n",
              "      <td>66.440765</td>\n",
              "    </tr>\n",
              "    <tr>\n",
              "      <th>12</th>\n",
              "      <td>thal</td>\n",
              "      <td>5.791853</td>\n",
              "    </tr>\n",
              "    <tr>\n",
              "      <th>13</th>\n",
              "      <td>target</td>\n",
              "      <td>138.000000</td>\n",
              "    </tr>\n",
              "  </tbody>\n",
              "</table>\n",
              "</div>"
            ],
            "text/plain": [
              "      values      Scores\n",
              "0        age   23.286624\n",
              "1        sex    7.576835\n",
              "2         cp   62.598098\n",
              "3   trestbps   14.823925\n",
              "4       chol   23.936394\n",
              "5        fbs    0.202934\n",
              "6    restecg    2.978271\n",
              "7    thalach  188.320472\n",
              "8      exang   38.914377\n",
              "9    oldpeak   72.644253\n",
              "10     slope    9.804095\n",
              "11        ca   66.440765\n",
              "12      thal    5.791853\n",
              "13    target  138.000000"
            ]
          },
          "metadata": {},
          "execution_count": 30
        }
      ]
    },
    {
      "cell_type": "code",
      "metadata": {
        "colab": {
          "base_uri": "https://localhost:8080/"
        },
        "id": "y1YgOJofTGOb",
        "outputId": "c3539731-1fac-48e8-c3b1-5af9513a2d21"
      },
      "source": [
        "print(featureScores.nlargest(10,'Scores'))"
      ],
      "execution_count": 31,
      "outputs": [
        {
          "output_type": "stream",
          "name": "stdout",
          "text": [
            "      values      Scores\n",
            "7    thalach  188.320472\n",
            "13    target  138.000000\n",
            "9    oldpeak   72.644253\n",
            "11        ca   66.440765\n",
            "2         cp   62.598098\n",
            "8      exang   38.914377\n",
            "4       chol   23.936394\n",
            "0        age   23.286624\n",
            "3   trestbps   14.823925\n",
            "10     slope    9.804095\n"
          ]
        }
      ]
    },
    {
      "cell_type": "code",
      "metadata": {
        "colab": {
          "base_uri": "https://localhost:8080/"
        },
        "id": "VlZ2l5klTTBJ",
        "outputId": "92c879b8-8af1-4f11-d430-e09a3c57d9a2"
      },
      "source": [
        "from sklearn.ensemble import ExtraTreesClassifier\n",
        "import matplotlib.pyplot as plt\n",
        "model=ExtraTreesClassifier()\n",
        "model.fit(x,y)"
      ],
      "execution_count": 32,
      "outputs": [
        {
          "output_type": "execute_result",
          "data": {
            "text/plain": [
              "ExtraTreesClassifier(bootstrap=False, ccp_alpha=0.0, class_weight=None,\n",
              "                     criterion='gini', max_depth=None, max_features='auto',\n",
              "                     max_leaf_nodes=None, max_samples=None,\n",
              "                     min_impurity_decrease=0.0, min_impurity_split=None,\n",
              "                     min_samples_leaf=1, min_samples_split=2,\n",
              "                     min_weight_fraction_leaf=0.0, n_estimators=100,\n",
              "                     n_jobs=None, oob_score=False, random_state=None, verbose=0,\n",
              "                     warm_start=False)"
            ]
          },
          "metadata": {},
          "execution_count": 32
        }
      ]
    },
    {
      "cell_type": "code",
      "metadata": {
        "colab": {
          "base_uri": "https://localhost:8080/"
        },
        "id": "utpCpM2IUJ1D",
        "outputId": "204fa970-8775-4f99-de6a-bc146f8482f6"
      },
      "source": [
        "print(model.feature_importances_)"
      ],
      "execution_count": 33,
      "outputs": [
        {
          "output_type": "stream",
          "name": "stdout",
          "text": [
            "[0.01128683 0.01909092 0.05162095 0.00732613 0.00913291 0.00415975\n",
            " 0.00774644 0.01593183 0.0425676  0.03095078 0.02734842 0.04014682\n",
            " 0.03753551 0.6951551 ]\n"
          ]
        }
      ]
    },
    {
      "cell_type": "code",
      "metadata": {
        "colab": {
          "base_uri": "https://localhost:8080/",
          "height": 265
        },
        "id": "ZaVeg5NsUaIz",
        "outputId": "76b1dd7b-56a0-46a4-d05d-027cefa57102"
      },
      "source": [
        "feat_importances=pd.Series(model.feature_importances_,index=x.columns)\n",
        "feat_importances.nlargest(10).plot(kind='barh')\n",
        "plt.show()"
      ],
      "execution_count": 34,
      "outputs": [
        {
          "output_type": "display_data",
          "data": {
            "image/png": "[encoded data removed]",
            "text/plain": [
              "<Figure size 432x288 with 1 Axes>"
            ]
          },
          "metadata": {
            "needs_background": "light"
          }
        }
      ]
    },
    {
      "cell_type": "code",
      "metadata": {
        "colab": {
          "base_uri": "https://localhost:8080/"
        },
        "id": "8zCvFHmoV1Pu",
        "outputId": "44a24925-713a-4581-b634-3d064680948c"
      },
      "source": [
        "from sklearn.model_selection import train_test_split\n",
        "x_train,x_test,y_train,y_test=train_test_split(\n",
        "    x,\n",
        "    y,\n",
        "    test_size=0.3,\n",
        "    random_state=0\n",
        ")\n",
        "x_train.shape,x_test.shape\n"
      ],
      "execution_count": 36,
      "outputs": [
        {
          "output_type": "execute_result",
          "data": {
            "text/plain": [
              "((212, 14), (91, 14))"
            ]
          },
          "metadata": {},
          "execution_count": 36
        }
      ]
    },
    {
      "cell_type": "code",
      "metadata": {
        "colab": {
          "base_uri": "https://localhost:8080/",
          "height": 480
        },
        "id": "0IiwcvrAWuIn",
        "outputId": "4d975f48-eeed-4eb5-c1c2-88c321a7c2d1"
      },
      "source": [
        "x_train.corr()"
      ],
      "execution_count": 37,
      "outputs": [
        {
          "output_type": "execute_result",
          "data": {
            "text/html": [
              "<div>\n",
              "<style scoped>\n",
              "    .dataframe tbody tr th:only-of-type {\n",
              "        vertical-align: middle;\n",
              "    }\n",
              "\n",
              "    .dataframe tbody tr th {\n",
              "        vertical-align: top;\n",
              "    }\n",
              "\n",
              "    .dataframe thead th {\n",
              "        text-align: right;\n",
              "    }\n",
              "</style>\n",
              "<table border=\"1\" class=\"dataframe\">\n",
              "  <thead>\n",
              "    <tr style=\"text-align: right;\">\n",
              "      <th></th>\n",
              "      <th>age</th>\n",
              "      <th>sex</th>\n",
              "      <th>cp</th>\n",
              "      <th>trestbps</th>\n",
              "      <th>chol</th>\n",
              "      <th>fbs</th>\n",
              "      <th>restecg</th>\n",
              "      <th>thalach</th>\n",
              "      <th>exang</th>\n",
              "      <th>oldpeak</th>\n",
              "      <th>slope</th>\n",
              "      <th>ca</th>\n",
              "      <th>thal</th>\n",
              "      <th>target</th>\n",
              "    </tr>\n",
              "  </thead>\n",
              "  <tbody>\n",
              "    <tr>\n",
              "      <th>age</th>\n",
              "      <td>1.000000</td>\n",
              "      <td>-0.137750</td>\n",
              "      <td>-0.047924</td>\n",
              "      <td>0.292784</td>\n",
              "      <td>0.218388</td>\n",
              "      <td>0.168401</td>\n",
              "      <td>-0.026793</td>\n",
              "      <td>-0.396797</td>\n",
              "      <td>0.037814</td>\n",
              "      <td>0.175066</td>\n",
              "      <td>-0.143330</td>\n",
              "      <td>0.278502</td>\n",
              "      <td>0.028009</td>\n",
              "      <td>-0.158168</td>\n",
              "    </tr>\n",
              "    <tr>\n",
              "      <th>sex</th>\n",
              "      <td>-0.137750</td>\n",
              "      <td>1.000000</td>\n",
              "      <td>-0.070390</td>\n",
              "      <td>-0.097475</td>\n",
              "      <td>-0.192253</td>\n",
              "      <td>0.027645</td>\n",
              "      <td>-0.054692</td>\n",
              "      <td>-0.067366</td>\n",
              "      <td>0.204000</td>\n",
              "      <td>0.111734</td>\n",
              "      <td>-0.078436</td>\n",
              "      <td>0.143038</td>\n",
              "      <td>0.193758</td>\n",
              "      <td>-0.342648</td>\n",
              "    </tr>\n",
              "    <tr>\n",
              "      <th>cp</th>\n",
              "      <td>-0.047924</td>\n",
              "      <td>-0.070390</td>\n",
              "      <td>1.000000</td>\n",
              "      <td>-0.034019</td>\n",
              "      <td>-0.022464</td>\n",
              "      <td>0.087377</td>\n",
              "      <td>0.006994</td>\n",
              "      <td>0.289873</td>\n",
              "      <td>-0.403497</td>\n",
              "      <td>-0.192547</td>\n",
              "      <td>0.116945</td>\n",
              "      <td>-0.199994</td>\n",
              "      <td>-0.184223</td>\n",
              "      <td>0.424951</td>\n",
              "    </tr>\n",
              "    <tr>\n",
              "      <th>trestbps</th>\n",
              "      <td>0.292784</td>\n",
              "      <td>-0.097475</td>\n",
              "      <td>-0.034019</td>\n",
              "      <td>1.000000</td>\n",
              "      <td>0.144821</td>\n",
              "      <td>0.190868</td>\n",
              "      <td>-0.080388</td>\n",
              "      <td>-0.153559</td>\n",
              "      <td>0.146582</td>\n",
              "      <td>0.197257</td>\n",
              "      <td>-0.115427</td>\n",
              "      <td>0.141982</td>\n",
              "      <td>-0.028328</td>\n",
              "      <td>-0.164402</td>\n",
              "    </tr>\n",
              "    <tr>\n",
              "      <th>chol</th>\n",
              "      <td>0.218388</td>\n",
              "      <td>-0.192253</td>\n",
              "      <td>-0.022464</td>\n",
              "      <td>0.144821</td>\n",
              "      <td>1.000000</td>\n",
              "      <td>0.032476</td>\n",
              "      <td>-0.084454</td>\n",
              "      <td>-0.013245</td>\n",
              "      <td>0.016811</td>\n",
              "      <td>0.055413</td>\n",
              "      <td>0.004276</td>\n",
              "      <td>0.024489</td>\n",
              "      <td>0.088717</td>\n",
              "      <td>-0.050064</td>\n",
              "    </tr>\n",
              "    <tr>\n",
              "      <th>fbs</th>\n",
              "      <td>0.168401</td>\n",
              "      <td>0.027645</td>\n",
              "      <td>0.087377</td>\n",
              "      <td>0.190868</td>\n",
              "      <td>0.032476</td>\n",
              "      <td>1.000000</td>\n",
              "      <td>-0.134809</td>\n",
              "      <td>-0.071406</td>\n",
              "      <td>0.034965</td>\n",
              "      <td>-0.022331</td>\n",
              "      <td>-0.107351</td>\n",
              "      <td>0.153332</td>\n",
              "      <td>-0.066588</td>\n",
              "      <td>-0.101547</td>\n",
              "    </tr>\n",
              "    <tr>\n",
              "      <th>restecg</th>\n",
              "      <td>-0.026793</td>\n",
              "      <td>-0.054692</td>\n",
              "      <td>0.006994</td>\n",
              "      <td>-0.080388</td>\n",
              "      <td>-0.084454</td>\n",
              "      <td>-0.134809</td>\n",
              "      <td>1.000000</td>\n",
              "      <td>0.017453</td>\n",
              "      <td>0.001052</td>\n",
              "      <td>0.014892</td>\n",
              "      <td>0.069915</td>\n",
              "      <td>-0.048096</td>\n",
              "      <td>0.059057</td>\n",
              "      <td>0.043251</td>\n",
              "    </tr>\n",
              "    <tr>\n",
              "      <th>thalach</th>\n",
              "      <td>-0.396797</td>\n",
              "      <td>-0.067366</td>\n",
              "      <td>0.289873</td>\n",
              "      <td>-0.153559</td>\n",
              "      <td>-0.013245</td>\n",
              "      <td>-0.071406</td>\n",
              "      <td>0.017453</td>\n",
              "      <td>1.000000</td>\n",
              "      <td>-0.361515</td>\n",
              "      <td>-0.337732</td>\n",
              "      <td>0.380330</td>\n",
              "      <td>-0.271226</td>\n",
              "      <td>-0.085401</td>\n",
              "      <td>0.419731</td>\n",
              "    </tr>\n",
              "    <tr>\n",
              "      <th>exang</th>\n",
              "      <td>0.037814</td>\n",
              "      <td>0.204000</td>\n",
              "      <td>-0.403497</td>\n",
              "      <td>0.146582</td>\n",
              "      <td>0.016811</td>\n",
              "      <td>0.034965</td>\n",
              "      <td>0.001052</td>\n",
              "      <td>-0.361515</td>\n",
              "      <td>1.000000</td>\n",
              "      <td>0.305472</td>\n",
              "      <td>-0.264320</td>\n",
              "      <td>0.085052</td>\n",
              "      <td>0.249634</td>\n",
              "      <td>-0.452258</td>\n",
              "    </tr>\n",
              "    <tr>\n",
              "      <th>oldpeak</th>\n",
              "      <td>0.175066</td>\n",
              "      <td>0.111734</td>\n",
              "      <td>-0.192547</td>\n",
              "      <td>0.197257</td>\n",
              "      <td>0.055413</td>\n",
              "      <td>-0.022331</td>\n",
              "      <td>0.014892</td>\n",
              "      <td>-0.337732</td>\n",
              "      <td>0.305472</td>\n",
              "      <td>1.000000</td>\n",
              "      <td>-0.603471</td>\n",
              "      <td>0.276924</td>\n",
              "      <td>0.161774</td>\n",
              "      <td>-0.460506</td>\n",
              "    </tr>\n",
              "    <tr>\n",
              "      <th>slope</th>\n",
              "      <td>-0.143330</td>\n",
              "      <td>-0.078436</td>\n",
              "      <td>0.116945</td>\n",
              "      <td>-0.115427</td>\n",
              "      <td>0.004276</td>\n",
              "      <td>-0.107351</td>\n",
              "      <td>0.069915</td>\n",
              "      <td>0.380330</td>\n",
              "      <td>-0.264320</td>\n",
              "      <td>-0.603471</td>\n",
              "      <td>1.000000</td>\n",
              "      <td>-0.143113</td>\n",
              "      <td>-0.061346</td>\n",
              "      <td>0.341469</td>\n",
              "    </tr>\n",
              "    <tr>\n",
              "      <th>ca</th>\n",
              "      <td>0.278502</td>\n",
              "      <td>0.143038</td>\n",
              "      <td>-0.199994</td>\n",
              "      <td>0.141982</td>\n",
              "      <td>0.024489</td>\n",
              "      <td>0.153332</td>\n",
              "      <td>-0.048096</td>\n",
              "      <td>-0.271226</td>\n",
              "      <td>0.085052</td>\n",
              "      <td>0.276924</td>\n",
              "      <td>-0.143113</td>\n",
              "      <td>1.000000</td>\n",
              "      <td>0.125703</td>\n",
              "      <td>-0.429825</td>\n",
              "    </tr>\n",
              "    <tr>\n",
              "      <th>thal</th>\n",
              "      <td>0.028009</td>\n",
              "      <td>0.193758</td>\n",
              "      <td>-0.184223</td>\n",
              "      <td>-0.028328</td>\n",
              "      <td>0.088717</td>\n",
              "      <td>-0.066588</td>\n",
              "      <td>0.059057</td>\n",
              "      <td>-0.085401</td>\n",
              "      <td>0.249634</td>\n",
              "      <td>0.161774</td>\n",
              "      <td>-0.061346</td>\n",
              "      <td>0.125703</td>\n",
              "      <td>1.000000</td>\n",
              "      <td>-0.302143</td>\n",
              "    </tr>\n",
              "    <tr>\n",
              "      <th>target</th>\n",
              "      <td>-0.158168</td>\n",
              "      <td>-0.342648</td>\n",
              "      <td>0.424951</td>\n",
              "      <td>-0.164402</td>\n",
              "      <td>-0.050064</td>\n",
              "      <td>-0.101547</td>\n",
              "      <td>0.043251</td>\n",
              "      <td>0.419731</td>\n",
              "      <td>-0.452258</td>\n",
              "      <td>-0.460506</td>\n",
              "      <td>0.341469</td>\n",
              "      <td>-0.429825</td>\n",
              "      <td>-0.302143</td>\n",
              "      <td>1.000000</td>\n",
              "    </tr>\n",
              "  </tbody>\n",
              "</table>\n",
              "</div>"
            ],
            "text/plain": [
              "               age       sex        cp  ...        ca      thal    target\n",
              "age       1.000000 -0.137750 -0.047924  ...  0.278502  0.028009 -0.158168\n",
              "sex      -0.137750  1.000000 -0.070390  ...  0.143038  0.193758 -0.342648\n",
              "cp       -0.047924 -0.070390  1.000000  ... -0.199994 -0.184223  0.424951\n",
              "trestbps  0.292784 -0.097475 -0.034019  ...  0.141982 -0.028328 -0.164402\n",
              "chol      0.218388 -0.192253 -0.022464  ...  0.024489  0.088717 -0.050064\n",
              "fbs       0.168401  0.027645  0.087377  ...  0.153332 -0.066588 -0.101547\n",
              "restecg  -0.026793 -0.054692  0.006994  ... -0.048096  0.059057  0.043251\n",
              "thalach  -0.396797 -0.067366  0.289873  ... -0.271226 -0.085401  0.419731\n",
              "exang     0.037814  0.204000 -0.403497  ...  0.085052  0.249634 -0.452258\n",
              "oldpeak   0.175066  0.111734 -0.192547  ...  0.276924  0.161774 -0.460506\n",
              "slope    -0.143330 -0.078436  0.116945  ... -0.143113 -0.061346  0.341469\n",
              "ca        0.278502  0.143038 -0.199994  ...  1.000000  0.125703 -0.429825\n",
              "thal      0.028009  0.193758 -0.184223  ...  0.125703  1.000000 -0.302143\n",
              "target   -0.158168 -0.342648  0.424951  ... -0.429825 -0.302143  1.000000\n",
              "\n",
              "[14 rows x 14 columns]"
            ]
          },
          "metadata": {},
          "execution_count": 37
        }
      ]
    },
    {
      "cell_type": "code",
      "metadata": {
        "colab": {
          "base_uri": "https://localhost:8080/",
          "height": 595
        },
        "id": "sNhMKJmxXRDh",
        "outputId": "498a54ab-fbde-453f-aee7-dc3e4ec8a5d1"
      },
      "source": [
        "import seaborn as sns\n",
        "#using pearson Correlation\n",
        "plt.figure(figsize=(12,10))\n",
        "cor=x_train.corr()\n",
        "sns.heatmap(cor,annot=True,cmap=plt.cm.CMRmap_r)\n",
        "plt.show()"
      ],
      "execution_count": 39,
      "outputs": [
        {
          "output_type": "display_data",
          "data": {
            "image/png": "[encoded data removed]",
            "text/plain": [
              "<Figure size 864x720 with 2 Axes>"
            ]
          },
          "metadata": {
            "needs_background": "light"
          }
        }
      ]
    },
    {
      "cell_type": "code",
      "metadata": {
        "id": "ffY-bKP3X7ci"
      },
      "source": [
        "def correlation(dataset,threshold):\n",
        "  col_corr=set() #set of all names of correlated columns\n",
        "  corr_matrix=dataset.corr()\n",
        "  for i in range(len(corr_matrix.columns)):\n",
        "      for j in range(i):\n",
        "        if abs(corr_matrix.iloc[i,j])>threshold:\n",
        "          colname=corr_matrix.columns[i]\n",
        "          col_corr.add(colname)\n",
        "  return col_corr"
      ],
      "execution_count": 43,
      "outputs": []
    },
    {
      "cell_type": "code",
      "metadata": {
        "colab": {
          "base_uri": "https://localhost:8080/"
        },
        "id": "NJjjXTl1ZHID",
        "outputId": "b02c838d-9552-4b53-80a0-8d9f6037adec"
      },
      "source": [
        "corr_features=correlation(x_train,0.6)\n",
        "len(set(corr_features))"
      ],
      "execution_count": 48,
      "outputs": [
        {
          "output_type": "execute_result",
          "data": {
            "text/plain": [
              "1"
            ]
          },
          "metadata": {},
          "execution_count": 48
        }
      ]
    },
    {
      "cell_type": "code",
      "metadata": {
        "colab": {
          "base_uri": "https://localhost:8080/"
        },
        "id": "Cn5sbOMgZpP3",
        "outputId": "35e45d92-e368-4107-d933-64256fe03d90"
      },
      "source": [
        "corr_features"
      ],
      "execution_count": 49,
      "outputs": [
        {
          "output_type": "execute_result",
          "data": {
            "text/plain": [
              "{'slope'}"
            ]
          },
          "metadata": {},
          "execution_count": 49
        }
      ]
    },
    {
      "cell_type": "code",
      "metadata": {
        "colab": {
          "base_uri": "https://localhost:8080/",
          "height": 417
        },
        "id": "U_wLXXEXZtjj",
        "outputId": "f72027d8-0d83-4f7e-e994-abe7935b82c5"
      },
      "source": [
        "x_train.drop(corr_features,axis=1)\n",
        "x_test.drop(corr_features,axis=1)"
      ],
      "execution_count": 51,
      "outputs": [
        {
          "output_type": "execute_result",
          "data": {
            "text/html": [
              "<div>\n",
              "<style scoped>\n",
              "    .dataframe tbody tr th:only-of-type {\n",
              "        vertical-align: middle;\n",
              "    }\n",
              "\n",
              "    .dataframe tbody tr th {\n",
              "        vertical-align: top;\n",
              "    }\n",
              "\n",
              "    .dataframe thead th {\n",
              "        text-align: right;\n",
              "    }\n",
              "</style>\n",
              "<table border=\"1\" class=\"dataframe\">\n",
              "  <thead>\n",
              "    <tr style=\"text-align: right;\">\n",
              "      <th></th>\n",
              "      <th>age</th>\n",
              "      <th>sex</th>\n",
              "      <th>cp</th>\n",
              "      <th>trestbps</th>\n",
              "      <th>chol</th>\n",
              "      <th>fbs</th>\n",
              "      <th>restecg</th>\n",
              "      <th>thalach</th>\n",
              "      <th>exang</th>\n",
              "      <th>oldpeak</th>\n",
              "      <th>ca</th>\n",
              "      <th>thal</th>\n",
              "      <th>target</th>\n",
              "    </tr>\n",
              "  </thead>\n",
              "  <tbody>\n",
              "    <tr>\n",
              "      <th>225</th>\n",
              "      <td>70</td>\n",
              "      <td>1</td>\n",
              "      <td>0</td>\n",
              "      <td>145</td>\n",
              "      <td>174</td>\n",
              "      <td>0</td>\n",
              "      <td>1</td>\n",
              "      <td>125</td>\n",
              "      <td>1</td>\n",
              "      <td>2.6</td>\n",
              "      <td>0</td>\n",
              "      <td>3</td>\n",
              "      <td>0</td>\n",
              "    </tr>\n",
              "    <tr>\n",
              "      <th>152</th>\n",
              "      <td>64</td>\n",
              "      <td>1</td>\n",
              "      <td>3</td>\n",
              "      <td>170</td>\n",
              "      <td>227</td>\n",
              "      <td>0</td>\n",
              "      <td>0</td>\n",
              "      <td>155</td>\n",
              "      <td>0</td>\n",
              "      <td>0.6</td>\n",
              "      <td>0</td>\n",
              "      <td>3</td>\n",
              "      <td>1</td>\n",
              "    </tr>\n",
              "    <tr>\n",
              "      <th>228</th>\n",
              "      <td>59</td>\n",
              "      <td>1</td>\n",
              "      <td>3</td>\n",
              "      <td>170</td>\n",
              "      <td>288</td>\n",
              "      <td>0</td>\n",
              "      <td>0</td>\n",
              "      <td>159</td>\n",
              "      <td>0</td>\n",
              "      <td>0.2</td>\n",
              "      <td>0</td>\n",
              "      <td>3</td>\n",
              "      <td>0</td>\n",
              "    </tr>\n",
              "    <tr>\n",
              "      <th>201</th>\n",
              "      <td>60</td>\n",
              "      <td>1</td>\n",
              "      <td>0</td>\n",
              "      <td>125</td>\n",
              "      <td>258</td>\n",
              "      <td>0</td>\n",
              "      <td>0</td>\n",
              "      <td>141</td>\n",
              "      <td>1</td>\n",
              "      <td>2.8</td>\n",
              "      <td>1</td>\n",
              "      <td>3</td>\n",
              "      <td>0</td>\n",
              "    </tr>\n",
              "    <tr>\n",
              "      <th>52</th>\n",
              "      <td>62</td>\n",
              "      <td>1</td>\n",
              "      <td>2</td>\n",
              "      <td>130</td>\n",
              "      <td>231</td>\n",
              "      <td>0</td>\n",
              "      <td>1</td>\n",
              "      <td>146</td>\n",
              "      <td>0</td>\n",
              "      <td>1.8</td>\n",
              "      <td>3</td>\n",
              "      <td>3</td>\n",
              "      <td>1</td>\n",
              "    </tr>\n",
              "    <tr>\n",
              "      <th>...</th>\n",
              "      <td>...</td>\n",
              "      <td>...</td>\n",
              "      <td>...</td>\n",
              "      <td>...</td>\n",
              "      <td>...</td>\n",
              "      <td>...</td>\n",
              "      <td>...</td>\n",
              "      <td>...</td>\n",
              "      <td>...</td>\n",
              "      <td>...</td>\n",
              "      <td>...</td>\n",
              "      <td>...</td>\n",
              "      <td>...</td>\n",
              "    </tr>\n",
              "    <tr>\n",
              "      <th>253</th>\n",
              "      <td>67</td>\n",
              "      <td>1</td>\n",
              "      <td>0</td>\n",
              "      <td>100</td>\n",
              "      <td>299</td>\n",
              "      <td>0</td>\n",
              "      <td>0</td>\n",
              "      <td>125</td>\n",
              "      <td>1</td>\n",
              "      <td>0.9</td>\n",
              "      <td>2</td>\n",
              "      <td>2</td>\n",
              "      <td>0</td>\n",
              "    </tr>\n",
              "    <tr>\n",
              "      <th>293</th>\n",
              "      <td>67</td>\n",
              "      <td>1</td>\n",
              "      <td>2</td>\n",
              "      <td>152</td>\n",
              "      <td>212</td>\n",
              "      <td>0</td>\n",
              "      <td>0</td>\n",
              "      <td>150</td>\n",
              "      <td>0</td>\n",
              "      <td>0.8</td>\n",
              "      <td>0</td>\n",
              "      <td>3</td>\n",
              "      <td>0</td>\n",
              "    </tr>\n",
              "    <tr>\n",
              "      <th>76</th>\n",
              "      <td>51</td>\n",
              "      <td>1</td>\n",
              "      <td>2</td>\n",
              "      <td>125</td>\n",
              "      <td>245</td>\n",
              "      <td>1</td>\n",
              "      <td>0</td>\n",
              "      <td>166</td>\n",
              "      <td>0</td>\n",
              "      <td>2.4</td>\n",
              "      <td>0</td>\n",
              "      <td>2</td>\n",
              "      <td>1</td>\n",
              "    </tr>\n",
              "    <tr>\n",
              "      <th>272</th>\n",
              "      <td>67</td>\n",
              "      <td>1</td>\n",
              "      <td>0</td>\n",
              "      <td>120</td>\n",
              "      <td>237</td>\n",
              "      <td>0</td>\n",
              "      <td>1</td>\n",
              "      <td>71</td>\n",
              "      <td>0</td>\n",
              "      <td>1.0</td>\n",
              "      <td>0</td>\n",
              "      <td>2</td>\n",
              "      <td>0</td>\n",
              "    </tr>\n",
              "    <tr>\n",
              "      <th>238</th>\n",
              "      <td>77</td>\n",
              "      <td>1</td>\n",
              "      <td>0</td>\n",
              "      <td>125</td>\n",
              "      <td>304</td>\n",
              "      <td>0</td>\n",
              "      <td>0</td>\n",
              "      <td>162</td>\n",
              "      <td>1</td>\n",
              "      <td>0.0</td>\n",
              "      <td>3</td>\n",
              "      <td>2</td>\n",
              "      <td>0</td>\n",
              "    </tr>\n",
              "  </tbody>\n",
              "</table>\n",
              "<p>91 rows × 13 columns</p>\n",
              "</div>"
            ],
            "text/plain": [
              "     age  sex  cp  trestbps  chol  ...  exang  oldpeak  ca  thal  target\n",
              "225   70    1   0       145   174  ...      1      2.6   0     3       0\n",
              "152   64    1   3       170   227  ...      0      0.6   0     3       1\n",
              "228   59    1   3       170   288  ...      0      0.2   0     3       0\n",
              "201   60    1   0       125   258  ...      1      2.8   1     3       0\n",
              "52    62    1   2       130   231  ...      0      1.8   3     3       1\n",
              "..   ...  ...  ..       ...   ...  ...    ...      ...  ..   ...     ...\n",
              "253   67    1   0       100   299  ...      1      0.9   2     2       0\n",
              "293   67    1   2       152   212  ...      0      0.8   0     3       0\n",
              "76    51    1   2       125   245  ...      0      2.4   0     2       1\n",
              "272   67    1   0       120   237  ...      0      1.0   0     2       0\n",
              "238   77    1   0       125   304  ...      1      0.0   3     2       0\n",
              "\n",
              "[91 rows x 13 columns]"
            ]
          },
          "metadata": {},
          "execution_count": 51
        }
      ]
    },
    {
      "cell_type": "markdown",
      "metadata": {
        "id": "Lu4RByHXOU7K"
      },
      "source": [
        "# New Section"
      ]
    }
  ]
}