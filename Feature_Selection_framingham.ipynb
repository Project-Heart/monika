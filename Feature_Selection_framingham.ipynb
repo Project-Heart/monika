{
  "nbformat": 4,
  "nbformat_minor": 5,
  "metadata": {
    "kernelspec": {
      "display_name": "Python 3",
      "language": "python",
      "name": "python3"
    },
    "language_info": {
      "codemirror_mode": {
        "name": "ipython",
        "version": 3
      },
      "file_extension": ".py",
      "mimetype": "text/x-python",
      "name": "python",
      "nbconvert_exporter": "python",
      "pygments_lexer": "ipython3",
      "version": "3.8.8"
    },
    "colab": {
      "name": "Feature Selection- framingham.ipynb",
      "provenance": []
    }
  },
  "cells": [
    {
      "cell_type": "code",
      "metadata": {
        "colab": {
          "base_uri": "https://localhost:8080/"
        },
        "id": "668dc485",
        "outputId": "80069f7a-8991-4781-9fcd-39ae2044edf0"
      },
      "source": [
        "print(\"Team - 5\")\n",
        "print(\"Project Name - Heart Disease Prediction System.\")\n",
        "print(\"Module - Preprocessing, Data Cleaning and Exploratory Data Analysis.\")\n",
        "print(\"Dataset used - \\'framingham.csv'\")"
      ],
      "id": "668dc485",
      "execution_count": null,
      "outputs": [
        {
          "output_type": "stream",
          "name": "stdout",
          "text": [
            "Team - 5\n",
            "Project Name - Heart Disease Prediction System.\n",
            "Module - Preprocessing, Data Cleaning and Exploratory Data Analysis.\n",
            "Dataset used - 'framingham.csv'\n"
          ]
        }
      ]
    },
    {
      "cell_type": "code",
      "metadata": {
        "id": "e3ee1df0"
      },
      "source": [
        "import pandas as pd\n",
        "import numpy as np\n",
        "import matplotlib.pyplot as plt\n",
        "import seaborn as sns\n",
        "from sklearn.preprocessing import StandardScaler\n",
        "from sklearn.metrics import accuracy_score\n",
        "from sklearn.metrics import confusion_matrix\n",
        "from sklearn.metrics import f1_score\n",
        "from sklearn.model_selection import train_test_split\n",
        "import warnings\n",
        "warnings.filterwarnings('ignore')\n",
        "import sklearn.neighbors\n",
        "from sklearn.neighbors import KNeighborsClassifier"
      ],
      "id": "e3ee1df0",
      "execution_count": null,
      "outputs": []
    },
    {
      "cell_type": "code",
      "metadata": {
        "colab": {
          "resources": {
            "http://localhost:8080/nbextensions/google.colab/files.js": {
              "data": "Ly8gQ29weXJpZ2h0IDIwMTcgR29vZ2xlIExMQwovLwovLyBMaWNlbnNlZCB1bmRlciB0aGUgQXBhY2hlIExpY2Vuc2UsIFZlcnNpb24gMi4wICh0aGUgIkxpY2Vuc2UiKTsKLy8geW91IG1heSBub3QgdXNlIHRoaXMgZmlsZSBleGNlcHQgaW4gY29tcGxpYW5jZSB3aXRoIHRoZSBMaWNlbnNlLgovLyBZb3UgbWF5IG9idGFpbiBhIGNvcHkgb2YgdGhlIExpY2Vuc2UgYXQKLy8KLy8gICAgICBodHRwOi8vd3d3LmFwYWNoZS5vcmcvbGljZW5zZXMvTElDRU5TRS0yLjAKLy8KLy8gVW5sZXNzIHJlcXVpcmVkIGJ5IGFwcGxpY2FibGUgbGF3IG9yIGFncmVlZCB0byBpbiB3cml0aW5nLCBzb2Z0d2FyZQovLyBkaXN0cmlidXRlZCB1bmRlciB0aGUgTGljZW5zZSBpcyBkaXN0cmlidXRlZCBvbiBhbiAiQVMgSVMiIEJBU0lTLAovLyBXSVRIT1VUIFdBUlJBTlRJRVMgT1IgQ09ORElUSU9OUyBPRiBBTlkgS0lORCwgZWl0aGVyIGV4cHJlc3Mgb3IgaW1wbGllZC4KLy8gU2VlIHRoZSBMaWNlbnNlIGZvciB0aGUgc3BlY2lmaWMgbGFuZ3VhZ2UgZ292ZXJuaW5nIHBlcm1pc3Npb25zIGFuZAovLyBsaW1pdGF0aW9ucyB1bmRlciB0aGUgTGljZW5zZS4KCi8qKgogKiBAZmlsZW92ZXJ2aWV3IEhlbHBlcnMgZm9yIGdvb2dsZS5jb2xhYiBQeXRob24gbW9kdWxlLgogKi8KKGZ1bmN0aW9uKHNjb3BlKSB7CmZ1bmN0aW9uIHNwYW4odGV4dCwgc3R5bGVBdHRyaWJ1dGVzID0ge30pIHsKICBjb25zdCBlbGVtZW50ID0gZG9jdW1lbnQuY3JlYXRlRWxlbWVudCgnc3BhbicpOwogIGVsZW1lbnQudGV4dENvbnRlbnQgPSB0ZXh0OwogIGZvciAoY29uc3Qga2V5IG9mIE9iamVjdC5rZXlzKHN0eWxlQXR0cmlidXRlcykpIHsKICAgIGVsZW1lbnQuc3R5bGVba2V5XSA9IHN0eWxlQXR0cmlidXRlc1trZXldOwogIH0KICByZXR1cm4gZWxlbWVudDsKfQoKLy8gTWF4IG51bWJlciBvZiBieXRlcyB3aGljaCB3aWxsIGJlIHVwbG9hZGVkIGF0IGEgdGltZS4KY29uc3QgTUFYX1BBWUxPQURfU0laRSA9IDEwMCAqIDEwMjQ7CgpmdW5jdGlvbiBfdXBsb2FkRmlsZXMoaW5wdXRJZCwgb3V0cHV0SWQpIHsKICBjb25zdCBzdGVwcyA9IHVwbG9hZEZpbGVzU3RlcChpbnB1dElkLCBvdXRwdXRJZCk7CiAgY29uc3Qgb3V0cHV0RWxlbWVudCA9IGRvY3VtZW50LmdldEVsZW1lbnRCeUlkKG91dHB1dElkKTsKICAvLyBDYWNoZSBzdGVwcyBvbiB0aGUgb3V0cHV0RWxlbWVudCB0byBtYWtlIGl0IGF2YWlsYWJsZSBmb3IgdGhlIG5leHQgY2FsbAogIC8vIHRvIHVwbG9hZEZpbGVzQ29udGludWUgZnJvbSBQeXRob24uCiAgb3V0cHV0RWxlbWVudC5zdGVwcyA9IHN0ZXBzOwoKICByZXR1cm4gX3VwbG9hZEZpbGVzQ29udGludWUob3V0cHV0SWQpOwp9CgovLyBUaGlzIGlzIHJvdWdobHkgYW4gYXN5bmMgZ2VuZXJhdG9yIChub3Qgc3VwcG9ydGVkIGluIHRoZSBicm93c2VyIHlldCksCi8vIHdoZXJlIHRoZXJlIGFyZSBtdWx0aXBsZSBhc3luY2hyb25vdXMgc3RlcHMgYW5kIHRoZSBQeXRob24gc2lkZSBpcyBnb2luZwovLyB0byBwb2xsIGZvciBjb21wbGV0aW9uIG9mIGVhY2ggc3RlcC4KLy8gVGhpcyB1c2VzIGEgUHJvbWlzZSB0byBibG9jayB0aGUgcHl0aG9uIHNpZGUgb24gY29tcGxldGlvbiBvZiBlYWNoIHN0ZXAsCi8vIHRoZW4gcGFzc2VzIHRoZSByZXN1bHQgb2YgdGhlIHByZXZpb3VzIHN0ZXAgYXMgdGhlIGlucHV0IHRvIHRoZSBuZXh0IHN0ZXAuCmZ1bmN0aW9uIF91cGxvYWRGaWxlc0NvbnRpbnVlKG91dHB1dElkKSB7CiAgY29uc3Qgb3V0cHV0RWxlbWVudCA9IGRvY3VtZW50LmdldEVsZW1lbnRCeUlkKG91dHB1dElkKTsKICBjb25zdCBzdGVwcyA9IG91dHB1dEVsZW1lbnQuc3RlcHM7CgogIGNvbnN0IG5leHQgPSBzdGVwcy5uZXh0KG91dHB1dEVsZW1lbnQubGFzdFByb21pc2VWYWx1ZSk7CiAgcmV0dXJuIFByb21pc2UucmVzb2x2ZShuZXh0LnZhbHVlLnByb21pc2UpLnRoZW4oKHZhbHVlKSA9PiB7CiAgICAvLyBDYWNoZSB0aGUgbGFzdCBwcm9taXNlIHZhbHVlIHRvIG1ha2UgaXQgYXZhaWxhYmxlIHRvIHRoZSBuZXh0CiAgICAvLyBzdGVwIG9mIHRoZSBnZW5lcmF0b3IuCiAgICBvdXRwdXRFbGVtZW50Lmxhc3RQcm9taXNlVmFsdWUgPSB2YWx1ZTsKICAgIHJldHVybiBuZXh0LnZhbHVlLnJlc3BvbnNlOwogIH0pOwp9CgovKioKICogR2VuZXJhdG9yIGZ1bmN0aW9uIHdoaWNoIGlzIGNhbGxlZCBiZXR3ZWVuIGVhY2ggYXN5bmMgc3RlcCBvZiB0aGUgdXBsb2FkCiAqIHByb2Nlc3MuCiAqIEBwYXJhbSB7c3RyaW5nfSBpbnB1dElkIEVsZW1lbnQgSUQgb2YgdGhlIGlucHV0IGZpbGUgcGlja2VyIGVsZW1lbnQuCiAqIEBwYXJhbSB7c3RyaW5nfSBvdXRwdXRJZCBFbGVtZW50IElEIG9mIHRoZSBvdXRwdXQgZGlzcGxheS4KICogQHJldHVybiB7IUl0ZXJhYmxlPCFPYmplY3Q+fSBJdGVyYWJsZSBvZiBuZXh0IHN0ZXBzLgogKi8KZnVuY3Rpb24qIHVwbG9hZEZpbGVzU3RlcChpbnB1dElkLCBvdXRwdXRJZCkgewogIGNvbnN0IGlucHV0RWxlbWVudCA9IGRvY3VtZW50LmdldEVsZW1lbnRCeUlkKGlucHV0SWQpOwogIGlucHV0RWxlbWVudC5kaXNhYmxlZCA9IGZhbHNlOwoKICBjb25zdCBvdXRwdXRFbGVtZW50ID0gZG9jdW1lbnQuZ2V0RWxlbWVudEJ5SWQob3V0cHV0SWQpOwogIG91dHB1dEVsZW1lbnQuaW5uZXJIVE1MID0gJyc7CgogIGNvbnN0IHBpY2tlZFByb21pc2UgPSBuZXcgUHJvbWlzZSgocmVzb2x2ZSkgPT4gewogICAgaW5wdXRFbGVtZW50LmFkZEV2ZW50TGlzdGVuZXIoJ2NoYW5nZScsIChlKSA9PiB7CiAgICAgIHJlc29sdmUoZS50YXJnZXQuZmlsZXMpOwogICAgfSk7CiAgfSk7CgogIGNvbnN0IGNhbmNlbCA9IGRvY3VtZW50LmNyZWF0ZUVsZW1lbnQoJ2J1dHRvbicpOwogIGlucHV0RWxlbWVudC5wYXJlbnRFbGVtZW50LmFwcGVuZENoaWxkKGNhbmNlbCk7CiAgY2FuY2VsLnRleHRDb250ZW50ID0gJ0NhbmNlbCB1cGxvYWQnOwogIGNvbnN0IGNhbmNlbFByb21pc2UgPSBuZXcgUHJvbWlzZSgocmVzb2x2ZSkgPT4gewogICAgY2FuY2VsLm9uY2xpY2sgPSAoKSA9PiB7CiAgICAgIHJlc29sdmUobnVsbCk7CiAgICB9OwogIH0pOwoKICAvLyBXYWl0IGZvciB0aGUgdXNlciB0byBwaWNrIHRoZSBmaWxlcy4KICBjb25zdCBmaWxlcyA9IHlpZWxkIHsKICAgIHByb21pc2U6IFByb21pc2UucmFjZShbcGlja2VkUHJvbWlzZSwgY2FuY2VsUHJvbWlzZV0pLAogICAgcmVzcG9uc2U6IHsKICAgICAgYWN0aW9uOiAnc3RhcnRpbmcnLAogICAgfQogIH07CgogIGNhbmNlbC5yZW1vdmUoKTsKCiAgLy8gRGlzYWJsZSB0aGUgaW5wdXQgZWxlbWVudCBzaW5jZSBmdXJ0aGVyIHBpY2tzIGFyZSBub3QgYWxsb3dlZC4KICBpbnB1dEVsZW1lbnQuZGlzYWJsZWQgPSB0cnVlOwoKICBpZiAoIWZpbGVzKSB7CiAgICByZXR1cm4gewogICAgICByZXNwb25zZTogewogICAgICAgIGFjdGlvbjogJ2NvbXBsZXRlJywKICAgICAgfQogICAgfTsKICB9CgogIGZvciAoY29uc3QgZmlsZSBvZiBmaWxlcykgewogICAgY29uc3QgbGkgPSBkb2N1bWVudC5jcmVhdGVFbGVtZW50KCdsaScpOwogICAgbGkuYXBwZW5kKHNwYW4oZmlsZS5uYW1lLCB7Zm9udFdlaWdodDogJ2JvbGQnfSkpOwogICAgbGkuYXBwZW5kKHNwYW4oCiAgICAgICAgYCgke2ZpbGUudHlwZSB8fCAnbi9hJ30pIC0gJHtmaWxlLnNpemV9IGJ5dGVzLCBgICsKICAgICAgICBgbGFzdCBtb2RpZmllZDogJHsKICAgICAgICAgICAgZmlsZS5sYXN0TW9kaWZpZWREYXRlID8gZmlsZS5sYXN0TW9kaWZpZWREYXRlLnRvTG9jYWxlRGF0ZVN0cmluZygpIDoKICAgICAgICAgICAgICAgICAgICAgICAgICAgICAgICAgICAgJ24vYSd9IC0gYCkpOwogICAgY29uc3QgcGVyY2VudCA9IHNwYW4oJzAlIGRvbmUnKTsKICAgIGxpLmFwcGVuZENoaWxkKHBlcmNlbnQpOwoKICAgIG91dHB1dEVsZW1lbnQuYXBwZW5kQ2hpbGQobGkpOwoKICAgIGNvbnN0IGZpbGVEYXRhUHJvbWlzZSA9IG5ldyBQcm9taXNlKChyZXNvbHZlKSA9PiB7CiAgICAgIGNvbnN0IHJlYWRlciA9IG5ldyBGaWxlUmVhZGVyKCk7CiAgICAgIHJlYWRlci5vbmxvYWQgPSAoZSkgPT4gewogICAgICAgIHJlc29sdmUoZS50YXJnZXQucmVzdWx0KTsKICAgICAgfTsKICAgICAgcmVhZGVyLnJlYWRBc0FycmF5QnVmZmVyKGZpbGUpOwogICAgfSk7CiAgICAvLyBXYWl0IGZvciB0aGUgZGF0YSB0byBiZSByZWFkeS4KICAgIGxldCBmaWxlRGF0YSA9IHlpZWxkIHsKICAgICAgcHJvbWlzZTogZmlsZURhdGFQcm9taXNlLAogICAgICByZXNwb25zZTogewogICAgICAgIGFjdGlvbjogJ2NvbnRpbnVlJywKICAgICAgfQogICAgfTsKCiAgICAvLyBVc2UgYSBjaHVua2VkIHNlbmRpbmcgdG8gYXZvaWQgbWVzc2FnZSBzaXplIGxpbWl0cy4gU2VlIGIvNjIxMTU2NjAuCiAgICBsZXQgcG9zaXRpb24gPSAwOwogICAgZG8gewogICAgICBjb25zdCBsZW5ndGggPSBNYXRoLm1pbihmaWxlRGF0YS5ieXRlTGVuZ3RoIC0gcG9zaXRpb24sIE1BWF9QQVlMT0FEX1NJWkUpOwogICAgICBjb25zdCBjaHVuayA9IG5ldyBVaW50OEFycmF5KGZpbGVEYXRhLCBwb3NpdGlvbiwgbGVuZ3RoKTsKICAgICAgcG9zaXRpb24gKz0gbGVuZ3RoOwoKICAgICAgY29uc3QgYmFzZTY0ID0gYnRvYShTdHJpbmcuZnJvbUNoYXJDb2RlLmFwcGx5KG51bGwsIGNodW5rKSk7CiAgICAgIHlpZWxkIHsKICAgICAgICByZXNwb25zZTogewogICAgICAgICAgYWN0aW9uOiAnYXBwZW5kJywKICAgICAgICAgIGZpbGU6IGZpbGUubmFtZSwKICAgICAgICAgIGRhdGE6IGJhc2U2NCwKICAgICAgICB9LAogICAgICB9OwoKICAgICAgbGV0IHBlcmNlbnREb25lID0gZmlsZURhdGEuYnl0ZUxlbmd0aCA9PT0gMCA/CiAgICAgICAgICAxMDAgOgogICAgICAgICAgTWF0aC5yb3VuZCgocG9zaXRpb24gLyBmaWxlRGF0YS5ieXRlTGVuZ3RoKSAqIDEwMCk7CiAgICAgIHBlcmNlbnQudGV4dENvbnRlbnQgPSBgJHtwZXJjZW50RG9uZX0lIGRvbmVgOwoKICAgIH0gd2hpbGUgKHBvc2l0aW9uIDwgZmlsZURhdGEuYnl0ZUxlbmd0aCk7CiAgfQoKICAvLyBBbGwgZG9uZS4KICB5aWVsZCB7CiAgICByZXNwb25zZTogewogICAgICBhY3Rpb246ICdjb21wbGV0ZScsCiAgICB9CiAgfTsKfQoKc2NvcGUuZ29vZ2xlID0gc2NvcGUuZ29vZ2xlIHx8IHt9OwpzY29wZS5nb29nbGUuY29sYWIgPSBzY29wZS5nb29nbGUuY29sYWIgfHwge307CnNjb3BlLmdvb2dsZS5jb2xhYi5fZmlsZXMgPSB7CiAgX3VwbG9hZEZpbGVzLAogIF91cGxvYWRGaWxlc0NvbnRpbnVlLAp9Owp9KShzZWxmKTsK",
              "ok": true,
              "headers": [
                [
                  "content-type",
                  "application/javascript"
                ]
              ],
              "status": 200,
              "status_text": ""
            }
          },
          "base_uri": "https://localhost:8080/",
          "height": 73
        },
        "id": "fee6daf2",
        "outputId": "b05575b5-68ee-44a2-e3f7-52fd47ace977"
      },
      "source": [
        "from google.colab import files\n",
        "uploaded=files.upload()"
      ],
      "id": "fee6daf2",
      "execution_count": null,
      "outputs": [
        {
          "output_type": "display_data",
          "data": {
            "text/html": [
              "\n",
              "     <input type=\"file\" id=\"files-ca139e2f-3490-4401-b8aa-fadc41989b7a\" name=\"files[]\" multiple disabled\n",
              "        style=\"border:none\" />\n",
              "     <output id=\"result-ca139e2f-3490-4401-b8aa-fadc41989b7a\">\n",
              "      Upload widget is only available when the cell has been executed in the\n",
              "      current browser session. Please rerun this cell to enable.\n",
              "      </output>\n",
              "      <script src=\"/nbextensions/google.colab/files.js\"></script> "
            ],
            "text/plain": [
              "<IPython.core.display.HTML object>"
            ]
          },
          "metadata": {}
        },
        {
          "output_type": "stream",
          "name": "stdout",
          "text": [
            "Saving framingham.csv to framingham.csv\n"
          ]
        }
      ]
    },
    {
      "cell_type": "code",
      "metadata": {
        "id": "WvOrD62fa8gK"
      },
      "source": [
        "data=pd.read_csv(r\"framingham.csv\")"
      ],
      "id": "WvOrD62fa8gK",
      "execution_count": null,
      "outputs": []
    },
    {
      "cell_type": "code",
      "metadata": {
        "colab": {
          "base_uri": "https://localhost:8080/"
        },
        "id": "db23739f",
        "outputId": "46c17035-cba7-48c4-af40-80103958afad"
      },
      "source": [
        "print(data.head())"
      ],
      "id": "db23739f",
      "execution_count": null,
      "outputs": [
        {
          "output_type": "stream",
          "name": "stdout",
          "text": [
            "   male  age  education  currentSmoker  ...    BMI  heartRate  glucose  TenYearCHD\n",
            "0     1   39        4.0              0  ...  26.97       80.0     77.0           0\n",
            "1     0   46        2.0              0  ...  28.73       95.0     76.0           0\n",
            "2     1   48        1.0              1  ...  25.34       75.0     70.0           0\n",
            "3     0   61        3.0              1  ...  28.58       65.0    103.0           1\n",
            "4     0   46        3.0              1  ...  23.10       85.0     85.0           0\n",
            "\n",
            "[5 rows x 16 columns]\n"
          ]
        }
      ]
    },
    {
      "cell_type": "code",
      "metadata": {
        "colab": {
          "base_uri": "https://localhost:8080/"
        },
        "id": "01bd3d80",
        "outputId": "3d0ea89c-dbc1-4e31-a199-e6fcc0c456b4"
      },
      "source": [
        "x=data.iloc[:,0:16].values\n",
        "y=data.iloc[:,5].values\n",
        "print(x)\n",
        "print(y)"
      ],
      "id": "01bd3d80",
      "execution_count": null,
      "outputs": [
        {
          "output_type": "stream",
          "name": "stdout",
          "text": [
            "[[  1.  39.   4. ...  80.  77.   0.]\n",
            " [  0.  46.   2. ...  95.  76.   0.]\n",
            " [  1.  48.   1. ...  75.  70.   0.]\n",
            " ...\n",
            " [  0.  48.   2. ...  84.  86.   0.]\n",
            " [  0.  44.   1. ...  86.  nan   0.]\n",
            " [  0.  52.   2. ...  80. 107.   0.]]\n",
            "[ 0.  0.  0. ... nan  0.  0.]\n"
          ]
        }
      ]
    },
    {
      "cell_type": "code",
      "metadata": {
        "colab": {
          "base_uri": "https://localhost:8080/"
        },
        "id": "a1b6dbe3",
        "outputId": "5dd4b0a1-b81d-47d8-a446-8c84b87ae6b4"
      },
      "source": [
        "print(data.describe())"
      ],
      "id": "a1b6dbe3",
      "execution_count": null,
      "outputs": [
        {
          "output_type": "stream",
          "name": "stdout",
          "text": [
            "              male          age  ...      glucose   TenYearCHD\n",
            "count  4238.000000  4238.000000  ...  3850.000000  4238.000000\n",
            "mean      0.429212    49.584946  ...    81.966753     0.151958\n",
            "std       0.495022     8.572160  ...    23.959998     0.359023\n",
            "min       0.000000    32.000000  ...    40.000000     0.000000\n",
            "25%       0.000000    42.000000  ...    71.000000     0.000000\n",
            "50%       0.000000    49.000000  ...    78.000000     0.000000\n",
            "75%       1.000000    56.000000  ...    87.000000     0.000000\n",
            "max       1.000000    70.000000  ...   394.000000     1.000000\n",
            "\n",
            "[8 rows x 16 columns]\n"
          ]
        }
      ]
    },
    {
      "cell_type": "code",
      "metadata": {
        "colab": {
          "base_uri": "https://localhost:8080/"
        },
        "id": "e81fb3a9",
        "outputId": "47fdbeef-36f3-4909-f79d-850a4a61cdd3"
      },
      "source": [
        "print(data.shape)"
      ],
      "id": "e81fb3a9",
      "execution_count": null,
      "outputs": [
        {
          "output_type": "stream",
          "name": "stdout",
          "text": [
            "(4238, 16)\n"
          ]
        }
      ]
    },
    {
      "cell_type": "code",
      "metadata": {
        "colab": {
          "base_uri": "https://localhost:8080/"
        },
        "id": "870d55ee",
        "outputId": "39b75394-afb6-4056-c51f-98b9a5e72ce5"
      },
      "source": [
        "# Checking for the missing values.\n",
        "data.isnull().values.any()"
      ],
      "id": "870d55ee",
      "execution_count": null,
      "outputs": [
        {
          "output_type": "execute_result",
          "data": {
            "text/plain": [
              "True"
            ]
          },
          "metadata": {},
          "execution_count": 10
        }
      ]
    },
    {
      "cell_type": "code",
      "metadata": {
        "colab": {
          "base_uri": "https://localhost:8080/"
        },
        "id": "45a43af2",
        "outputId": "db7a4f9a-502a-4f8d-ae42-6bd959424227"
      },
      "source": [
        "missing_value_count_by_column=(data.isnull().sum())\n",
        "print(missing_value_count_by_column[missing_value_count_by_column>0])"
      ],
      "id": "45a43af2",
      "execution_count": null,
      "outputs": [
        {
          "output_type": "stream",
          "name": "stdout",
          "text": [
            "education     105\n",
            "cigsPerDay     29\n",
            "BPMeds         53\n",
            "totChol        50\n",
            "BMI            19\n",
            "heartRate       1\n",
            "glucose       388\n",
            "dtype: int64\n"
          ]
        }
      ]
    },
    {
      "cell_type": "code",
      "metadata": {
        "id": "1d8ac176"
      },
      "source": [
        "#Dropping columns with missing values\n",
        "#data_without_missing_values=data.dropna(axis=1)\n",
        "cols_with_missing=[col for col in data.columns if data[col].isnull().any()]\n",
        "reduced_original_data=data.drop(cols_with_missing,axis=1)\n",
        "reduced_test_data=data.drop(cols_with_missing,axis=1)"
      ],
      "id": "1d8ac176",
      "execution_count": null,
      "outputs": []
    },
    {
      "cell_type": "code",
      "metadata": {
        "id": "98456117"
      },
      "source": [
        "from sklearn.impute import SimpleImputer\n",
        "my_imputer=SimpleImputer()\n",
        "data_with_imputed_values=my_imputer.fit_transform(data)"
      ],
      "id": "98456117",
      "execution_count": null,
      "outputs": []
    },
    {
      "cell_type": "code",
      "metadata": {
        "colab": {
          "base_uri": "https://localhost:8080/"
        },
        "id": "55c7689b",
        "outputId": "16634aa5-9d53-438a-d8b3-5d2825b33217"
      },
      "source": [
        "#Catgorical data  \n",
        "#for Country Variable  \n",
        "from sklearn.preprocessing import LabelEncoder  \n",
        "label_encoder_x= LabelEncoder()  \n",
        "x[:, 0]= label_encoder_x.fit_transform(x[:, 0]) \n",
        "print(x)"
      ],
      "id": "55c7689b",
      "execution_count": null,
      "outputs": [
        {
          "output_type": "stream",
          "name": "stdout",
          "text": [
            "[[  1.  39.   4. ...  80.  77.   0.]\n",
            " [  0.  46.   2. ...  95.  76.   0.]\n",
            " [  1.  48.   1. ...  75.  70.   0.]\n",
            " ...\n",
            " [  0.  48.   2. ...  84.  86.   0.]\n",
            " [  0.  44.   1. ...  86.  nan   0.]\n",
            " [  0.  52.   2. ...  80. 107.   0.]]\n"
          ]
        }
      ]
    },
    {
      "cell_type": "code",
      "metadata": {
        "colab": {
          "base_uri": "https://localhost:8080/"
        },
        "id": "8531c578",
        "outputId": "6f7b6ab8-5090-4c08-84ce-e36b378956c3"
      },
      "source": [
        "labelencoder_y= LabelEncoder()  \n",
        "y= labelencoder_y.fit_transform(y)  \n",
        "print(y)"
      ],
      "id": "8531c578",
      "execution_count": null,
      "outputs": [
        {
          "output_type": "stream",
          "name": "stdout",
          "text": [
            "[0 0 0 ... 3 0 0]\n"
          ]
        }
      ]
    },
    {
      "cell_type": "code",
      "metadata": {
        "id": "98c5c46e"
      },
      "source": [
        "from sklearn.model_selection import train_test_split  \n",
        "x_train, x_test, y_train, y_test= train_test_split(x, y, test_size= 0.2, random_state=0)  "
      ],
      "id": "98c5c46e",
      "execution_count": null,
      "outputs": []
    },
    {
      "cell_type": "code",
      "metadata": {
        "colab": {
          "base_uri": "https://localhost:8080/"
        },
        "id": "545de6cf",
        "outputId": "da570abb-4e41-45ac-a7b5-1f8e345bb10b"
      },
      "source": [
        "print(x_train)"
      ],
      "id": "545de6cf",
      "execution_count": null,
      "outputs": [
        {
          "output_type": "stream",
          "name": "stdout",
          "text": [
            "[[  1.  63.   1. ...  75. 120.   0.]\n",
            " [  1.  52.   1. ...  66.  77.   0.]\n",
            " [  1.  38.   2. ...  76.  75.   0.]\n",
            " ...\n",
            " [  1.  39.   3. ...  70.  81.   0.]\n",
            " [  0.  57.   1. ...  75.  81.   0.]\n",
            " [  0.  40.   2. ...  75.  73.   0.]]\n"
          ]
        }
      ]
    },
    {
      "cell_type": "code",
      "metadata": {
        "colab": {
          "base_uri": "https://localhost:8080/"
        },
        "id": "5d516235",
        "outputId": "d6f1973b-52ff-40a1-d365-87138cb6781c"
      },
      "source": [
        "print(x_test)"
      ],
      "id": "5d516235",
      "execution_count": null,
      "outputs": [
        {
          "output_type": "stream",
          "name": "stdout",
          "text": [
            "[[  0.  47.   1. ...  75.  62.   0.]\n",
            " [  0.  58.   2. ...  60.  73.   0.]\n",
            " [  0.  61.   2. ...  57.  78.   0.]\n",
            " ...\n",
            " [  1.  50.   3. ...  88.  77.   0.]\n",
            " [  1.  45.   4. ...  83. 105.   0.]\n",
            " [  0.  50.   1. ...  63.  75.   0.]]\n"
          ]
        }
      ]
    },
    {
      "cell_type": "code",
      "metadata": {
        "colab": {
          "base_uri": "https://localhost:8080/"
        },
        "id": "21e91da7",
        "outputId": "6571e3a3-99a5-478c-fce6-865675c51589"
      },
      "source": [
        "print(y_train)"
      ],
      "id": "21e91da7",
      "execution_count": null,
      "outputs": [
        {
          "output_type": "stream",
          "name": "stdout",
          "text": [
            "[0 0 0 ... 0 0 0]\n"
          ]
        }
      ]
    },
    {
      "cell_type": "code",
      "metadata": {
        "colab": {
          "base_uri": "https://localhost:8080/"
        },
        "id": "b6ea260c",
        "outputId": "68311390-2348-4eb4-8876-c198f28d92e2"
      },
      "source": [
        "print(y_test)"
      ],
      "id": "b6ea260c",
      "execution_count": null,
      "outputs": [
        {
          "output_type": "stream",
          "name": "stdout",
          "text": [
            "[ 0  0  0  0  0  0  0  0  0  0  0  0  0  0  0  0  0  0  0  0  0  0  0  0\n",
            "  0  0  0  0  0  0  0  0  0  0  0  0  0  0  0  0  0  0  0  0  0  0  0  0\n",
            "  0  0  0  0  0  0  0  0  0  0  0  0  0  0  0  0  0  0  0  0  0  0  0  0\n",
            "  0  0  0  0  0  0  0  0  0  0  0  0  0  0  0  0  0  0  0  0  0  0  0  0\n",
            "  0  0  0  0  0  0  0  0  0  0  0  0  0  0  0  0  0  1  0  0  0  0  0  0\n",
            "  0  0  0  0  0  0  0  0  0  0  0  0  0  0  0  0  0  0  0  0  0  0  0  0\n",
            "  1  0  0  0  0  0  0  0  0  0  0  0  0  0  0  0  0  0  0  0  1  0  0  0\n",
            "  0  0  0  0  0  0  0  0  0  0  0  0  0  0  0  0  0  0  0  0 43  0  0  0\n",
            "  0  0  0  0  0  0  0  0  0  0  0  0  0  0  0  0  0  0  0  0  0  0  0  0\n",
            "  0  0  0  0  0  0  0 51  1  1  0  0  0  0  0  0  0  0  0  0  0  0  0  0\n",
            "  0  0  1  0  0  0  0  0  0  0  0  0  0  0  0  0  0  0  0  0  0  0  0  0\n",
            "  0 12  0  0  0  0  0  0  0  0  0  0  0  0  0  0  0  0  0  0  0  0  0  0\n",
            "  0  0  0  0  0  0  1  0  0  0  0  0  0  0  0  0  0  0  0  0  0  0  0 11\n",
            "  0  0  0  0  0  0  0  0  1  0  0  0  0  1  0  0  0  0  0  0  0  0  0  0\n",
            "  0  0  0  0  0  0  0  0  0  0  0  0  0  0  0  0  0  0  0  0  0  0  0  0\n",
            "  0  0  0  1  0  0  0  0  0  0  0  0  0  0  0  0  0  0  0  0  0  0  0  0\n",
            "  1  0  0  0  0  0  0  0  0  0  0  0  1  0  0  0  0  0  0  0  0  0  0  0\n",
            "  0  0  0  0  0  0  0  0  0  0  0  0  0  1  0  0  0  0  0  0  0  0  0  0\n",
            "  1  0  0  0  0  0  0  0  0  0  0  0  0  0  0  0  0  0  0  0  0  0  0  0\n",
            "  0  0  0  0  0  0  0  0  0  0  0  0  0  0  0  0  0  0  0  0  0  0  0  0\n",
            "  0  0  0  0  0  0  0  0  0  0  0  0  0  0  0  0  0  0  0  0  0  0  0  0\n",
            "  0  0  0  0 10  0  0  0  0  0  0  0  0  0  0  0  0  0  0  0  0  0  0  0\n",
            "  0  1  0  0  0  0  0  0  0  0  0  0  0  0  0  0  0  0  0  0  0  0  0  0\n",
            "  0  0  0  0  0  0  0  0  0  0  0  0  0  0  0  1  0  0  0  0  0  0  0  0\n",
            "  0  0  0  0  4  0  0  0  0  0  0  0  0  0  0  0  0  0  0  0  0  0  0  0\n",
            "  0  0  1  0  0  0  0  0 45  1  1  0  0  0  0  0  0  0  0  0  0  0  0  0\n",
            "  0  0  0  0  0 19  0  0  0  0  0  0  0  0  0  0  0  1  0  0  0  0  0  0\n",
            "  0  0  0  0  0  0  0  0  0  0  0  0  0 22  0  0  0  0  0  0  0  0  0  0\n",
            "  0  0  0  0  0  0  0  0  0  0  0  0  0  0  0  0  0  0  0  0  0  0  0  0\n",
            "  0  0  0  0  0  0  0  0  0  1  0  0  0  0  0  0  0  0  0  0  0  0  0  0\n",
            "  0  0  0  0  0  0  0  0  0  0  0  0  0  0  0  0  0  0  0  0 24  0  0  0\n",
            "  0  0  0  0  0  0  0  0  0  0  0  0  0  0  0  0  0  0  0  0  0  0  0  0\n",
            "  1  0  0  0  1  0  0  0  1  0  0  0  0  0  0  0  0  0  0  1  0  0  0  0\n",
            "  0  0  0  0  0  0  0  0  0  0  0  0  0  0  0  0  0  0  0  0  0  0  0  0\n",
            "  0  0  0  0  0  0  0  0  0  0  0  0  0  0  0  0  0  0  0  0  1  0  0  0\n",
            "  0  1  1  8  0  0  0  0]\n"
          ]
        }
      ]
    },
    {
      "cell_type": "code",
      "metadata": {
        "id": "c7e1149f"
      },
      "source": [
        "#To fill in missing values by their mean values\n",
        "data.fillna(data.mean(),inplace=True)"
      ],
      "id": "c7e1149f",
      "execution_count": null,
      "outputs": []
    },
    {
      "cell_type": "code",
      "metadata": {
        "colab": {
          "base_uri": "https://localhost:8080/"
        },
        "id": "dbf87887",
        "outputId": "54cf53b9-7119-447a-fddf-26e7a6289836"
      },
      "source": [
        "print(data)"
      ],
      "id": "dbf87887",
      "execution_count": null,
      "outputs": [
        {
          "output_type": "stream",
          "name": "stdout",
          "text": [
            "      male  age  education  ...  heartRate     glucose  TenYearCHD\n",
            "0        1   39        4.0  ...       80.0   77.000000           0\n",
            "1        0   46        2.0  ...       95.0   76.000000           0\n",
            "2        1   48        1.0  ...       75.0   70.000000           0\n",
            "3        0   61        3.0  ...       65.0  103.000000           1\n",
            "4        0   46        3.0  ...       85.0   85.000000           0\n",
            "...    ...  ...        ...  ...        ...         ...         ...\n",
            "4233     1   50        1.0  ...       66.0   86.000000           1\n",
            "4234     1   51        3.0  ...       65.0   68.000000           0\n",
            "4235     0   48        2.0  ...       84.0   86.000000           0\n",
            "4236     0   44        1.0  ...       86.0   81.966753           0\n",
            "4237     0   52        2.0  ...       80.0  107.000000           0\n",
            "\n",
            "[4238 rows x 16 columns]\n"
          ]
        }
      ]
    },
    {
      "cell_type": "code",
      "metadata": {
        "colab": {
          "base_uri": "https://localhost:8080/"
        },
        "id": "21695254",
        "outputId": "8b85787a-a3ff-46b5-f3ba-167e5291e462"
      },
      "source": [
        "# Checking for the imbalanced data based on age.\n",
        "data['age'].value_counts()"
      ],
      "id": "21695254",
      "execution_count": null,
      "outputs": [
        {
          "output_type": "execute_result",
          "data": {
            "text/plain": [
              "40    191\n",
              "46    182\n",
              "42    180\n",
              "41    174\n",
              "48    173\n",
              "39    169\n",
              "44    166\n",
              "45    162\n",
              "43    159\n",
              "52    149\n",
              "51    146\n",
              "55    145\n",
              "38    144\n",
              "47    141\n",
              "50    140\n",
              "53    139\n",
              "54    132\n",
              "49    132\n",
              "57    123\n",
              "56    123\n",
              "59    119\n",
              "58    117\n",
              "60    111\n",
              "61    110\n",
              "63    110\n",
              "62     99\n",
              "64     93\n",
              "37     92\n",
              "36     84\n",
              "65     57\n",
              "67     45\n",
              "35     42\n",
              "66     38\n",
              "68     18\n",
              "34     18\n",
              "69      7\n",
              "33      5\n",
              "70      2\n",
              "32      1\n",
              "Name: age, dtype: int64"
            ]
          },
          "metadata": {},
          "execution_count": 23
        }
      ]
    },
    {
      "cell_type": "code",
      "metadata": {
        "colab": {
          "base_uri": "https://localhost:8080/",
          "height": 562
        },
        "id": "ef3081ca",
        "outputId": "79245786-567f-4c70-da9d-31c365d7c2d4"
      },
      "source": [
        "# Checking for any correlations.\n",
        "data.corr()"
      ],
      "id": "ef3081ca",
      "execution_count": null,
      "outputs": [
        {
          "output_type": "execute_result",
          "data": {
            "text/html": [
              "<div>\n",
              "<style scoped>\n",
              "    .dataframe tbody tr th:only-of-type {\n",
              "        vertical-align: middle;\n",
              "    }\n",
              "\n",
              "    .dataframe tbody tr th {\n",
              "        vertical-align: top;\n",
              "    }\n",
              "\n",
              "    .dataframe thead th {\n",
              "        text-align: right;\n",
              "    }\n",
              "</style>\n",
              "<table border=\"1\" class=\"dataframe\">\n",
              "  <thead>\n",
              "    <tr style=\"text-align: right;\">\n",
              "      <th></th>\n",
              "      <th>male</th>\n",
              "      <th>age</th>\n",
              "      <th>education</th>\n",
              "      <th>currentSmoker</th>\n",
              "      <th>cigsPerDay</th>\n",
              "      <th>BPMeds</th>\n",
              "      <th>prevalentStroke</th>\n",
              "      <th>prevalentHyp</th>\n",
              "      <th>diabetes</th>\n",
              "      <th>totChol</th>\n",
              "      <th>sysBP</th>\n",
              "      <th>diaBP</th>\n",
              "      <th>BMI</th>\n",
              "      <th>heartRate</th>\n",
              "      <th>glucose</th>\n",
              "      <th>TenYearCHD</th>\n",
              "    </tr>\n",
              "  </thead>\n",
              "  <tbody>\n",
              "    <tr>\n",
              "      <th>male</th>\n",
              "      <td>1.000000</td>\n",
              "      <td>-0.028979</td>\n",
              "      <td>0.017126</td>\n",
              "      <td>0.197596</td>\n",
              "      <td>0.316807</td>\n",
              "      <td>-0.052204</td>\n",
              "      <td>-0.004546</td>\n",
              "      <td>0.005313</td>\n",
              "      <td>0.015708</td>\n",
              "      <td>-0.069974</td>\n",
              "      <td>-0.035989</td>\n",
              "      <td>0.057933</td>\n",
              "      <td>0.081506</td>\n",
              "      <td>-0.116601</td>\n",
              "      <td>0.005818</td>\n",
              "      <td>0.088428</td>\n",
              "    </tr>\n",
              "    <tr>\n",
              "      <th>age</th>\n",
              "      <td>-0.028979</td>\n",
              "      <td>1.000000</td>\n",
              "      <td>-0.163613</td>\n",
              "      <td>-0.213748</td>\n",
              "      <td>-0.192366</td>\n",
              "      <td>0.121980</td>\n",
              "      <td>0.057655</td>\n",
              "      <td>0.307194</td>\n",
              "      <td>0.101258</td>\n",
              "      <td>0.260270</td>\n",
              "      <td>0.394302</td>\n",
              "      <td>0.206104</td>\n",
              "      <td>0.135283</td>\n",
              "      <td>-0.012819</td>\n",
              "      <td>0.116850</td>\n",
              "      <td>0.225256</td>\n",
              "    </tr>\n",
              "    <tr>\n",
              "      <th>education</th>\n",
              "      <td>0.017126</td>\n",
              "      <td>-0.163613</td>\n",
              "      <td>1.000000</td>\n",
              "      <td>0.018301</td>\n",
              "      <td>0.007962</td>\n",
              "      <td>-0.010607</td>\n",
              "      <td>-0.035110</td>\n",
              "      <td>-0.080993</td>\n",
              "      <td>-0.038146</td>\n",
              "      <td>-0.022507</td>\n",
              "      <td>-0.128260</td>\n",
              "      <td>-0.061755</td>\n",
              "      <td>-0.135635</td>\n",
              "      <td>-0.053626</td>\n",
              "      <td>-0.033721</td>\n",
              "      <td>-0.053384</td>\n",
              "    </tr>\n",
              "    <tr>\n",
              "      <th>currentSmoker</th>\n",
              "      <td>0.197596</td>\n",
              "      <td>-0.213748</td>\n",
              "      <td>0.018301</td>\n",
              "      <td>1.000000</td>\n",
              "      <td>0.766970</td>\n",
              "      <td>-0.048632</td>\n",
              "      <td>-0.032988</td>\n",
              "      <td>-0.103260</td>\n",
              "      <td>-0.044295</td>\n",
              "      <td>-0.046285</td>\n",
              "      <td>-0.130230</td>\n",
              "      <td>-0.107746</td>\n",
              "      <td>-0.167276</td>\n",
              "      <td>0.062348</td>\n",
              "      <td>-0.054157</td>\n",
              "      <td>0.019456</td>\n",
              "    </tr>\n",
              "    <tr>\n",
              "      <th>cigsPerDay</th>\n",
              "      <td>0.316807</td>\n",
              "      <td>-0.192366</td>\n",
              "      <td>0.007962</td>\n",
              "      <td>0.766970</td>\n",
              "      <td>1.000000</td>\n",
              "      <td>-0.045826</td>\n",
              "      <td>-0.032706</td>\n",
              "      <td>-0.065947</td>\n",
              "      <td>-0.037063</td>\n",
              "      <td>-0.026025</td>\n",
              "      <td>-0.088505</td>\n",
              "      <td>-0.056391</td>\n",
              "      <td>-0.092453</td>\n",
              "      <td>0.074851</td>\n",
              "      <td>-0.056088</td>\n",
              "      <td>0.057775</td>\n",
              "    </tr>\n",
              "    <tr>\n",
              "      <th>BPMeds</th>\n",
              "      <td>-0.052204</td>\n",
              "      <td>0.121980</td>\n",
              "      <td>-0.010607</td>\n",
              "      <td>-0.048632</td>\n",
              "      <td>-0.045826</td>\n",
              "      <td>1.000000</td>\n",
              "      <td>0.115003</td>\n",
              "      <td>0.259243</td>\n",
              "      <td>0.051571</td>\n",
              "      <td>0.078909</td>\n",
              "      <td>0.252047</td>\n",
              "      <td>0.192490</td>\n",
              "      <td>0.099552</td>\n",
              "      <td>0.015175</td>\n",
              "      <td>0.048905</td>\n",
              "      <td>0.086774</td>\n",
              "    </tr>\n",
              "    <tr>\n",
              "      <th>prevalentStroke</th>\n",
              "      <td>-0.004546</td>\n",
              "      <td>0.057655</td>\n",
              "      <td>-0.035110</td>\n",
              "      <td>-0.032988</td>\n",
              "      <td>-0.032706</td>\n",
              "      <td>0.115003</td>\n",
              "      <td>1.000000</td>\n",
              "      <td>0.074830</td>\n",
              "      <td>0.006949</td>\n",
              "      <td>0.000067</td>\n",
              "      <td>0.057009</td>\n",
              "      <td>0.045190</td>\n",
              "      <td>0.024840</td>\n",
              "      <td>-0.017676</td>\n",
              "      <td>0.018055</td>\n",
              "      <td>0.061810</td>\n",
              "    </tr>\n",
              "    <tr>\n",
              "      <th>prevalentHyp</th>\n",
              "      <td>0.005313</td>\n",
              "      <td>0.307194</td>\n",
              "      <td>-0.080993</td>\n",
              "      <td>-0.103260</td>\n",
              "      <td>-0.065947</td>\n",
              "      <td>0.259243</td>\n",
              "      <td>0.074830</td>\n",
              "      <td>1.000000</td>\n",
              "      <td>0.077808</td>\n",
              "      <td>0.163041</td>\n",
              "      <td>0.696755</td>\n",
              "      <td>0.615751</td>\n",
              "      <td>0.300572</td>\n",
              "      <td>0.147222</td>\n",
              "      <td>0.082924</td>\n",
              "      <td>0.177603</td>\n",
              "    </tr>\n",
              "    <tr>\n",
              "      <th>diabetes</th>\n",
              "      <td>0.015708</td>\n",
              "      <td>0.101258</td>\n",
              "      <td>-0.038146</td>\n",
              "      <td>-0.044295</td>\n",
              "      <td>-0.037063</td>\n",
              "      <td>0.051571</td>\n",
              "      <td>0.006949</td>\n",
              "      <td>0.077808</td>\n",
              "      <td>1.000000</td>\n",
              "      <td>0.040092</td>\n",
              "      <td>0.111283</td>\n",
              "      <td>0.050329</td>\n",
              "      <td>0.086250</td>\n",
              "      <td>0.048993</td>\n",
              "      <td>0.605705</td>\n",
              "      <td>0.097317</td>\n",
              "    </tr>\n",
              "    <tr>\n",
              "      <th>totChol</th>\n",
              "      <td>-0.069974</td>\n",
              "      <td>0.260270</td>\n",
              "      <td>-0.022507</td>\n",
              "      <td>-0.046285</td>\n",
              "      <td>-0.026025</td>\n",
              "      <td>0.078909</td>\n",
              "      <td>0.000067</td>\n",
              "      <td>0.163041</td>\n",
              "      <td>0.040092</td>\n",
              "      <td>1.000000</td>\n",
              "      <td>0.207609</td>\n",
              "      <td>0.163903</td>\n",
              "      <td>0.114789</td>\n",
              "      <td>0.090676</td>\n",
              "      <td>0.044583</td>\n",
              "      <td>0.081624</td>\n",
              "    </tr>\n",
              "    <tr>\n",
              "      <th>sysBP</th>\n",
              "      <td>-0.035989</td>\n",
              "      <td>0.394302</td>\n",
              "      <td>-0.128260</td>\n",
              "      <td>-0.130230</td>\n",
              "      <td>-0.088505</td>\n",
              "      <td>0.252047</td>\n",
              "      <td>0.057009</td>\n",
              "      <td>0.696755</td>\n",
              "      <td>0.111283</td>\n",
              "      <td>0.207609</td>\n",
              "      <td>1.000000</td>\n",
              "      <td>0.784002</td>\n",
              "      <td>0.325247</td>\n",
              "      <td>0.182174</td>\n",
              "      <td>0.134608</td>\n",
              "      <td>0.216429</td>\n",
              "    </tr>\n",
              "    <tr>\n",
              "      <th>diaBP</th>\n",
              "      <td>0.057933</td>\n",
              "      <td>0.206104</td>\n",
              "      <td>-0.061755</td>\n",
              "      <td>-0.107746</td>\n",
              "      <td>-0.056391</td>\n",
              "      <td>0.192490</td>\n",
              "      <td>0.045190</td>\n",
              "      <td>0.615751</td>\n",
              "      <td>0.050329</td>\n",
              "      <td>0.163903</td>\n",
              "      <td>0.784002</td>\n",
              "      <td>1.000000</td>\n",
              "      <td>0.376544</td>\n",
              "      <td>0.181246</td>\n",
              "      <td>0.058647</td>\n",
              "      <td>0.145299</td>\n",
              "    </tr>\n",
              "    <tr>\n",
              "      <th>BMI</th>\n",
              "      <td>0.081506</td>\n",
              "      <td>0.135283</td>\n",
              "      <td>-0.135635</td>\n",
              "      <td>-0.167276</td>\n",
              "      <td>-0.092453</td>\n",
              "      <td>0.099552</td>\n",
              "      <td>0.024840</td>\n",
              "      <td>0.300572</td>\n",
              "      <td>0.086250</td>\n",
              "      <td>0.114789</td>\n",
              "      <td>0.325247</td>\n",
              "      <td>0.376544</td>\n",
              "      <td>1.000000</td>\n",
              "      <td>0.067544</td>\n",
              "      <td>0.082109</td>\n",
              "      <td>0.074680</td>\n",
              "    </tr>\n",
              "    <tr>\n",
              "      <th>heartRate</th>\n",
              "      <td>-0.116601</td>\n",
              "      <td>-0.012819</td>\n",
              "      <td>-0.053626</td>\n",
              "      <td>0.062348</td>\n",
              "      <td>0.074851</td>\n",
              "      <td>0.015175</td>\n",
              "      <td>-0.017676</td>\n",
              "      <td>0.147222</td>\n",
              "      <td>0.048993</td>\n",
              "      <td>0.090676</td>\n",
              "      <td>0.182174</td>\n",
              "      <td>0.181246</td>\n",
              "      <td>0.067544</td>\n",
              "      <td>1.000000</td>\n",
              "      <td>0.089341</td>\n",
              "      <td>0.022898</td>\n",
              "    </tr>\n",
              "    <tr>\n",
              "      <th>glucose</th>\n",
              "      <td>0.005818</td>\n",
              "      <td>0.116850</td>\n",
              "      <td>-0.033721</td>\n",
              "      <td>-0.054157</td>\n",
              "      <td>-0.056088</td>\n",
              "      <td>0.048905</td>\n",
              "      <td>0.018055</td>\n",
              "      <td>0.082924</td>\n",
              "      <td>0.605705</td>\n",
              "      <td>0.044583</td>\n",
              "      <td>0.134608</td>\n",
              "      <td>0.058647</td>\n",
              "      <td>0.082109</td>\n",
              "      <td>0.089341</td>\n",
              "      <td>1.000000</td>\n",
              "      <td>0.120406</td>\n",
              "    </tr>\n",
              "    <tr>\n",
              "      <th>TenYearCHD</th>\n",
              "      <td>0.088428</td>\n",
              "      <td>0.225256</td>\n",
              "      <td>-0.053384</td>\n",
              "      <td>0.019456</td>\n",
              "      <td>0.057775</td>\n",
              "      <td>0.086774</td>\n",
              "      <td>0.061810</td>\n",
              "      <td>0.177603</td>\n",
              "      <td>0.097317</td>\n",
              "      <td>0.081624</td>\n",
              "      <td>0.216429</td>\n",
              "      <td>0.145299</td>\n",
              "      <td>0.074680</td>\n",
              "      <td>0.022898</td>\n",
              "      <td>0.120406</td>\n",
              "      <td>1.000000</td>\n",
              "    </tr>\n",
              "  </tbody>\n",
              "</table>\n",
              "</div>"
            ],
            "text/plain": [
              "                     male       age  education  ...  heartRate   glucose  TenYearCHD\n",
              "male             1.000000 -0.028979   0.017126  ...  -0.116601  0.005818    0.088428\n",
              "age             -0.028979  1.000000  -0.163613  ...  -0.012819  0.116850    0.225256\n",
              "education        0.017126 -0.163613   1.000000  ...  -0.053626 -0.033721   -0.053384\n",
              "currentSmoker    0.197596 -0.213748   0.018301  ...   0.062348 -0.054157    0.019456\n",
              "cigsPerDay       0.316807 -0.192366   0.007962  ...   0.074851 -0.056088    0.057775\n",
              "BPMeds          -0.052204  0.121980  -0.010607  ...   0.015175  0.048905    0.086774\n",
              "prevalentStroke -0.004546  0.057655  -0.035110  ...  -0.017676  0.018055    0.061810\n",
              "prevalentHyp     0.005313  0.307194  -0.080993  ...   0.147222  0.082924    0.177603\n",
              "diabetes         0.015708  0.101258  -0.038146  ...   0.048993  0.605705    0.097317\n",
              "totChol         -0.069974  0.260270  -0.022507  ...   0.090676  0.044583    0.081624\n",
              "sysBP           -0.035989  0.394302  -0.128260  ...   0.182174  0.134608    0.216429\n",
              "diaBP            0.057933  0.206104  -0.061755  ...   0.181246  0.058647    0.145299\n",
              "BMI              0.081506  0.135283  -0.135635  ...   0.067544  0.082109    0.074680\n",
              "heartRate       -0.116601 -0.012819  -0.053626  ...   1.000000  0.089341    0.022898\n",
              "glucose          0.005818  0.116850  -0.033721  ...   0.089341  1.000000    0.120406\n",
              "TenYearCHD       0.088428  0.225256  -0.053384  ...   0.022898  0.120406    1.000000\n",
              "\n",
              "[16 rows x 16 columns]"
            ]
          },
          "metadata": {},
          "execution_count": 24
        }
      ]
    },
    {
      "cell_type": "code",
      "metadata": {
        "colab": {
          "base_uri": "https://localhost:8080/",
          "height": 286
        },
        "id": "dd4e10b4",
        "outputId": "b14f9011-963a-4e97-a95c-bd7c3107f2d4"
      },
      "source": [
        "# histogram of age.\n",
        "data['age'].hist(bins=50)"
      ],
      "id": "dd4e10b4",
      "execution_count": null,
      "outputs": [
        {
          "output_type": "execute_result",
          "data": {
            "text/plain": [
              "<matplotlib.axes._subplots.AxesSubplot at 0x7f5dc139ccd0>"
            ]
          },
          "metadata": {},
          "execution_count": 25
        },
        {
          "output_type": "display_data",
          "data": {
            "image/png": "[encoded data removed]",
            "text/plain": [
              "<Figure size 432x288 with 1 Axes>"
            ]
          },
          "metadata": {
            "needs_background": "light"
          }
        }
      ]
    },
    {
      "cell_type": "code",
      "metadata": {
        "colab": {
          "base_uri": "https://localhost:8080/",
          "height": 377
        },
        "id": "9450ff02",
        "outputId": "efd4e061-e95b-49b3-c0aa-a4da7d569da0"
      },
      "source": [
        "# bar chart -  distribution of a categorical variable\n",
        "data['heartRate'].value_counts().plot.bar()"
      ],
      "id": "9450ff02",
      "execution_count": null,
      "outputs": [
        {
          "output_type": "execute_result",
          "data": {
            "text/plain": [
              "<matplotlib.axes._subplots.AxesSubplot at 0x7f5dc13d1f10>"
            ]
          },
          "metadata": {},
          "execution_count": 26
        },
        {
          "output_type": "display_data",
          "data": {
            "image/png": "[encoded data removed]",
            "text/plain": [
              "<Figure size 432x288 with 1 Axes>"
            ]
          },
          "metadata": {
            "needs_background": "light"
          }
        }
      ]
    },
    {
      "cell_type": "code",
      "metadata": {
        "colab": {
          "base_uri": "https://localhost:8080/",
          "height": 300
        },
        "id": "d929d210",
        "outputId": "98157c65-345d-4db0-e5f9-c7761b7cff3e"
      },
      "source": [
        "sns.countplot(x='age', data=data)"
      ],
      "id": "d929d210",
      "execution_count": null,
      "outputs": [
        {
          "output_type": "execute_result",
          "data": {
            "text/plain": [
              "<matplotlib.axes._subplots.AxesSubplot at 0x7f5dc1205e10>"
            ]
          },
          "metadata": {},
          "execution_count": 27
        },
        {
          "output_type": "display_data",
          "data": {
            "image/png": "[encoded data removed]",
            "text/plain": [
              "<Figure size 432x288 with 1 Axes>"
            ]
          },
          "metadata": {
            "needs_background": "light"
          }
        }
      ]
    },
    {
      "cell_type": "code",
      "metadata": {
        "colab": {
          "base_uri": "https://localhost:8080/"
        },
        "id": "052a7f49",
        "outputId": "ca52d49a-a819-4bad-bc5e-5dcb99d3a672"
      },
      "source": [
        "# Checking for the imbalanced data based on prevalentStroke.\n",
        "data['prevalentStroke'].value_counts()"
      ],
      "id": "052a7f49",
      "execution_count": null,
      "outputs": [
        {
          "output_type": "execute_result",
          "data": {
            "text/plain": [
              "0    4213\n",
              "1      25\n",
              "Name: prevalentStroke, dtype: int64"
            ]
          },
          "metadata": {},
          "execution_count": 28
        }
      ]
    },
    {
      "cell_type": "code",
      "metadata": {
        "colab": {
          "base_uri": "https://localhost:8080/"
        },
        "id": "aa8fb528",
        "outputId": "18256504-194e-40fb-e4b4-b694a49ba3ad"
      },
      "source": [
        "# Checking for the missing values.\n",
        "data.isnull().values.any()"
      ],
      "id": "aa8fb528",
      "execution_count": null,
      "outputs": [
        {
          "output_type": "execute_result",
          "data": {
            "text/plain": [
              "False"
            ]
          },
          "metadata": {},
          "execution_count": 29
        }
      ]
    },
    {
      "cell_type": "code",
      "metadata": {
        "colab": {
          "base_uri": "https://localhost:8080/"
        },
        "id": "4cefd511",
        "outputId": "52cffb0e-fde0-4d71-90d1-7f8e1d1f2fdb"
      },
      "source": [
        "print(\"The Dataset \\'framingham.csv' is now cleaned\")"
      ],
      "id": "4cefd511",
      "execution_count": null,
      "outputs": [
        {
          "output_type": "stream",
          "name": "stdout",
          "text": [
            "The Dataset 'framingham.csv' is now cleaned\n"
          ]
        }
      ]
    },
    {
      "cell_type": "code",
      "metadata": {
        "colab": {
          "base_uri": "https://localhost:8080/"
        },
        "id": "be08627c",
        "outputId": "3eec7b04-f0cc-4436-a2cf-198430f428ec"
      },
      "source": [
        "print(\"The Dataset \\'framingham.csv' is used for feature selection process\")"
      ],
      "id": "be08627c",
      "execution_count": null,
      "outputs": [
        {
          "output_type": "stream",
          "name": "stdout",
          "text": [
            "The Dataset 'framingham.csv' is used for feature selection process\n"
          ]
        }
      ]
    },
    {
      "cell_type": "code",
      "metadata": {
        "id": "w2E4UNE9cDzF"
      },
      "source": [
        "#apply SelectKBest class to extract top 10 features\n",
        "from sklearn.feature_selection import SelectKBest\n",
        "from sklearn.feature_selection import chi2\n",
        "x=data.iloc[:,0:20] #independent columns\n",
        "y=data.iloc[:,-1] #target columns\n",
        "bestfeatures=SelectKBest(score_func=chi2,k=6)\n",
        "fit=bestfeatures.fit(x,y)"
      ],
      "id": "w2E4UNE9cDzF",
      "execution_count": null,
      "outputs": []
    },
    {
      "cell_type": "code",
      "metadata": {
        "id": "Q7iqQu_AdcRE"
      },
      "source": [
        "dfscores=pd.DataFrame(fit.scores_)\n",
        "dfcolumns=pd.DataFrame(x.columns)"
      ],
      "id": "Q7iqQu_AdcRE",
      "execution_count": null,
      "outputs": []
    },
    {
      "cell_type": "code",
      "metadata": {
        "id": "rUSPzKCLdeHM"
      },
      "source": [
        "#concat two dataframes for better visualization\n",
        "featureScores=pd.concat([dfcolumns,dfscores],axis=1)\n",
        "featureScores.columns=['values','Scores'] #naming the dataframe columns"
      ],
      "id": "rUSPzKCLdeHM",
      "execution_count": null,
      "outputs": []
    },
    {
      "cell_type": "code",
      "metadata": {
        "colab": {
          "base_uri": "https://localhost:8080/",
          "height": 542
        },
        "id": "DM6MMYYzdhuL",
        "outputId": "709753aa-0207-48ef-828d-760773a0eb4e"
      },
      "source": [
        "featureScores"
      ],
      "id": "DM6MMYYzdhuL",
      "execution_count": null,
      "outputs": [
        {
          "output_type": "execute_result",
          "data": {
            "text/html": [
              "<div>\n",
              "<style scoped>\n",
              "    .dataframe tbody tr th:only-of-type {\n",
              "        vertical-align: middle;\n",
              "    }\n",
              "\n",
              "    .dataframe tbody tr th {\n",
              "        vertical-align: top;\n",
              "    }\n",
              "\n",
              "    .dataframe thead th {\n",
              "        text-align: right;\n",
              "    }\n",
              "</style>\n",
              "<table border=\"1\" class=\"dataframe\">\n",
              "  <thead>\n",
              "    <tr style=\"text-align: right;\">\n",
              "      <th></th>\n",
              "      <th>values</th>\n",
              "      <th>Scores</th>\n",
              "    </tr>\n",
              "  </thead>\n",
              "  <tbody>\n",
              "    <tr>\n",
              "      <th>0</th>\n",
              "      <td>male</td>\n",
              "      <td>18.915212</td>\n",
              "    </tr>\n",
              "    <tr>\n",
              "      <th>1</th>\n",
              "      <td>age</td>\n",
              "      <td>318.597444</td>\n",
              "    </tr>\n",
              "    <tr>\n",
              "      <th>2</th>\n",
              "      <td>education</td>\n",
              "      <td>6.188170</td>\n",
              "    </tr>\n",
              "    <tr>\n",
              "      <th>3</th>\n",
              "      <td>currentSmoker</td>\n",
              "      <td>0.811603</td>\n",
              "    </tr>\n",
              "    <tr>\n",
              "      <th>4</th>\n",
              "      <td>cigsPerDay</td>\n",
              "      <td>221.677041</td>\n",
              "    </tr>\n",
              "    <tr>\n",
              "      <th>5</th>\n",
              "      <td>BPMeds</td>\n",
              "      <td>30.578341</td>\n",
              "    </tr>\n",
              "    <tr>\n",
              "      <th>6</th>\n",
              "      <td>prevalentStroke</td>\n",
              "      <td>16.095638</td>\n",
              "    </tr>\n",
              "    <tr>\n",
              "      <th>7</th>\n",
              "      <td>prevalentHyp</td>\n",
              "      <td>92.167857</td>\n",
              "    </tr>\n",
              "    <tr>\n",
              "      <th>8</th>\n",
              "      <td>diabetes</td>\n",
              "      <td>39.103710</td>\n",
              "    </tr>\n",
              "    <tr>\n",
              "      <th>9</th>\n",
              "      <td>totChol</td>\n",
              "      <td>234.305978</td>\n",
              "    </tr>\n",
              "    <tr>\n",
              "      <th>10</th>\n",
              "      <td>sysBP</td>\n",
              "      <td>728.292522</td>\n",
              "    </tr>\n",
              "    <tr>\n",
              "      <th>11</th>\n",
              "      <td>diaBP</td>\n",
              "      <td>153.090954</td>\n",
              "    </tr>\n",
              "    <tr>\n",
              "      <th>12</th>\n",
              "      <td>BMI</td>\n",
              "      <td>15.177679</td>\n",
              "    </tr>\n",
              "    <tr>\n",
              "      <th>13</th>\n",
              "      <td>heartRate</td>\n",
              "      <td>4.233476</td>\n",
              "    </tr>\n",
              "    <tr>\n",
              "      <th>14</th>\n",
              "      <td>glucose</td>\n",
              "      <td>390.825416</td>\n",
              "    </tr>\n",
              "    <tr>\n",
              "      <th>15</th>\n",
              "      <td>TenYearCHD</td>\n",
              "      <td>3594.000000</td>\n",
              "    </tr>\n",
              "  </tbody>\n",
              "</table>\n",
              "</div>"
            ],
            "text/plain": [
              "             values       Scores\n",
              "0              male    18.915212\n",
              "1               age   318.597444\n",
              "2         education     6.188170\n",
              "3     currentSmoker     0.811603\n",
              "4        cigsPerDay   221.677041\n",
              "5            BPMeds    30.578341\n",
              "6   prevalentStroke    16.095638\n",
              "7      prevalentHyp    92.167857\n",
              "8          diabetes    39.103710\n",
              "9           totChol   234.305978\n",
              "10            sysBP   728.292522\n",
              "11            diaBP   153.090954\n",
              "12              BMI    15.177679\n",
              "13        heartRate     4.233476\n",
              "14          glucose   390.825416\n",
              "15       TenYearCHD  3594.000000"
            ]
          },
          "metadata": {},
          "execution_count": 40
        }
      ]
    },
    {
      "cell_type": "code",
      "metadata": {
        "colab": {
          "base_uri": "https://localhost:8080/"
        },
        "id": "wCVe6VGAdpuw",
        "outputId": "1c672bbb-1356-4eb6-ddd7-2c041de5b6e5"
      },
      "source": [
        "print(featureScores.nlargest(10,'Scores'))"
      ],
      "id": "wCVe6VGAdpuw",
      "execution_count": null,
      "outputs": [
        {
          "output_type": "stream",
          "name": "stdout",
          "text": [
            "          values       Scores\n",
            "15    TenYearCHD  3594.000000\n",
            "10         sysBP   728.292522\n",
            "14       glucose   390.825416\n",
            "1            age   318.597444\n",
            "9        totChol   234.305978\n",
            "4     cigsPerDay   221.677041\n",
            "11         diaBP   153.090954\n",
            "7   prevalentHyp    92.167857\n",
            "8       diabetes    39.103710\n",
            "5         BPMeds    30.578341\n"
          ]
        }
      ]
    },
    {
      "cell_type": "code",
      "metadata": {
        "colab": {
          "base_uri": "https://localhost:8080/"
        },
        "id": "1znTzYhjdsrh",
        "outputId": "34dc7512-b2d2-4c9c-c96f-cbec77e89d4d"
      },
      "source": [
        "from sklearn.ensemble import ExtraTreesClassifier\n",
        "import matplotlib.pyplot as plt\n",
        "model=ExtraTreesClassifier()\n",
        "model.fit(x,y)"
      ],
      "id": "1znTzYhjdsrh",
      "execution_count": null,
      "outputs": [
        {
          "output_type": "execute_result",
          "data": {
            "text/plain": [
              "ExtraTreesClassifier(bootstrap=False, ccp_alpha=0.0, class_weight=None,\n",
              "                     criterion='gini', max_depth=None, max_features='auto',\n",
              "                     max_leaf_nodes=None, max_samples=None,\n",
              "                     min_impurity_decrease=0.0, min_impurity_split=None,\n",
              "                     min_samples_leaf=1, min_samples_split=2,\n",
              "                     min_weight_fraction_leaf=0.0, n_estimators=100,\n",
              "                     n_jobs=None, oob_score=False, random_state=None, verbose=0,\n",
              "                     warm_start=False)"
            ]
          },
          "metadata": {},
          "execution_count": 42
        }
      ]
    },
    {
      "cell_type": "code",
      "metadata": {
        "colab": {
          "base_uri": "https://localhost:8080/"
        },
        "id": "GRDq236hd1nE",
        "outputId": "44d2e9fb-e91c-4484-f257-ab85ff4b1545"
      },
      "source": [
        "print(model.feature_importances_)"
      ],
      "id": "GRDq236hd1nE",
      "execution_count": null,
      "outputs": [
        {
          "output_type": "stream",
          "name": "stdout",
          "text": [
            "[3.04807363e-03 1.17888882e-02 1.89993861e-03 8.79618770e-04\n",
            " 1.94728195e-03 1.54233286e-03 7.83441911e-04 1.18461501e-02\n",
            " 1.89856542e-03 2.55081237e-03 6.18400633e-03 4.42337788e-03\n",
            " 2.80230666e-03 2.45652503e-03 4.26656629e-03 9.41682114e-01]\n"
          ]
        }
      ]
    },
    {
      "cell_type": "code",
      "metadata": {
        "colab": {
          "base_uri": "https://localhost:8080/",
          "height": 265
        },
        "id": "-_lKeD1Gd33o",
        "outputId": "16be32db-067b-4a0d-e229-ef257b959768"
      },
      "source": [
        "feat_importances=pd.Series(model.feature_importances_,index=x.columns)\n",
        "feat_importances.nlargest(10).plot(kind='barh')\n",
        "plt.show()"
      ],
      "id": "-_lKeD1Gd33o",
      "execution_count": null,
      "outputs": [
        {
          "output_type": "display_data",
          "data": {
            "image/png": "[encoded data removed]",
            "text/plain": [
              "<Figure size 432x288 with 1 Axes>"
            ]
          },
          "metadata": {
            "needs_background": "light"
          }
        }
      ]
    },
    {
      "cell_type": "code",
      "metadata": {
        "colab": {
          "base_uri": "https://localhost:8080/"
        },
        "id": "BrekwZCEd9To",
        "outputId": "45368d29-1a2e-4759-f7c2-b3ce8bc238da"
      },
      "source": [
        "from sklearn.model_selection import train_test_split\n",
        "x_train,x_test,y_train,y_test=train_test_split(\n",
        "    x,\n",
        "    y,\n",
        "    test_size=0.3,\n",
        "    random_state=0\n",
        ")\n",
        "x_train.shape,x_test.shape\n"
      ],
      "id": "BrekwZCEd9To",
      "execution_count": null,
      "outputs": [
        {
          "output_type": "execute_result",
          "data": {
            "text/plain": [
              "((2966, 16), (1272, 16))"
            ]
          },
          "metadata": {},
          "execution_count": 45
        }
      ]
    },
    {
      "cell_type": "code",
      "metadata": {
        "colab": {
          "base_uri": "https://localhost:8080/",
          "height": 562
        },
        "id": "4DBH5F15eCjG",
        "outputId": "a954620f-25b8-48b6-ff90-6566ca8e3a3d"
      },
      "source": [
        "x_train.corr()"
      ],
      "id": "4DBH5F15eCjG",
      "execution_count": null,
      "outputs": [
        {
          "output_type": "execute_result",
          "data": {
            "text/html": [
              "<div>\n",
              "<style scoped>\n",
              "    .dataframe tbody tr th:only-of-type {\n",
              "        vertical-align: middle;\n",
              "    }\n",
              "\n",
              "    .dataframe tbody tr th {\n",
              "        vertical-align: top;\n",
              "    }\n",
              "\n",
              "    .dataframe thead th {\n",
              "        text-align: right;\n",
              "    }\n",
              "</style>\n",
              "<table border=\"1\" class=\"dataframe\">\n",
              "  <thead>\n",
              "    <tr style=\"text-align: right;\">\n",
              "      <th></th>\n",
              "      <th>male</th>\n",
              "      <th>age</th>\n",
              "      <th>education</th>\n",
              "      <th>currentSmoker</th>\n",
              "      <th>cigsPerDay</th>\n",
              "      <th>BPMeds</th>\n",
              "      <th>prevalentStroke</th>\n",
              "      <th>prevalentHyp</th>\n",
              "      <th>diabetes</th>\n",
              "      <th>totChol</th>\n",
              "      <th>sysBP</th>\n",
              "      <th>diaBP</th>\n",
              "      <th>BMI</th>\n",
              "      <th>heartRate</th>\n",
              "      <th>glucose</th>\n",
              "      <th>TenYearCHD</th>\n",
              "    </tr>\n",
              "  </thead>\n",
              "  <tbody>\n",
              "    <tr>\n",
              "      <th>male</th>\n",
              "      <td>1.000000</td>\n",
              "      <td>-0.032376</td>\n",
              "      <td>0.041273</td>\n",
              "      <td>0.202738</td>\n",
              "      <td>0.317662</td>\n",
              "      <td>-0.029631</td>\n",
              "      <td>0.006970</td>\n",
              "      <td>0.000124</td>\n",
              "      <td>0.016870</td>\n",
              "      <td>-0.085343</td>\n",
              "      <td>-0.039762</td>\n",
              "      <td>0.055043</td>\n",
              "      <td>0.078096</td>\n",
              "      <td>-0.121020</td>\n",
              "      <td>0.019014</td>\n",
              "      <td>0.077759</td>\n",
              "    </tr>\n",
              "    <tr>\n",
              "      <th>age</th>\n",
              "      <td>-0.032376</td>\n",
              "      <td>1.000000</td>\n",
              "      <td>-0.163537</td>\n",
              "      <td>-0.214773</td>\n",
              "      <td>-0.191219</td>\n",
              "      <td>0.128628</td>\n",
              "      <td>0.063679</td>\n",
              "      <td>0.314129</td>\n",
              "      <td>0.098819</td>\n",
              "      <td>0.272992</td>\n",
              "      <td>0.398299</td>\n",
              "      <td>0.213507</td>\n",
              "      <td>0.142847</td>\n",
              "      <td>-0.018479</td>\n",
              "      <td>0.113146</td>\n",
              "      <td>0.219124</td>\n",
              "    </tr>\n",
              "    <tr>\n",
              "      <th>education</th>\n",
              "      <td>0.041273</td>\n",
              "      <td>-0.163537</td>\n",
              "      <td>1.000000</td>\n",
              "      <td>0.019309</td>\n",
              "      <td>0.004502</td>\n",
              "      <td>-0.023410</td>\n",
              "      <td>-0.033713</td>\n",
              "      <td>-0.084182</td>\n",
              "      <td>-0.030044</td>\n",
              "      <td>-0.027716</td>\n",
              "      <td>-0.137169</td>\n",
              "      <td>-0.072596</td>\n",
              "      <td>-0.136047</td>\n",
              "      <td>-0.066930</td>\n",
              "      <td>-0.017104</td>\n",
              "      <td>-0.050165</td>\n",
              "    </tr>\n",
              "    <tr>\n",
              "      <th>currentSmoker</th>\n",
              "      <td>0.202738</td>\n",
              "      <td>-0.214773</td>\n",
              "      <td>0.019309</td>\n",
              "      <td>1.000000</td>\n",
              "      <td>0.757731</td>\n",
              "      <td>-0.054173</td>\n",
              "      <td>-0.044289</td>\n",
              "      <td>-0.100760</td>\n",
              "      <td>-0.042784</td>\n",
              "      <td>-0.051663</td>\n",
              "      <td>-0.127399</td>\n",
              "      <td>-0.105893</td>\n",
              "      <td>-0.162596</td>\n",
              "      <td>0.075399</td>\n",
              "      <td>-0.052274</td>\n",
              "      <td>0.022355</td>\n",
              "    </tr>\n",
              "    <tr>\n",
              "      <th>cigsPerDay</th>\n",
              "      <td>0.317662</td>\n",
              "      <td>-0.191219</td>\n",
              "      <td>0.004502</td>\n",
              "      <td>0.757731</td>\n",
              "      <td>1.000000</td>\n",
              "      <td>-0.044383</td>\n",
              "      <td>-0.038818</td>\n",
              "      <td>-0.054646</td>\n",
              "      <td>-0.039662</td>\n",
              "      <td>-0.027412</td>\n",
              "      <td>-0.075755</td>\n",
              "      <td>-0.047760</td>\n",
              "      <td>-0.087631</td>\n",
              "      <td>0.083048</td>\n",
              "      <td>-0.059007</td>\n",
              "      <td>0.063205</td>\n",
              "    </tr>\n",
              "    <tr>\n",
              "      <th>BPMeds</th>\n",
              "      <td>-0.029631</td>\n",
              "      <td>0.128628</td>\n",
              "      <td>-0.023410</td>\n",
              "      <td>-0.054173</td>\n",
              "      <td>-0.044383</td>\n",
              "      <td>1.000000</td>\n",
              "      <td>0.109865</td>\n",
              "      <td>0.251447</td>\n",
              "      <td>0.052427</td>\n",
              "      <td>0.074644</td>\n",
              "      <td>0.256577</td>\n",
              "      <td>0.192336</td>\n",
              "      <td>0.108699</td>\n",
              "      <td>-0.016744</td>\n",
              "      <td>0.049216</td>\n",
              "      <td>0.081726</td>\n",
              "    </tr>\n",
              "    <tr>\n",
              "      <th>prevalentStroke</th>\n",
              "      <td>0.006970</td>\n",
              "      <td>0.063679</td>\n",
              "      <td>-0.033713</td>\n",
              "      <td>-0.044289</td>\n",
              "      <td>-0.038818</td>\n",
              "      <td>0.109865</td>\n",
              "      <td>1.000000</td>\n",
              "      <td>0.075036</td>\n",
              "      <td>0.011755</td>\n",
              "      <td>-0.005043</td>\n",
              "      <td>0.065014</td>\n",
              "      <td>0.063068</td>\n",
              "      <td>0.039758</td>\n",
              "      <td>-0.025786</td>\n",
              "      <td>0.012599</td>\n",
              "      <td>0.065725</td>\n",
              "    </tr>\n",
              "    <tr>\n",
              "      <th>prevalentHyp</th>\n",
              "      <td>0.000124</td>\n",
              "      <td>0.314129</td>\n",
              "      <td>-0.084182</td>\n",
              "      <td>-0.100760</td>\n",
              "      <td>-0.054646</td>\n",
              "      <td>0.251447</td>\n",
              "      <td>0.075036</td>\n",
              "      <td>1.000000</td>\n",
              "      <td>0.073265</td>\n",
              "      <td>0.165814</td>\n",
              "      <td>0.706746</td>\n",
              "      <td>0.616959</td>\n",
              "      <td>0.306178</td>\n",
              "      <td>0.127813</td>\n",
              "      <td>0.080767</td>\n",
              "      <td>0.180094</td>\n",
              "    </tr>\n",
              "    <tr>\n",
              "      <th>diabetes</th>\n",
              "      <td>0.016870</td>\n",
              "      <td>0.098819</td>\n",
              "      <td>-0.030044</td>\n",
              "      <td>-0.042784</td>\n",
              "      <td>-0.039662</td>\n",
              "      <td>0.052427</td>\n",
              "      <td>0.011755</td>\n",
              "      <td>0.073265</td>\n",
              "      <td>1.000000</td>\n",
              "      <td>0.035654</td>\n",
              "      <td>0.107471</td>\n",
              "      <td>0.042271</td>\n",
              "      <td>0.075614</td>\n",
              "      <td>0.045548</td>\n",
              "      <td>0.614539</td>\n",
              "      <td>0.110867</td>\n",
              "    </tr>\n",
              "    <tr>\n",
              "      <th>totChol</th>\n",
              "      <td>-0.085343</td>\n",
              "      <td>0.272992</td>\n",
              "      <td>-0.027716</td>\n",
              "      <td>-0.051663</td>\n",
              "      <td>-0.027412</td>\n",
              "      <td>0.074644</td>\n",
              "      <td>-0.005043</td>\n",
              "      <td>0.165814</td>\n",
              "      <td>0.035654</td>\n",
              "      <td>1.000000</td>\n",
              "      <td>0.210087</td>\n",
              "      <td>0.165685</td>\n",
              "      <td>0.117534</td>\n",
              "      <td>0.084488</td>\n",
              "      <td>0.035175</td>\n",
              "      <td>0.088594</td>\n",
              "    </tr>\n",
              "    <tr>\n",
              "      <th>sysBP</th>\n",
              "      <td>-0.039762</td>\n",
              "      <td>0.398299</td>\n",
              "      <td>-0.137169</td>\n",
              "      <td>-0.127399</td>\n",
              "      <td>-0.075755</td>\n",
              "      <td>0.256577</td>\n",
              "      <td>0.065014</td>\n",
              "      <td>0.706746</td>\n",
              "      <td>0.107471</td>\n",
              "      <td>0.210087</td>\n",
              "      <td>1.000000</td>\n",
              "      <td>0.774945</td>\n",
              "      <td>0.324003</td>\n",
              "      <td>0.160763</td>\n",
              "      <td>0.129951</td>\n",
              "      <td>0.214334</td>\n",
              "    </tr>\n",
              "    <tr>\n",
              "      <th>diaBP</th>\n",
              "      <td>0.055043</td>\n",
              "      <td>0.213507</td>\n",
              "      <td>-0.072596</td>\n",
              "      <td>-0.105893</td>\n",
              "      <td>-0.047760</td>\n",
              "      <td>0.192336</td>\n",
              "      <td>0.063068</td>\n",
              "      <td>0.616959</td>\n",
              "      <td>0.042271</td>\n",
              "      <td>0.165685</td>\n",
              "      <td>0.774945</td>\n",
              "      <td>1.000000</td>\n",
              "      <td>0.378235</td>\n",
              "      <td>0.165310</td>\n",
              "      <td>0.050379</td>\n",
              "      <td>0.132441</td>\n",
              "    </tr>\n",
              "    <tr>\n",
              "      <th>BMI</th>\n",
              "      <td>0.078096</td>\n",
              "      <td>0.142847</td>\n",
              "      <td>-0.136047</td>\n",
              "      <td>-0.162596</td>\n",
              "      <td>-0.087631</td>\n",
              "      <td>0.108699</td>\n",
              "      <td>0.039758</td>\n",
              "      <td>0.306178</td>\n",
              "      <td>0.075614</td>\n",
              "      <td>0.117534</td>\n",
              "      <td>0.324003</td>\n",
              "      <td>0.378235</td>\n",
              "      <td>1.000000</td>\n",
              "      <td>0.062111</td>\n",
              "      <td>0.068159</td>\n",
              "      <td>0.091159</td>\n",
              "    </tr>\n",
              "    <tr>\n",
              "      <th>heartRate</th>\n",
              "      <td>-0.121020</td>\n",
              "      <td>-0.018479</td>\n",
              "      <td>-0.066930</td>\n",
              "      <td>0.075399</td>\n",
              "      <td>0.083048</td>\n",
              "      <td>-0.016744</td>\n",
              "      <td>-0.025786</td>\n",
              "      <td>0.127813</td>\n",
              "      <td>0.045548</td>\n",
              "      <td>0.084488</td>\n",
              "      <td>0.160763</td>\n",
              "      <td>0.165310</td>\n",
              "      <td>0.062111</td>\n",
              "      <td>1.000000</td>\n",
              "      <td>0.071819</td>\n",
              "      <td>0.032582</td>\n",
              "    </tr>\n",
              "    <tr>\n",
              "      <th>glucose</th>\n",
              "      <td>0.019014</td>\n",
              "      <td>0.113146</td>\n",
              "      <td>-0.017104</td>\n",
              "      <td>-0.052274</td>\n",
              "      <td>-0.059007</td>\n",
              "      <td>0.049216</td>\n",
              "      <td>0.012599</td>\n",
              "      <td>0.080767</td>\n",
              "      <td>0.614539</td>\n",
              "      <td>0.035175</td>\n",
              "      <td>0.129951</td>\n",
              "      <td>0.050379</td>\n",
              "      <td>0.068159</td>\n",
              "      <td>0.071819</td>\n",
              "      <td>1.000000</td>\n",
              "      <td>0.116880</td>\n",
              "    </tr>\n",
              "    <tr>\n",
              "      <th>TenYearCHD</th>\n",
              "      <td>0.077759</td>\n",
              "      <td>0.219124</td>\n",
              "      <td>-0.050165</td>\n",
              "      <td>0.022355</td>\n",
              "      <td>0.063205</td>\n",
              "      <td>0.081726</td>\n",
              "      <td>0.065725</td>\n",
              "      <td>0.180094</td>\n",
              "      <td>0.110867</td>\n",
              "      <td>0.088594</td>\n",
              "      <td>0.214334</td>\n",
              "      <td>0.132441</td>\n",
              "      <td>0.091159</td>\n",
              "      <td>0.032582</td>\n",
              "      <td>0.116880</td>\n",
              "      <td>1.000000</td>\n",
              "    </tr>\n",
              "  </tbody>\n",
              "</table>\n",
              "</div>"
            ],
            "text/plain": [
              "                     male       age  education  ...  heartRate   glucose  TenYearCHD\n",
              "male             1.000000 -0.032376   0.041273  ...  -0.121020  0.019014    0.077759\n",
              "age             -0.032376  1.000000  -0.163537  ...  -0.018479  0.113146    0.219124\n",
              "education        0.041273 -0.163537   1.000000  ...  -0.066930 -0.017104   -0.050165\n",
              "currentSmoker    0.202738 -0.214773   0.019309  ...   0.075399 -0.052274    0.022355\n",
              "cigsPerDay       0.317662 -0.191219   0.004502  ...   0.083048 -0.059007    0.063205\n",
              "BPMeds          -0.029631  0.128628  -0.023410  ...  -0.016744  0.049216    0.081726\n",
              "prevalentStroke  0.006970  0.063679  -0.033713  ...  -0.025786  0.012599    0.065725\n",
              "prevalentHyp     0.000124  0.314129  -0.084182  ...   0.127813  0.080767    0.180094\n",
              "diabetes         0.016870  0.098819  -0.030044  ...   0.045548  0.614539    0.110867\n",
              "totChol         -0.085343  0.272992  -0.027716  ...   0.084488  0.035175    0.088594\n",
              "sysBP           -0.039762  0.398299  -0.137169  ...   0.160763  0.129951    0.214334\n",
              "diaBP            0.055043  0.213507  -0.072596  ...   0.165310  0.050379    0.132441\n",
              "BMI              0.078096  0.142847  -0.136047  ...   0.062111  0.068159    0.091159\n",
              "heartRate       -0.121020 -0.018479  -0.066930  ...   1.000000  0.071819    0.032582\n",
              "glucose          0.019014  0.113146  -0.017104  ...   0.071819  1.000000    0.116880\n",
              "TenYearCHD       0.077759  0.219124  -0.050165  ...   0.032582  0.116880    1.000000\n",
              "\n",
              "[16 rows x 16 columns]"
            ]
          },
          "metadata": {},
          "execution_count": 46
        }
      ]
    },
    {
      "cell_type": "code",
      "metadata": {
        "colab": {
          "base_uri": "https://localhost:8080/",
          "height": 682
        },
        "id": "XcP42Y-JeKQ1",
        "outputId": "e1274934-d4ca-4f5c-ab60-0b3c702b14ff"
      },
      "source": [
        "import seaborn as sns\n",
        "#using pearson Correlation\n",
        "print(\"Pearson correlation\")\n",
        "plt.figure(figsize=(12,10))\n",
        "cor=x_train.corr()\n",
        "sns.heatmap(cor,annot=True,cmap=plt.cm.CMRmap_r)\n",
        "plt.show()"
      ],
      "id": "XcP42Y-JeKQ1",
      "execution_count": null,
      "outputs": [
        {
          "output_type": "stream",
          "name": "stdout",
          "text": [
            "Pearson correlation\n"
          ]
        },
        {
          "output_type": "display_data",
          "data": {
            "image/png": "[encoded data removed]",
            "text/plain": [
              "<Figure size 864x720 with 2 Axes>"
            ]
          },
          "metadata": {
            "needs_background": "light"
          }
        }
      ]
    },
    {
      "cell_type": "code",
      "metadata": {
        "id": "1L1YsK_uec_x"
      },
      "source": [
        "def correlation(dataset,threshold):\n",
        "  col_corr=set() #set of all names of correlated columns\n",
        "  corr_matrix=dataset.corr()\n",
        "  for i in range(len(corr_matrix.columns)):\n",
        "      for j in range(i):\n",
        "        if abs(corr_matrix.iloc[i,j])>threshold:\n",
        "          colname=corr_matrix.columns[i]\n",
        "          col_corr.add(colname)\n",
        "  return col_corr"
      ],
      "id": "1L1YsK_uec_x",
      "execution_count": null,
      "outputs": []
    },
    {
      "cell_type": "code",
      "metadata": {
        "colab": {
          "base_uri": "https://localhost:8080/"
        },
        "id": "QsfH-dcueiHj",
        "outputId": "582ff69d-9828-409c-e308-833af0f37b2e"
      },
      "source": [
        "corr_features=correlation(x_train,0.7)\n",
        "len(set(corr_features))"
      ],
      "id": "QsfH-dcueiHj",
      "execution_count": null,
      "outputs": [
        {
          "output_type": "execute_result",
          "data": {
            "text/plain": [
              "3"
            ]
          },
          "metadata": {},
          "execution_count": 51
        }
      ]
    },
    {
      "cell_type": "code",
      "metadata": {
        "colab": {
          "base_uri": "https://localhost:8080/"
        },
        "id": "pPM_VvYqeqMZ",
        "outputId": "70fa21ab-3580-4867-8c9b-00ff558890ef"
      },
      "source": [
        "corr_features"
      ],
      "id": "pPM_VvYqeqMZ",
      "execution_count": null,
      "outputs": [
        {
          "output_type": "execute_result",
          "data": {
            "text/plain": [
              "{'cigsPerDay', 'diaBP', 'sysBP'}"
            ]
          },
          "metadata": {},
          "execution_count": 52
        }
      ]
    },
    {
      "cell_type": "code",
      "metadata": {
        "colab": {
          "base_uri": "https://localhost:8080/",
          "height": 417
        },
        "id": "4GLeXypPe2VE",
        "outputId": "389eb007-e8da-41e9-f60a-18d9acdd6867"
      },
      "source": [
        "x_train.drop(corr_features,axis=1)\n",
        "x_test.drop(corr_features,axis=1)"
      ],
      "id": "4GLeXypPe2VE",
      "execution_count": null,
      "outputs": [
        {
          "output_type": "execute_result",
          "data": {
            "text/html": [
              "<div>\n",
              "<style scoped>\n",
              "    .dataframe tbody tr th:only-of-type {\n",
              "        vertical-align: middle;\n",
              "    }\n",
              "\n",
              "    .dataframe tbody tr th {\n",
              "        vertical-align: top;\n",
              "    }\n",
              "\n",
              "    .dataframe thead th {\n",
              "        text-align: right;\n",
              "    }\n",
              "</style>\n",
              "<table border=\"1\" class=\"dataframe\">\n",
              "  <thead>\n",
              "    <tr style=\"text-align: right;\">\n",
              "      <th></th>\n",
              "      <th>male</th>\n",
              "      <th>age</th>\n",
              "      <th>education</th>\n",
              "      <th>currentSmoker</th>\n",
              "      <th>BPMeds</th>\n",
              "      <th>prevalentStroke</th>\n",
              "      <th>prevalentHyp</th>\n",
              "      <th>diabetes</th>\n",
              "      <th>totChol</th>\n",
              "      <th>BMI</th>\n",
              "      <th>heartRate</th>\n",
              "      <th>glucose</th>\n",
              "      <th>TenYearCHD</th>\n",
              "    </tr>\n",
              "  </thead>\n",
              "  <tbody>\n",
              "    <tr>\n",
              "      <th>1669</th>\n",
              "      <td>0</td>\n",
              "      <td>47</td>\n",
              "      <td>1.0</td>\n",
              "      <td>0</td>\n",
              "      <td>0.0</td>\n",
              "      <td>0</td>\n",
              "      <td>1</td>\n",
              "      <td>0</td>\n",
              "      <td>305.0</td>\n",
              "      <td>27.64</td>\n",
              "      <td>75.0</td>\n",
              "      <td>62.0</td>\n",
              "      <td>0</td>\n",
              "    </tr>\n",
              "    <tr>\n",
              "      <th>156</th>\n",
              "      <td>0</td>\n",
              "      <td>58</td>\n",
              "      <td>2.0</td>\n",
              "      <td>0</td>\n",
              "      <td>0.0</td>\n",
              "      <td>0</td>\n",
              "      <td>1</td>\n",
              "      <td>0</td>\n",
              "      <td>195.0</td>\n",
              "      <td>23.36</td>\n",
              "      <td>60.0</td>\n",
              "      <td>73.0</td>\n",
              "      <td>0</td>\n",
              "    </tr>\n",
              "    <tr>\n",
              "      <th>87</th>\n",
              "      <td>0</td>\n",
              "      <td>61</td>\n",
              "      <td>2.0</td>\n",
              "      <td>1</td>\n",
              "      <td>0.0</td>\n",
              "      <td>0</td>\n",
              "      <td>1</td>\n",
              "      <td>0</td>\n",
              "      <td>326.0</td>\n",
              "      <td>38.46</td>\n",
              "      <td>57.0</td>\n",
              "      <td>78.0</td>\n",
              "      <td>0</td>\n",
              "    </tr>\n",
              "    <tr>\n",
              "      <th>685</th>\n",
              "      <td>0</td>\n",
              "      <td>45</td>\n",
              "      <td>2.0</td>\n",
              "      <td>0</td>\n",
              "      <td>0.0</td>\n",
              "      <td>0</td>\n",
              "      <td>1</td>\n",
              "      <td>0</td>\n",
              "      <td>215.0</td>\n",
              "      <td>25.92</td>\n",
              "      <td>100.0</td>\n",
              "      <td>75.0</td>\n",
              "      <td>0</td>\n",
              "    </tr>\n",
              "    <tr>\n",
              "      <th>666</th>\n",
              "      <td>0</td>\n",
              "      <td>57</td>\n",
              "      <td>1.0</td>\n",
              "      <td>0</td>\n",
              "      <td>0.0</td>\n",
              "      <td>0</td>\n",
              "      <td>0</td>\n",
              "      <td>0</td>\n",
              "      <td>287.0</td>\n",
              "      <td>26.24</td>\n",
              "      <td>65.0</td>\n",
              "      <td>71.0</td>\n",
              "      <td>0</td>\n",
              "    </tr>\n",
              "    <tr>\n",
              "      <th>...</th>\n",
              "      <td>...</td>\n",
              "      <td>...</td>\n",
              "      <td>...</td>\n",
              "      <td>...</td>\n",
              "      <td>...</td>\n",
              "      <td>...</td>\n",
              "      <td>...</td>\n",
              "      <td>...</td>\n",
              "      <td>...</td>\n",
              "      <td>...</td>\n",
              "      <td>...</td>\n",
              "      <td>...</td>\n",
              "      <td>...</td>\n",
              "    </tr>\n",
              "    <tr>\n",
              "      <th>3324</th>\n",
              "      <td>0</td>\n",
              "      <td>58</td>\n",
              "      <td>2.0</td>\n",
              "      <td>1</td>\n",
              "      <td>0.0</td>\n",
              "      <td>0</td>\n",
              "      <td>0</td>\n",
              "      <td>0</td>\n",
              "      <td>226.0</td>\n",
              "      <td>24.00</td>\n",
              "      <td>75.0</td>\n",
              "      <td>73.0</td>\n",
              "      <td>0</td>\n",
              "    </tr>\n",
              "    <tr>\n",
              "      <th>3267</th>\n",
              "      <td>1</td>\n",
              "      <td>44</td>\n",
              "      <td>1.0</td>\n",
              "      <td>1</td>\n",
              "      <td>0.0</td>\n",
              "      <td>0</td>\n",
              "      <td>1</td>\n",
              "      <td>0</td>\n",
              "      <td>316.0</td>\n",
              "      <td>25.48</td>\n",
              "      <td>75.0</td>\n",
              "      <td>68.0</td>\n",
              "      <td>0</td>\n",
              "    </tr>\n",
              "    <tr>\n",
              "      <th>3871</th>\n",
              "      <td>1</td>\n",
              "      <td>45</td>\n",
              "      <td>1.0</td>\n",
              "      <td>1</td>\n",
              "      <td>0.0</td>\n",
              "      <td>0</td>\n",
              "      <td>1</td>\n",
              "      <td>0</td>\n",
              "      <td>256.0</td>\n",
              "      <td>26.60</td>\n",
              "      <td>75.0</td>\n",
              "      <td>83.0</td>\n",
              "      <td>0</td>\n",
              "    </tr>\n",
              "    <tr>\n",
              "      <th>3231</th>\n",
              "      <td>0</td>\n",
              "      <td>46</td>\n",
              "      <td>3.0</td>\n",
              "      <td>1</td>\n",
              "      <td>0.0</td>\n",
              "      <td>0</td>\n",
              "      <td>1</td>\n",
              "      <td>0</td>\n",
              "      <td>315.0</td>\n",
              "      <td>32.89</td>\n",
              "      <td>110.0</td>\n",
              "      <td>91.0</td>\n",
              "      <td>0</td>\n",
              "    </tr>\n",
              "    <tr>\n",
              "      <th>2853</th>\n",
              "      <td>1</td>\n",
              "      <td>46</td>\n",
              "      <td>4.0</td>\n",
              "      <td>1</td>\n",
              "      <td>0.0</td>\n",
              "      <td>0</td>\n",
              "      <td>0</td>\n",
              "      <td>0</td>\n",
              "      <td>165.0</td>\n",
              "      <td>24.67</td>\n",
              "      <td>60.0</td>\n",
              "      <td>77.0</td>\n",
              "      <td>0</td>\n",
              "    </tr>\n",
              "  </tbody>\n",
              "</table>\n",
              "<p>1272 rows × 13 columns</p>\n",
              "</div>"
            ],
            "text/plain": [
              "      male  age  education  ...  heartRate  glucose  TenYearCHD\n",
              "1669     0   47        1.0  ...       75.0     62.0           0\n",
              "156      0   58        2.0  ...       60.0     73.0           0\n",
              "87       0   61        2.0  ...       57.0     78.0           0\n",
              "685      0   45        2.0  ...      100.0     75.0           0\n",
              "666      0   57        1.0  ...       65.0     71.0           0\n",
              "...    ...  ...        ...  ...        ...      ...         ...\n",
              "3324     0   58        2.0  ...       75.0     73.0           0\n",
              "3267     1   44        1.0  ...       75.0     68.0           0\n",
              "3871     1   45        1.0  ...       75.0     83.0           0\n",
              "3231     0   46        3.0  ...      110.0     91.0           0\n",
              "2853     1   46        4.0  ...       60.0     77.0           0\n",
              "\n",
              "[1272 rows x 13 columns]"
            ]
          },
          "metadata": {},
          "execution_count": 53
        }
      ]
    },
    {
      "cell_type": "code",
      "metadata": {
        "colab": {
          "base_uri": "https://localhost:8080/",
          "height": 110
        },
        "id": "uFqX3di0e46m",
        "outputId": "521f71a2-cf01-4d46-978c-9383b068f0e8"
      },
      "source": [
        "train = data.copy()\n",
        "target = train.pop('TenYearCHD')\n",
        "train.head(2)"
      ],
      "id": "uFqX3di0e46m",
      "execution_count": null,
      "outputs": [
        {
          "output_type": "execute_result",
          "data": {
            "text/html": [
              "<div>\n",
              "<style scoped>\n",
              "    .dataframe tbody tr th:only-of-type {\n",
              "        vertical-align: middle;\n",
              "    }\n",
              "\n",
              "    .dataframe tbody tr th {\n",
              "        vertical-align: top;\n",
              "    }\n",
              "\n",
              "    .dataframe thead th {\n",
              "        text-align: right;\n",
              "    }\n",
              "</style>\n",
              "<table border=\"1\" class=\"dataframe\">\n",
              "  <thead>\n",
              "    <tr style=\"text-align: right;\">\n",
              "      <th></th>\n",
              "      <th>male</th>\n",
              "      <th>age</th>\n",
              "      <th>education</th>\n",
              "      <th>currentSmoker</th>\n",
              "      <th>cigsPerDay</th>\n",
              "      <th>BPMeds</th>\n",
              "      <th>prevalentStroke</th>\n",
              "      <th>prevalentHyp</th>\n",
              "      <th>diabetes</th>\n",
              "      <th>totChol</th>\n",
              "      <th>sysBP</th>\n",
              "      <th>diaBP</th>\n",
              "      <th>BMI</th>\n",
              "      <th>heartRate</th>\n",
              "      <th>glucose</th>\n",
              "    </tr>\n",
              "  </thead>\n",
              "  <tbody>\n",
              "    <tr>\n",
              "      <th>0</th>\n",
              "      <td>1</td>\n",
              "      <td>39</td>\n",
              "      <td>4.0</td>\n",
              "      <td>0</td>\n",
              "      <td>0.0</td>\n",
              "      <td>0.0</td>\n",
              "      <td>0</td>\n",
              "      <td>0</td>\n",
              "      <td>0</td>\n",
              "      <td>195.0</td>\n",
              "      <td>106.0</td>\n",
              "      <td>70.0</td>\n",
              "      <td>26.97</td>\n",
              "      <td>80.0</td>\n",
              "      <td>77.0</td>\n",
              "    </tr>\n",
              "    <tr>\n",
              "      <th>1</th>\n",
              "      <td>0</td>\n",
              "      <td>46</td>\n",
              "      <td>2.0</td>\n",
              "      <td>0</td>\n",
              "      <td>0.0</td>\n",
              "      <td>0.0</td>\n",
              "      <td>0</td>\n",
              "      <td>0</td>\n",
              "      <td>0</td>\n",
              "      <td>250.0</td>\n",
              "      <td>121.0</td>\n",
              "      <td>81.0</td>\n",
              "      <td>28.73</td>\n",
              "      <td>95.0</td>\n",
              "      <td>76.0</td>\n",
              "    </tr>\n",
              "  </tbody>\n",
              "</table>\n",
              "</div>"
            ],
            "text/plain": [
              "   male  age  education  currentSmoker  ...  diaBP    BMI  heartRate  glucose\n",
              "0     1   39        4.0              0  ...   70.0  26.97       80.0     77.0\n",
              "1     0   46        2.0              0  ...   81.0  28.73       95.0     76.0\n",
              "\n",
              "[2 rows x 15 columns]"
            ]
          },
          "metadata": {},
          "execution_count": 54
        }
      ]
    },
    {
      "cell_type": "code",
      "metadata": {
        "id": "91bJ1c8dfIKJ"
      },
      "source": [
        "num_features_opt = 25   # the number of features that we need to choose as a result\n",
        "num_features_max = 35   # the somewhat excessive number of features, which we will choose at each stage\n",
        "features_best = []"
      ],
      "id": "91bJ1c8dfIKJ",
      "execution_count": null,
      "outputs": []
    },
    {
      "cell_type": "code",
      "metadata": {
        "id": "jC7aa5K3fOKM"
      },
      "source": [
        "#selectFromModel with linearSVC\n",
        "from sklearn.svm import SVC, LinearSVC, SVR\n",
        "from sklearn.feature_selection import SelectFromModel, SelectKBest, RFE, chi2\n",
        "from sklearn.model_selection import train_test_split\n",
        "lsvc = LinearSVC(C=0.1, penalty=\"l1\", dual=False).fit(train, target)\n",
        "model = SelectFromModel(lsvc, prefit=True)\n",
        "X_new = model.transform(train)\n",
        "X_selected_df = pd.DataFrame(X_new, columns=[train.columns[i] for i in range(len(train.columns)) if model.get_support()[i]])\n",
        "features_best.append(X_selected_df.columns.tolist())"
      ],
      "id": "jC7aa5K3fOKM",
      "execution_count": null,
      "outputs": []
    },
    {
      "cell_type": "code",
      "metadata": {
        "colab": {
          "base_uri": "https://localhost:8080/"
        },
        "id": "aji7Q6JbfSQE",
        "outputId": "a64cb620-11db-4592-83d5-f91546092f19"
      },
      "source": [
        "print(features_best)"
      ],
      "id": "aji7Q6JbfSQE",
      "execution_count": null,
      "outputs": [
        {
          "output_type": "stream",
          "name": "stdout",
          "text": [
            "[['male', 'age', 'education', 'cigsPerDay', 'BPMeds', 'prevalentStroke', 'prevalentHyp', 'diabetes', 'totChol', 'sysBP', 'diaBP', 'BMI', 'heartRate', 'glucose']]\n"
          ]
        }
      ]
    },
    {
      "cell_type": "code",
      "metadata": {
        "id": "QRMAnLpFfVcW"
      },
      "source": [
        "#using lasso\n",
        "from sklearn.linear_model import LinearRegression, LogisticRegression, Perceptron, RidgeClassifier, SGDClassifier, LassoCV\n",
        "lasso = LassoCV(cv=3).fit(train, target)\n",
        "model = SelectFromModel(lasso, prefit=True)\n",
        "X_new = model.transform(train)\n",
        "X_selected_df = pd.DataFrame(X_new, columns=[train.columns[i] for i in range(len(train.columns)) if model.get_support()[i]])\n",
        "features_best.append(X_selected_df.columns.tolist())"
      ],
      "id": "QRMAnLpFfVcW",
      "execution_count": null,
      "outputs": []
    },
    {
      "cell_type": "code",
      "metadata": {
        "colab": {
          "base_uri": "https://localhost:8080/"
        },
        "id": "XZ0XlMgrfb_y",
        "outputId": "2910851d-0e1c-4a5b-fba4-210792238fc0"
      },
      "source": [
        "# Visualization from https://towardsdatascience.com/feature-selection-techniques-in-machine-learning-with-python-f24e7da3f36e\n",
        "# but to k='all'\n",
        "bestfeatures = SelectKBest(score_func=chi2, k='all')\n",
        "fit = bestfeatures.fit(train, target)\n",
        "dfscores = pd.DataFrame(fit.scores_)\n",
        "dfcolumns = pd.DataFrame(train.columns)\n",
        "\n",
        "#concat two dataframes for better visualization \n",
        "featureScores = pd.concat([dfcolumns,dfscores],axis=1)\n",
        "featureScores.columns = ['Feature','Score']  #naming the dataframe columns\n",
        "features_best.append(featureScores.nlargest(num_features_max,'Score')['Feature'].tolist())\n",
        "print(featureScores.nlargest(len(dfcolumns),'Score')) "
      ],
      "id": "XZ0XlMgrfb_y",
      "execution_count": null,
      "outputs": [
        {
          "output_type": "stream",
          "name": "stdout",
          "text": [
            "            Feature       Score\n",
            "10            sysBP  728.292522\n",
            "14          glucose  390.825416\n",
            "1               age  318.597444\n",
            "9           totChol  234.305978\n",
            "4        cigsPerDay  221.677041\n",
            "11            diaBP  153.090954\n",
            "7      prevalentHyp   92.167857\n",
            "8          diabetes   39.103710\n",
            "5            BPMeds   30.578341\n",
            "0              male   18.915212\n",
            "6   prevalentStroke   16.095638\n",
            "12              BMI   15.177679\n",
            "2         education    6.188170\n",
            "13        heartRate    4.233476\n",
            "3     currentSmoker    0.811603\n"
          ]
        }
      ]
    },
    {
      "cell_type": "code",
      "metadata": {
        "id": "CpWa5_c4fg7v"
      },
      "source": [
        "#by the SelectKBest with Chi-2\n",
        "from sklearn import datasets\n",
        "from sklearn.feature_selection import chi2\n",
        "from sklearn.feature_selection import SelectKBest"
      ],
      "id": "CpWa5_c4fg7v",
      "execution_count": null,
      "outputs": []
    },
    {
      "cell_type": "code",
      "metadata": {
        "colab": {
          "base_uri": "https://localhost:8080/"
        },
        "id": "oOYAkNxGflvm",
        "outputId": "746faa94-164a-4a0b-a302-6805c85699b8"
      },
      "source": [
        "#Loading data\n",
        "X,y=datasets.load_wine(return_X_y=True)\n",
        "# k = 4 tells four top features to be selected\n",
        "# Score function Chi2 tells the feature to be selected using Chi Square\n",
        "test = SelectKBest(score_func=chi2, k=4)\n",
        "fit = test.fit(X, y)\n",
        "fit.scores_"
      ],
      "id": "oOYAkNxGflvm",
      "execution_count": null,
      "outputs": [
        {
          "output_type": "execute_result",
          "data": {
            "text/plain": [
              "array([5.44549882e+00, 2.80686046e+01, 7.43380598e-01, 2.93836955e+01,\n",
              "       4.50263809e+01, 1.56230759e+01, 6.33343081e+01, 1.81548480e+00,\n",
              "       9.36828307e+00, 1.09016647e+02, 5.18253981e+00, 2.33898834e+01,\n",
              "       1.65400671e+04])"
            ]
          },
          "metadata": {},
          "execution_count": 61
        }
      ]
    },
    {
      "cell_type": "code",
      "metadata": {
        "id": "DRgP377qfpOK"
      },
      "source": [
        "X_new=test.fit_transform(X, y)"
      ],
      "id": "DRgP377qfpOK",
      "execution_count": null,
      "outputs": []
    },
    {
      "cell_type": "code",
      "metadata": {
        "colab": {
          "base_uri": "https://localhost:8080/"
        },
        "id": "2dSCU4h1fs9n",
        "outputId": "de4d0dc8-91ce-45b1-fd7d-7c036edd3e93"
      },
      "source": [
        "print(X_new)"
      ],
      "id": "2dSCU4h1fs9n",
      "execution_count": null,
      "outputs": [
        {
          "output_type": "stream",
          "name": "stdout",
          "text": [
            "[[1.270000e+02 3.060000e+00 5.640000e+00 1.065000e+03]\n",
            " [1.000000e+02 2.760000e+00 4.380000e+00 1.050000e+03]\n",
            " [1.010000e+02 3.240000e+00 5.680000e+00 1.185000e+03]\n",
            " [1.130000e+02 3.490000e+00 7.800000e+00 1.480000e+03]\n",
            " [1.180000e+02 2.690000e+00 4.320000e+00 7.350000e+02]\n",
            " [1.120000e+02 3.390000e+00 6.750000e+00 1.450000e+03]\n",
            " [9.600000e+01 2.520000e+00 5.250000e+00 1.290000e+03]\n",
            " [1.210000e+02 2.510000e+00 5.050000e+00 1.295000e+03]\n",
            " [9.700000e+01 2.980000e+00 5.200000e+00 1.045000e+03]\n",
            " [9.800000e+01 3.150000e+00 7.220000e+00 1.045000e+03]\n",
            " [1.050000e+02 3.320000e+00 5.750000e+00 1.510000e+03]\n",
            " [9.500000e+01 2.430000e+00 5.000000e+00 1.280000e+03]\n",
            " [8.900000e+01 2.760000e+00 5.600000e+00 1.320000e+03]\n",
            " [9.100000e+01 3.690000e+00 5.400000e+00 1.150000e+03]\n",
            " [1.020000e+02 3.640000e+00 7.500000e+00 1.547000e+03]\n",
            " [1.120000e+02 2.910000e+00 7.300000e+00 1.310000e+03]\n",
            " [1.200000e+02 3.140000e+00 6.200000e+00 1.280000e+03]\n",
            " [1.150000e+02 3.400000e+00 6.600000e+00 1.130000e+03]\n",
            " [1.080000e+02 3.930000e+00 8.700000e+00 1.680000e+03]\n",
            " [1.160000e+02 3.030000e+00 5.100000e+00 8.450000e+02]\n",
            " [1.260000e+02 3.170000e+00 5.650000e+00 7.800000e+02]\n",
            " [1.020000e+02 2.410000e+00 4.500000e+00 7.700000e+02]\n",
            " [1.010000e+02 2.880000e+00 3.800000e+00 1.035000e+03]\n",
            " [9.500000e+01 2.370000e+00 3.930000e+00 1.015000e+03]\n",
            " [9.600000e+01 2.610000e+00 3.520000e+00 8.450000e+02]\n",
            " [1.240000e+02 2.680000e+00 3.580000e+00 8.300000e+02]\n",
            " [9.300000e+01 2.940000e+00 4.800000e+00 1.195000e+03]\n",
            " [9.400000e+01 2.190000e+00 3.950000e+00 1.285000e+03]\n",
            " [1.070000e+02 2.970000e+00 4.500000e+00 9.150000e+02]\n",
            " [9.600000e+01 2.330000e+00 4.700000e+00 1.035000e+03]\n",
            " [1.010000e+02 3.250000e+00 5.700000e+00 1.285000e+03]\n",
            " [1.060000e+02 3.190000e+00 6.900000e+00 1.515000e+03]\n",
            " [1.040000e+02 2.690000e+00 3.840000e+00 9.900000e+02]\n",
            " [1.320000e+02 2.740000e+00 5.400000e+00 1.235000e+03]\n",
            " [1.100000e+02 2.530000e+00 4.200000e+00 1.095000e+03]\n",
            " [1.000000e+02 2.980000e+00 5.100000e+00 9.200000e+02]\n",
            " [1.100000e+02 2.680000e+00 4.600000e+00 8.800000e+02]\n",
            " [9.800000e+01 2.430000e+00 4.250000e+00 1.105000e+03]\n",
            " [9.800000e+01 2.640000e+00 3.700000e+00 1.020000e+03]\n",
            " [1.280000e+02 3.040000e+00 5.100000e+00 7.600000e+02]\n",
            " [1.170000e+02 3.290000e+00 6.130000e+00 7.950000e+02]\n",
            " [9.000000e+01 2.680000e+00 4.280000e+00 1.035000e+03]\n",
            " [1.010000e+02 3.560000e+00 5.430000e+00 1.095000e+03]\n",
            " [1.030000e+02 2.630000e+00 4.360000e+00 6.800000e+02]\n",
            " [1.070000e+02 3.000000e+00 5.040000e+00 8.850000e+02]\n",
            " [1.110000e+02 2.650000e+00 5.240000e+00 1.080000e+03]\n",
            " [1.020000e+02 3.170000e+00 4.900000e+00 1.065000e+03]\n",
            " [1.010000e+02 3.390000e+00 6.100000e+00 9.850000e+02]\n",
            " [1.030000e+02 2.920000e+00 6.200000e+00 1.060000e+03]\n",
            " [1.080000e+02 3.540000e+00 8.900000e+00 1.260000e+03]\n",
            " [9.200000e+01 3.270000e+00 7.200000e+00 1.150000e+03]\n",
            " [9.400000e+01 2.990000e+00 5.600000e+00 1.265000e+03]\n",
            " [1.110000e+02 3.740000e+00 7.050000e+00 1.190000e+03]\n",
            " [1.150000e+02 2.790000e+00 6.300000e+00 1.375000e+03]\n",
            " [1.180000e+02 2.900000e+00 5.850000e+00 1.060000e+03]\n",
            " [1.160000e+02 2.780000e+00 6.250000e+00 1.120000e+03]\n",
            " [1.180000e+02 3.000000e+00 6.380000e+00 9.700000e+02]\n",
            " [1.020000e+02 3.230000e+00 6.000000e+00 1.270000e+03]\n",
            " [1.080000e+02 3.670000e+00 6.800000e+00 1.285000e+03]\n",
            " [8.800000e+01 5.700000e-01 1.950000e+00 5.200000e+02]\n",
            " [1.010000e+02 1.090000e+00 3.270000e+00 6.800000e+02]\n",
            " [1.000000e+02 1.410000e+00 5.750000e+00 4.500000e+02]\n",
            " [9.400000e+01 1.790000e+00 3.800000e+00 6.300000e+02]\n",
            " [8.700000e+01 3.100000e+00 4.450000e+00 4.200000e+02]\n",
            " [1.040000e+02 1.750000e+00 2.950000e+00 3.550000e+02]\n",
            " [9.800000e+01 2.650000e+00 4.600000e+00 6.780000e+02]\n",
            " [7.800000e+01 3.180000e+00 5.300000e+00 5.020000e+02]\n",
            " [7.800000e+01 2.000000e+00 4.680000e+00 5.100000e+02]\n",
            " [1.100000e+02 1.300000e+00 3.170000e+00 7.500000e+02]\n",
            " [1.510000e+02 1.280000e+00 2.850000e+00 7.180000e+02]\n",
            " [1.030000e+02 1.020000e+00 3.050000e+00 8.700000e+02]\n",
            " [8.600000e+01 2.860000e+00 3.380000e+00 4.100000e+02]\n",
            " [8.700000e+01 1.840000e+00 3.740000e+00 4.720000e+02]\n",
            " [1.390000e+02 2.890000e+00 3.350000e+00 9.850000e+02]\n",
            " [1.010000e+02 2.140000e+00 3.210000e+00 8.860000e+02]\n",
            " [9.700000e+01 1.570000e+00 3.800000e+00 4.280000e+02]\n",
            " [8.600000e+01 2.030000e+00 4.600000e+00 3.920000e+02]\n",
            " [1.120000e+02 1.320000e+00 2.650000e+00 5.000000e+02]\n",
            " [1.360000e+02 1.850000e+00 3.400000e+00 7.500000e+02]\n",
            " [1.010000e+02 2.550000e+00 2.570000e+00 4.630000e+02]\n",
            " [8.600000e+01 2.260000e+00 2.500000e+00 2.780000e+02]\n",
            " [8.600000e+01 2.530000e+00 3.900000e+00 7.140000e+02]\n",
            " [7.800000e+01 1.580000e+00 2.200000e+00 6.300000e+02]\n",
            " [8.500000e+01 1.590000e+00 4.800000e+00 5.150000e+02]\n",
            " [9.400000e+01 2.210000e+00 3.050000e+00 5.200000e+02]\n",
            " [9.900000e+01 1.940000e+00 2.620000e+00 4.500000e+02]\n",
            " [9.000000e+01 1.690000e+00 2.450000e+00 4.950000e+02]\n",
            " [8.800000e+01 1.610000e+00 2.600000e+00 5.620000e+02]\n",
            " [8.400000e+01 1.690000e+00 2.800000e+00 6.800000e+02]\n",
            " [7.000000e+01 1.590000e+00 1.740000e+00 6.250000e+02]\n",
            " [8.100000e+01 1.500000e+00 2.400000e+00 4.800000e+02]\n",
            " [8.600000e+01 1.250000e+00 3.600000e+00 4.500000e+02]\n",
            " [8.000000e+01 1.460000e+00 3.050000e+00 4.950000e+02]\n",
            " [8.800000e+01 2.250000e+00 2.150000e+00 2.900000e+02]\n",
            " [9.800000e+01 2.260000e+00 3.250000e+00 3.450000e+02]\n",
            " [1.620000e+02 2.270000e+00 2.600000e+00 9.370000e+02]\n",
            " [1.340000e+02 9.900000e-01 2.500000e+00 6.250000e+02]\n",
            " [8.500000e+01 2.500000e+00 2.900000e+00 4.280000e+02]\n",
            " [8.800000e+01 3.750000e+00 4.500000e+00 6.600000e+02]\n",
            " [8.800000e+01 2.990000e+00 2.300000e+00 4.060000e+02]\n",
            " [9.700000e+01 2.170000e+00 3.300000e+00 7.100000e+02]\n",
            " [8.800000e+01 1.360000e+00 2.450000e+00 5.620000e+02]\n",
            " [9.800000e+01 2.110000e+00 2.800000e+00 4.380000e+02]\n",
            " [8.600000e+01 1.640000e+00 2.060000e+00 4.150000e+02]\n",
            " [8.500000e+01 1.920000e+00 2.940000e+00 6.720000e+02]\n",
            " [9.000000e+01 1.840000e+00 2.700000e+00 3.150000e+02]\n",
            " [8.000000e+01 2.030000e+00 3.400000e+00 5.100000e+02]\n",
            " [8.400000e+01 1.760000e+00 3.300000e+00 4.880000e+02]\n",
            " [9.200000e+01 2.040000e+00 2.700000e+00 3.120000e+02]\n",
            " [9.400000e+01 2.920000e+00 2.650000e+00 6.800000e+02]\n",
            " [1.070000e+02 2.580000e+00 2.900000e+00 5.620000e+02]\n",
            " [8.800000e+01 2.270000e+00 2.000000e+00 3.250000e+02]\n",
            " [1.030000e+02 2.030000e+00 3.800000e+00 6.070000e+02]\n",
            " [8.800000e+01 2.010000e+00 3.080000e+00 4.340000e+02]\n",
            " [8.400000e+01 2.290000e+00 2.900000e+00 3.850000e+02]\n",
            " [8.500000e+01 2.170000e+00 1.900000e+00 4.070000e+02]\n",
            " [8.600000e+01 1.600000e+00 1.950000e+00 4.950000e+02]\n",
            " [1.080000e+02 2.090000e+00 2.060000e+00 3.450000e+02]\n",
            " [8.000000e+01 1.250000e+00 3.400000e+00 3.720000e+02]\n",
            " [8.700000e+01 1.640000e+00 1.280000e+00 5.640000e+02]\n",
            " [9.600000e+01 2.790000e+00 3.250000e+00 6.250000e+02]\n",
            " [1.190000e+02 5.080000e+00 6.000000e+00 4.650000e+02]\n",
            " [1.020000e+02 2.130000e+00 2.080000e+00 3.650000e+02]\n",
            " [8.600000e+01 2.650000e+00 2.600000e+00 3.800000e+02]\n",
            " [8.200000e+01 3.030000e+00 2.800000e+00 3.800000e+02]\n",
            " [8.500000e+01 2.650000e+00 2.760000e+00 3.780000e+02]\n",
            " [8.600000e+01 3.150000e+00 3.940000e+00 3.520000e+02]\n",
            " [9.200000e+01 2.240000e+00 3.000000e+00 4.660000e+02]\n",
            " [8.800000e+01 2.450000e+00 2.120000e+00 3.420000e+02]\n",
            " [8.000000e+01 1.750000e+00 2.600000e+00 5.800000e+02]\n",
            " [1.220000e+02 1.250000e+00 4.100000e+00 6.300000e+02]\n",
            " [1.040000e+02 1.220000e+00 5.400000e+00 5.300000e+02]\n",
            " [9.800000e+01 1.090000e+00 5.700000e+00 5.600000e+02]\n",
            " [1.060000e+02 1.200000e+00 5.000000e+00 6.000000e+02]\n",
            " [8.500000e+01 5.800000e-01 5.450000e+00 6.500000e+02]\n",
            " [9.400000e+01 6.600000e-01 7.100000e+00 6.950000e+02]\n",
            " [8.900000e+01 4.700000e-01 3.850000e+00 7.200000e+02]\n",
            " [9.600000e+01 6.000000e-01 5.000000e+00 5.150000e+02]\n",
            " [8.800000e+01 4.800000e-01 5.700000e+00 5.800000e+02]\n",
            " [1.010000e+02 6.000000e-01 4.920000e+00 5.900000e+02]\n",
            " [9.600000e+01 5.000000e-01 4.600000e+00 6.000000e+02]\n",
            " [8.900000e+01 5.000000e-01 5.600000e+00 7.800000e+02]\n",
            " [9.700000e+01 5.200000e-01 4.350000e+00 5.200000e+02]\n",
            " [9.200000e+01 8.000000e-01 4.400000e+00 5.500000e+02]\n",
            " [1.120000e+02 7.800000e-01 8.210000e+00 8.550000e+02]\n",
            " [1.020000e+02 5.500000e-01 4.000000e+00 8.300000e+02]\n",
            " [8.000000e+01 3.400000e-01 4.900000e+00 4.150000e+02]\n",
            " [8.600000e+01 6.500000e-01 7.650000e+00 6.250000e+02]\n",
            " [9.200000e+01 7.600000e-01 8.420000e+00 6.500000e+02]\n",
            " [1.130000e+02 1.390000e+00 9.400000e+00 5.500000e+02]\n",
            " [1.230000e+02 1.570000e+00 8.600000e+00 5.000000e+02]\n",
            " [1.120000e+02 1.360000e+00 1.080000e+01 4.800000e+02]\n",
            " [1.160000e+02 1.280000e+00 7.100000e+00 4.250000e+02]\n",
            " [9.800000e+01 8.300000e-01 1.052000e+01 6.750000e+02]\n",
            " [1.030000e+02 5.800000e-01 7.600000e+00 6.400000e+02]\n",
            " [9.300000e+01 6.300000e-01 7.900000e+00 7.250000e+02]\n",
            " [8.900000e+01 8.300000e-01 9.010000e+00 4.800000e+02]\n",
            " [9.700000e+01 5.800000e-01 7.500000e+00 8.800000e+02]\n",
            " [9.800000e+01 1.310000e+00 1.300000e+01 6.600000e+02]\n",
            " [8.900000e+01 1.100000e+00 1.175000e+01 6.200000e+02]\n",
            " [8.800000e+01 9.200000e-01 7.650000e+00 5.200000e+02]\n",
            " [1.070000e+02 5.600000e-01 5.880000e+00 6.800000e+02]\n",
            " [1.060000e+02 6.000000e-01 5.580000e+00 5.700000e+02]\n",
            " [1.060000e+02 7.000000e-01 5.280000e+00 6.750000e+02]\n",
            " [9.000000e+01 6.800000e-01 9.580000e+00 6.150000e+02]\n",
            " [8.800000e+01 4.700000e-01 6.620000e+00 5.200000e+02]\n",
            " [1.110000e+02 9.200000e-01 1.068000e+01 6.950000e+02]\n",
            " [8.800000e+01 6.600000e-01 1.026000e+01 6.850000e+02]\n",
            " [1.050000e+02 8.400000e-01 8.660000e+00 7.500000e+02]\n",
            " [1.120000e+02 9.600000e-01 8.500000e+00 6.300000e+02]\n",
            " [9.600000e+01 4.900000e-01 5.500000e+00 5.100000e+02]\n",
            " [8.600000e+01 5.100000e-01 9.899999e+00 4.700000e+02]\n",
            " [9.100000e+01 7.000000e-01 9.700000e+00 6.600000e+02]\n",
            " [9.500000e+01 6.100000e-01 7.700000e+00 7.400000e+02]\n",
            " [1.020000e+02 7.500000e-01 7.300000e+00 7.500000e+02]\n",
            " [1.200000e+02 6.900000e-01 1.020000e+01 8.350000e+02]\n",
            " [1.200000e+02 6.800000e-01 9.300000e+00 8.400000e+02]\n",
            " [9.600000e+01 7.600000e-01 9.200000e+00 5.600000e+02]]\n"
          ]
        }
      ]
    },
    {
      "cell_type": "code",
      "metadata": {
        "id": "rQXvAFPafzUp"
      },
      "source": [
        "#by the recursive feature Elimination (RFE)with logistic Regression\n",
        "from sklearn.linear_model import LinearRegression, LogisticRegression, Perceptron, RidgeClassifier, SGDClassifier, LassoCV\n",
        "from sklearn.svm import SVC, LinearSVC, SVR\n",
        "from sklearn.ensemble import RandomForestClassifier, GradientBoostingClassifier, ExtraTreesClassifier \n",
        "from sklearn.ensemble import BaggingClassifier, AdaBoostClassifier, VotingClassifier"
      ],
      "id": "rQXvAFPafzUp",
      "execution_count": null,
      "outputs": []
    },
    {
      "cell_type": "code",
      "metadata": {
        "colab": {
          "base_uri": "https://localhost:8080/"
        },
        "id": "pnXQZKT1f3sy",
        "outputId": "dbd997a5-32bd-4723-ebfc-c02bedec33d9"
      },
      "source": [
        "rfe_selector = RFE(estimator=LogisticRegression(), n_features_to_select=num_features_max, step=10, verbose=5)\n",
        "rfe_selector.fit(train, target)\n",
        "rfe_support = rfe_selector.get_support()\n",
        "rfe_feature = train.loc[:,rfe_support].columns.tolist()\n",
        "print(str(len(rfe_feature)), 'selected features')"
      ],
      "id": "pnXQZKT1f3sy",
      "execution_count": null,
      "outputs": [
        {
          "output_type": "stream",
          "name": "stdout",
          "text": [
            "15 selected features\n"
          ]
        }
      ]
    },
    {
      "cell_type": "code",
      "metadata": {
        "id": "hjKtZWBDf9kH"
      },
      "source": [
        "features_best.append(rfe_feature)\n"
      ],
      "id": "hjKtZWBDf9kH",
      "execution_count": null,
      "outputs": []
    },
    {
      "cell_type": "code",
      "metadata": {
        "id": "7Dp7yvxSgDa_"
      },
      "source": [
        "#by the recursive feature elimination with random forest\n",
        "from sklearn.ensemble import RandomForestClassifier\n",
        "from sklearn.naive_bayes import GaussianNB\n",
        "from sklearn.neighbors import KNeighborsClassifier\n",
        "from sklearn.gaussian_process import GaussianProcessClassifier\n",
        "from sklearn.neural_network import MLPClassifier\n",
        "from sklearn.tree import DecisionTreeClassifier, plot_tree"
      ],
      "id": "7Dp7yvxSgDa_",
      "execution_count": null,
      "outputs": []
    },
    {
      "cell_type": "code",
      "metadata": {
        "colab": {
          "base_uri": "https://localhost:8080/"
        },
        "id": "jEDD07dcgLCI",
        "outputId": "f3bf20e8-4329-4c74-8a7d-c89f349e0f47"
      },
      "source": [
        "embeded_rf_selector = SelectFromModel(RandomForestClassifier(n_estimators=200), threshold='1.25*median')\n",
        "embeded_rf_selector.fit(train, target)"
      ],
      "id": "jEDD07dcgLCI",
      "execution_count": null,
      "outputs": [
        {
          "output_type": "execute_result",
          "data": {
            "text/plain": [
              "SelectFromModel(estimator=RandomForestClassifier(bootstrap=True, ccp_alpha=0.0,\n",
              "                                                 class_weight=None,\n",
              "                                                 criterion='gini',\n",
              "                                                 max_depth=None,\n",
              "                                                 max_features='auto',\n",
              "                                                 max_leaf_nodes=None,\n",
              "                                                 max_samples=None,\n",
              "                                                 min_impurity_decrease=0.0,\n",
              "                                                 min_impurity_split=None,\n",
              "                                                 min_samples_leaf=1,\n",
              "                                                 min_samples_split=2,\n",
              "                                                 min_weight_fraction_leaf=0.0,\n",
              "                                                 n_estimators=200, n_jobs=None,\n",
              "                                                 oob_score=False,\n",
              "                                                 random_state=None, verbose=0,\n",
              "                                                 warm_start=False),\n",
              "                max_features=None, norm_order=1, prefit=False,\n",
              "                threshold='1.25*median')"
            ]
          },
          "metadata": {},
          "execution_count": 68
        }
      ]
    },
    {
      "cell_type": "code",
      "metadata": {
        "colab": {
          "base_uri": "https://localhost:8080/"
        },
        "id": "lwZVf-ytgM9i",
        "outputId": "5cac023a-101c-4419-b9a8-27252eb9b43b"
      },
      "source": [
        "embeded_rf_support = embeded_rf_selector.get_support()\n",
        "embeded_rf_feature = train.loc[:,embeded_rf_support].columns.tolist()\n",
        "print(str(len(embeded_rf_feature)), 'selected features')"
      ],
      "id": "lwZVf-ytgM9i",
      "execution_count": null,
      "outputs": [
        {
          "output_type": "stream",
          "name": "stdout",
          "text": [
            "7 selected features\n"
          ]
        }
      ]
    },
    {
      "cell_type": "code",
      "metadata": {
        "id": "IhwW13lIgYGR"
      },
      "source": [
        "features_best.append(embeded_rf_feature)"
      ],
      "id": "IhwW13lIgYGR",
      "execution_count": null,
      "outputs": []
    },
    {
      "cell_type": "code",
      "metadata": {
        "id": "jJ_N_SVIgcpY"
      },
      "source": [
        "#variance threshold\n",
        "import xgboost as xgb\n",
        "from xgboost import XGBClassifier\n",
        "import lightgbm as lgb\n",
        "from lightgbm import LGBMClassifier\n",
        "from sklearn import metrics\n",
        "import keras\n",
        "from keras.models import Sequential\n",
        "from keras.layers import Dense\n",
        "from keras import optimizers\n",
        "from keras.wrappers.scikit_learn import KerasClassifier"
      ],
      "id": "jJ_N_SVIgcpY",
      "execution_count": null,
      "outputs": []
    },
    {
      "cell_type": "code",
      "metadata": {
        "id": "t865Of9eggH2"
      },
      "source": [
        "#Check whether all features have a sufficiently different meaning\n",
        "from sklearn import datasets\n",
        "from sklearn.feature_selection import VarianceThreshold\n",
        "selector = VarianceThreshold(threshold=10)\n",
        "np.shape(selector.fit_transform(data))\n",
        "features_best.append(list(np.array(data.columns)[selector.get_support(indices=False)]))"
      ],
      "id": "t865Of9eggH2",
      "execution_count": null,
      "outputs": []
    },
    {
      "cell_type": "code",
      "metadata": {
        "colab": {
          "base_uri": "https://localhost:8080/"
        },
        "id": "Rdg1wzXBgiS5",
        "outputId": "e11ecdcc-7e57-4faf-f3c0-9c13f8ddeba6"
      },
      "source": [
        "#selection of best features\n",
        "features_best"
      ],
      "id": "Rdg1wzXBgiS5",
      "execution_count": null,
      "outputs": [
        {
          "output_type": "execute_result",
          "data": {
            "text/plain": [
              "[['male',\n",
              "  'age',\n",
              "  'education',\n",
              "  'cigsPerDay',\n",
              "  'BPMeds',\n",
              "  'prevalentStroke',\n",
              "  'prevalentHyp',\n",
              "  'diabetes',\n",
              "  'totChol',\n",
              "  'sysBP',\n",
              "  'diaBP',\n",
              "  'BMI',\n",
              "  'heartRate',\n",
              "  'glucose'],\n",
              " ['male',\n",
              "  'age',\n",
              "  'education',\n",
              "  'cigsPerDay',\n",
              "  'BPMeds',\n",
              "  'prevalentHyp',\n",
              "  'totChol',\n",
              "  'sysBP',\n",
              "  'diaBP',\n",
              "  'heartRate',\n",
              "  'glucose'],\n",
              " ['sysBP',\n",
              "  'glucose',\n",
              "  'age',\n",
              "  'totChol',\n",
              "  'cigsPerDay',\n",
              "  'diaBP',\n",
              "  'prevalentHyp',\n",
              "  'diabetes',\n",
              "  'BPMeds',\n",
              "  'male',\n",
              "  'prevalentStroke',\n",
              "  'BMI',\n",
              "  'education',\n",
              "  'heartRate',\n",
              "  'currentSmoker'],\n",
              " ['male',\n",
              "  'age',\n",
              "  'education',\n",
              "  'currentSmoker',\n",
              "  'cigsPerDay',\n",
              "  'BPMeds',\n",
              "  'prevalentStroke',\n",
              "  'prevalentHyp',\n",
              "  'diabetes',\n",
              "  'totChol',\n",
              "  'sysBP',\n",
              "  'diaBP',\n",
              "  'BMI',\n",
              "  'heartRate',\n",
              "  'glucose'],\n",
              " ['age', 'totChol', 'sysBP', 'diaBP', 'BMI', 'heartRate', 'glucose'],\n",
              " ['age',\n",
              "  'cigsPerDay',\n",
              "  'totChol',\n",
              "  'sysBP',\n",
              "  'diaBP',\n",
              "  'BMI',\n",
              "  'heartRate',\n",
              "  'glucose']]"
            ]
          },
          "metadata": {},
          "execution_count": 73
        }
      ]
    },
    {
      "cell_type": "code",
      "metadata": {
        "colab": {
          "base_uri": "https://localhost:8080/"
        },
        "id": "bfUA7ZZSgpYe",
        "outputId": "ebff341b-5179-4628-87f0-d37ea4bc7a56"
      },
      "source": [
        "main_cols_max = features_best[0]\n",
        "for i in range(len(features_best)-1):\n",
        "    main_cols_max = list(set(main_cols_max) | set(features_best[i+1]))\n",
        "main_cols_max"
      ],
      "id": "bfUA7ZZSgpYe",
      "execution_count": null,
      "outputs": [
        {
          "output_type": "execute_result",
          "data": {
            "text/plain": [
              "['BPMeds',\n",
              " 'diabetes',\n",
              " 'cigsPerDay',\n",
              " 'glucose',\n",
              " 'diaBP',\n",
              " 'male',\n",
              " 'currentSmoker',\n",
              " 'education',\n",
              " 'heartRate',\n",
              " 'prevalentHyp',\n",
              " 'prevalentStroke',\n",
              " 'totChol',\n",
              " 'age',\n",
              " 'sysBP',\n",
              " 'BMI']"
            ]
          },
          "metadata": {},
          "execution_count": 74
        }
      ]
    },
    {
      "cell_type": "code",
      "metadata": {
        "colab": {
          "base_uri": "https://localhost:8080/"
        },
        "id": "PsK9IdLRguSq",
        "outputId": "1fcc40fd-76f4-4287-a7a4-6275294b3af5"
      },
      "source": [
        "len(main_cols_max)"
      ],
      "id": "PsK9IdLRguSq",
      "execution_count": null,
      "outputs": [
        {
          "output_type": "execute_result",
          "data": {
            "text/plain": [
              "15"
            ]
          },
          "metadata": {},
          "execution_count": 75
        }
      ]
    },
    {
      "cell_type": "code",
      "metadata": {
        "colab": {
          "base_uri": "https://localhost:8080/"
        },
        "id": "khEqcn5Fgy5o",
        "outputId": "42ca5ea6-b7d4-4fa7-dc23-0caf90dfcd0c"
      },
      "source": [
        "# The element is in all lists of optimal features\n",
        "main_cols_min = features_best[0]\n",
        "for i in range(len(features_best)-1):\n",
        "    main_cols_min = list(set(main_cols_min).intersection(set(features_best[i+1])))\n",
        "main_cols_min"
      ],
      "id": "khEqcn5Fgy5o",
      "execution_count": null,
      "outputs": [
        {
          "output_type": "execute_result",
          "data": {
            "text/plain": [
              "['heartRate', 'glucose', 'diaBP', 'totChol', 'age', 'sysBP']"
            ]
          },
          "metadata": {},
          "execution_count": 76
        }
      ]
    },
    {
      "cell_type": "code",
      "metadata": {
        "colab": {
          "base_uri": "https://localhost:8080/",
          "height": 542
        },
        "id": "u2qpPtqrg3EQ",
        "outputId": "dc18a8d7-caaf-4afa-9582-0c0c8d0b7f80"
      },
      "source": [
        "# Most common items in all lists of optimal features\n",
        "main_cols = []\n",
        "main_cols_opt = {feature_name : 0 for feature_name in data.columns.tolist()}\n",
        "for i in range(len(features_best)):\n",
        "    for feature_name in features_best[i]:\n",
        "        main_cols_opt[feature_name] += 1\n",
        "df_main_cols_opt = pd.DataFrame.from_dict(main_cols_opt, orient='index', columns=['Num'])\n",
        "df_main_cols_opt.sort_values(by=['Num'], ascending=False).head(num_features_opt)"
      ],
      "id": "u2qpPtqrg3EQ",
      "execution_count": null,
      "outputs": [
        {
          "output_type": "execute_result",
          "data": {
            "text/html": [
              "<div>\n",
              "<style scoped>\n",
              "    .dataframe tbody tr th:only-of-type {\n",
              "        vertical-align: middle;\n",
              "    }\n",
              "\n",
              "    .dataframe tbody tr th {\n",
              "        vertical-align: top;\n",
              "    }\n",
              "\n",
              "    .dataframe thead th {\n",
              "        text-align: right;\n",
              "    }\n",
              "</style>\n",
              "<table border=\"1\" class=\"dataframe\">\n",
              "  <thead>\n",
              "    <tr style=\"text-align: right;\">\n",
              "      <th></th>\n",
              "      <th>Num</th>\n",
              "    </tr>\n",
              "  </thead>\n",
              "  <tbody>\n",
              "    <tr>\n",
              "      <th>age</th>\n",
              "      <td>6</td>\n",
              "    </tr>\n",
              "    <tr>\n",
              "      <th>totChol</th>\n",
              "      <td>6</td>\n",
              "    </tr>\n",
              "    <tr>\n",
              "      <th>sysBP</th>\n",
              "      <td>6</td>\n",
              "    </tr>\n",
              "    <tr>\n",
              "      <th>diaBP</th>\n",
              "      <td>6</td>\n",
              "    </tr>\n",
              "    <tr>\n",
              "      <th>heartRate</th>\n",
              "      <td>6</td>\n",
              "    </tr>\n",
              "    <tr>\n",
              "      <th>glucose</th>\n",
              "      <td>6</td>\n",
              "    </tr>\n",
              "    <tr>\n",
              "      <th>cigsPerDay</th>\n",
              "      <td>5</td>\n",
              "    </tr>\n",
              "    <tr>\n",
              "      <th>BMI</th>\n",
              "      <td>5</td>\n",
              "    </tr>\n",
              "    <tr>\n",
              "      <th>male</th>\n",
              "      <td>4</td>\n",
              "    </tr>\n",
              "    <tr>\n",
              "      <th>education</th>\n",
              "      <td>4</td>\n",
              "    </tr>\n",
              "    <tr>\n",
              "      <th>BPMeds</th>\n",
              "      <td>4</td>\n",
              "    </tr>\n",
              "    <tr>\n",
              "      <th>prevalentHyp</th>\n",
              "      <td>4</td>\n",
              "    </tr>\n",
              "    <tr>\n",
              "      <th>prevalentStroke</th>\n",
              "      <td>3</td>\n",
              "    </tr>\n",
              "    <tr>\n",
              "      <th>diabetes</th>\n",
              "      <td>3</td>\n",
              "    </tr>\n",
              "    <tr>\n",
              "      <th>currentSmoker</th>\n",
              "      <td>2</td>\n",
              "    </tr>\n",
              "    <tr>\n",
              "      <th>TenYearCHD</th>\n",
              "      <td>0</td>\n",
              "    </tr>\n",
              "  </tbody>\n",
              "</table>\n",
              "</div>"
            ],
            "text/plain": [
              "                 Num\n",
              "age                6\n",
              "totChol            6\n",
              "sysBP              6\n",
              "diaBP              6\n",
              "heartRate          6\n",
              "glucose            6\n",
              "cigsPerDay         5\n",
              "BMI                5\n",
              "male               4\n",
              "education          4\n",
              "BPMeds             4\n",
              "prevalentHyp       4\n",
              "prevalentStroke    3\n",
              "diabetes           3\n",
              "currentSmoker      2\n",
              "TenYearCHD         0"
            ]
          },
          "metadata": {},
          "execution_count": 77
        }
      ]
    },
    {
      "cell_type": "code",
      "metadata": {
        "colab": {
          "base_uri": "https://localhost:8080/"
        },
        "id": "Om2ghd5eg8Tx",
        "outputId": "eeffb0fb-ab19-41de-ab99-ad860d5a345c"
      },
      "source": [
        "main_cols = df_main_cols_opt.nlargest(num_features_opt, 'Num').index.tolist()\n",
        "if not 'target' in main_cols:\n",
        "    main_cols.append('target')\n",
        "main_cols"
      ],
      "id": "Om2ghd5eg8Tx",
      "execution_count": null,
      "outputs": [
        {
          "output_type": "execute_result",
          "data": {
            "text/plain": [
              "['age',\n",
              " 'totChol',\n",
              " 'sysBP',\n",
              " 'diaBP',\n",
              " 'heartRate',\n",
              " 'glucose',\n",
              " 'cigsPerDay',\n",
              " 'BMI',\n",
              " 'male',\n",
              " 'education',\n",
              " 'BPMeds',\n",
              " 'prevalentHyp',\n",
              " 'prevalentStroke',\n",
              " 'diabetes',\n",
              " 'currentSmoker',\n",
              " 'TenYearCHD',\n",
              " 'target']"
            ]
          },
          "metadata": {},
          "execution_count": 78
        }
      ]
    },
    {
      "cell_type": "code",
      "metadata": {
        "colab": {
          "base_uri": "https://localhost:8080/"
        },
        "id": "o1tFEZ7nhDJR",
        "outputId": "0f155062-3de5-422e-d509-2835235e6c65"
      },
      "source": [
        "print(\"Heartrate ,glucose,diabetes BP,total Cholestrol,age and sysBP are the most important element in those optimal features \")"
      ],
      "id": "o1tFEZ7nhDJR",
      "execution_count": null,
      "outputs": [
        {
          "output_type": "stream",
          "name": "stdout",
          "text": [
            "Heartrate ,glucose,diabetes BP,total Cholestrol,age and sysBP are the most important element in those optimal features \n"
          ]
        }
      ]
    },
    {
      "cell_type": "code",
      "metadata": {
        "colab": {
          "base_uri": "https://localhost:8080/"
        },
        "id": "-AlG1x9-hs1q",
        "outputId": "c17933f9-9cdb-4889-b926-5ee82fff5c5c"
      },
      "source": [
        "print(\"the dataset \\'frahmingham' was successfully feature selected\")"
      ],
      "id": "-AlG1x9-hs1q",
      "execution_count": null,
      "outputs": [
        {
          "output_type": "stream",
          "name": "stdout",
          "text": [
            "the dataset 'frahmingham' was successfully feature selected\n"
          ]
        }
      ]
    }
  ]
}