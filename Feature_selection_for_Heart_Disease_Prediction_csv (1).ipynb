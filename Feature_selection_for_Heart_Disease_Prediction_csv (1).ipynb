{
  "nbformat": 4,
  "nbformat_minor": 5,
  "metadata": {
    "kernelspec": {
      "display_name": "Python 3",
      "language": "python",
      "name": "python3"
    },
    "language_info": {
      "codemirror_mode": {
        "name": "ipython",
        "version": 3
      },
      "file_extension": ".py",
      "mimetype": "text/x-python",
      "name": "python",
      "nbconvert_exporter": "python",
      "pygments_lexer": "ipython3",
      "version": "3.8.8"
    },
    "colab": {
      "name": "Feature_selection_for_Heart_Disease_Prediction_csv.ipynb",
      "provenance": [],
      "collapsed_sections": []
    }
  },
  "cells": [
    {
      "cell_type": "code",
      "metadata": {
        "id": "e81c1091",
        "colab": {
          "base_uri": "https://localhost:8080/"
        },
        "outputId": "d49262ed-1b36-4e1e-ee29-d7e22692ec8b"
      },
      "source": [
        "print(\"Team - 5\")\n",
        "print(\"Project Name - Heart Disease Prediction System.\")\n",
        "print(\"Module - Preprocessing, Data Cleaning and Exploratory Data Analysis.\")\n",
        "print(\"Dataset used - \\'Heart_Disease_Prediction.csv'\")"
      ],
      "id": "e81c1091",
      "execution_count": null,
      "outputs": [
        {
          "output_type": "stream",
          "name": "stdout",
          "text": [
            "Team - 5\n",
            "Project Name - Heart Disease Prediction System.\n",
            "Module - Preprocessing, Data Cleaning and Exploratory Data Analysis.\n",
            "Dataset used - 'Heart_Disease_Prediction.csv'\n"
          ]
        }
      ]
    },
    {
      "cell_type": "code",
      "metadata": {
        "id": "7419e79b"
      },
      "source": [
        "import pandas as pd\n",
        "import numpy as np\n",
        "import matplotlib.pyplot as plt\n",
        "import seaborn as sns\n",
        "from sklearn.preprocessing import StandardScaler\n",
        "from sklearn.metrics import accuracy_score\n",
        "from sklearn.metrics import confusion_matrix\n",
        "from sklearn.metrics import f1_score\n",
        "from sklearn.model_selection import train_test_split\n",
        "import warnings\n",
        "warnings.filterwarnings('ignore')\n",
        "import sklearn.neighbors\n",
        "from sklearn.neighbors import KNeighborsClassifier"
      ],
      "id": "7419e79b",
      "execution_count": null,
      "outputs": []
    },
    {
      "cell_type": "code",
      "metadata": {
        "colab": {
          "resources": {
            "http://localhost:8080/nbextensions/google.colab/files.js": {
              "data": "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",
              "ok": true,
              "headers": [
                [
                  "content-type",
                  "application/javascript"
                ]
              ],
              "status": 200,
              "status_text": ""
            }
          },
          "base_uri": "https://localhost:8080/",
          "height": 73
        },
        "id": "6jyqY5KexN0Z",
        "outputId": "de7a6e96-5db0-4f7b-f2e9-844a34226878"
      },
      "source": [
        "from google.colab import files\n",
        "uploaded=files.upload()"
      ],
      "id": "6jyqY5KexN0Z",
      "execution_count": null,
      "outputs": [
        {
          "output_type": "display_data",
          "data": {
            "text/html": [
              "\n",
              "     <input type=\"file\" id=\"files-5d10a754-5e44-4c3b-a5d3-06aaa47a9a83\" name=\"files[]\" multiple disabled\n",
              "        style=\"border:none\" />\n",
              "     <output id=\"result-5d10a754-5e44-4c3b-a5d3-06aaa47a9a83\">\n",
              "      Upload widget is only available when the cell has been executed in the\n",
              "      current browser session. Please rerun this cell to enable.\n",
              "      </output>\n",
              "      <script src=\"/nbextensions/google.colab/files.js\"></script> "
            ],
            "text/plain": [
              "<IPython.core.display.HTML object>"
            ]
          },
          "metadata": {}
        },
        {
          "output_type": "stream",
          "name": "stdout",
          "text": [
            "Saving Heart_Disease_Prediction.csv to Heart_Disease_Prediction.csv\n"
          ]
        }
      ]
    },
    {
      "cell_type": "code",
      "metadata": {
        "id": "uY9_tct8xUwL"
      },
      "source": [
        "data=pd.read_csv(r\"Heart_Disease_Prediction.csv\")"
      ],
      "id": "uY9_tct8xUwL",
      "execution_count": null,
      "outputs": []
    },
    {
      "cell_type": "code",
      "metadata": {
        "id": "e89b7d28",
        "colab": {
          "base_uri": "https://localhost:8080/"
        },
        "outputId": "18e8769c-4ce7-48ed-b66f-8ef7f7d59620"
      },
      "source": [
        "print(data.head())"
      ],
      "id": "e89b7d28",
      "execution_count": null,
      "outputs": [
        {
          "output_type": "stream",
          "name": "stdout",
          "text": [
            "   Age  Sex  Chest pain type  ...  Number of vessels fluro  Thallium  Heart Disease\n",
            "0   70    1                4  ...                        3         3       Presence\n",
            "1   67    0                3  ...                        0         7        Absence\n",
            "2   57    1                2  ...                        0         7       Presence\n",
            "3   64    1                4  ...                        1         7        Absence\n",
            "4   74    0                2  ...                        1         3        Absence\n",
            "\n",
            "[5 rows x 14 columns]\n"
          ]
        }
      ]
    },
    {
      "cell_type": "code",
      "metadata": {
        "id": "334e392c",
        "colab": {
          "base_uri": "https://localhost:8080/"
        },
        "outputId": "db075022-bcf7-4db8-9d00-f3901b50627d"
      },
      "source": [
        "x=data.iloc[:,0:15].values\n",
        "print(x)"
      ],
      "id": "334e392c",
      "execution_count": null,
      "outputs": [
        {
          "output_type": "stream",
          "name": "stdout",
          "text": [
            "[[70 1 4 ... 3 3 'Presence']\n",
            " [67 0 3 ... 0 7 'Absence']\n",
            " [57 1 2 ... 0 7 'Presence']\n",
            " ...\n",
            " [56 0 2 ... 0 3 'Absence']\n",
            " [57 1 4 ... 0 6 'Absence']\n",
            " [67 1 4 ... 3 3 'Presence']]\n"
          ]
        }
      ]
    },
    {
      "cell_type": "code",
      "metadata": {
        "id": "819cf8c4",
        "colab": {
          "base_uri": "https://localhost:8080/"
        },
        "outputId": "f9c44b40-e8b2-4c34-a7aa-22d72ba88676"
      },
      "source": [
        "y=data.iloc[:,1].values\n",
        "print(y)"
      ],
      "id": "819cf8c4",
      "execution_count": null,
      "outputs": [
        {
          "output_type": "stream",
          "name": "stdout",
          "text": [
            "[1 0 1 1 0 1 1 1 1 0 1 1 1 1 0 0 1 1 1 1 1 1 1 1 0 0 0 0 1 0 1 1 0 1 1 1 1\n",
            " 1 1 1 1 0 1 1 1 1 1 1 1 0 1 1 0 0 0 0 1 0 0 1 1 0 1 0 1 1 1 0 0 1 1 0 1 0\n",
            " 0 1 1 0 0 1 1 1 1 1 1 1 1 1 0 1 1 0 1 1 1 1 1 1 0 0 0 1 0 1 1 1 1 0 1 0 0\n",
            " 1 0 0 1 0 1 0 0 1 1 1 1 0 1 0 1 0 1 1 0 1 1 1 1 0 0 1 0 1 1 1 1 1 1 1 1 1\n",
            " 1 0 1 0 0 0 0 0 1 1 1 0 1 0 1 1 1 0 0 1 0 1 1 1 1 0 1 0 1 1 1 1 1 0 1 0 1\n",
            " 1 1 1 0 1 1 1 1 1 1 0 0 0 0 1 1 1 1 1 1 1 0 1 1 1 1 1 0 1 1 0 0 1 1 1 1 1\n",
            " 1 1 0 1 0 0 0 1 0 1 1 1 1 0 0 1 1 1 1 1 0 0 0 1 1 0 1 1 1 1 1 1 1 0 1 1 1\n",
            " 1 0 1 1 1 1 1 1 0 1 1]\n"
          ]
        }
      ]
    },
    {
      "cell_type": "code",
      "metadata": {
        "id": "bf923606",
        "colab": {
          "base_uri": "https://localhost:8080/"
        },
        "outputId": "4dcaf2d2-b41e-430f-c9aa-e66894b13c3c"
      },
      "source": [
        "print(data.describe())"
      ],
      "id": "bf923606",
      "execution_count": null,
      "outputs": [
        {
          "output_type": "stream",
          "name": "stdout",
          "text": [
            "              Age         Sex  ...  Number of vessels fluro    Thallium\n",
            "count  270.000000  270.000000  ...               270.000000  270.000000\n",
            "mean    54.433333    0.677778  ...                 0.670370    4.696296\n",
            "std      9.109067    0.468195  ...                 0.943896    1.940659\n",
            "min     29.000000    0.000000  ...                 0.000000    3.000000\n",
            "25%     48.000000    0.000000  ...                 0.000000    3.000000\n",
            "50%     55.000000    1.000000  ...                 0.000000    3.000000\n",
            "75%     61.000000    1.000000  ...                 1.000000    7.000000\n",
            "max     77.000000    1.000000  ...                 3.000000    7.000000\n",
            "\n",
            "[8 rows x 13 columns]\n"
          ]
        }
      ]
    },
    {
      "cell_type": "code",
      "metadata": {
        "id": "e24aaf8e",
        "colab": {
          "base_uri": "https://localhost:8080/"
        },
        "outputId": "364bae26-950e-4534-834d-30c42a43b246"
      },
      "source": [
        "print(data.shape)"
      ],
      "id": "e24aaf8e",
      "execution_count": null,
      "outputs": [
        {
          "output_type": "stream",
          "name": "stdout",
          "text": [
            "(270, 14)\n"
          ]
        }
      ]
    },
    {
      "cell_type": "code",
      "metadata": {
        "id": "cdf2f57d",
        "colab": {
          "base_uri": "https://localhost:8080/"
        },
        "outputId": "0edfc9e6-afa9-4773-d6ae-3294b6c252e0"
      },
      "source": [
        "# Checking for the missing values.\n",
        "data.isnull().values.any()"
      ],
      "id": "cdf2f57d",
      "execution_count": null,
      "outputs": [
        {
          "output_type": "execute_result",
          "data": {
            "text/plain": [
              "False"
            ]
          },
          "metadata": {},
          "execution_count": 12
        }
      ]
    },
    {
      "cell_type": "code",
      "metadata": {
        "id": "7f4a269f",
        "colab": {
          "base_uri": "https://localhost:8080/"
        },
        "outputId": "62626e27-61fa-44ac-952e-5a986ff3fbb0"
      },
      "source": [
        "missing_value_count_by_column=(data.isnull().sum())\n",
        "print(missing_value_count_by_column[missing_value_count_by_column>0])"
      ],
      "id": "7f4a269f",
      "execution_count": null,
      "outputs": [
        {
          "output_type": "stream",
          "name": "stdout",
          "text": [
            "Series([], dtype: int64)\n"
          ]
        }
      ]
    },
    {
      "cell_type": "code",
      "metadata": {
        "id": "0d83578c"
      },
      "source": [
        "#Dropping columns with missing values\n",
        "#data_without_missing_values=data.dropna(axis=1)\n",
        "cols_with_missing=[col for col in data.columns if data[col].isnull().any()]\n",
        "reduced_original_data=data.drop(cols_with_missing,axis=1)\n",
        "reduced_test_data=data.drop(cols_with_missing,axis=1)"
      ],
      "id": "0d83578c",
      "execution_count": null,
      "outputs": []
    },
    {
      "cell_type": "code",
      "metadata": {
        "id": "88600094",
        "colab": {
          "base_uri": "https://localhost:8080/"
        },
        "outputId": "fb21ef42-841f-4739-d304-dc36eaf97626"
      },
      "source": [
        "#Catgorical data  \n",
        "#for Country Variable  \n",
        "from sklearn.preprocessing import LabelEncoder  \n",
        "label_encoder_x= LabelEncoder()  \n",
        "x[:, 0]= label_encoder_x.fit_transform(x[:, 0]) \n",
        "print(x)"
      ],
      "id": "88600094",
      "execution_count": null,
      "outputs": [
        {
          "output_type": "stream",
          "name": "stdout",
          "text": [
            "[[36 1 4 ... 3 3 'Presence']\n",
            " [33 0 3 ... 0 7 'Absence']\n",
            " [23 1 2 ... 0 7 'Presence']\n",
            " ...\n",
            " [22 0 2 ... 0 3 'Absence']\n",
            " [23 1 4 ... 0 6 'Absence']\n",
            " [33 1 4 ... 3 3 'Presence']]\n"
          ]
        }
      ]
    },
    {
      "cell_type": "code",
      "metadata": {
        "id": "fd71cc5e",
        "colab": {
          "base_uri": "https://localhost:8080/"
        },
        "outputId": "3f7b804f-4a0a-40b2-8a7e-4f24ded66f97"
      },
      "source": [
        "labelencoder_y= LabelEncoder()  \n",
        "y= labelencoder_y.fit_transform(y)  \n",
        "print(y)"
      ],
      "id": "fd71cc5e",
      "execution_count": null,
      "outputs": [
        {
          "output_type": "stream",
          "name": "stdout",
          "text": [
            "[1 0 1 1 0 1 1 1 1 0 1 1 1 1 0 0 1 1 1 1 1 1 1 1 0 0 0 0 1 0 1 1 0 1 1 1 1\n",
            " 1 1 1 1 0 1 1 1 1 1 1 1 0 1 1 0 0 0 0 1 0 0 1 1 0 1 0 1 1 1 0 0 1 1 0 1 0\n",
            " 0 1 1 0 0 1 1 1 1 1 1 1 1 1 0 1 1 0 1 1 1 1 1 1 0 0 0 1 0 1 1 1 1 0 1 0 0\n",
            " 1 0 0 1 0 1 0 0 1 1 1 1 0 1 0 1 0 1 1 0 1 1 1 1 0 0 1 0 1 1 1 1 1 1 1 1 1\n",
            " 1 0 1 0 0 0 0 0 1 1 1 0 1 0 1 1 1 0 0 1 0 1 1 1 1 0 1 0 1 1 1 1 1 0 1 0 1\n",
            " 1 1 1 0 1 1 1 1 1 1 0 0 0 0 1 1 1 1 1 1 1 0 1 1 1 1 1 0 1 1 0 0 1 1 1 1 1\n",
            " 1 1 0 1 0 0 0 1 0 1 1 1 1 0 0 1 1 1 1 1 0 0 0 1 1 0 1 1 1 1 1 1 1 0 1 1 1\n",
            " 1 0 1 1 1 1 1 1 0 1 1]\n"
          ]
        }
      ]
    },
    {
      "cell_type": "code",
      "metadata": {
        "id": "65eff17f"
      },
      "source": [
        "from sklearn.model_selection import train_test_split  \n",
        "x_train, x_test, y_train, y_test= train_test_split(x, y, test_size= 0.2, random_state=0)  "
      ],
      "id": "65eff17f",
      "execution_count": null,
      "outputs": []
    },
    {
      "cell_type": "code",
      "metadata": {
        "id": "c7da4918",
        "colab": {
          "base_uri": "https://localhost:8080/"
        },
        "outputId": "27924e03-e66b-4b84-a727-26074655cf63"
      },
      "source": [
        "print(x_train)"
      ],
      "id": "c7da4918",
      "execution_count": null,
      "outputs": [
        {
          "output_type": "stream",
          "name": "stdout",
          "text": [
            "[[31 1 4 ... 0 7 'Absence']\n",
            " [9 1 4 ... 0 3 'Absence']\n",
            " [24 0 4 ... 0 3 'Absence']\n",
            " ...\n",
            " [22 0 4 ... 2 7 'Presence']\n",
            " [10 1 4 ... 1 3 'Presence']\n",
            " [33 1 4 ... 2 3 'Presence']]\n"
          ]
        }
      ]
    },
    {
      "cell_type": "code",
      "metadata": {
        "id": "c6ac4a5e",
        "colab": {
          "base_uri": "https://localhost:8080/"
        },
        "outputId": "716dbb5b-2220-4531-b602-b34bd50a7e62"
      },
      "source": [
        "print(x_test)"
      ],
      "id": "c6ac4a5e",
      "execution_count": null,
      "outputs": [
        {
          "output_type": "stream",
          "name": "stdout",
          "text": [
            "[[29 1 1 145 233 1 2 150 0 2.3 3 0 6 'Absence']\n",
            " [12 0 3 142 177 0 2 160 1 1.4 3 0 3 'Absence']\n",
            " [30 0 4 130 303 0 0 122 0 2.0 2 2 3 'Absence']\n",
            " [36 1 3 160 269 0 0 112 1 2.9 2 1 7 'Presence']\n",
            " [17 1 3 110 175 0 0 123 0 0.6 1 0 3 'Absence']\n",
            " [35 0 1 140 239 0 0 151 0 1.8 1 2 3 'Absence']\n",
            " [20 1 2 192 283 0 2 195 0 0.0 1 1 7 'Presence']\n",
            " [8 1 3 120 240 1 0 194 0 0.8 3 0 7 'Absence']\n",
            " [27 1 3 150 243 1 0 137 1 1.0 2 0 3 'Absence']\n",
            " [37 0 4 112 149 0 0 125 0 1.6 2 0 3 'Absence']\n",
            " [17 0 3 140 308 0 2 142 0 1.5 1 1 3 'Absence']\n",
            " [23 1 4 132 207 0 0 168 1 0.0 1 0 7 'Absence']\n",
            " [20 1 3 125 273 0 2 152 0 0.5 3 1 3 'Absence']\n",
            " [23 1 4 165 289 1 2 124 0 1.0 2 3 7 'Presence']\n",
            " [26 1 4 140 293 0 2 170 0 1.2 2 2 7 'Presence']\n",
            " [16 0 4 110 254 0 2 159 0 0.0 1 0 3 'Absence']\n",
            " [24 1 3 140 211 1 2 165 0 0.0 1 0 3 'Absence']\n",
            " [40 1 4 125 304 0 2 162 1 0.0 1 3 3 'Presence']\n",
            " [28 1 2 120 281 0 2 103 0 1.4 2 1 7 'Presence']\n",
            " [14 1 2 110 229 0 0 168 0 1.0 3 0 7 'Presence']\n",
            " [17 1 4 140 298 0 0 122 1 4.2 2 3 7 'Presence']\n",
            " [7 0 2 105 198 0 0 168 0 0.0 1 1 3 'Absence']\n",
            " [25 1 4 110 239 0 2 142 1 1.2 2 1 7 'Presence']\n",
            " [11 1 4 104 208 0 2 148 1 3.0 2 0 3 'Absence']\n",
            " [10 1 4 112 290 0 2 153 0 0.0 1 1 3 'Presence']\n",
            " [7 1 3 130 214 0 2 168 0 2.0 2 0 3 'Absence']\n",
            " [20 1 4 140 239 0 0 160 0 1.2 1 0 3 'Absence']\n",
            " [33 0 3 152 277 0 0 172 0 0.0 1 1 3 'Absence']\n",
            " [28 0 4 140 394 0 2 157 0 1.2 2 0 3 'Absence']\n",
            " [33 1 4 120 237 0 0 71 0 1.0 2 0 3 'Presence']\n",
            " [32 1 4 120 302 0 2 151 0 0.4 2 0 3 'Absence']\n",
            " [33 0 4 106 223 0 0 142 0 0.3 1 2 3 'Absence']\n",
            " [26 1 4 130 206 0 2 132 1 2.4 2 2 7 'Presence']\n",
            " [7 0 2 130 204 0 2 172 0 1.4 1 0 3 'Absence']\n",
            " [9 0 4 132 341 1 2 136 1 3.0 2 0 7 'Presence']\n",
            " [28 0 3 130 263 0 0 97 0 1.2 2 1 7 'Presence']\n",
            " [20 1 4 124 266 0 2 109 1 2.2 2 1 7 'Presence']\n",
            " [32 0 4 178 228 1 0 165 1 1.0 2 2 7 'Presence']\n",
            " [10 1 2 120 220 0 0 170 0 0.0 1 0 3 'Absence']\n",
            " [7 1 4 110 172 0 2 158 0 0.0 1 0 7 'Presence']\n",
            " [12 1 4 120 249 0 2 144 0 0.8 1 0 7 'Presence']\n",
            " [17 0 3 120 295 0 2 157 0 0.6 1 0 3 'Absence']\n",
            " [17 0 3 130 256 0 2 149 0 0.5 1 0 3 'Absence']\n",
            " [27 0 4 145 307 0 2 146 1 1.0 2 0 7 'Presence']\n",
            " [19 0 4 138 234 0 2 160 0 0.0 1 0 3 'Absence']\n",
            " [25 1 1 160 273 0 2 125 0 0.0 1 0 3 'Presence']\n",
            " [18 1 4 108 233 1 0 147 0 0.1 1 3 7 'Absence']\n",
            " [20 1 3 150 232 0 2 165 0 1.6 1 0 7 'Absence']\n",
            " [33 1 4 120 229 0 2 129 1 2.6 2 2 7 'Presence']\n",
            " [34 1 3 180 274 1 2 150 1 1.6 2 0 7 'Presence']\n",
            " [22 0 4 134 409 0 2 150 1 1.9 2 2 7 'Presence']\n",
            " [24 1 3 105 240 0 2 154 1 0.6 2 0 7 'Absence']\n",
            " [26 0 3 102 318 0 0 160 0 0.0 1 1 3 'Absence']\n",
            " [18 1 4 112 230 0 0 160 0 0.0 1 1 3 'Presence']]\n"
          ]
        }
      ]
    },
    {
      "cell_type": "code",
      "metadata": {
        "id": "bde303a7",
        "colab": {
          "base_uri": "https://localhost:8080/"
        },
        "outputId": "064ac7a2-4d2b-426e-b7eb-a796ab25ff9a"
      },
      "source": [
        "print(y_train)"
      ],
      "id": "bde303a7",
      "execution_count": null,
      "outputs": [
        {
          "output_type": "stream",
          "name": "stdout",
          "text": [
            "[1 1 0 0 1 1 0 1 1 1 0 1 1 1 1 0 1 1 1 0 1 0 1 1 1 1 1 1 1 1 1 1 1 0 1 0 1\n",
            " 1 1 1 0 0 1 0 0 0 1 0 1 0 1 1 1 1 0 1 1 1 1 0 1 1 1 1 1 1 0 1 1 1 1 0 0 1\n",
            " 1 1 0 1 0 1 1 1 0 0 0 1 1 0 1 1 1 0 1 0 1 1 0 1 1 0 0 1 0 0 1 0 1 0 1 1 1\n",
            " 1 1 0 1 1 0 1 1 1 1 0 0 1 1 1 1 0 1 1 1 1 1 1 1 1 0 1 1 1 1 0 1 0 1 1 0 1\n",
            " 1 1 1 1 1 1 1 1 1 0 1 1 1 1 1 0 1 1 1 0 1 1 1 0 1 0 1 0 1 1 1 1 0 1 0 0 1\n",
            " 1 0 1 0 0 1 0 1 1 1 0 0 0 1 1 1 0 1 1 0 1 1 0 1 0 0 1 1 0 1 1]\n"
          ]
        }
      ]
    },
    {
      "cell_type": "code",
      "metadata": {
        "id": "15d27781",
        "colab": {
          "base_uri": "https://localhost:8080/"
        },
        "outputId": "78e0985a-4db2-4be7-df1d-c807dc2d1b6e"
      },
      "source": [
        "print(y_test)"
      ],
      "id": "15d27781",
      "execution_count": null,
      "outputs": [
        {
          "output_type": "stream",
          "name": "stdout",
          "text": [
            "[1 0 0 1 1 0 1 1 1 0 0 1 1 1 1 0 1 1 1 1 1 0 1 1 1 1 1 0 0 1 1 0 1 0 0 0 1\n",
            " 0 1 1 1 0 0 0 0 1 1 1 1 1 0 1 0 1]\n"
          ]
        }
      ]
    },
    {
      "cell_type": "code",
      "metadata": {
        "id": "679f9f80"
      },
      "source": [
        "#To fill in missing values by their sum values\n",
        "data.fillna(data.sum(),inplace=True)"
      ],
      "id": "679f9f80",
      "execution_count": null,
      "outputs": []
    },
    {
      "cell_type": "code",
      "metadata": {
        "id": "9e6e05f1",
        "colab": {
          "base_uri": "https://localhost:8080/"
        },
        "outputId": "2243d742-fc9f-46de-cfd9-2b29f048c84a"
      },
      "source": [
        "print(data)"
      ],
      "id": "9e6e05f1",
      "execution_count": null,
      "outputs": [
        {
          "output_type": "stream",
          "name": "stdout",
          "text": [
            "     Age  Sex  Chest pain type  ...  Number of vessels fluro  Thallium  Heart Disease\n",
            "0     70    1                4  ...                        3         3       Presence\n",
            "1     67    0                3  ...                        0         7        Absence\n",
            "2     57    1                2  ...                        0         7       Presence\n",
            "3     64    1                4  ...                        1         7        Absence\n",
            "4     74    0                2  ...                        1         3        Absence\n",
            "..   ...  ...              ...  ...                      ...       ...            ...\n",
            "265   52    1                3  ...                        0         7        Absence\n",
            "266   44    1                2  ...                        0         7        Absence\n",
            "267   56    0                2  ...                        0         3        Absence\n",
            "268   57    1                4  ...                        0         6        Absence\n",
            "269   67    1                4  ...                        3         3       Presence\n",
            "\n",
            "[270 rows x 14 columns]\n"
          ]
        }
      ]
    },
    {
      "cell_type": "code",
      "metadata": {
        "id": "55161bbb",
        "colab": {
          "base_uri": "https://localhost:8080/"
        },
        "outputId": "096387d2-2488-4f04-e5c4-f713a211ed80"
      },
      "source": [
        "# Checking for the imbalanced data based on BP.\n",
        "data['BP'].value_counts()"
      ],
      "id": "55161bbb",
      "execution_count": null,
      "outputs": [
        {
          "output_type": "execute_result",
          "data": {
            "text/plain": [
              "120    34\n",
              "130    31\n",
              "140    30\n",
              "150    17\n",
              "110    17\n",
              "160    11\n",
              "125    10\n",
              "112     9\n",
              "138     9\n",
              "128     9\n",
              "118     7\n",
              "132     6\n",
              "135     6\n",
              "108     6\n",
              "145     5\n",
              "124     5\n",
              "134     4\n",
              "152     4\n",
              "100     4\n",
              "122     3\n",
              "142     3\n",
              "115     3\n",
              "136     3\n",
              "105     3\n",
              "180     3\n",
              "126     3\n",
              "102     2\n",
              "94      2\n",
              "178     2\n",
              "170     2\n",
              "129     1\n",
              "165     1\n",
              "101     1\n",
              "174     1\n",
              "104     1\n",
              "172     1\n",
              "106     1\n",
              "158     1\n",
              "192     1\n",
              "156     1\n",
              "117     1\n",
              "155     1\n",
              "148     1\n",
              "146     1\n",
              "123     1\n",
              "144     1\n",
              "200     1\n",
              "Name: BP, dtype: int64"
            ]
          },
          "metadata": {},
          "execution_count": 24
        }
      ]
    },
    {
      "cell_type": "code",
      "metadata": {
        "id": "82e1b69f",
        "colab": {
          "base_uri": "https://localhost:8080/"
        },
        "outputId": "f021dc24-5064-4f09-a76c-60458d562b10"
      },
      "source": [
        "# Checking for the imbalanced data based on Chest pain type.\n",
        "data['Chest pain type'].value_counts()"
      ],
      "id": "82e1b69f",
      "execution_count": null,
      "outputs": [
        {
          "output_type": "execute_result",
          "data": {
            "text/plain": [
              "4    129\n",
              "3     79\n",
              "2     42\n",
              "1     20\n",
              "Name: Chest pain type, dtype: int64"
            ]
          },
          "metadata": {},
          "execution_count": 25
        }
      ]
    },
    {
      "cell_type": "code",
      "metadata": {
        "id": "45b3210b",
        "colab": {
          "base_uri": "https://localhost:8080/",
          "height": 483
        },
        "outputId": "eb7b4c54-0666-4f0f-9085-de6a47f0a9e7"
      },
      "source": [
        "# Checking for any correlations.\n",
        "data.corr()"
      ],
      "id": "45b3210b",
      "execution_count": null,
      "outputs": [
        {
          "output_type": "execute_result",
          "data": {
            "text/html": [
              "<div>\n",
              "<style scoped>\n",
              "    .dataframe tbody tr th:only-of-type {\n",
              "        vertical-align: middle;\n",
              "    }\n",
              "\n",
              "    .dataframe tbody tr th {\n",
              "        vertical-align: top;\n",
              "    }\n",
              "\n",
              "    .dataframe thead th {\n",
              "        text-align: right;\n",
              "    }\n",
              "</style>\n",
              "<table border=\"1\" class=\"dataframe\">\n",
              "  <thead>\n",
              "    <tr style=\"text-align: right;\">\n",
              "      <th></th>\n",
              "      <th>Age</th>\n",
              "      <th>Sex</th>\n",
              "      <th>Chest pain type</th>\n",
              "      <th>BP</th>\n",
              "      <th>Cholesterol</th>\n",
              "      <th>FBS over 120</th>\n",
              "      <th>EKG results</th>\n",
              "      <th>Max HR</th>\n",
              "      <th>Exercise angina</th>\n",
              "      <th>ST depression</th>\n",
              "      <th>Slope of ST</th>\n",
              "      <th>Number of vessels fluro</th>\n",
              "      <th>Thallium</th>\n",
              "    </tr>\n",
              "  </thead>\n",
              "  <tbody>\n",
              "    <tr>\n",
              "      <th>Age</th>\n",
              "      <td>1.000000</td>\n",
              "      <td>-0.094401</td>\n",
              "      <td>0.096920</td>\n",
              "      <td>0.273053</td>\n",
              "      <td>0.220056</td>\n",
              "      <td>0.123458</td>\n",
              "      <td>0.128171</td>\n",
              "      <td>-0.402215</td>\n",
              "      <td>0.098297</td>\n",
              "      <td>0.194234</td>\n",
              "      <td>0.159774</td>\n",
              "      <td>0.356081</td>\n",
              "      <td>0.106100</td>\n",
              "    </tr>\n",
              "    <tr>\n",
              "      <th>Sex</th>\n",
              "      <td>-0.094401</td>\n",
              "      <td>1.000000</td>\n",
              "      <td>0.034636</td>\n",
              "      <td>-0.062693</td>\n",
              "      <td>-0.201647</td>\n",
              "      <td>0.042140</td>\n",
              "      <td>0.039253</td>\n",
              "      <td>-0.076101</td>\n",
              "      <td>0.180022</td>\n",
              "      <td>0.097412</td>\n",
              "      <td>0.050545</td>\n",
              "      <td>0.086830</td>\n",
              "      <td>0.391046</td>\n",
              "    </tr>\n",
              "    <tr>\n",
              "      <th>Chest pain type</th>\n",
              "      <td>0.096920</td>\n",
              "      <td>0.034636</td>\n",
              "      <td>1.000000</td>\n",
              "      <td>-0.043196</td>\n",
              "      <td>0.090465</td>\n",
              "      <td>-0.098537</td>\n",
              "      <td>0.074325</td>\n",
              "      <td>-0.317682</td>\n",
              "      <td>0.353160</td>\n",
              "      <td>0.167244</td>\n",
              "      <td>0.136900</td>\n",
              "      <td>0.225890</td>\n",
              "      <td>0.262659</td>\n",
              "    </tr>\n",
              "    <tr>\n",
              "      <th>BP</th>\n",
              "      <td>0.273053</td>\n",
              "      <td>-0.062693</td>\n",
              "      <td>-0.043196</td>\n",
              "      <td>1.000000</td>\n",
              "      <td>0.173019</td>\n",
              "      <td>0.155681</td>\n",
              "      <td>0.116157</td>\n",
              "      <td>-0.039136</td>\n",
              "      <td>0.082793</td>\n",
              "      <td>0.222800</td>\n",
              "      <td>0.142472</td>\n",
              "      <td>0.085697</td>\n",
              "      <td>0.132045</td>\n",
              "    </tr>\n",
              "    <tr>\n",
              "      <th>Cholesterol</th>\n",
              "      <td>0.220056</td>\n",
              "      <td>-0.201647</td>\n",
              "      <td>0.090465</td>\n",
              "      <td>0.173019</td>\n",
              "      <td>1.000000</td>\n",
              "      <td>0.025186</td>\n",
              "      <td>0.167652</td>\n",
              "      <td>-0.018739</td>\n",
              "      <td>0.078243</td>\n",
              "      <td>0.027709</td>\n",
              "      <td>-0.005755</td>\n",
              "      <td>0.126541</td>\n",
              "      <td>0.028836</td>\n",
              "    </tr>\n",
              "    <tr>\n",
              "      <th>FBS over 120</th>\n",
              "      <td>0.123458</td>\n",
              "      <td>0.042140</td>\n",
              "      <td>-0.098537</td>\n",
              "      <td>0.155681</td>\n",
              "      <td>0.025186</td>\n",
              "      <td>1.000000</td>\n",
              "      <td>0.053499</td>\n",
              "      <td>0.022494</td>\n",
              "      <td>-0.004107</td>\n",
              "      <td>-0.025538</td>\n",
              "      <td>0.044076</td>\n",
              "      <td>0.123774</td>\n",
              "      <td>0.049237</td>\n",
              "    </tr>\n",
              "    <tr>\n",
              "      <th>EKG results</th>\n",
              "      <td>0.128171</td>\n",
              "      <td>0.039253</td>\n",
              "      <td>0.074325</td>\n",
              "      <td>0.116157</td>\n",
              "      <td>0.167652</td>\n",
              "      <td>0.053499</td>\n",
              "      <td>1.000000</td>\n",
              "      <td>-0.074628</td>\n",
              "      <td>0.095098</td>\n",
              "      <td>0.120034</td>\n",
              "      <td>0.160614</td>\n",
              "      <td>0.114368</td>\n",
              "      <td>0.007337</td>\n",
              "    </tr>\n",
              "    <tr>\n",
              "      <th>Max HR</th>\n",
              "      <td>-0.402215</td>\n",
              "      <td>-0.076101</td>\n",
              "      <td>-0.317682</td>\n",
              "      <td>-0.039136</td>\n",
              "      <td>-0.018739</td>\n",
              "      <td>0.022494</td>\n",
              "      <td>-0.074628</td>\n",
              "      <td>1.000000</td>\n",
              "      <td>-0.380719</td>\n",
              "      <td>-0.349045</td>\n",
              "      <td>-0.386847</td>\n",
              "      <td>-0.265333</td>\n",
              "      <td>-0.253397</td>\n",
              "    </tr>\n",
              "    <tr>\n",
              "      <th>Exercise angina</th>\n",
              "      <td>0.098297</td>\n",
              "      <td>0.180022</td>\n",
              "      <td>0.353160</td>\n",
              "      <td>0.082793</td>\n",
              "      <td>0.078243</td>\n",
              "      <td>-0.004107</td>\n",
              "      <td>0.095098</td>\n",
              "      <td>-0.380719</td>\n",
              "      <td>1.000000</td>\n",
              "      <td>0.274672</td>\n",
              "      <td>0.255908</td>\n",
              "      <td>0.153347</td>\n",
              "      <td>0.321449</td>\n",
              "    </tr>\n",
              "    <tr>\n",
              "      <th>ST depression</th>\n",
              "      <td>0.194234</td>\n",
              "      <td>0.097412</td>\n",
              "      <td>0.167244</td>\n",
              "      <td>0.222800</td>\n",
              "      <td>0.027709</td>\n",
              "      <td>-0.025538</td>\n",
              "      <td>0.120034</td>\n",
              "      <td>-0.349045</td>\n",
              "      <td>0.274672</td>\n",
              "      <td>1.000000</td>\n",
              "      <td>0.609712</td>\n",
              "      <td>0.255005</td>\n",
              "      <td>0.324333</td>\n",
              "    </tr>\n",
              "    <tr>\n",
              "      <th>Slope of ST</th>\n",
              "      <td>0.159774</td>\n",
              "      <td>0.050545</td>\n",
              "      <td>0.136900</td>\n",
              "      <td>0.142472</td>\n",
              "      <td>-0.005755</td>\n",
              "      <td>0.044076</td>\n",
              "      <td>0.160614</td>\n",
              "      <td>-0.386847</td>\n",
              "      <td>0.255908</td>\n",
              "      <td>0.609712</td>\n",
              "      <td>1.000000</td>\n",
              "      <td>0.109498</td>\n",
              "      <td>0.283678</td>\n",
              "    </tr>\n",
              "    <tr>\n",
              "      <th>Number of vessels fluro</th>\n",
              "      <td>0.356081</td>\n",
              "      <td>0.086830</td>\n",
              "      <td>0.225890</td>\n",
              "      <td>0.085697</td>\n",
              "      <td>0.126541</td>\n",
              "      <td>0.123774</td>\n",
              "      <td>0.114368</td>\n",
              "      <td>-0.265333</td>\n",
              "      <td>0.153347</td>\n",
              "      <td>0.255005</td>\n",
              "      <td>0.109498</td>\n",
              "      <td>1.000000</td>\n",
              "      <td>0.255648</td>\n",
              "    </tr>\n",
              "    <tr>\n",
              "      <th>Thallium</th>\n",
              "      <td>0.106100</td>\n",
              "      <td>0.391046</td>\n",
              "      <td>0.262659</td>\n",
              "      <td>0.132045</td>\n",
              "      <td>0.028836</td>\n",
              "      <td>0.049237</td>\n",
              "      <td>0.007337</td>\n",
              "      <td>-0.253397</td>\n",
              "      <td>0.321449</td>\n",
              "      <td>0.324333</td>\n",
              "      <td>0.283678</td>\n",
              "      <td>0.255648</td>\n",
              "      <td>1.000000</td>\n",
              "    </tr>\n",
              "  </tbody>\n",
              "</table>\n",
              "</div>"
            ],
            "text/plain": [
              "                              Age       Sex  ...  Number of vessels fluro  Thallium\n",
              "Age                      1.000000 -0.094401  ...                 0.356081  0.106100\n",
              "Sex                     -0.094401  1.000000  ...                 0.086830  0.391046\n",
              "Chest pain type          0.096920  0.034636  ...                 0.225890  0.262659\n",
              "BP                       0.273053 -0.062693  ...                 0.085697  0.132045\n",
              "Cholesterol              0.220056 -0.201647  ...                 0.126541  0.028836\n",
              "FBS over 120             0.123458  0.042140  ...                 0.123774  0.049237\n",
              "EKG results              0.128171  0.039253  ...                 0.114368  0.007337\n",
              "Max HR                  -0.402215 -0.076101  ...                -0.265333 -0.253397\n",
              "Exercise angina          0.098297  0.180022  ...                 0.153347  0.321449\n",
              "ST depression            0.194234  0.097412  ...                 0.255005  0.324333\n",
              "Slope of ST              0.159774  0.050545  ...                 0.109498  0.283678\n",
              "Number of vessels fluro  0.356081  0.086830  ...                 1.000000  0.255648\n",
              "Thallium                 0.106100  0.391046  ...                 0.255648  1.000000\n",
              "\n",
              "[13 rows x 13 columns]"
            ]
          },
          "metadata": {},
          "execution_count": 26
        }
      ]
    },
    {
      "cell_type": "code",
      "metadata": {
        "id": "1c4a1e11",
        "colab": {
          "base_uri": "https://localhost:8080/",
          "height": 282
        },
        "outputId": "29c781d3-ec00-460d-91f2-4e649f3217a5"
      },
      "source": [
        "# histogram of Exercise angina.\n",
        "data['Exercise angina'].hist(bins=50)"
      ],
      "id": "1c4a1e11",
      "execution_count": null,
      "outputs": [
        {
          "output_type": "execute_result",
          "data": {
            "text/plain": [
              "<matplotlib.axes._subplots.AxesSubplot at 0x7f8c0f6cc250>"
            ]
          },
          "metadata": {},
          "execution_count": 27
        },
        {
          "output_type": "display_data",
          "data": {
            "image/png": "[encoded data removed]",
            "text/plain": [
              "<Figure size 432x288 with 1 Axes>"
            ]
          },
          "metadata": {
            "needs_background": "light"
          }
        }
      ]
    },
    {
      "cell_type": "code",
      "metadata": {
        "id": "32d8ae26",
        "colab": {
          "base_uri": "https://localhost:8080/",
          "height": 285
        },
        "outputId": "e624c655-ff39-44c9-851c-8fd2cd9f787e"
      },
      "source": [
        "# bar chart -  distribution of a categorical variable\n",
        "data['Age'].value_counts().plot.bar()"
      ],
      "id": "32d8ae26",
      "execution_count": null,
      "outputs": [
        {
          "output_type": "execute_result",
          "data": {
            "text/plain": [
              "<matplotlib.axes._subplots.AxesSubplot at 0x7f8c0f5dc090>"
            ]
          },
          "metadata": {},
          "execution_count": 28
        },
        {
          "output_type": "display_data",
          "data": {
            "image/png": "[encoded data removed]",
            "text/plain": [
              "<Figure size 432x288 with 1 Axes>"
            ]
          },
          "metadata": {
            "needs_background": "light"
          }
        }
      ]
    },
    {
      "cell_type": "code",
      "metadata": {
        "id": "13de4947",
        "colab": {
          "base_uri": "https://localhost:8080/",
          "height": 291
        },
        "outputId": "eb0b9ccd-7457-4b5a-b10f-f4d970e34a09"
      },
      "source": [
        "# bar chart -  distribution of a categorical variable\n",
        "data['Cholesterol'].value_counts().plot.bar()"
      ],
      "id": "13de4947",
      "execution_count": null,
      "outputs": [
        {
          "output_type": "execute_result",
          "data": {
            "text/plain": [
              "<matplotlib.axes._subplots.AxesSubplot at 0x7f8c0efd2050>"
            ]
          },
          "metadata": {},
          "execution_count": 29
        },
        {
          "output_type": "display_data",
          "data": {
            "image/png": "[encoded data removed]",
            "text/plain": [
              "<Figure size 432x288 with 1 Axes>"
            ]
          },
          "metadata": {
            "needs_background": "light"
          }
        }
      ]
    },
    {
      "cell_type": "code",
      "metadata": {
        "id": "2c8ebb76",
        "colab": {
          "base_uri": "https://localhost:8080/"
        },
        "outputId": "f5eafc80-7bea-4ec8-fe5a-24b6a8ed0cbf"
      },
      "source": [
        "# Checking for the imbalanced data based on Number of vessels fluro.\n",
        "data['Number of vessels fluro'].value_counts()"
      ],
      "id": "2c8ebb76",
      "execution_count": null,
      "outputs": [
        {
          "output_type": "execute_result",
          "data": {
            "text/plain": [
              "0    160\n",
              "1     58\n",
              "2     33\n",
              "3     19\n",
              "Name: Number of vessels fluro, dtype: int64"
            ]
          },
          "metadata": {},
          "execution_count": 30
        }
      ]
    },
    {
      "cell_type": "code",
      "metadata": {
        "id": "184abba1",
        "colab": {
          "base_uri": "https://localhost:8080/"
        },
        "outputId": "4234c6b1-ebcd-4ba3-88f0-8c29e1185a5b"
      },
      "source": [
        "# Checking for the missing values.\n",
        "data.isnull().values.any()"
      ],
      "id": "184abba1",
      "execution_count": null,
      "outputs": [
        {
          "output_type": "execute_result",
          "data": {
            "text/plain": [
              "False"
            ]
          },
          "metadata": {},
          "execution_count": 31
        }
      ]
    },
    {
      "cell_type": "code",
      "metadata": {
        "id": "4cda3dd2",
        "colab": {
          "base_uri": "https://localhost:8080/"
        },
        "outputId": "9b6118c1-ab78-4b0e-bef6-5c5278d377df"
      },
      "source": [
        "print(\"The Dataset \\'heart_failure_clinical_records_dataset.csv' is now cleaned\")"
      ],
      "id": "4cda3dd2",
      "execution_count": null,
      "outputs": [
        {
          "output_type": "stream",
          "name": "stdout",
          "text": [
            "The Dataset 'heart_failure_clinical_records_dataset.csv' is now cleaned\n"
          ]
        }
      ]
    },
    {
      "cell_type": "code",
      "metadata": {
        "id": "2fd111f4",
        "colab": {
          "base_uri": "https://localhost:8080/"
        },
        "outputId": "6cfe3f38-27e1-4fa6-b226-c01cd1e072a7"
      },
      "source": [
        "print(\"Now the next part is feature selection\")"
      ],
      "id": "2fd111f4",
      "execution_count": null,
      "outputs": [
        {
          "output_type": "stream",
          "name": "stdout",
          "text": [
            "Now the next part is feature selection\n"
          ]
        }
      ]
    },
    {
      "cell_type": "code",
      "metadata": {
        "colab": {
          "base_uri": "https://localhost:8080/"
        },
        "id": "wdt0FSwrybSX",
        "outputId": "e53ee024-5bab-4a82-edcc-bc8f1da6c10d"
      },
      "source": [
        "from sklearn.model_selection import train_test_split\n",
        "x_train,x_test,y_train,y_test=train_test_split(\n",
        "    x,\n",
        "    y,\n",
        "    test_size=0.3,\n",
        "    random_state=0\n",
        ")\n",
        "x_train.shape,x_test.shape\n"
      ],
      "id": "wdt0FSwrybSX",
      "execution_count": null,
      "outputs": [
        {
          "output_type": "execute_result",
          "data": {
            "text/plain": [
              "((189, 14), (81, 14))"
            ]
          },
          "metadata": {},
          "execution_count": 44
        }
      ]
    },
    {
      "cell_type": "code",
      "metadata": {
        "id": "5BXSqhYEyj_N",
        "colab": {
          "base_uri": "https://localhost:8080/",
          "height": 483
        },
        "outputId": "15e295c4-49e6-447e-a39c-c2a298ad1fc7"
      },
      "source": [
        "x_train.corr()"
      ],
      "id": "5BXSqhYEyj_N",
      "execution_count": null,
      "outputs": [
        {
          "output_type": "execute_result",
          "data": {
            "text/html": [
              "<div>\n",
              "<style scoped>\n",
              "    .dataframe tbody tr th:only-of-type {\n",
              "        vertical-align: middle;\n",
              "    }\n",
              "\n",
              "    .dataframe tbody tr th {\n",
              "        vertical-align: top;\n",
              "    }\n",
              "\n",
              "    .dataframe thead th {\n",
              "        text-align: right;\n",
              "    }\n",
              "</style>\n",
              "<table border=\"1\" class=\"dataframe\">\n",
              "  <thead>\n",
              "    <tr style=\"text-align: right;\">\n",
              "      <th></th>\n",
              "      <th>Age</th>\n",
              "      <th>Sex</th>\n",
              "      <th>Chest pain type</th>\n",
              "      <th>BP</th>\n",
              "      <th>Cholesterol</th>\n",
              "      <th>FBS over 120</th>\n",
              "      <th>EKG results</th>\n",
              "      <th>Max HR</th>\n",
              "      <th>Exercise angina</th>\n",
              "      <th>ST depression</th>\n",
              "      <th>Slope of ST</th>\n",
              "      <th>Number of vessels fluro</th>\n",
              "      <th>Thallium</th>\n",
              "    </tr>\n",
              "  </thead>\n",
              "  <tbody>\n",
              "    <tr>\n",
              "      <th>Age</th>\n",
              "      <td>1.000000</td>\n",
              "      <td>-0.083703</td>\n",
              "      <td>0.133966</td>\n",
              "      <td>0.297718</td>\n",
              "      <td>0.258970</td>\n",
              "      <td>0.172462</td>\n",
              "      <td>0.219263</td>\n",
              "      <td>-0.415413</td>\n",
              "      <td>0.076812</td>\n",
              "      <td>0.231137</td>\n",
              "      <td>0.186337</td>\n",
              "      <td>0.358394</td>\n",
              "      <td>0.106091</td>\n",
              "    </tr>\n",
              "    <tr>\n",
              "      <th>Sex</th>\n",
              "      <td>-0.083703</td>\n",
              "      <td>1.000000</td>\n",
              "      <td>0.046089</td>\n",
              "      <td>-0.049142</td>\n",
              "      <td>-0.183637</td>\n",
              "      <td>0.006508</td>\n",
              "      <td>0.026342</td>\n",
              "      <td>-0.111901</td>\n",
              "      <td>0.217009</td>\n",
              "      <td>0.114923</td>\n",
              "      <td>0.017197</td>\n",
              "      <td>0.119849</td>\n",
              "      <td>0.410355</td>\n",
              "    </tr>\n",
              "    <tr>\n",
              "      <th>Chest pain type</th>\n",
              "      <td>0.133966</td>\n",
              "      <td>0.046089</td>\n",
              "      <td>1.000000</td>\n",
              "      <td>-0.010442</td>\n",
              "      <td>0.037565</td>\n",
              "      <td>-0.142296</td>\n",
              "      <td>0.076418</td>\n",
              "      <td>-0.361697</td>\n",
              "      <td>0.393991</td>\n",
              "      <td>0.186410</td>\n",
              "      <td>0.169572</td>\n",
              "      <td>0.234612</td>\n",
              "      <td>0.299351</td>\n",
              "    </tr>\n",
              "    <tr>\n",
              "      <th>BP</th>\n",
              "      <td>0.297718</td>\n",
              "      <td>-0.049142</td>\n",
              "      <td>-0.010442</td>\n",
              "      <td>1.000000</td>\n",
              "      <td>0.154314</td>\n",
              "      <td>0.129512</td>\n",
              "      <td>0.136580</td>\n",
              "      <td>-0.100854</td>\n",
              "      <td>0.065678</td>\n",
              "      <td>0.231450</td>\n",
              "      <td>0.195865</td>\n",
              "      <td>0.094371</td>\n",
              "      <td>0.126557</td>\n",
              "    </tr>\n",
              "    <tr>\n",
              "      <th>Cholesterol</th>\n",
              "      <td>0.258970</td>\n",
              "      <td>-0.183637</td>\n",
              "      <td>0.037565</td>\n",
              "      <td>0.154314</td>\n",
              "      <td>1.000000</td>\n",
              "      <td>0.036653</td>\n",
              "      <td>0.141244</td>\n",
              "      <td>0.001857</td>\n",
              "      <td>0.052614</td>\n",
              "      <td>-0.022257</td>\n",
              "      <td>-0.060325</td>\n",
              "      <td>0.077213</td>\n",
              "      <td>0.006459</td>\n",
              "    </tr>\n",
              "    <tr>\n",
              "      <th>FBS over 120</th>\n",
              "      <td>0.172462</td>\n",
              "      <td>0.006508</td>\n",
              "      <td>-0.142296</td>\n",
              "      <td>0.129512</td>\n",
              "      <td>0.036653</td>\n",
              "      <td>1.000000</td>\n",
              "      <td>0.071151</td>\n",
              "      <td>0.022953</td>\n",
              "      <td>-0.051903</td>\n",
              "      <td>-0.058643</td>\n",
              "      <td>-0.045316</td>\n",
              "      <td>0.134153</td>\n",
              "      <td>-0.015998</td>\n",
              "    </tr>\n",
              "    <tr>\n",
              "      <th>EKG results</th>\n",
              "      <td>0.219263</td>\n",
              "      <td>0.026342</td>\n",
              "      <td>0.076418</td>\n",
              "      <td>0.136580</td>\n",
              "      <td>0.141244</td>\n",
              "      <td>0.071151</td>\n",
              "      <td>1.000000</td>\n",
              "      <td>-0.104162</td>\n",
              "      <td>0.097275</td>\n",
              "      <td>0.107461</td>\n",
              "      <td>0.134066</td>\n",
              "      <td>0.185964</td>\n",
              "      <td>-0.065038</td>\n",
              "    </tr>\n",
              "    <tr>\n",
              "      <th>Max HR</th>\n",
              "      <td>-0.415413</td>\n",
              "      <td>-0.111901</td>\n",
              "      <td>-0.361697</td>\n",
              "      <td>-0.100854</td>\n",
              "      <td>0.001857</td>\n",
              "      <td>0.022953</td>\n",
              "      <td>-0.104162</td>\n",
              "      <td>1.000000</td>\n",
              "      <td>-0.455800</td>\n",
              "      <td>-0.319762</td>\n",
              "      <td>-0.419402</td>\n",
              "      <td>-0.307909</td>\n",
              "      <td>-0.295528</td>\n",
              "    </tr>\n",
              "    <tr>\n",
              "      <th>Exercise angina</th>\n",
              "      <td>0.076812</td>\n",
              "      <td>0.217009</td>\n",
              "      <td>0.393991</td>\n",
              "      <td>0.065678</td>\n",
              "      <td>0.052614</td>\n",
              "      <td>-0.051903</td>\n",
              "      <td>0.097275</td>\n",
              "      <td>-0.455800</td>\n",
              "      <td>1.000000</td>\n",
              "      <td>0.234117</td>\n",
              "      <td>0.227495</td>\n",
              "      <td>0.177518</td>\n",
              "      <td>0.345496</td>\n",
              "    </tr>\n",
              "    <tr>\n",
              "      <th>ST depression</th>\n",
              "      <td>0.231137</td>\n",
              "      <td>0.114923</td>\n",
              "      <td>0.186410</td>\n",
              "      <td>0.231450</td>\n",
              "      <td>-0.022257</td>\n",
              "      <td>-0.058643</td>\n",
              "      <td>0.107461</td>\n",
              "      <td>-0.319762</td>\n",
              "      <td>0.234117</td>\n",
              "      <td>1.000000</td>\n",
              "      <td>0.623612</td>\n",
              "      <td>0.308668</td>\n",
              "      <td>0.330615</td>\n",
              "    </tr>\n",
              "    <tr>\n",
              "      <th>Slope of ST</th>\n",
              "      <td>0.186337</td>\n",
              "      <td>0.017197</td>\n",
              "      <td>0.169572</td>\n",
              "      <td>0.195865</td>\n",
              "      <td>-0.060325</td>\n",
              "      <td>-0.045316</td>\n",
              "      <td>0.134066</td>\n",
              "      <td>-0.419402</td>\n",
              "      <td>0.227495</td>\n",
              "      <td>0.623612</td>\n",
              "      <td>1.000000</td>\n",
              "      <td>0.161975</td>\n",
              "      <td>0.269570</td>\n",
              "    </tr>\n",
              "    <tr>\n",
              "      <th>Number of vessels fluro</th>\n",
              "      <td>0.358394</td>\n",
              "      <td>0.119849</td>\n",
              "      <td>0.234612</td>\n",
              "      <td>0.094371</td>\n",
              "      <td>0.077213</td>\n",
              "      <td>0.134153</td>\n",
              "      <td>0.185964</td>\n",
              "      <td>-0.307909</td>\n",
              "      <td>0.177518</td>\n",
              "      <td>0.308668</td>\n",
              "      <td>0.161975</td>\n",
              "      <td>1.000000</td>\n",
              "      <td>0.233474</td>\n",
              "    </tr>\n",
              "    <tr>\n",
              "      <th>Thallium</th>\n",
              "      <td>0.106091</td>\n",
              "      <td>0.410355</td>\n",
              "      <td>0.299351</td>\n",
              "      <td>0.126557</td>\n",
              "      <td>0.006459</td>\n",
              "      <td>-0.015998</td>\n",
              "      <td>-0.065038</td>\n",
              "      <td>-0.295528</td>\n",
              "      <td>0.345496</td>\n",
              "      <td>0.330615</td>\n",
              "      <td>0.269570</td>\n",
              "      <td>0.233474</td>\n",
              "      <td>1.000000</td>\n",
              "    </tr>\n",
              "  </tbody>\n",
              "</table>\n",
              "</div>"
            ],
            "text/plain": [
              "                              Age       Sex  ...  Number of vessels fluro  Thallium\n",
              "Age                      1.000000 -0.083703  ...                 0.358394  0.106091\n",
              "Sex                     -0.083703  1.000000  ...                 0.119849  0.410355\n",
              "Chest pain type          0.133966  0.046089  ...                 0.234612  0.299351\n",
              "BP                       0.297718 -0.049142  ...                 0.094371  0.126557\n",
              "Cholesterol              0.258970 -0.183637  ...                 0.077213  0.006459\n",
              "FBS over 120             0.172462  0.006508  ...                 0.134153 -0.015998\n",
              "EKG results              0.219263  0.026342  ...                 0.185964 -0.065038\n",
              "Max HR                  -0.415413 -0.111901  ...                -0.307909 -0.295528\n",
              "Exercise angina          0.076812  0.217009  ...                 0.177518  0.345496\n",
              "ST depression            0.231137  0.114923  ...                 0.308668  0.330615\n",
              "Slope of ST              0.186337  0.017197  ...                 0.161975  0.269570\n",
              "Number of vessels fluro  0.358394  0.119849  ...                 1.000000  0.233474\n",
              "Thallium                 0.106091  0.410355  ...                 0.233474  1.000000\n",
              "\n",
              "[13 rows x 13 columns]"
            ]
          },
          "metadata": {},
          "execution_count": 45
        }
      ]
    },
    {
      "cell_type": "code",
      "metadata": {
        "colab": {
          "base_uri": "https://localhost:8080/",
          "height": 721
        },
        "id": "tMI7l0S4jDGt",
        "outputId": "e6c70ef2-6743-4ed3-8dc0-f384d1c3ca08"
      },
      "source": [
        "import seaborn as sns\n",
        "#using pearson Correlation\n",
        "print(\"Pearson correlation\")\n",
        "plt.figure(figsize=(12,10))\n",
        "cor=x_train.corr()\n",
        "sns.heatmap(cor,annot=True,cmap=plt.cm.CMRmap_r)\n",
        "plt.show()"
      ],
      "id": "tMI7l0S4jDGt",
      "execution_count": null,
      "outputs": [
        {
          "output_type": "stream",
          "name": "stdout",
          "text": [
            "Pearson correlation\n"
          ]
        },
        {
          "output_type": "display_data",
          "data": {
            "image/png": "[encoded data removed]",
            "text/plain": [
              "<Figure size 864x720 with 2 Axes>"
            ]
          },
          "metadata": {
            "needs_background": "light"
          }
        }
      ]
    },
    {
      "cell_type": "code",
      "metadata": {
        "id": "zTzFhmO4jKHB"
      },
      "source": [
        "def correlation(dataset,threshold):\n",
        "  col_corr=set() #set of all names of correlated columns\n",
        "  corr_matrix=dataset.corr()\n",
        "  for i in range(len(corr_matrix.columns)):\n",
        "      for j in range(i):\n",
        "        if abs(corr_matrix.iloc[i,j])>threshold:\n",
        "          colname=corr_matrix.columns[i]\n",
        "          col_corr.add(colname)\n",
        "  return col_corr"
      ],
      "id": "zTzFhmO4jKHB",
      "execution_count": null,
      "outputs": []
    },
    {
      "cell_type": "code",
      "metadata": {
        "colab": {
          "base_uri": "https://localhost:8080/"
        },
        "id": "2EOCyx_4jPAI",
        "outputId": "4eaa65e8-220c-4ead-8dfb-9a9e6208e9c9"
      },
      "source": [
        "corr_features=correlation(x_train,0.6)\n",
        "len(set(corr_features))"
      ],
      "id": "2EOCyx_4jPAI",
      "execution_count": null,
      "outputs": [
        {
          "output_type": "execute_result",
          "data": {
            "text/plain": [
              "1"
            ]
          },
          "metadata": {},
          "execution_count": 49
        }
      ]
    },
    {
      "cell_type": "code",
      "metadata": {
        "colab": {
          "base_uri": "https://localhost:8080/"
        },
        "id": "GMGPiim5jW4I",
        "outputId": "1642345c-3ccd-4311-a4e0-de207eeb191b"
      },
      "source": [
        "corr_features"
      ],
      "id": "GMGPiim5jW4I",
      "execution_count": null,
      "outputs": [
        {
          "output_type": "execute_result",
          "data": {
            "text/plain": [
              "{'Slope of ST'}"
            ]
          },
          "metadata": {},
          "execution_count": 50
        }
      ]
    },
    {
      "cell_type": "code",
      "metadata": {
        "colab": {
          "base_uri": "https://localhost:8080/",
          "height": 417
        },
        "id": "pgdweNh-jaFI",
        "outputId": "99b0f494-1905-4fc9-8b78-2ed7c3fd5746"
      },
      "source": [
        "x_train.drop(corr_features,axis=1)\n",
        "x_test.drop(corr_features,axis=1)"
      ],
      "id": "pgdweNh-jaFI",
      "execution_count": null,
      "outputs": [
        {
          "output_type": "execute_result",
          "data": {
            "text/html": [
              "<div>\n",
              "<style scoped>\n",
              "    .dataframe tbody tr th:only-of-type {\n",
              "        vertical-align: middle;\n",
              "    }\n",
              "\n",
              "    .dataframe tbody tr th {\n",
              "        vertical-align: top;\n",
              "    }\n",
              "\n",
              "    .dataframe thead th {\n",
              "        text-align: right;\n",
              "    }\n",
              "</style>\n",
              "<table border=\"1\" class=\"dataframe\">\n",
              "  <thead>\n",
              "    <tr style=\"text-align: right;\">\n",
              "      <th></th>\n",
              "      <th>Age</th>\n",
              "      <th>Sex</th>\n",
              "      <th>Chest pain type</th>\n",
              "      <th>BP</th>\n",
              "      <th>Cholesterol</th>\n",
              "      <th>FBS over 120</th>\n",
              "      <th>EKG results</th>\n",
              "      <th>Max HR</th>\n",
              "      <th>Exercise angina</th>\n",
              "      <th>ST depression</th>\n",
              "      <th>Number of vessels fluro</th>\n",
              "      <th>Thallium</th>\n",
              "      <th>Heart Disease</th>\n",
              "    </tr>\n",
              "  </thead>\n",
              "  <tbody>\n",
              "    <tr>\n",
              "      <th>64</th>\n",
              "      <td>63</td>\n",
              "      <td>1</td>\n",
              "      <td>1</td>\n",
              "      <td>145</td>\n",
              "      <td>233</td>\n",
              "      <td>1</td>\n",
              "      <td>2</td>\n",
              "      <td>150</td>\n",
              "      <td>0</td>\n",
              "      <td>2.3</td>\n",
              "      <td>0</td>\n",
              "      <td>6</td>\n",
              "      <td>Absence</td>\n",
              "    </tr>\n",
              "    <tr>\n",
              "      <th>135</th>\n",
              "      <td>46</td>\n",
              "      <td>0</td>\n",
              "      <td>3</td>\n",
              "      <td>142</td>\n",
              "      <td>177</td>\n",
              "      <td>0</td>\n",
              "      <td>2</td>\n",
              "      <td>160</td>\n",
              "      <td>1</td>\n",
              "      <td>1.4</td>\n",
              "      <td>0</td>\n",
              "      <td>3</td>\n",
              "      <td>Absence</td>\n",
              "    </tr>\n",
              "    <tr>\n",
              "      <th>153</th>\n",
              "      <td>64</td>\n",
              "      <td>0</td>\n",
              "      <td>4</td>\n",
              "      <td>130</td>\n",
              "      <td>303</td>\n",
              "      <td>0</td>\n",
              "      <td>0</td>\n",
              "      <td>122</td>\n",
              "      <td>0</td>\n",
              "      <td>2.0</td>\n",
              "      <td>2</td>\n",
              "      <td>3</td>\n",
              "      <td>Absence</td>\n",
              "    </tr>\n",
              "    <tr>\n",
              "      <th>189</th>\n",
              "      <td>70</td>\n",
              "      <td>1</td>\n",
              "      <td>3</td>\n",
              "      <td>160</td>\n",
              "      <td>269</td>\n",
              "      <td>0</td>\n",
              "      <td>0</td>\n",
              "      <td>112</td>\n",
              "      <td>1</td>\n",
              "      <td>2.9</td>\n",
              "      <td>1</td>\n",
              "      <td>7</td>\n",
              "      <td>Presence</td>\n",
              "    </tr>\n",
              "    <tr>\n",
              "      <th>253</th>\n",
              "      <td>51</td>\n",
              "      <td>1</td>\n",
              "      <td>3</td>\n",
              "      <td>110</td>\n",
              "      <td>175</td>\n",
              "      <td>0</td>\n",
              "      <td>0</td>\n",
              "      <td>123</td>\n",
              "      <td>0</td>\n",
              "      <td>0.6</td>\n",
              "      <td>0</td>\n",
              "      <td>3</td>\n",
              "      <td>Absence</td>\n",
              "    </tr>\n",
              "    <tr>\n",
              "      <th>...</th>\n",
              "      <td>...</td>\n",
              "      <td>...</td>\n",
              "      <td>...</td>\n",
              "      <td>...</td>\n",
              "      <td>...</td>\n",
              "      <td>...</td>\n",
              "      <td>...</td>\n",
              "      <td>...</td>\n",
              "      <td>...</td>\n",
              "      <td>...</td>\n",
              "      <td>...</td>\n",
              "      <td>...</td>\n",
              "      <td>...</td>\n",
              "    </tr>\n",
              "    <tr>\n",
              "      <th>108</th>\n",
              "      <td>59</td>\n",
              "      <td>1</td>\n",
              "      <td>4</td>\n",
              "      <td>140</td>\n",
              "      <td>177</td>\n",
              "      <td>0</td>\n",
              "      <td>0</td>\n",
              "      <td>162</td>\n",
              "      <td>1</td>\n",
              "      <td>0.0</td>\n",
              "      <td>1</td>\n",
              "      <td>7</td>\n",
              "      <td>Presence</td>\n",
              "    </tr>\n",
              "    <tr>\n",
              "      <th>222</th>\n",
              "      <td>57</td>\n",
              "      <td>1</td>\n",
              "      <td>3</td>\n",
              "      <td>150</td>\n",
              "      <td>168</td>\n",
              "      <td>0</td>\n",
              "      <td>0</td>\n",
              "      <td>174</td>\n",
              "      <td>0</td>\n",
              "      <td>1.6</td>\n",
              "      <td>0</td>\n",
              "      <td>3</td>\n",
              "      <td>Absence</td>\n",
              "    </tr>\n",
              "    <tr>\n",
              "      <th>259</th>\n",
              "      <td>43</td>\n",
              "      <td>1</td>\n",
              "      <td>4</td>\n",
              "      <td>150</td>\n",
              "      <td>247</td>\n",
              "      <td>0</td>\n",
              "      <td>0</td>\n",
              "      <td>171</td>\n",
              "      <td>0</td>\n",
              "      <td>1.5</td>\n",
              "      <td>0</td>\n",
              "      <td>3</td>\n",
              "      <td>Absence</td>\n",
              "    </tr>\n",
              "    <tr>\n",
              "      <th>126</th>\n",
              "      <td>62</td>\n",
              "      <td>1</td>\n",
              "      <td>4</td>\n",
              "      <td>120</td>\n",
              "      <td>267</td>\n",
              "      <td>0</td>\n",
              "      <td>0</td>\n",
              "      <td>99</td>\n",
              "      <td>1</td>\n",
              "      <td>1.8</td>\n",
              "      <td>2</td>\n",
              "      <td>7</td>\n",
              "      <td>Presence</td>\n",
              "    </tr>\n",
              "    <tr>\n",
              "      <th>33</th>\n",
              "      <td>59</td>\n",
              "      <td>1</td>\n",
              "      <td>4</td>\n",
              "      <td>170</td>\n",
              "      <td>326</td>\n",
              "      <td>0</td>\n",
              "      <td>2</td>\n",
              "      <td>140</td>\n",
              "      <td>1</td>\n",
              "      <td>3.4</td>\n",
              "      <td>0</td>\n",
              "      <td>7</td>\n",
              "      <td>Presence</td>\n",
              "    </tr>\n",
              "  </tbody>\n",
              "</table>\n",
              "<p>81 rows × 13 columns</p>\n",
              "</div>"
            ],
            "text/plain": [
              "     Age  Sex  Chest pain type  ...  Number of vessels fluro  Thallium  Heart Disease\n",
              "64    63    1                1  ...                        0         6        Absence\n",
              "135   46    0                3  ...                        0         3        Absence\n",
              "153   64    0                4  ...                        2         3        Absence\n",
              "189   70    1                3  ...                        1         7       Presence\n",
              "253   51    1                3  ...                        0         3        Absence\n",
              "..   ...  ...              ...  ...                      ...       ...            ...\n",
              "108   59    1                4  ...                        1         7       Presence\n",
              "222   57    1                3  ...                        0         3        Absence\n",
              "259   43    1                4  ...                        0         3        Absence\n",
              "126   62    1                4  ...                        2         7       Presence\n",
              "33    59    1                4  ...                        0         7       Presence\n",
              "\n",
              "[81 rows x 13 columns]"
            ]
          },
          "metadata": {},
          "execution_count": 51
        }
      ]
    },
    {
      "cell_type": "code",
      "metadata": {
        "colab": {
          "base_uri": "https://localhost:8080/",
          "height": 110
        },
        "id": "Vt93YyVOjdmY",
        "outputId": "8aee9ea0-306a-42fe-d5b4-f8a9d68d5da6"
      },
      "source": [
        "train = data.copy()\n",
        "target = train.pop('Heart Disease')\n",
        "train.head(2)"
      ],
      "id": "Vt93YyVOjdmY",
      "execution_count": null,
      "outputs": [
        {
          "output_type": "execute_result",
          "data": {
            "text/html": [
              "<div>\n",
              "<style scoped>\n",
              "    .dataframe tbody tr th:only-of-type {\n",
              "        vertical-align: middle;\n",
              "    }\n",
              "\n",
              "    .dataframe tbody tr th {\n",
              "        vertical-align: top;\n",
              "    }\n",
              "\n",
              "    .dataframe thead th {\n",
              "        text-align: right;\n",
              "    }\n",
              "</style>\n",
              "<table border=\"1\" class=\"dataframe\">\n",
              "  <thead>\n",
              "    <tr style=\"text-align: right;\">\n",
              "      <th></th>\n",
              "      <th>Age</th>\n",
              "      <th>Sex</th>\n",
              "      <th>Chest pain type</th>\n",
              "      <th>BP</th>\n",
              "      <th>Cholesterol</th>\n",
              "      <th>FBS over 120</th>\n",
              "      <th>EKG results</th>\n",
              "      <th>Max HR</th>\n",
              "      <th>Exercise angina</th>\n",
              "      <th>ST depression</th>\n",
              "      <th>Slope of ST</th>\n",
              "      <th>Number of vessels fluro</th>\n",
              "      <th>Thallium</th>\n",
              "    </tr>\n",
              "  </thead>\n",
              "  <tbody>\n",
              "    <tr>\n",
              "      <th>0</th>\n",
              "      <td>70</td>\n",
              "      <td>1</td>\n",
              "      <td>4</td>\n",
              "      <td>130</td>\n",
              "      <td>322</td>\n",
              "      <td>0</td>\n",
              "      <td>2</td>\n",
              "      <td>109</td>\n",
              "      <td>0</td>\n",
              "      <td>2.4</td>\n",
              "      <td>2</td>\n",
              "      <td>3</td>\n",
              "      <td>3</td>\n",
              "    </tr>\n",
              "    <tr>\n",
              "      <th>1</th>\n",
              "      <td>67</td>\n",
              "      <td>0</td>\n",
              "      <td>3</td>\n",
              "      <td>115</td>\n",
              "      <td>564</td>\n",
              "      <td>0</td>\n",
              "      <td>2</td>\n",
              "      <td>160</td>\n",
              "      <td>0</td>\n",
              "      <td>1.6</td>\n",
              "      <td>2</td>\n",
              "      <td>0</td>\n",
              "      <td>7</td>\n",
              "    </tr>\n",
              "  </tbody>\n",
              "</table>\n",
              "</div>"
            ],
            "text/plain": [
              "   Age  Sex  Chest pain type  ...  Slope of ST  Number of vessels fluro  Thallium\n",
              "0   70    1                4  ...            2                        3         3\n",
              "1   67    0                3  ...            2                        0         7\n",
              "\n",
              "[2 rows x 13 columns]"
            ]
          },
          "metadata": {},
          "execution_count": 52
        }
      ]
    },
    {
      "cell_type": "code",
      "metadata": {
        "id": "fCR95MqBjnn7"
      },
      "source": [
        "num_features_opt = 25   # the number of features that we need to choose as a result\n",
        "num_features_max = 35   # the somewhat excessive number of features, which we will choose at each stage\n",
        "features_best = []"
      ],
      "id": "fCR95MqBjnn7",
      "execution_count": null,
      "outputs": []
    },
    {
      "cell_type": "code",
      "metadata": {
        "id": "FtnVMf0gjr3H"
      },
      "source": [
        "#selectFromModel with linearSVC\n",
        "from sklearn.svm import SVC, LinearSVC, SVR\n",
        "from sklearn.feature_selection import SelectFromModel, SelectKBest, RFE, chi2\n",
        "from sklearn.model_selection import train_test_split\n",
        "lsvc = LinearSVC(C=0.1, penalty=\"l1\", dual=False).fit(train, target)\n",
        "model = SelectFromModel(lsvc, prefit=True)\n",
        "X_new = model.transform(train)\n",
        "X_selected_df = pd.DataFrame(X_new, columns=[train.columns[i] for i in range(len(train.columns)) if model.get_support()[i]])\n",
        "features_best.append(X_selected_df.columns.tolist())"
      ],
      "id": "FtnVMf0gjr3H",
      "execution_count": null,
      "outputs": []
    },
    {
      "cell_type": "code",
      "metadata": {
        "colab": {
          "base_uri": "https://localhost:8080/"
        },
        "id": "uD9Dav82jvpC",
        "outputId": "16bdc631-de88-4833-8b98-08fcfa1051c1"
      },
      "source": [
        "print(features_best)"
      ],
      "id": "uD9Dav82jvpC",
      "execution_count": null,
      "outputs": [
        {
          "output_type": "stream",
          "name": "stdout",
          "text": [
            "[['Age', 'Sex', 'Chest pain type', 'BP', 'Cholesterol', 'EKG results', 'Max HR', 'Exercise angina', 'ST depression', 'Number of vessels fluro', 'Thallium']]\n"
          ]
        }
      ]
    },
    {
      "cell_type": "code",
      "metadata": {
        "id": "v6TDWnKKj63i"
      },
      "source": [
        "#by the SelectKBest with Chi-2\n",
        "from sklearn import datasets\n",
        "from sklearn.feature_selection import chi2\n",
        "from sklearn.feature_selection import SelectKBest"
      ],
      "id": "v6TDWnKKj63i",
      "execution_count": null,
      "outputs": []
    },
    {
      "cell_type": "code",
      "metadata": {
        "colab": {
          "base_uri": "https://localhost:8080/"
        },
        "id": "ifqxIHBRkPQ6",
        "outputId": "33fd8435-5bb4-4840-f7bb-3ba9319a0ca7"
      },
      "source": [
        "#Loading data\n",
        "X,y=datasets.load_wine(return_X_y=True)\n",
        "# k = 4 tells four top features to be selected\n",
        "# Score function Chi2 tells the feature to be selected using Chi Square\n",
        "test = SelectKBest(score_func=chi2, k=4)\n",
        "fit = test.fit(X, y)\n",
        "fit.scores_"
      ],
      "id": "ifqxIHBRkPQ6",
      "execution_count": null,
      "outputs": [
        {
          "output_type": "execute_result",
          "data": {
            "text/plain": [
              "array([5.44549882e+00, 2.80686046e+01, 7.43380598e-01, 2.93836955e+01,\n",
              "       4.50263809e+01, 1.56230759e+01, 6.33343081e+01, 1.81548480e+00,\n",
              "       9.36828307e+00, 1.09016647e+02, 5.18253981e+00, 2.33898834e+01,\n",
              "       1.65400671e+04])"
            ]
          },
          "metadata": {},
          "execution_count": 58
        }
      ]
    },
    {
      "cell_type": "code",
      "metadata": {
        "id": "dcEv3_OWkPUW"
      },
      "source": [
        "X_new=test.fit_transform(X, y)"
      ],
      "id": "dcEv3_OWkPUW",
      "execution_count": null,
      "outputs": []
    },
    {
      "cell_type": "code",
      "metadata": {
        "colab": {
          "base_uri": "https://localhost:8080/"
        },
        "id": "caJCC5xikaY-",
        "outputId": "f9f23ca1-c1aa-4f27-f97c-e730d85940e3"
      },
      "source": [
        "print(X_new)"
      ],
      "id": "caJCC5xikaY-",
      "execution_count": null,
      "outputs": [
        {
          "output_type": "stream",
          "name": "stdout",
          "text": [
            "[[1.270000e+02 3.060000e+00 5.640000e+00 1.065000e+03]\n",
            " [1.000000e+02 2.760000e+00 4.380000e+00 1.050000e+03]\n",
            " [1.010000e+02 3.240000e+00 5.680000e+00 1.185000e+03]\n",
            " [1.130000e+02 3.490000e+00 7.800000e+00 1.480000e+03]\n",
            " [1.180000e+02 2.690000e+00 4.320000e+00 7.350000e+02]\n",
            " [1.120000e+02 3.390000e+00 6.750000e+00 1.450000e+03]\n",
            " [9.600000e+01 2.520000e+00 5.250000e+00 1.290000e+03]\n",
            " [1.210000e+02 2.510000e+00 5.050000e+00 1.295000e+03]\n",
            " [9.700000e+01 2.980000e+00 5.200000e+00 1.045000e+03]\n",
            " [9.800000e+01 3.150000e+00 7.220000e+00 1.045000e+03]\n",
            " [1.050000e+02 3.320000e+00 5.750000e+00 1.510000e+03]\n",
            " [9.500000e+01 2.430000e+00 5.000000e+00 1.280000e+03]\n",
            " [8.900000e+01 2.760000e+00 5.600000e+00 1.320000e+03]\n",
            " [9.100000e+01 3.690000e+00 5.400000e+00 1.150000e+03]\n",
            " [1.020000e+02 3.640000e+00 7.500000e+00 1.547000e+03]\n",
            " [1.120000e+02 2.910000e+00 7.300000e+00 1.310000e+03]\n",
            " [1.200000e+02 3.140000e+00 6.200000e+00 1.280000e+03]\n",
            " [1.150000e+02 3.400000e+00 6.600000e+00 1.130000e+03]\n",
            " [1.080000e+02 3.930000e+00 8.700000e+00 1.680000e+03]\n",
            " [1.160000e+02 3.030000e+00 5.100000e+00 8.450000e+02]\n",
            " [1.260000e+02 3.170000e+00 5.650000e+00 7.800000e+02]\n",
            " [1.020000e+02 2.410000e+00 4.500000e+00 7.700000e+02]\n",
            " [1.010000e+02 2.880000e+00 3.800000e+00 1.035000e+03]\n",
            " [9.500000e+01 2.370000e+00 3.930000e+00 1.015000e+03]\n",
            " [9.600000e+01 2.610000e+00 3.520000e+00 8.450000e+02]\n",
            " [1.240000e+02 2.680000e+00 3.580000e+00 8.300000e+02]\n",
            " [9.300000e+01 2.940000e+00 4.800000e+00 1.195000e+03]\n",
            " [9.400000e+01 2.190000e+00 3.950000e+00 1.285000e+03]\n",
            " [1.070000e+02 2.970000e+00 4.500000e+00 9.150000e+02]\n",
            " [9.600000e+01 2.330000e+00 4.700000e+00 1.035000e+03]\n",
            " [1.010000e+02 3.250000e+00 5.700000e+00 1.285000e+03]\n",
            " [1.060000e+02 3.190000e+00 6.900000e+00 1.515000e+03]\n",
            " [1.040000e+02 2.690000e+00 3.840000e+00 9.900000e+02]\n",
            " [1.320000e+02 2.740000e+00 5.400000e+00 1.235000e+03]\n",
            " [1.100000e+02 2.530000e+00 4.200000e+00 1.095000e+03]\n",
            " [1.000000e+02 2.980000e+00 5.100000e+00 9.200000e+02]\n",
            " [1.100000e+02 2.680000e+00 4.600000e+00 8.800000e+02]\n",
            " [9.800000e+01 2.430000e+00 4.250000e+00 1.105000e+03]\n",
            " [9.800000e+01 2.640000e+00 3.700000e+00 1.020000e+03]\n",
            " [1.280000e+02 3.040000e+00 5.100000e+00 7.600000e+02]\n",
            " [1.170000e+02 3.290000e+00 6.130000e+00 7.950000e+02]\n",
            " [9.000000e+01 2.680000e+00 4.280000e+00 1.035000e+03]\n",
            " [1.010000e+02 3.560000e+00 5.430000e+00 1.095000e+03]\n",
            " [1.030000e+02 2.630000e+00 4.360000e+00 6.800000e+02]\n",
            " [1.070000e+02 3.000000e+00 5.040000e+00 8.850000e+02]\n",
            " [1.110000e+02 2.650000e+00 5.240000e+00 1.080000e+03]\n",
            " [1.020000e+02 3.170000e+00 4.900000e+00 1.065000e+03]\n",
            " [1.010000e+02 3.390000e+00 6.100000e+00 9.850000e+02]\n",
            " [1.030000e+02 2.920000e+00 6.200000e+00 1.060000e+03]\n",
            " [1.080000e+02 3.540000e+00 8.900000e+00 1.260000e+03]\n",
            " [9.200000e+01 3.270000e+00 7.200000e+00 1.150000e+03]\n",
            " [9.400000e+01 2.990000e+00 5.600000e+00 1.265000e+03]\n",
            " [1.110000e+02 3.740000e+00 7.050000e+00 1.190000e+03]\n",
            " [1.150000e+02 2.790000e+00 6.300000e+00 1.375000e+03]\n",
            " [1.180000e+02 2.900000e+00 5.850000e+00 1.060000e+03]\n",
            " [1.160000e+02 2.780000e+00 6.250000e+00 1.120000e+03]\n",
            " [1.180000e+02 3.000000e+00 6.380000e+00 9.700000e+02]\n",
            " [1.020000e+02 3.230000e+00 6.000000e+00 1.270000e+03]\n",
            " [1.080000e+02 3.670000e+00 6.800000e+00 1.285000e+03]\n",
            " [8.800000e+01 5.700000e-01 1.950000e+00 5.200000e+02]\n",
            " [1.010000e+02 1.090000e+00 3.270000e+00 6.800000e+02]\n",
            " [1.000000e+02 1.410000e+00 5.750000e+00 4.500000e+02]\n",
            " [9.400000e+01 1.790000e+00 3.800000e+00 6.300000e+02]\n",
            " [8.700000e+01 3.100000e+00 4.450000e+00 4.200000e+02]\n",
            " [1.040000e+02 1.750000e+00 2.950000e+00 3.550000e+02]\n",
            " [9.800000e+01 2.650000e+00 4.600000e+00 6.780000e+02]\n",
            " [7.800000e+01 3.180000e+00 5.300000e+00 5.020000e+02]\n",
            " [7.800000e+01 2.000000e+00 4.680000e+00 5.100000e+02]\n",
            " [1.100000e+02 1.300000e+00 3.170000e+00 7.500000e+02]\n",
            " [1.510000e+02 1.280000e+00 2.850000e+00 7.180000e+02]\n",
            " [1.030000e+02 1.020000e+00 3.050000e+00 8.700000e+02]\n",
            " [8.600000e+01 2.860000e+00 3.380000e+00 4.100000e+02]\n",
            " [8.700000e+01 1.840000e+00 3.740000e+00 4.720000e+02]\n",
            " [1.390000e+02 2.890000e+00 3.350000e+00 9.850000e+02]\n",
            " [1.010000e+02 2.140000e+00 3.210000e+00 8.860000e+02]\n",
            " [9.700000e+01 1.570000e+00 3.800000e+00 4.280000e+02]\n",
            " [8.600000e+01 2.030000e+00 4.600000e+00 3.920000e+02]\n",
            " [1.120000e+02 1.320000e+00 2.650000e+00 5.000000e+02]\n",
            " [1.360000e+02 1.850000e+00 3.400000e+00 7.500000e+02]\n",
            " [1.010000e+02 2.550000e+00 2.570000e+00 4.630000e+02]\n",
            " [8.600000e+01 2.260000e+00 2.500000e+00 2.780000e+02]\n",
            " [8.600000e+01 2.530000e+00 3.900000e+00 7.140000e+02]\n",
            " [7.800000e+01 1.580000e+00 2.200000e+00 6.300000e+02]\n",
            " [8.500000e+01 1.590000e+00 4.800000e+00 5.150000e+02]\n",
            " [9.400000e+01 2.210000e+00 3.050000e+00 5.200000e+02]\n",
            " [9.900000e+01 1.940000e+00 2.620000e+00 4.500000e+02]\n",
            " [9.000000e+01 1.690000e+00 2.450000e+00 4.950000e+02]\n",
            " [8.800000e+01 1.610000e+00 2.600000e+00 5.620000e+02]\n",
            " [8.400000e+01 1.690000e+00 2.800000e+00 6.800000e+02]\n",
            " [7.000000e+01 1.590000e+00 1.740000e+00 6.250000e+02]\n",
            " [8.100000e+01 1.500000e+00 2.400000e+00 4.800000e+02]\n",
            " [8.600000e+01 1.250000e+00 3.600000e+00 4.500000e+02]\n",
            " [8.000000e+01 1.460000e+00 3.050000e+00 4.950000e+02]\n",
            " [8.800000e+01 2.250000e+00 2.150000e+00 2.900000e+02]\n",
            " [9.800000e+01 2.260000e+00 3.250000e+00 3.450000e+02]\n",
            " [1.620000e+02 2.270000e+00 2.600000e+00 9.370000e+02]\n",
            " [1.340000e+02 9.900000e-01 2.500000e+00 6.250000e+02]\n",
            " [8.500000e+01 2.500000e+00 2.900000e+00 4.280000e+02]\n",
            " [8.800000e+01 3.750000e+00 4.500000e+00 6.600000e+02]\n",
            " [8.800000e+01 2.990000e+00 2.300000e+00 4.060000e+02]\n",
            " [9.700000e+01 2.170000e+00 3.300000e+00 7.100000e+02]\n",
            " [8.800000e+01 1.360000e+00 2.450000e+00 5.620000e+02]\n",
            " [9.800000e+01 2.110000e+00 2.800000e+00 4.380000e+02]\n",
            " [8.600000e+01 1.640000e+00 2.060000e+00 4.150000e+02]\n",
            " [8.500000e+01 1.920000e+00 2.940000e+00 6.720000e+02]\n",
            " [9.000000e+01 1.840000e+00 2.700000e+00 3.150000e+02]\n",
            " [8.000000e+01 2.030000e+00 3.400000e+00 5.100000e+02]\n",
            " [8.400000e+01 1.760000e+00 3.300000e+00 4.880000e+02]\n",
            " [9.200000e+01 2.040000e+00 2.700000e+00 3.120000e+02]\n",
            " [9.400000e+01 2.920000e+00 2.650000e+00 6.800000e+02]\n",
            " [1.070000e+02 2.580000e+00 2.900000e+00 5.620000e+02]\n",
            " [8.800000e+01 2.270000e+00 2.000000e+00 3.250000e+02]\n",
            " [1.030000e+02 2.030000e+00 3.800000e+00 6.070000e+02]\n",
            " [8.800000e+01 2.010000e+00 3.080000e+00 4.340000e+02]\n",
            " [8.400000e+01 2.290000e+00 2.900000e+00 3.850000e+02]\n",
            " [8.500000e+01 2.170000e+00 1.900000e+00 4.070000e+02]\n",
            " [8.600000e+01 1.600000e+00 1.950000e+00 4.950000e+02]\n",
            " [1.080000e+02 2.090000e+00 2.060000e+00 3.450000e+02]\n",
            " [8.000000e+01 1.250000e+00 3.400000e+00 3.720000e+02]\n",
            " [8.700000e+01 1.640000e+00 1.280000e+00 5.640000e+02]\n",
            " [9.600000e+01 2.790000e+00 3.250000e+00 6.250000e+02]\n",
            " [1.190000e+02 5.080000e+00 6.000000e+00 4.650000e+02]\n",
            " [1.020000e+02 2.130000e+00 2.080000e+00 3.650000e+02]\n",
            " [8.600000e+01 2.650000e+00 2.600000e+00 3.800000e+02]\n",
            " [8.200000e+01 3.030000e+00 2.800000e+00 3.800000e+02]\n",
            " [8.500000e+01 2.650000e+00 2.760000e+00 3.780000e+02]\n",
            " [8.600000e+01 3.150000e+00 3.940000e+00 3.520000e+02]\n",
            " [9.200000e+01 2.240000e+00 3.000000e+00 4.660000e+02]\n",
            " [8.800000e+01 2.450000e+00 2.120000e+00 3.420000e+02]\n",
            " [8.000000e+01 1.750000e+00 2.600000e+00 5.800000e+02]\n",
            " [1.220000e+02 1.250000e+00 4.100000e+00 6.300000e+02]\n",
            " [1.040000e+02 1.220000e+00 5.400000e+00 5.300000e+02]\n",
            " [9.800000e+01 1.090000e+00 5.700000e+00 5.600000e+02]\n",
            " [1.060000e+02 1.200000e+00 5.000000e+00 6.000000e+02]\n",
            " [8.500000e+01 5.800000e-01 5.450000e+00 6.500000e+02]\n",
            " [9.400000e+01 6.600000e-01 7.100000e+00 6.950000e+02]\n",
            " [8.900000e+01 4.700000e-01 3.850000e+00 7.200000e+02]\n",
            " [9.600000e+01 6.000000e-01 5.000000e+00 5.150000e+02]\n",
            " [8.800000e+01 4.800000e-01 5.700000e+00 5.800000e+02]\n",
            " [1.010000e+02 6.000000e-01 4.920000e+00 5.900000e+02]\n",
            " [9.600000e+01 5.000000e-01 4.600000e+00 6.000000e+02]\n",
            " [8.900000e+01 5.000000e-01 5.600000e+00 7.800000e+02]\n",
            " [9.700000e+01 5.200000e-01 4.350000e+00 5.200000e+02]\n",
            " [9.200000e+01 8.000000e-01 4.400000e+00 5.500000e+02]\n",
            " [1.120000e+02 7.800000e-01 8.210000e+00 8.550000e+02]\n",
            " [1.020000e+02 5.500000e-01 4.000000e+00 8.300000e+02]\n",
            " [8.000000e+01 3.400000e-01 4.900000e+00 4.150000e+02]\n",
            " [8.600000e+01 6.500000e-01 7.650000e+00 6.250000e+02]\n",
            " [9.200000e+01 7.600000e-01 8.420000e+00 6.500000e+02]\n",
            " [1.130000e+02 1.390000e+00 9.400000e+00 5.500000e+02]\n",
            " [1.230000e+02 1.570000e+00 8.600000e+00 5.000000e+02]\n",
            " [1.120000e+02 1.360000e+00 1.080000e+01 4.800000e+02]\n",
            " [1.160000e+02 1.280000e+00 7.100000e+00 4.250000e+02]\n",
            " [9.800000e+01 8.300000e-01 1.052000e+01 6.750000e+02]\n",
            " [1.030000e+02 5.800000e-01 7.600000e+00 6.400000e+02]\n",
            " [9.300000e+01 6.300000e-01 7.900000e+00 7.250000e+02]\n",
            " [8.900000e+01 8.300000e-01 9.010000e+00 4.800000e+02]\n",
            " [9.700000e+01 5.800000e-01 7.500000e+00 8.800000e+02]\n",
            " [9.800000e+01 1.310000e+00 1.300000e+01 6.600000e+02]\n",
            " [8.900000e+01 1.100000e+00 1.175000e+01 6.200000e+02]\n",
            " [8.800000e+01 9.200000e-01 7.650000e+00 5.200000e+02]\n",
            " [1.070000e+02 5.600000e-01 5.880000e+00 6.800000e+02]\n",
            " [1.060000e+02 6.000000e-01 5.580000e+00 5.700000e+02]\n",
            " [1.060000e+02 7.000000e-01 5.280000e+00 6.750000e+02]\n",
            " [9.000000e+01 6.800000e-01 9.580000e+00 6.150000e+02]\n",
            " [8.800000e+01 4.700000e-01 6.620000e+00 5.200000e+02]\n",
            " [1.110000e+02 9.200000e-01 1.068000e+01 6.950000e+02]\n",
            " [8.800000e+01 6.600000e-01 1.026000e+01 6.850000e+02]\n",
            " [1.050000e+02 8.400000e-01 8.660000e+00 7.500000e+02]\n",
            " [1.120000e+02 9.600000e-01 8.500000e+00 6.300000e+02]\n",
            " [9.600000e+01 4.900000e-01 5.500000e+00 5.100000e+02]\n",
            " [8.600000e+01 5.100000e-01 9.899999e+00 4.700000e+02]\n",
            " [9.100000e+01 7.000000e-01 9.700000e+00 6.600000e+02]\n",
            " [9.500000e+01 6.100000e-01 7.700000e+00 7.400000e+02]\n",
            " [1.020000e+02 7.500000e-01 7.300000e+00 7.500000e+02]\n",
            " [1.200000e+02 6.900000e-01 1.020000e+01 8.350000e+02]\n",
            " [1.200000e+02 6.800000e-01 9.300000e+00 8.400000e+02]\n",
            " [9.600000e+01 7.600000e-01 9.200000e+00 5.600000e+02]]\n"
          ]
        }
      ]
    },
    {
      "cell_type": "code",
      "metadata": {
        "id": "zEyhzL-_kfNt"
      },
      "source": [
        "#by the recursive feature Elimination (RFE)with logistic Regression\n",
        "from sklearn.linear_model import LinearRegression, LogisticRegression, Perceptron, RidgeClassifier, SGDClassifier, LassoCV\n",
        "from sklearn.svm import SVC, LinearSVC, SVR\n",
        "from sklearn.ensemble import RandomForestClassifier, GradientBoostingClassifier, ExtraTreesClassifier \n",
        "from sklearn.ensemble import BaggingClassifier, AdaBoostClassifier, VotingClassifier"
      ],
      "id": "zEyhzL-_kfNt",
      "execution_count": null,
      "outputs": []
    },
    {
      "cell_type": "code",
      "metadata": {
        "colab": {
          "base_uri": "https://localhost:8080/"
        },
        "id": "Tpa1SQWjkjkr",
        "outputId": "e4920a8a-2fcb-4903-90d4-128514e70887"
      },
      "source": [
        "rfe_selector = RFE(estimator=LogisticRegression(), n_features_to_select=num_features_max, step=10, verbose=5)\n",
        "rfe_selector.fit(train, target)\n",
        "rfe_support = rfe_selector.get_support()\n",
        "rfe_feature = train.loc[:,rfe_support].columns.tolist()\n",
        "print(str(len(rfe_feature)), 'selected features')"
      ],
      "id": "Tpa1SQWjkjkr",
      "execution_count": null,
      "outputs": [
        {
          "output_type": "stream",
          "name": "stdout",
          "text": [
            "13 selected features\n"
          ]
        }
      ]
    },
    {
      "cell_type": "code",
      "metadata": {
        "id": "3nLy89wVknkK"
      },
      "source": [
        "features_best.append(rfe_feature)"
      ],
      "id": "3nLy89wVknkK",
      "execution_count": null,
      "outputs": []
    },
    {
      "cell_type": "code",
      "metadata": {
        "id": "vO9SzD2xkozU"
      },
      "source": [
        "#by the recursive feature elimination with random forest\n",
        "from sklearn.ensemble import RandomForestClassifier\n",
        "from sklearn.naive_bayes import GaussianNB\n",
        "from sklearn.neighbors import KNeighborsClassifier\n",
        "from sklearn.gaussian_process import GaussianProcessClassifier\n",
        "from sklearn.neural_network import MLPClassifier\n",
        "from sklearn.tree import DecisionTreeClassifier, plot_tree"
      ],
      "id": "vO9SzD2xkozU",
      "execution_count": null,
      "outputs": []
    },
    {
      "cell_type": "code",
      "metadata": {
        "colab": {
          "base_uri": "https://localhost:8080/"
        },
        "id": "WGR0p0rtksjE",
        "outputId": "a963cbc8-912e-4a33-d2ec-798f1c4d1ee6"
      },
      "source": [
        "embeded_rf_selector = SelectFromModel(RandomForestClassifier(n_estimators=200), threshold='1.25*median')\n",
        "embeded_rf_selector.fit(train, target)"
      ],
      "id": "WGR0p0rtksjE",
      "execution_count": null,
      "outputs": [
        {
          "output_type": "execute_result",
          "data": {
            "text/plain": [
              "SelectFromModel(estimator=RandomForestClassifier(bootstrap=True, ccp_alpha=0.0,\n",
              "                                                 class_weight=None,\n",
              "                                                 criterion='gini',\n",
              "                                                 max_depth=None,\n",
              "                                                 max_features='auto',\n",
              "                                                 max_leaf_nodes=None,\n",
              "                                                 max_samples=None,\n",
              "                                                 min_impurity_decrease=0.0,\n",
              "                                                 min_impurity_split=None,\n",
              "                                                 min_samples_leaf=1,\n",
              "                                                 min_samples_split=2,\n",
              "                                                 min_weight_fraction_leaf=0.0,\n",
              "                                                 n_estimators=200, n_jobs=None,\n",
              "                                                 oob_score=False,\n",
              "                                                 random_state=None, verbose=0,\n",
              "                                                 warm_start=False),\n",
              "                max_features=None, norm_order=1, prefit=False,\n",
              "                threshold='1.25*median')"
            ]
          },
          "metadata": {},
          "execution_count": 65
        }
      ]
    },
    {
      "cell_type": "code",
      "metadata": {
        "colab": {
          "base_uri": "https://localhost:8080/"
        },
        "id": "nlfYli6nkwg_",
        "outputId": "b890b0b2-38cc-4881-d227-67d39b9073a7"
      },
      "source": [
        "embeded_rf_support = embeded_rf_selector.get_support()\n",
        "embeded_rf_feature = train.loc[:,embeded_rf_support].columns.tolist()\n",
        "print(str(len(embeded_rf_feature)), 'selected features')"
      ],
      "id": "nlfYli6nkwg_",
      "execution_count": null,
      "outputs": [
        {
          "output_type": "stream",
          "name": "stdout",
          "text": [
            "5 selected features\n"
          ]
        }
      ]
    },
    {
      "cell_type": "code",
      "metadata": {
        "id": "Xeg_4A9Tk0Xw"
      },
      "source": [
        "features_best.append(embeded_rf_feature)"
      ],
      "id": "Xeg_4A9Tk0Xw",
      "execution_count": null,
      "outputs": []
    },
    {
      "cell_type": "code",
      "metadata": {
        "colab": {
          "base_uri": "https://localhost:8080/"
        },
        "id": "ijNS98JolObV",
        "outputId": "b16a346e-a1eb-4a17-e006-86d1acf67338"
      },
      "source": [
        "#selection of best features\n",
        "features_best"
      ],
      "id": "ijNS98JolObV",
      "execution_count": null,
      "outputs": [
        {
          "output_type": "execute_result",
          "data": {
            "text/plain": [
              "[['Age',\n",
              "  'Sex',\n",
              "  'Chest pain type',\n",
              "  'BP',\n",
              "  'Cholesterol',\n",
              "  'EKG results',\n",
              "  'Max HR',\n",
              "  'Exercise angina',\n",
              "  'ST depression',\n",
              "  'Number of vessels fluro',\n",
              "  'Thallium'],\n",
              " ['Age',\n",
              "  'Sex',\n",
              "  'Chest pain type',\n",
              "  'BP',\n",
              "  'Cholesterol',\n",
              "  'FBS over 120',\n",
              "  'EKG results',\n",
              "  'Max HR',\n",
              "  'Exercise angina',\n",
              "  'ST depression',\n",
              "  'Slope of ST',\n",
              "  'Number of vessels fluro',\n",
              "  'Thallium'],\n",
              " ['Chest pain type',\n",
              "  'Max HR',\n",
              "  'ST depression',\n",
              "  'Number of vessels fluro',\n",
              "  'Thallium']]"
            ]
          },
          "metadata": {},
          "execution_count": 70
        }
      ]
    },
    {
      "cell_type": "code",
      "metadata": {
        "colab": {
          "base_uri": "https://localhost:8080/"
        },
        "id": "eQYlt1PRlV5A",
        "outputId": "6b811fe0-1111-4c2e-beac-fb06828a75f7"
      },
      "source": [
        "main_cols_max = features_best[0]\n",
        "for i in range(len(features_best)-1):\n",
        "    main_cols_max = list(set(main_cols_max) | set(features_best[i+1]))\n",
        "main_cols_max"
      ],
      "id": "eQYlt1PRlV5A",
      "execution_count": null,
      "outputs": [
        {
          "output_type": "execute_result",
          "data": {
            "text/plain": [
              "['Thallium',\n",
              " 'Sex',\n",
              " 'Exercise angina',\n",
              " 'Cholesterol',\n",
              " 'ST depression',\n",
              " 'Chest pain type',\n",
              " 'BP',\n",
              " 'Age',\n",
              " 'Number of vessels fluro',\n",
              " 'Max HR',\n",
              " 'EKG results',\n",
              " 'Slope of ST',\n",
              " 'FBS over 120']"
            ]
          },
          "metadata": {},
          "execution_count": 71
        }
      ]
    },
    {
      "cell_type": "code",
      "metadata": {
        "colab": {
          "base_uri": "https://localhost:8080/"
        },
        "id": "xCGZFZIFlYwH",
        "outputId": "a7467ff6-bf10-47e8-d376-3ebf9187b5c1"
      },
      "source": [
        "len(main_cols_max)"
      ],
      "id": "xCGZFZIFlYwH",
      "execution_count": null,
      "outputs": [
        {
          "output_type": "execute_result",
          "data": {
            "text/plain": [
              "13"
            ]
          },
          "metadata": {},
          "execution_count": 72
        }
      ]
    },
    {
      "cell_type": "code",
      "metadata": {
        "colab": {
          "base_uri": "https://localhost:8080/"
        },
        "id": "2PgLO_dJlZ7X",
        "outputId": "a85c852a-a571-41ca-e42e-6ab94430a032"
      },
      "source": [
        "# The element is in all lists of optimal features\n",
        "main_cols_min = features_best[0]\n",
        "for i in range(len(features_best)-1):\n",
        "    main_cols_min = list(set(main_cols_min).intersection(set(features_best[i+1])))\n",
        "main_cols_min"
      ],
      "id": "2PgLO_dJlZ7X",
      "execution_count": null,
      "outputs": [
        {
          "output_type": "execute_result",
          "data": {
            "text/plain": [
              "['Thallium',\n",
              " 'Chest pain type',\n",
              " 'ST depression',\n",
              " 'Number of vessels fluro',\n",
              " 'Max HR']"
            ]
          },
          "metadata": {},
          "execution_count": 73
        }
      ]
    },
    {
      "cell_type": "code",
      "metadata": {
        "colab": {
          "base_uri": "https://localhost:8080/",
          "height": 480
        },
        "id": "yaMJU-B6le78",
        "outputId": "0cef7544-8b36-40d1-fd99-46346a825142"
      },
      "source": [
        "# Most common items in all lists of optimal features\n",
        "main_cols = []\n",
        "main_cols_opt = {feature_name : 0 for feature_name in data.columns.tolist()}\n",
        "for i in range(len(features_best)):\n",
        "    for feature_name in features_best[i]:\n",
        "        main_cols_opt[feature_name] += 1\n",
        "df_main_cols_opt = pd.DataFrame.from_dict(main_cols_opt, orient='index', columns=['Num'])\n",
        "df_main_cols_opt.sort_values(by=['Num'], ascending=False).head(num_features_opt)"
      ],
      "id": "yaMJU-B6le78",
      "execution_count": null,
      "outputs": [
        {
          "output_type": "execute_result",
          "data": {
            "text/html": [
              "<div>\n",
              "<style scoped>\n",
              "    .dataframe tbody tr th:only-of-type {\n",
              "        vertical-align: middle;\n",
              "    }\n",
              "\n",
              "    .dataframe tbody tr th {\n",
              "        vertical-align: top;\n",
              "    }\n",
              "\n",
              "    .dataframe thead th {\n",
              "        text-align: right;\n",
              "    }\n",
              "</style>\n",
              "<table border=\"1\" class=\"dataframe\">\n",
              "  <thead>\n",
              "    <tr style=\"text-align: right;\">\n",
              "      <th></th>\n",
              "      <th>Num</th>\n",
              "    </tr>\n",
              "  </thead>\n",
              "  <tbody>\n",
              "    <tr>\n",
              "      <th>Chest pain type</th>\n",
              "      <td>3</td>\n",
              "    </tr>\n",
              "    <tr>\n",
              "      <th>Max HR</th>\n",
              "      <td>3</td>\n",
              "    </tr>\n",
              "    <tr>\n",
              "      <th>ST depression</th>\n",
              "      <td>3</td>\n",
              "    </tr>\n",
              "    <tr>\n",
              "      <th>Number of vessels fluro</th>\n",
              "      <td>3</td>\n",
              "    </tr>\n",
              "    <tr>\n",
              "      <th>Thallium</th>\n",
              "      <td>3</td>\n",
              "    </tr>\n",
              "    <tr>\n",
              "      <th>Age</th>\n",
              "      <td>2</td>\n",
              "    </tr>\n",
              "    <tr>\n",
              "      <th>Sex</th>\n",
              "      <td>2</td>\n",
              "    </tr>\n",
              "    <tr>\n",
              "      <th>BP</th>\n",
              "      <td>2</td>\n",
              "    </tr>\n",
              "    <tr>\n",
              "      <th>Cholesterol</th>\n",
              "      <td>2</td>\n",
              "    </tr>\n",
              "    <tr>\n",
              "      <th>EKG results</th>\n",
              "      <td>2</td>\n",
              "    </tr>\n",
              "    <tr>\n",
              "      <th>Exercise angina</th>\n",
              "      <td>2</td>\n",
              "    </tr>\n",
              "    <tr>\n",
              "      <th>FBS over 120</th>\n",
              "      <td>1</td>\n",
              "    </tr>\n",
              "    <tr>\n",
              "      <th>Slope of ST</th>\n",
              "      <td>1</td>\n",
              "    </tr>\n",
              "    <tr>\n",
              "      <th>Heart Disease</th>\n",
              "      <td>0</td>\n",
              "    </tr>\n",
              "  </tbody>\n",
              "</table>\n",
              "</div>"
            ],
            "text/plain": [
              "                         Num\n",
              "Chest pain type            3\n",
              "Max HR                     3\n",
              "ST depression              3\n",
              "Number of vessels fluro    3\n",
              "Thallium                   3\n",
              "Age                        2\n",
              "Sex                        2\n",
              "BP                         2\n",
              "Cholesterol                2\n",
              "EKG results                2\n",
              "Exercise angina            2\n",
              "FBS over 120               1\n",
              "Slope of ST                1\n",
              "Heart Disease              0"
            ]
          },
          "metadata": {},
          "execution_count": 74
        }
      ]
    },
    {
      "cell_type": "code",
      "metadata": {
        "colab": {
          "base_uri": "https://localhost:8080/"
        },
        "id": "k6GMqAQ-ljEu",
        "outputId": "22b9d3b7-cd8b-4b09-a198-63564e35f291"
      },
      "source": [
        "main_cols = df_main_cols_opt.nlargest(num_features_opt, 'Num').index.tolist()\n",
        "if not 'target' in main_cols:\n",
        "    main_cols.append('target')\n",
        "main_cols"
      ],
      "id": "k6GMqAQ-ljEu",
      "execution_count": null,
      "outputs": [
        {
          "output_type": "execute_result",
          "data": {
            "text/plain": [
              "['Chest pain type',\n",
              " 'Max HR',\n",
              " 'ST depression',\n",
              " 'Number of vessels fluro',\n",
              " 'Thallium',\n",
              " 'Age',\n",
              " 'Sex',\n",
              " 'BP',\n",
              " 'Cholesterol',\n",
              " 'EKG results',\n",
              " 'Exercise angina',\n",
              " 'FBS over 120',\n",
              " 'Slope of ST',\n",
              " 'Heart Disease',\n",
              " 'target']"
            ]
          },
          "metadata": {},
          "execution_count": 75
        }
      ]
    },
    {
      "cell_type": "code",
      "metadata": {
        "colab": {
          "base_uri": "https://localhost:8080/"
        },
        "id": "llCYteBGlnj9",
        "outputId": "f9b2f233-4047-40c9-f0fd-db2e6ababdd3"
      },
      "source": [
        "print(\"the dataset \\'heart disease prediction' was successfully feature selected\")"
      ],
      "id": "llCYteBGlnj9",
      "execution_count": null,
      "outputs": [
        {
          "output_type": "stream",
          "name": "stdout",
          "text": [
            "the dataset 'heart disease prediction' was successfully feature selected\n"
          ]
        }
      ]
    }
  ]
}